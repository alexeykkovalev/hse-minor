{
 "cells": [
  {
   "cell_type": "markdown",
   "metadata": {},
   "source": [
    "# Майнор ВШЭ \n",
    "\n",
    "## Прикладные задачи анализа данных 2020\n",
    "\n",
    "## Семинар 4: Статистика 1"
   ]
  },
  {
   "cell_type": "markdown",
   "metadata": {},
   "source": [
    "## План семинара\n",
    "- [Часть 1. Распределение вероятностей](#Часть-1.-Распределение-вероятностей)\n",
    "    - [Случайная величина](#Случайная-величина)\n",
    "    - [Распределение вероятностей (Закон распределения)](#Распределение-вероятностей-(Закон-распределения))\n",
    "    - [Какие бывают распределения?](#Какие-бывают-распределения?)\n",
    "- [Часть 2. Оценка параметров](#Часть-2.-Оценка-параметров)\n",
    "    - [Метод моментов](#Метод-моментов)\n",
    "    - [Метод максимального правдоподобия](#Метод-максимального-правдоподобия)\n",
    "- [Часть 3. Бутстрап](#Часть-3.-Бутстрап)\n",
    "    - [Оценки дисперсии функционалов](#Оценки-дисперсии-функционалов)\n",
    "    - [Доверительные интервалы на среднее](#Доверительные-интервалы-на-среднее)\n",
    "- [Часть 4. Формула Байеса и MAP](#Часть-4.-Формула-Байеса-и-MAP)\n"
   ]
  },
  {
   "cell_type": "code",
   "execution_count": null,
   "metadata": {},
   "outputs": [],
   "source": [
    "import numpy as np\n",
    "import pandas as pd\n",
    "from scipy import stats\n",
    "from scipy.stats import norm\n",
    "import seaborn as sns\n",
    "import matplotlib.pyplot as plt"
   ]
  },
  {
   "cell_type": "markdown",
   "metadata": {},
   "source": [
    "## Часть 1. Распределение вероятностей"
   ]
  },
  {
   "cell_type": "code",
   "execution_count": null,
   "metadata": {},
   "outputs": [],
   "source": [
    "from scipy.stats import gamma, norm, bernoulli"
   ]
  },
  {
   "cell_type": "markdown",
   "metadata": {},
   "source": [
    "### Случайная величина"
   ]
  },
  {
   "cell_type": "markdown",
   "metadata": {},
   "source": [
    "**Случайная величина** — переменная, значения которой представляют собой численные исходы некоторого случайного феномена или эксперимента. Другими словами, это численное выражение результата случайного события.\n",
    "\n",
    "Примеры: \n",
    "    1. Бросок монеты\n",
    "    2. Бросок игральной кости\n",
    "    3. Время поездки от университета до дома \n",
    "    4. Время, потраченноё на проверку самостоятельных\n",
    "    5. ...\n"
   ]
  },
  {
   "cell_type": "markdown",
   "metadata": {},
   "source": [
    "### Распределение вероятностей (Закон распределения)"
   ]
  },
  {
   "cell_type": "markdown",
   "metadata": {},
   "source": [
    "**Распределение вероятностей** — это закон, описывающий область значений случайной величины и вероятности их исхода (появления).\n",
    "\n",
    "Способы задания:\n",
    "- **Функция вероятности (probability mass function \\ PMF) $p(x)$** - функция, возвращающая вероятность того, что **дискретная** случайная величина $X$ примет определённое значение.\n",
    "\n",
    "\n",
    "- **Функция распределения (cumulative distribution function \\ CDF) $F(x)$** - функция, возвращающая вероятность того, что случайная величина $X$ (дискретная или непрерывная) примет значение меньшее или равное $x$:\n",
    "$$F(x) = Pr(X \\leq x)$$\n",
    "\n",
    "\n",
    "- **Плотность распеределения (вероятности) (probability density function \\ PDF) $f(x)$** характеризует как бы **п л о т н о с т ь**, с которой распределяются значения **непрерывной** случайной велечины в данной точке:\n",
    "$$f(x) = F'(x)$$"
   ]
  },
  {
   "cell_type": "markdown",
   "metadata": {},
   "source": [
    "### Какие бывают распределения?"
   ]
  },
  {
   "cell_type": "markdown",
   "metadata": {},
   "source": [
    "#### Биномиальное распределение $ X \\sim B(n, p)$\n",
    "$$ Pr(X = k) = {n \\choose k} p^k (1 - p)^{n - k}$$ \n",
    "\n",
    "<img src=\"https://upload.wikimedia.org/wikipedia/commons/c/ca/Binomial_distribution.svg\" width=\"600\">\n",
    "\n",
    "#### Нормальное распределение $ X \\sim N(\\mu, \\sigma^2)$\n",
    "$$f(x) = \\frac{1}{\\sigma \\sqrt{2\\pi}} e^{-\\frac{(x - \\mu)^2}{2 \\sigma^2}}$$\n",
    "\n",
    "<img src=\"https://upload.wikimedia.org/wikipedia/commons/1/1b/Normal_distribution_pdf.png\" width=\"500\">\n",
    "\n",
    "#### Гамма-распределение $ X \\sim \\Gamma(\\alpha, \\beta)$\n",
    "$$f(x) =  \\frac{\\beta^\\alpha}{\\Gamma(\\alpha)} x^{\\alpha-1} e^{-\\beta x},$$\n",
    "\n",
    "$k = \\alpha$ - параметр формы,\n",
    "$\\theta = \\frac{1}{\\beta}$ - параметр масштаба\n",
    "\n",
    "<img src=\"https://upload.wikimedia.org/wikipedia/commons/e/e6/Gamma_distribution_pdf.svg\" width=\"600\">\n",
    "\n",
    "####  и др."
   ]
  },
  {
   "cell_type": "markdown",
   "metadata": {},
   "source": [
    "## Часть 2. Оценка параметров"
   ]
  },
  {
   "cell_type": "markdown",
   "metadata": {},
   "source": [
    "### Метод моментов"
   ]
  },
  {
   "cell_type": "markdown",
   "metadata": {},
   "source": [
    "**Начальным моментом порядка $k$** дискретной случайной велечины называется сумма вида:\n",
    "\n",
    "$$\\nu_k = \\sum\\limits_{i=1}^{n} x_i^k p_i$$\n",
    "\n",
    "Очевидно, что **математическое ожидание** - первый начальный момент:\n",
    "\n",
    "$$\\nu_1 = \\sum\\limits_{i=1}^{n} x_i p_i = E[X]$$\n",
    "\n",
    "При замене суммы на интеграл это же верно и для непрерывной случайной велечины.\n",
    "Тогда можно сказать, что **начальным моментом $k$-го порядка случайной велечины $X$ называется математическое ожидание $k$-ой степени этой случайной велечины**:\n",
    "\n",
    "$$\\nu_k = E[X^k]$$\n",
    "\n",
    "\n",
    "**Центральным моментом порядка $k$** случайной велечины $X$ называется величина:\n",
    "\n",
    "$$\\mu_k = E[(X - \\nu_1)^k] = E[(X - EX)^k]$$\n",
    "\n",
    "Очевидно, что **дисперсия** - второй центральный момент:\n",
    "\n",
    "$$\\mu_2 = E[(X - EX)^2] = Var(X)$$\n",
    "\n",
    "Предположим, что исходя из некоторых соображений, мы решили, что наши данные ($X = \\{ x_1, \\dots, x_n \\}$) подчиняются какому-то закону распредлениия $f(x)$. Функция $f(x)$, определяющая этот закон распределения, зависит от некоторых параметров $a_1, a_2, \\dots$. Нам требуется подобрать эти параметры так, чтобы функция $f(x)$ наилучшим способом описывала наши данные.\n",
    "\n",
    "В **методе моментов** эти параметры ($a_1, a_2, \\dots$) выбираются таким образом, чтобы несколько важнейших числовых характеристик (моментов) теоретичекого распределения были равны соответствующим статистическим характеристикам (приравняем моменты желаемого распределения к моментам подсчитанным по данным и решим уравнения относительно данных моментов).\n",
    "\n",
    "**Статистические моменты** определяются следующим образом:\n",
    "\n",
    "$$\\hat{\\nu}_k = \\frac{1}{n} \\sum\\limits_{i=1}^{n} x_i^k$$\n",
    "\n",
    "$$\\hat{\\mu}_k = \\frac{1}{n} \\sum\\limits_{i=1}^{n} (x_i - \\hat{\\nu}_1)^k$$\n",
    "\n",
    "Для выборочной дисперсии можно упростить:\n",
    "\n",
    "$$\\hat{\\mu}_2 = \\hat{Var(X)} =  \\hat{\\nu}_2 - (\\hat{\\nu}_1)^2$$\n",
    "\n",
    "\n",
    "**Пример 1**\n",
    "\n",
    "Рассмотрим нормальное распределение:\n",
    "\n",
    "$$f(x | \\mu, \\sigma^2) = \\frac{1}{\\sigma \\sqrt{2\\pi}} e^{-\\frac{(x - \\mu)^2}{2 \\sigma^2}}$$\n",
    "\n",
    "\n",
    "**Пример 2**\n",
    "\n",
    "Давайте рассмотрим случай посложнее, с гамма-распределением. Пусть $X \\sim \\Gamma(\\alpha, \\beta)$, тогда среднее и дисперсия выражаются формулами:\n",
    "\n",
    "$$E[X] = \\frac{\\alpha}{\\beta}$$\n",
    "\n",
    "$$Var(X) = \\frac{\\alpha}{\\beta^2}$$\n",
    "\n",
    "Применяем метод моментов:\n",
    "\n",
    "$$\\hat{\\nu}_1 = \\frac{\\alpha}{\\beta}$$\n",
    "\n",
    "$$\\hat{\\mu}_2 = \\hat{\\nu}_2 - \\hat{\\nu}_1^2 = \\frac{\\alpha}{\\beta^2}$$\n",
    "\n",
    "Решая систему уравнений получаем:\n",
    "\n",
    "$$\\alpha = \\hat{\\nu}_1 \\beta$$\n",
    "\n",
    "$$\\beta = \\frac{\\hat{\\nu}_1}{\\hat{\\nu}_2 - \\hat{\\nu}_1^2}$$"
   ]
  },
  {
   "cell_type": "code",
   "execution_count": null,
   "metadata": {},
   "outputs": [],
   "source": [
    "np.random.seed(1337)\n",
    "\n",
    "alpha = 0.23\n",
    "beta = 5.35\n",
    "\n",
    "# Генерируем 100 случайных значений из гамма-распределения\n",
    "X = gamma.rvs(a=alpha, scale=1/beta,  size=100)\n",
    "\n",
    "x_axis = np.linspace(0, 1, 100)\n",
    "\n",
    "plt.plot(gamma.pdf(x_axis, a=alpha, scale=1/beta));"
   ]
  },
  {
   "cell_type": "markdown",
   "metadata": {},
   "source": [
    "Оценим параметры гамма-распределения методом моментов:\n",
    "1. Сгенерируем `num_iters` выборок из гамма-распределения размером `100`\n",
    "2. Для каждой сгенерированной выборки оценим $\\alpha$ и $\\beta$\n",
    "3. Построим гистограммы для полученных значений"
   ]
  },
  {
   "cell_type": "code",
   "execution_count": null,
   "metadata": {},
   "outputs": [],
   "source": [
    "%%time\n",
    "num_iters = 100000\n",
    "\n",
    "fitted_alphas = []\n",
    "fitted_betas = []\n",
    "\n",
    "for i in np.arange(num_iters):\n",
    "    ##########################################################\n",
    "    # Ваш код здесь\n",
    "    X = gamma.rvs(a=alpha, scale=1/beta, size=100)\n",
    "    \n",
    "    nu_1 = X.mean()\n",
    "    nu_2 = np.square(X).mean()\n",
    "    \n",
    "    fitted_betas.append(nu_1 / (nu_2 - nu_1**2)) \n",
    "    fitted_alphas.append(nu_1**2 / (nu_2 - nu_1**2))\n",
    "    ##########################################################"
   ]
  },
  {
   "cell_type": "code",
   "execution_count": null,
   "metadata": {},
   "outputs": [],
   "source": [
    "plt.hist(fitted_alphas, bins=100)\n",
    "alpha_q5, alhpa_q95 = np.percentile(fitted_alphas, [5, 95])\n",
    "plt.axvline(x=alpha, linewidth=3, color='r',linestyle='--')\n",
    "plt.axvline(x=alpha_q5, linewidth=3, color='g',linestyle='--')\n",
    "plt.axvline(x=alhpa_q95, linewidth=3, color='g',linestyle='--');"
   ]
  },
  {
   "cell_type": "code",
   "execution_count": null,
   "metadata": {},
   "outputs": [],
   "source": [
    "plt.hist(fitted_betas, bins=100)\n",
    "beta_q5, beta_q95 = np.percentile(fitted_betas, [5, 95])\n",
    "plt.axvline(x=alpha, linewidth=3, color='r',linestyle='--')\n",
    "plt.axvline(x=beta_q5, linewidth=3, color='g',linestyle='--')\n",
    "plt.axvline(x=beta_q95, linewidth=3, color='g',linestyle='--');"
   ]
  },
  {
   "cell_type": "code",
   "execution_count": null,
   "metadata": {},
   "outputs": [],
   "source": [
    "print('Alpha error: ', np.mean(np.array(fitted_alphas) - alpha))\n",
    "print('Beta error: ', np.mean(np.array(fitted_betas) - beta))"
   ]
  },
  {
   "cell_type": "markdown",
   "metadata": {},
   "source": [
    "### Метод максимального правдоподобия"
   ]
  },
  {
   "cell_type": "markdown",
   "metadata": {},
   "source": [
    "**MLE (maximum likelihood estimation)** основывается на максимизации вероятности пронаблюдать выборку - максимизации **функции правдоподобия $\\mathcal{L}$**:\n",
    "\n",
    "$$\\mathcal{L} = \\prod p(x_i|\\theta)$$\n",
    "\n",
    "Будем рассматривать MLE на примере задачи, приведенной выше.\n",
    "\n",
    "Уравнение правдоподобия чаще всего записывается с использованием логарифма вероятности, так как в этом случае произведение переходит в сумму, что сильно упрощает жизнь.\n",
    "\n",
    "$$\\mathcal{\\log L} = \\sum\\limits_i \\log p(x_i|\\theta)$$\n",
    "\n",
    "  * более хорошая численная стабильность (предотвращает overflow или underflow ошибки);\n",
    "  * более (относительно) точные градиенты;\n",
    "  * более гладкая задача (методы оптимизации лучше работают).\n",
    "\n",
    "Посмотрим на зависимость **log-likelihood** для задачи с гамма-распределением.\n",
    "\n",
    "$$\\mathcal{L} = \\prod\\limits_i \\frac{\\beta^\\alpha}{\\Gamma(\\alpha)} {x_i}^{\\alpha-1} e^{-\\beta x_i}$$\n",
    "\n",
    "\n",
    "$$\\mathcal{\\log L} = \\sum\\limits_i \\left(  \\alpha \\log \\beta - \\log \\Gamma(\\alpha) + (\\alpha - 1) \\log x_i - \\beta x_i \\right)$$\n",
    "\n",
    "(Обратим внимание насколько простой стала зависимость от $x_i$:)\n",
    "\n",
    "\n",
    "В большинстве задач, если это не игровые примеры, найти явную форму для оценки параметров с помощью MLE очень сложно.\n",
    "\n",
    "$$\\theta^* = \\arg \\max \\log \\mathcal{L}(X, \\theta)$$\n",
    "\n",
    "Берём первую производную по каждому параметра распределения и приравниваем к нулю:\n",
    "\n",
    "$$ \\mathcal{\\log L}'(X, \\theta) = 0$$\n",
    "\n",
    "Для параметра $\\beta$ гамма-распределения:\n",
    "\n",
    "$$\\mathcal{\\log L}'_\\beta = \\sum\\limits_{i} \\frac{\\alpha}{\\beta} - x_i = 0$$\n",
    "\n",
    "$$\\beta = \\frac{\\alpha N}{\\sum\\limits_i x_i}$$\n",
    "\n",
    "Для параметра $\\alpha$:\n",
    "\n",
    "$$\\mathcal{\\log L}'_\\alpha = \\sum \\log \\beta + \\log x_i - \\psi(\\alpha) = 0$$\n",
    "\n",
    "где $\\psi(\\alpha) = \\frac{d}{d\\alpha} \\log \\Gamma (\\alpha)$ - дигамма-функция\n",
    "\n",
    "$$\\alpha = \\log \\beta + \\frac{1}{N} \\sum \\log x_i$$\n",
    "\n",
    "\n",
    "Итого:\n",
    "\n",
    "$$\\alpha = \\log \\beta + \\frac{1}{N} \\sum \\log x_i$$\n",
    "\n",
    "$$\\beta = \\frac{\\alpha N}{\\sum\\limits_i x_i}$$"
   ]
  },
  {
   "cell_type": "code",
   "execution_count": null,
   "metadata": {},
   "outputs": [],
   "source": [
    "x_axis = np.linspace(0, 1, 200)\n",
    "\n",
    "plt.plot(x_axis, np.prod(gamma.pdf(X[:, np.newaxis], a=x_axis, scale=1/beta), axis=0))\n",
    "plt.title('Likelihood');"
   ]
  },
  {
   "cell_type": "code",
   "execution_count": null,
   "metadata": {},
   "outputs": [],
   "source": [
    "plt.plot(x_axis, np.sum(gamma.logpdf(X[:, np.newaxis], a=x_axis, scale=1/beta), axis=0))\n",
    "plt.title('Log-Likelihood');"
   ]
  },
  {
   "cell_type": "code",
   "execution_count": null,
   "metadata": {},
   "outputs": [],
   "source": [
    "alpha_est, _, beta_est = gamma.fit(X, floc=0.)\n",
    "beta_est = 1 / beta_est\n",
    "\n",
    "print('True alpha: % s \\nTrue beta:  % s' % (alpha, beta))\n",
    "print('Estimated alpha: % f \\nEstimated beta:  % f' % (alpha_est, beta_est))"
   ]
  },
  {
   "cell_type": "markdown",
   "metadata": {},
   "source": [
    "Оценим параметры распределения с помощью ММП:\n",
    "1. Сгенерируем `num_iters` выборок из гамма-распределения размером `100`\n",
    "2. Для каждой сгенерированной выборки оценим $\\alpha$ и $\\beta$ с помощью ММП\n",
    "3. Построим гистограммы для полученных значений"
   ]
  },
  {
   "cell_type": "code",
   "execution_count": null,
   "metadata": {},
   "outputs": [],
   "source": [
    "%%time\n",
    "num_iters = 100000\n",
    "\n",
    "alphas = []\n",
    "betas = []\n",
    "\n",
    "fitted_alphas = []\n",
    "fitted_betas = []\n",
    "\n",
    "for i in range(num_iters):\n",
    "    ##########################################################\n",
    "    # Ваш код здесь\n",
    "    X = gamma.rvs(scale=1 / beta, a=alpha, size=100)\n",
    "    \n",
    "    fit_alpha, _, fit_beta = gamma.fit(X, floc=0)\n",
    "    \n",
    "    fitted_betas.append(1 / fit_beta)\n",
    "    fitted_alphas.append(fit_alpha)\n",
    "    ##########################################################"
   ]
  },
  {
   "cell_type": "code",
   "execution_count": null,
   "metadata": {},
   "outputs": [],
   "source": [
    "plt.hist(fitted_alphas, bins=100)\n",
    "alpha_q5, alhpa_q95 = np.percentile(fitted_alphas, [5, 95])\n",
    "plt.axvline(x=alpha, linewidth=3, color='r',linestyle='--')\n",
    "plt.axvline(x=alpha_q5, linewidth=3, color='g',linestyle='--')\n",
    "plt.axvline(x=alhpa_q95, linewidth=3, color='g',linestyle='--');"
   ]
  },
  {
   "cell_type": "code",
   "execution_count": null,
   "metadata": {},
   "outputs": [],
   "source": [
    "plt.hist(fitted_betas, bins=100)\n",
    "beta_q5, beta_q95 = np.percentile(fitted_betas, [5, 95])\n",
    "plt.axvline(x=beta, linewidth=3, color='r',linestyle='--')\n",
    "plt.axvline(x=beta_q5, linewidth=3, color='g',linestyle='--')\n",
    "plt.axvline(x=beta_q95, linewidth=3, color='g',linestyle='--');"
   ]
  },
  {
   "cell_type": "code",
   "execution_count": null,
   "metadata": {},
   "outputs": [],
   "source": [
    "print('Alpha error: ', np.mean(np.array(fitted_alphas) - alpha))\n",
    "print('Beta error: ', np.mean(np.array(fitted_betas) - beta))"
   ]
  },
  {
   "cell_type": "markdown",
   "metadata": {},
   "source": [
    "## Часть 3. Бутстрап"
   ]
  },
  {
   "cell_type": "markdown",
   "metadata": {},
   "source": [
    "![https://towardsdatascience.com/an-introduction-to-the-bootstrap-method-58bcb51b4d60](https://miro.medium.com/max/700/1*iH5w0MBdiOlxDOCX6nmqqw.png)\n",
    "\n",
    "\n",
    "### Оценки дисперсии функционалов\n",
    "\n",
    "Пусть есть выборка $X = \\{x_i\\}_{i=1}^{n}$, некоторый функционал $T_n(X)$ (например, среднее) и мы хотим оценить дисперсию $D_F(T_n)$. Не зная истинного распределения это можно сделать с помощью непараметрического или параметрического бутстрапа.\n",
    "\n",
    "В непараметрическом бутстрапе оценка дисперсии делается следующим образом:\n",
    "\n",
    "  1. Рэсемплим выборку с возвращением $B$ раз: $X_1^*, X_2^*, X_B^* \\sim X$\n",
    "  2. Вычисляем $T_1^*, ..., T_B^*$\n",
    "  3. $$D_F(T_n) \\approx v_{boot} = \\frac{1}{B - 1} \\sum\\limits_{b=1}^B \\left(T_b^* - \\bar{T}^*  \\right)^2$$\n",
    "  "
   ]
  },
  {
   "cell_type": "markdown",
   "metadata": {},
   "source": [
    "Напишем свой код для оценки дисперсии с помощью бутстрэпа:\n",
    "1. Сгенерируем исходную выборку `sample` размером `N = 100` из нормального распределения с известными параметрами `mu` и `sigma`\n",
    "2. По исходной выборке сгенерируем `B = 5000` бутстрапированных выборок\n",
    "3. Посчитаем среднеее значение $T_b^*$ для каждой бутстрапированной выборке\n",
    "4. Построим гистограмму средних\n",
    "5. Оценим дисперсию $D_F(T_n)$"
   ]
  },
  {
   "cell_type": "code",
   "execution_count": null,
   "metadata": {},
   "outputs": [],
   "source": [
    "N = 100\n",
    "\n",
    "mu = 3.4\n",
    "sigma = 1.5\n",
    "\n",
    "sample = sigma * np.random.randn(N) + mu"
   ]
  },
  {
   "cell_type": "code",
   "execution_count": null,
   "metadata": {},
   "outputs": [],
   "source": [
    "##########################################################\n",
    "# Ваш код здесь\n",
    "B = 5000\n",
    "\n",
    "Xb = np.random.choice(sample, (B, N), replace=True)\n",
    "\n",
    "T = lambda x: np.mean(x, axis=1)\n",
    "\n",
    "plt.hist(T(Xb), bins=100);\n",
    "##########################################################"
   ]
  },
  {
   "cell_type": "code",
   "execution_count": null,
   "metadata": {},
   "outputs": [],
   "source": [
    "print('Error in variance estimation:', np.std(sample) / np.sqrt(N) - np.std(T(Xb)))"
   ]
  },
  {
   "cell_type": "markdown",
   "metadata": {},
   "source": [
    "### Доверительные интервалы на среднее \n",
    "\n",
    "\n",
    "В непараметрическом бутстрапе 95% доверительные интервалы считаются следующим образом:\n",
    "\n",
    "  1. Рэсемплим выборку с возвращением B раз: $X_1^*, X_2^*, X_B^* \\sim X$\n",
    "  2. Вычисляем $T_1^*, ..., T_B^*$\n",
    "  3. Интервал: [ Percentile($T_1^*, ..., T_B^*$, 2.5), Percentile($T_1^*, ..., T_B^*$, 97.5) ] \n",
    "  \n"
   ]
  },
  {
   "cell_type": "markdown",
   "metadata": {},
   "source": [
    "Напишем свой код для оценки доверительного интервала среднего:"
   ]
  },
  {
   "cell_type": "code",
   "execution_count": null,
   "metadata": {},
   "outputs": [],
   "source": [
    "##########################################################\n",
    "# Ваш код здесь\n",
    "bootstrapp_statistics = T(Xb)\n",
    "\n",
    "b_q5, b_q95 = np.percentile(bootstrapp_statistics, [5, 95])\n",
    "##########################################################\n",
    "plt.hist(bootstrapp_statistics, bins=100)\n",
    "plt.axvline(x=b_q5, linewidth=3, color='g',linestyle='--')\n",
    "plt.axvline(x=b_q95, linewidth=3, color='g',linestyle='--');"
   ]
  },
  {
   "cell_type": "markdown",
   "metadata": {},
   "source": [
    "## Часть 4. Формула Байеса и MAP"
   ]
  },
  {
   "cell_type": "markdown",
   "metadata": {},
   "source": [
    "Пусть есть два события $A$ и $B$. Тогда условная вероятность вводится следующим образом (аксиоматически):\n",
    "\n",
    "$$p(A|B) = \\frac{p(A, B)}{p(B)}$$\n",
    "\n",
    "Формула показывает какая вероятность наступить событию $A$, если событие $B$ уже наступило. Если $p(A|B)=p(A)$, то говорят что событие $A$ не зависит от $B$. Формула Байеса легко выводится из формулы условной вероятности:\n",
    "\n",
    "$$p(A|B) = \\frac{p(A, B)}{p(B)} = \\frac{p(A) p(B|A)}{p(B)}$$\n",
    "\n",
    "Воспользуемся байесовским рассуждением. Предположим, что моменту подбросили один раз и выпал орёл. Распределение описывается распредлением Бернулли: $Pr(X = 1) = q, Pr(X = 0) = 1 - q$.\n",
    "\n",
    "Для выборки $x_1, x_2, \\dots, x_N$ правдоподобие записывается следующим образом:\n",
    "\n",
    "$$p(X, q) = \\prod q^{x_i} (1 - q)^{1-x_i}$$\n",
    "\n",
    "$$\\log p(X, q) = \\sum\\left[ x_i \\log q + (1 - x_i) \\log(1 - q) \\right]$$\n",
    "\n",
    "Тогда оценка на параметры высчитывается следующим образом:\n",
    "\n",
    "\n",
    "$$\\frac{\\partial }{\\partial q} \\log p(X, q) = \\frac{1}{q} \\sum x_i - \\frac{1}{1-q} \\sum (1 - x_i) = 0$$\n",
    "\n",
    "Получаем:\n",
    "\n",
    "$$q = \\frac{\\sum x_i}{n}$$\n",
    "\n",
    "В согласии с методом максимума правдоподобия следует, что $q=1$, т.е. следует что монетка всегда будет выпадать орлом.\n",
    "\n",
    "Такая оценка не очень хорошо согласуется с реальностью. Однако у нас есть некоторое априорное знание. Мы точно знаем, что честная монетка выпадает орлом в 50% случаев. Можем ли мы как-то это использовать? Да, это обеспечивается введением априорного распределения.\n",
    "\n",
    "В MLE оценка параметров выглядела так:\n",
    "\n",
    "$$\\theta = \\mathrm{argmax} \\log P(X | \\theta) = \\mathrm{argmax} \\sum \\log p(x_i, \\theta) $$\n",
    "\n",
    "\n",
    "В MAP мы говорим, что есть ещё распределение $P(\\theta)$, которое появляется из некоторых наших знаний о мире. Тогда **MAP (maximum a posterior probability)** записывается следующим образом:\n",
    "\n",
    "$$\n",
    "\\theta = \\mathrm{argmax}  P(X | \\theta) P(\\theta) = \\mathrm{argmax} \\left( \\sum  \\log p(x_i, \\theta) \\right) P(\\theta)\n",
    "$$\n",
    "\n",
    "Вернёмся к монете.\n",
    "\n",
    "Априорное распределение моделируется бета-распределением у которого плотность вероятности выглядит так:\n",
    "\n",
    "![betapdf](https://wikimedia.org/api/rest_v1/media/math/render/svg/125fdaa41844a8703d1a8610ac00fbf3edacc8e7)\n",
    "\n",
    "![beta](https://upload.wikimedia.org/wikipedia/commons/thumb/f/f3/Beta_distribution_pdf.svg/531px-Beta_distribution_pdf.svg.png)\n",
    "\n",
    "В таком случае:\n",
    "\n",
    "$$p(X, q) p(q) = \\prod q^{x_i} (1 - q)^{1-x_i} \\frac{1}{B(\\alpha, \\beta)} q^{\\alpha - 1} (1 - q)^{\\beta - 1}$$\n",
    "\n",
    "Лог-вероятность:\n",
    "\n",
    "$$\\log p(X, q) p(q) = (\\alpha - 1) \\log q + (\\beta - 1) \\log (1 - q) +  \\sum\\left[ x_i \\log q + (1 - x_i) \\log( - q) \\right] $$\n",
    "\n",
    "Производная:\n",
    "\n",
    "\n",
    "$$\\frac{\\partial }{\\partial q} \\log p(X, q) p(q) = $$\n",
    "\n",
    "$$ = \\frac{1}{q} \\sum x_i - \\frac{1}{1-q} \\sum (1 - x_i) + \\frac{\\alpha - 1}{q} - \\frac{\\beta - 1}{1 - q} = 0$$\n",
    "\n",
    "\n",
    "Решая уравнение выше получаем:\n",
    "\n",
    "$$\\mu = \\frac{\\sum x_i + \\alpha - 1}{n + \\beta + \\alpha - 2}$$\n",
    "\n",
    "\n",
    "Пусть наш прайор $\\alpha=\\beta=2$ (см. картинку выше).\n",
    "\n",
    "Тогда при одном броске монеты получаем следующую оценку:\n",
    "\n",
    "$$q = \\frac{1 + 2 - 1}{1 + 2 + 2 - 2} = \\frac{2}{3} \\approx 0.66$$"
   ]
  },
  {
   "cell_type": "code",
   "execution_count": null,
   "metadata": {},
   "outputs": [],
   "source": []
  }
 ],
 "metadata": {
  "kernelspec": {
   "display_name": "Python 3",
   "language": "python",
   "name": "python3"
  },
  "language_info": {
   "codemirror_mode": {
    "name": "ipython",
    "version": 3
   },
   "file_extension": ".py",
   "mimetype": "text/x-python",
   "name": "python",
   "nbconvert_exporter": "python",
   "pygments_lexer": "ipython3",
   "version": "3.7.1"
  }
 },
 "nbformat": 4,
 "nbformat_minor": 4
}
