{
  "nbformat": 4,
  "nbformat_minor": 0,
  "metadata": {
    "kernelspec": {
      "display_name": "Python 3",
      "language": "python",
      "name": "python3"
    },
    "language_info": {
      "codemirror_mode": {
        "name": "ipython",
        "version": 3
      },
      "file_extension": ".py",
      "mimetype": "text/x-python",
      "name": "python",
      "nbconvert_exporter": "python",
      "pygments_lexer": "ipython3",
      "version": "3.7.7"
    },
    "colab": {
      "name": "sem14_code_only",
      "provenance": []
    }
  },
  "cells": [
    {
      "cell_type": "markdown",
      "metadata": {
        "id": "N20j8C8tL5EB",
        "colab_type": "text"
      },
      "source": [
        "# Семинар 14: Тематическое моделирование"
      ]
    },
    {
      "cell_type": "markdown",
      "metadata": {
        "id": "EhJ3oUImoRuU",
        "colab_type": "text"
      },
      "source": [
        "## Вводная часть"
      ]
    },
    {
      "cell_type": "markdown",
      "metadata": {
        "id": "pp01H9hSLzFx",
        "colab_type": "text"
      },
      "source": [
        "***Тематическое моделирование*** — подраздел машинного обучения, посвященный извлечению абстрактных «тем» из набора «документов». С помощью тематического моделирования можно определить, к каким темам относится каждый из документов."
      ]
    },
    {
      "cell_type": "markdown",
      "metadata": {
        "id": "Zk17IUgaRJlC",
        "colab_type": "text"
      },
      "source": [
        "#### **Как люди ищут информацию?**\n",
        "\n",
        "- рубликатор в библиотеке или на сайте\n",
        "- оглавление и глоссарий в книге или научной работе\n",
        "- изобретение современности - поисковик"
      ]
    },
    {
      "cell_type": "markdown",
      "metadata": {
        "id": "RFT11EosTaRu",
        "colab_type": "text"
      },
      "source": [
        "#### **Проблема эффективного поиска**\n",
        "Однако проблема эффективного поиска сохраняется.\n",
        "\n",
        "В классическом поиске, когда мы ищем по ключевым словам мы исходим из того, что:\n",
        "\n",
        "1. Точно должны знать что мы ищем.\n",
        "2. Должны предполагать, что существует правильный ответ.\n",
        "\n",
        "Что если нам нужно узнать где передний край науки по нужной мне области? Или нужно быстро разобраться в смежной области.\n",
        "\n",
        "Но мы еще на владеем терминологией и не понимаем что важно, что неважно, по каким ключевым словам следует искать информацию."
      ]
    },
    {
      "cell_type": "markdown",
      "metadata": {
        "id": "r76AHvORDblK",
        "colab_type": "text"
      },
      "source": [
        "**Цель** - выполение эффективного разведочного информационного поиска в рамках определенной предметной области.\n",
        "\n",
        "**Идея** - давайте построим топологию областей знаний."
      ]
    },
    {
      "cell_type": "markdown",
      "metadata": {
        "id": "_uTD0pD8QmSE",
        "colab_type": "text"
      },
      "source": [
        "#### **Примеры визуализаций топологий областей знаний:**"
      ]
    },
    {
      "cell_type": "markdown",
      "metadata": {
        "id": "JbNo9YXBDblL",
        "colab_type": "text"
      },
      "source": [
        "<img src=\"https://carrotsearch.com/assets/carrotsearch/features/foamtree/non-rectangular-layout-0720.jpg\" width=\"500\"/>\n",
        "\n",
        "---\n",
        "https://carrotsearch.com/foamtree/"
      ]
    },
    {
      "cell_type": "markdown",
      "metadata": {
        "id": "GQ5XVqEHDblL",
        "colab_type": "text"
      },
      "source": [
        "<img src=\"https://pbs.twimg.com/media/DY_tjS0WsAADhmT?format=png\" width=\"500\"/>\n",
        "\n",
        "---\n",
        "https://dl.acm.org/doi/book/10.5555/1995300"
      ]
    },
    {
      "cell_type": "markdown",
      "metadata": {
        "id": "eNIuJVIrHQrk",
        "colab_type": "text"
      },
      "source": [
        "<img src=\"https://journals.plos.org/plosone/article/file?id=10.1371/journal.pone.0004803.g005&type=large\" width=\"500\"/>\n",
        "\n",
        "---\n",
        "https://doi.org/10.1371/journal.pone.0004803.g005"
      ]
    },
    {
      "cell_type": "markdown",
      "metadata": {
        "id": "YLsiA6vaITxO",
        "colab_type": "text"
      },
      "source": [
        "<img src=\"https://theoryculturesociety.org/wp-content/uploads/2014/10/map-of-the-complexity-sciences.jpg\" width=\"500\"/>\n",
        "\n",
        "---\n",
        "https://www.theoryculturesociety.org/brian-castellani-on-the-complexity-sciences/"
      ]
    },
    {
      "cell_type": "markdown",
      "metadata": {
        "id": "4GEFE3azDblM",
        "colab_type": "text"
      },
      "source": [
        "#### **Сценарий поиска**\n",
        "\n",
        "При наличии такой топологии **сценарий поиска** будет следующий:\n",
        "1. имея любой текст под рукой, в любом приложении,\n",
        "2. хотим получить картину содержащихся в нём тем-подтем,\n",
        "3. и «дорожную карту» предметной области в целом\n",
        "\n",
        "**Поисковый запрос:**\n",
        "- документ любой длины или даже коллекция документов\n",
        "\n",
        "**Цели поиска:**\n",
        "- к каким темам относится мой запрос?\n",
        "- что ещё известно по этим темам?\n",
        "- какова тематическая структура этой предметной области?\n",
        "- что ещё есть понятного, обзорного, важного, свежего?\n",
        "\n",
        "---\n",
        "http://www.machinelearning.ru/wiki/images/7/78/Voron-2015-06-19-school-VII.pdf"
      ]
    },
    {
      "cell_type": "markdown",
      "metadata": {
        "id": "BGS_m6bkDblM",
        "colab_type": "text"
      },
      "source": [
        "#### **Как искать?**\n",
        "\n",
        "Мы умеем искать по словам документы, это называется инвертированным индексом. А если у нас поиск по смыслу, по тематике, то что мы должны сделать? Мы должны понять, данный документ запроса — он на какие темы?\n",
        "\n",
        "Документ может быть очень длинным, но число тем в нем может быть не очень большим. Если мы научимся представлять любой документ в виде набора тем — может быть, с весами, определяющими, насколько каждая тема в нем представлена, — то дальше мы можем воспользоваться тем же методом, что при при обычном поиске по словам с помощью инвертированного индекса.\n",
        "\n",
        "У нас как любой запрос, так и любой документ теперь представлены не словами, а темами."
      ]
    },
    {
      "cell_type": "markdown",
      "metadata": {
        "id": "5Z30scdPM9zr",
        "colab_type": "text"
      },
      "source": [
        "#### **Что такое «тема»?**\n",
        "\n",
        "\n",
        "Тема — специальная терминология предметной области.\n",
        "\n",
        "Тема — набор часто совместно встречающихся терминов.\n",
        "\n",
        "Тема — семантически однородный кластер текстов."
      ]
    },
    {
      "cell_type": "markdown",
      "metadata": {
        "id": "EX3gUrzlPJLt",
        "colab_type": "text"
      },
      "source": [
        "<img src=\"https://upload.wikimedia.org/wikipedia/commons/thumb/d/d5/%D0%A2%D0%B5%D0%BC%D0%B0%D1%82%D0%B8%D1%87%D0%B5%D1%81%D0%BA%D0%B0%D1%8F_%D0%BC%D0%BE%D0%B4%D0%B5%D0%BB%D1%8C.png/2880px-%D0%A2%D0%B5%D0%BC%D0%B0%D1%82%D0%B8%D1%87%D0%B5%D1%81%D0%BA%D0%B0%D1%8F_%D0%BC%D0%BE%D0%B4%D0%B5%D0%BB%D1%8C.png\" width=\"800\"/>"
      ]
    },
    {
      "cell_type": "markdown",
      "metadata": {
        "id": "zFArHWrNQ4ev",
        "colab_type": "text"
      },
      "source": [
        "Более формально:\n",
        "\n",
        "*тема* — условное распределение на множестве терминов,\n",
        "\n",
        "*φ = p(w|t)* — вероятность термина w в теме t;\n",
        "\n",
        "*тематический профиль документа* — условное распределение\n",
        "\n",
        "*θ = p(t|d)* — вероятность темы t в документе d.\n",
        "\n"
      ]
    },
    {
      "cell_type": "markdown",
      "metadata": {
        "id": "6gd8DYKrY1Z3",
        "colab_type": "text"
      },
      "source": [
        "Когда автор писал термин w в документ d, он думал о теме t, и мы хотели бы догадаться, о какой именно.\n",
        "\n",
        "Тематическая модель выявляет латентные темы по\n",
        "наблюдаемым распределениям слов p(w|d) в документах.\n",
        "\n",
        "---\n",
        "http://www.machinelearning.ru/wiki/images/e/e6/Voron-ML-TopicModeling-slides.pdf"
      ]
    },
    {
      "cell_type": "markdown",
      "metadata": {
        "id": "NX7oO2dbae7G",
        "colab_type": "text"
      },
      "source": [
        "Это задача стохастического матричного разложения:\n",
        "\n",
        "<img src=\"https://i.ibb.co/g4Mdsfc/Screenshot-2020-05-06-at-17-36-05.png\" width=\"600\"/>"
      ]
    },
    {
      "cell_type": "markdown",
      "metadata": {
        "id": "d8MLIX4cuc2b",
        "colab_type": "text"
      },
      "source": [
        "После выявления списка тем мы можем упорядочить их таким образом, чтобы близкие по смыслу темы оказались рядом:\n",
        "\n",
        "<img src=\"https://i.ibb.co/QMthMcS/Screenshot-2020-05-06-at-23-41-55.png\" width=\"600\"/>"
      ]
    },
    {
      "cell_type": "markdown",
      "metadata": {
        "id": "POgZgCxHodjm",
        "colab_type": "text"
      },
      "source": [
        "## Практика"
      ]
    },
    {
      "cell_type": "markdown",
      "metadata": {
        "id": "_lglZUOVQ6rd",
        "colab_type": "text"
      },
      "source": [
        "### **BigARTM**"
      ]
    },
    {
      "cell_type": "markdown",
      "metadata": {
        "id": "8skHmHPwJG-H",
        "colab_type": "text"
      },
      "source": [
        "<img src=\"https://github.com/bigartm/visartm/blob/master/static/img/BigARTM-logo-big.png?raw=true\" width=\"200\"/>"
      ]
    },
    {
      "cell_type": "markdown",
      "metadata": {
        "id": "C5RlTPI1NAtJ",
        "colab_type": "text"
      },
      "source": [
        "Обобщение тематических моделей с помощью аддитивной регуляризации (ARTM):\n",
        "\n",
        "https://link.springer.com/article/10.1007/s10994-014-5476-6"
      ]
    },
    {
      "cell_type": "markdown",
      "metadata": {
        "id": "E1wMM2rcNOFV",
        "colab_type": "text"
      },
      "source": [
        "Проект BigARTM, реализующий идеи ARTM:\n",
        "https://github.com/bigartm/bigartm"
      ]
    },
    {
      "cell_type": "code",
      "metadata": {
        "id": "s6DnxhhO1Qhj",
        "colab_type": "code",
        "outputId": "9a04559b-0e56-4566-8c50-ffa524ac848c",
        "colab": {
          "base_uri": "https://localhost:8080/",
          "height": 238
        }
      },
      "source": [
        "!pip install bigartm"
      ],
      "execution_count": 2,
      "outputs": [
        {
          "output_type": "stream",
          "text": [
            "Collecting bigartm\n",
            "\u001b[?25l  Downloading https://files.pythonhosted.org/packages/88/8b/e100b260e9ce76c29dfe4837177d1e9a8e15cbdfa03662eb737b0bcfbbce/bigartm-0.9.2-cp36-cp36m-manylinux1_x86_64.whl (1.9MB)\n",
            "\u001b[K     |████████████████████████████████| 1.9MB 8.9MB/s \n",
            "\u001b[?25hRequirement already satisfied: numpy in /usr/local/lib/python3.6/dist-packages (from bigartm) (1.18.3)\n",
            "Requirement already satisfied: pandas in /usr/local/lib/python3.6/dist-packages (from bigartm) (1.0.3)\n",
            "Requirement already satisfied: tqdm in /usr/local/lib/python3.6/dist-packages (from bigartm) (4.38.0)\n",
            "Requirement already satisfied: protobuf>=3.0 in /usr/local/lib/python3.6/dist-packages (from bigartm) (3.10.0)\n",
            "Requirement already satisfied: python-dateutil>=2.6.1 in /usr/local/lib/python3.6/dist-packages (from pandas->bigartm) (2.8.1)\n",
            "Requirement already satisfied: pytz>=2017.2 in /usr/local/lib/python3.6/dist-packages (from pandas->bigartm) (2018.9)\n",
            "Requirement already satisfied: setuptools in /usr/local/lib/python3.6/dist-packages (from protobuf>=3.0->bigartm) (46.1.3)\n",
            "Requirement already satisfied: six>=1.9 in /usr/local/lib/python3.6/dist-packages (from protobuf>=3.0->bigartm) (1.12.0)\n",
            "Installing collected packages: bigartm\n",
            "Successfully installed bigartm-0.9.2\n"
          ],
          "name": "stdout"
        }
      ]
    },
    {
      "cell_type": "code",
      "metadata": {
        "id": "PO3yOQo9kN0a",
        "colab_type": "code",
        "outputId": "2cee81ec-1565-49e5-f6b5-8c642aaa31ce",
        "colab": {
          "base_uri": "https://localhost:8080/",
          "height": 34
        }
      },
      "source": [
        "import artm\n",
        "\n",
        "print(artm.version())"
      ],
      "execution_count": 3,
      "outputs": [
        {
          "output_type": "stream",
          "text": [
            "0.9.2\n"
          ],
          "name": "stdout"
        }
      ]
    },
    {
      "cell_type": "markdown",
      "metadata": {
        "id": "qT25eRiABOPX",
        "colab_type": "text"
      },
      "source": [
        "**All datasets are here:** https://bigartm.readthedocs.io/en/master/tutorials/datasets.html"
      ]
    },
    {
      "cell_type": "code",
      "metadata": {
        "id": "JEVF8FztpSKq",
        "colab_type": "code",
        "outputId": "c5e4ece0-8f6b-4c7e-d0c7-8c79c92b0a99",
        "colab": {
          "base_uri": "https://localhost:8080/",
          "height": 391
        }
      },
      "source": [
        "!wget https://s3-eu-west-1.amazonaws.com/artm/docword.kos.txt.gz\n",
        "!wget https://s3-eu-west-1.amazonaws.com/artm/vocab.kos.txt\n",
        "!gunzip docword.kos.txt.gz"
      ],
      "execution_count": 4,
      "outputs": [
        {
          "output_type": "stream",
          "text": [
            "--2020-05-07 04:45:56--  https://s3-eu-west-1.amazonaws.com/artm/docword.kos.txt.gz\n",
            "Resolving s3-eu-west-1.amazonaws.com (s3-eu-west-1.amazonaws.com)... 52.218.106.203\n",
            "Connecting to s3-eu-west-1.amazonaws.com (s3-eu-west-1.amazonaws.com)|52.218.106.203|:443... connected.\n",
            "HTTP request sent, awaiting response... 200 OK\n",
            "Length: 1053803 (1.0M) [application/x-gzip]\n",
            "Saving to: ‘docword.kos.txt.gz’\n",
            "\n",
            "\rdocword.kos.txt.gz    0%[                    ]       0  --.-KB/s               \rdocword.kos.txt.gz  100%[===================>]   1.00M  --.-KB/s    in 0.1s    \n",
            "\n",
            "2020-05-07 04:45:56 (8.79 MB/s) - ‘docword.kos.txt.gz’ saved [1053803/1053803]\n",
            "\n",
            "--2020-05-07 04:45:59--  https://s3-eu-west-1.amazonaws.com/artm/vocab.kos.txt\n",
            "Resolving s3-eu-west-1.amazonaws.com (s3-eu-west-1.amazonaws.com)... 52.218.65.100\n",
            "Connecting to s3-eu-west-1.amazonaws.com (s3-eu-west-1.amazonaws.com)|52.218.65.100|:443... connected.\n",
            "HTTP request sent, awaiting response... 200 OK\n",
            "Length: 55467 (54K) [text/plain]\n",
            "Saving to: ‘vocab.kos.txt’\n",
            "\n",
            "vocab.kos.txt       100%[===================>]  54.17K  --.-KB/s    in 0.02s   \n",
            "\n",
            "2020-05-07 04:45:59 (2.82 MB/s) - ‘vocab.kos.txt’ saved [55467/55467]\n",
            "\n"
          ],
          "name": "stdout"
        }
      ]
    },
    {
      "cell_type": "markdown",
      "metadata": {
        "id": "wSVqeS9_kN0e",
        "colab_type": "text"
      },
      "source": [
        "### 1. Словари и батчи в BigARTM"
      ]
    },
    {
      "cell_type": "code",
      "metadata": {
        "id": "peWENPBqW_lF",
        "colab_type": "code",
        "colab": {}
      },
      "source": [
        "# продублируем коллекцию kos с именем my_collection для работы примеров кода по работе с коллекциями\n",
        "\n",
        "!cp vocab.kos.txt vocab.my_collection.txt\n",
        "!cp docword.kos.txt docword.my_collection.txt"
      ],
      "execution_count": 0,
      "outputs": []
    },
    {
      "cell_type": "markdown",
      "metadata": {
        "id": "mLZ8XzLJkN0f",
        "colab_type": "text"
      },
      "source": [
        "Форматы сырых данных, которые можно подавать BigARTM: https://bigartm.readthedocs.io/en/master/tutorials/datasets.html"
      ]
    },
    {
      "cell_type": "code",
      "metadata": {
        "id": "2n2PvVCckN0j",
        "colab_type": "code",
        "colab": {}
      },
      "source": [
        "# создание объекта класса BatchVectorizer.\n",
        "batch_vectorizer = artm.BatchVectorizer(data_path='',\n",
        "                                        data_format='bow_uci',\n",
        "                                        collection_name='my_collection',\n",
        "                                        target_folder='my_collection_batches')"
      ],
      "execution_count": 0,
      "outputs": []
    },
    {
      "cell_type": "markdown",
      "metadata": {
        "id": "7j4g8e-EkN0l",
        "colab_type": "text"
      },
      "source": [
        "Про работу с батчами: http://bigartm.readthedocs.org/en/master/api_references/python_interface/batches_utils.html"
      ]
    },
    {
      "cell_type": "code",
      "metadata": {
        "id": "D_2vKwHIkN0q",
        "colab_type": "code",
        "colab": {}
      },
      "source": [
        "# создание объекта BatchVectorizer на основе существующих батчей (данная операция мгновенная):\n",
        "batch_vectorizer = artm.BatchVectorizer(data_path='my_collection_batches',\n",
        "                                        data_format='batches')"
      ],
      "execution_count": 0,
      "outputs": []
    },
    {
      "cell_type": "markdown",
      "metadata": {
        "id": "iDR7pkRHkN0t",
        "colab_type": "text"
      },
      "source": [
        "Создание словарей: http://bigartm.readthedocs.org/en/master/api_references/python_interface/dictionary.html"
      ]
    },
    {
      "cell_type": "code",
      "metadata": {
        "id": "7yuCNGQLkN0t",
        "colab_type": "code",
        "colab": {}
      },
      "source": [
        "# \"сбор\" словарей по директории с батчами\n",
        "dictionary = artm.Dictionary()\n",
        "dictionary.gather(data_path='my_collection_batches')"
      ],
      "execution_count": 0,
      "outputs": []
    },
    {
      "cell_type": "code",
      "metadata": {
        "id": "QujIBG6MkN0w",
        "colab_type": "code",
        "colab": {}
      },
      "source": [
        "# сохранение порядка слов в словаре\n",
        "dictionary = artm.Dictionary()\n",
        "dictionary.gather(data_path='my_collection_batches',\n",
        "                  vocab_file_path='vocab.txt')"
      ],
      "execution_count": 0,
      "outputs": []
    },
    {
      "cell_type": "code",
      "metadata": {
        "id": "Iinehr0kkN0z",
        "colab_type": "code",
        "colab": {}
      },
      "source": [
        "# сохранение словаря в бинарном виде\n",
        "dictionary.save(dictionary_path='my_dictionary')"
      ],
      "execution_count": 0,
      "outputs": []
    },
    {
      "cell_type": "code",
      "metadata": {
        "id": "y-x7UbmgkN02",
        "colab_type": "code",
        "colab": {}
      },
      "source": [
        "# сохранение словаря в текстовом виде\n",
        "dictionary.save_text(dictionary_path='my_dictionary.txt')"
      ],
      "execution_count": 0,
      "outputs": []
    },
    {
      "cell_type": "code",
      "metadata": {
        "id": "Eh5VyiDmkN06",
        "colab_type": "code",
        "colab": {}
      },
      "source": [
        "# загрузка бинарного словаря\n",
        "dictionary.load(dictionary_path='my_dictionary.dict')"
      ],
      "execution_count": 0,
      "outputs": []
    },
    {
      "cell_type": "code",
      "metadata": {
        "id": "jDnPbUDpkN09",
        "colab_type": "code",
        "colab": {}
      },
      "source": [
        "# загрузка текстового словаря\n",
        "dictionary.load_text(dictionary_path='my_dictionary.txt')"
      ],
      "execution_count": 0,
      "outputs": []
    },
    {
      "cell_type": "code",
      "metadata": {
        "id": "G1FnELPzkN0_",
        "colab_type": "code",
        "colab": {}
      },
      "source": [
        "# доступ к автоматически сгенерированному словарю\n",
        "batch_vectorizer.dictionary"
      ],
      "execution_count": 0,
      "outputs": []
    },
    {
      "cell_type": "markdown",
      "metadata": {
        "id": "jJ034k3lkN1D",
        "colab_type": "text"
      },
      "source": [
        "### 2. Обучение базовой модели PLSA с подсчётом перплексии."
      ]
    },
    {
      "cell_type": "markdown",
      "metadata": {
        "id": "a-qogDEAkN1D",
        "colab_type": "text"
      },
      "source": [
        "В этот момент Вам необходимо иметь следующие объекты:\n",
        "\n",
        "- директория названием **my_collection_batches**, а в ней - батчи и словарь в бинарном файле **my_dictionary.dict**, директория должна лежать рядом с этим ноутбуком;\n",
        "- переменная-словарь **dictionary**, в которой этот самый словарь есть (собран или загружен).\n",
        "- переменная **batch_vectorizer** (именно такая, какая создавалась выше).\n",
        "\n",
        "Спецификация класса ARTM, представляющего собой модель: https://bigartm.readthedocs.io/en/master/api_references/python_interface/artm_model.html"
      ]
    },
    {
      "cell_type": "code",
      "metadata": {
        "id": "5iSpzobEkN1E",
        "colab_type": "code",
        "colab": {}
      },
      "source": [
        "# создание модели\n",
        "model = artm.ARTM(num_topics=20, dictionary=dictionary)\n",
        "\n",
        "# создана матрица Phi размером \"число слов из Вашего словаря\" на число тем (20), она инициализирована случайным образом"
      ],
      "execution_count": 0,
      "outputs": []
    },
    {
      "cell_type": "markdown",
      "metadata": {
        "id": "2DJkliMekN1G",
        "colab_type": "text"
      },
      "source": [
        "В данном примере мы воспользуемся наиболее распостраненным критерием - перплексией."
      ]
    },
    {
      "cell_type": "markdown",
      "metadata": {
        "id": "X2cFaADltT9g",
        "colab_type": "text"
      },
      "source": [
        "Перплексия равна экспоненте от минус логарифма\n",
        "правдоподобия, усредненного по всем словам всех документов:"
      ]
    },
    {
      "cell_type": "markdown",
      "metadata": {
        "id": "_IPVT9E61FNL",
        "colab_type": "text"
      },
      "source": [
        "\\begin{aligned} {{{P}}}(D,p) = \\exp \\Bigl ( -\\frac{1}{n} L(\\varPhi ,\\varTheta ) \\Bigr ) = \\exp \\biggl ( -\\frac{1}{n} \\sum _{d\\in D} \\sum _{w\\in d} n_{dw} \\ln p(w\\ {\\vert }\\ d)\\biggr ). \\end{aligned}"
      ]
    },
    {
      "cell_type": "markdown",
      "metadata": {
        "id": "AaOpG5_H2vSF",
        "colab_type": "text"
      },
      "source": [
        "Можно сказать, что это мера различности или неопределенности слов в тексте. "
      ]
    },
    {
      "cell_type": "code",
      "metadata": {
        "id": "K2p8dYhqkN1G",
        "colab_type": "code",
        "colab": {}
      },
      "source": [
        "# добавление метрики\n",
        "model.scores.add(artm.PerplexityScore(name='my_fisrt_perplexity_score',\n",
        "                                      dictionary=dictionary))"
      ],
      "execution_count": 0,
      "outputs": []
    },
    {
      "cell_type": "markdown",
      "metadata": {
        "id": "ThiuVKMgkN1J",
        "colab_type": "text"
      },
      "source": [
        "Описание параметров метрик можно найти здесь: http://bigartm.readthedocs.org/en/master/api_references/python_interface/scores.html"
      ]
    },
    {
      "cell_type": "code",
      "metadata": {
        "id": "SwnGOs2SbHnF",
        "colab_type": "code",
        "colab": {}
      },
      "source": [
        "# инициализация модели\n",
        "model.initialize(dictionary=dictionary)"
      ],
      "execution_count": 0,
      "outputs": []
    },
    {
      "cell_type": "markdown",
      "metadata": {
        "id": "0JToJ0Q0a6Be",
        "colab_type": "text"
      },
      "source": [
        "Параметры методов обучения: http://bigartm.readthedocs.org/en/master/api_references/python_interface/artm_model.html"
      ]
    },
    {
      "cell_type": "code",
      "metadata": {
        "id": "V154ccgbkN1J",
        "colab_type": "code",
        "colab": {}
      },
      "source": [
        "# обучение с помощью оффлайнового метода\n",
        "# (много проходов по коллекции, один проход по документу, обновление Phi в конце прохода)\n",
        "model.fit_offline(batch_vectorizer=batch_vectorizer, num_collection_passes=10)"
      ],
      "execution_count": 0,
      "outputs": []
    },
    {
      "cell_type": "code",
      "metadata": {
        "id": "tXPTNlEpkN1M",
        "colab_type": "code",
        "outputId": "0d0a2f6c-e0c5-43f8-8560-f367f9a4c73f",
        "colab": {
          "base_uri": "https://localhost:8080/",
          "height": 34
        }
      },
      "source": [
        "# посмотрим на значение перплексии\n",
        "print(model.score_tracker['my_fisrt_perplexity_score'].last_value)"
      ],
      "execution_count": 24,
      "outputs": [
        {
          "output_type": "stream",
          "text": [
            "1266.3651123046875\n"
          ],
          "name": "stdout"
        }
      ]
    },
    {
      "cell_type": "code",
      "metadata": {
        "id": "aQukl5F1kN1O",
        "colab_type": "code",
        "outputId": "3455f0b4-3312-4c55-be41-7942d3d779b2",
        "colab": {
          "base_uri": "https://localhost:8080/",
          "height": 54
        }
      },
      "source": [
        "# либо список всех значений:\n",
        "print(model.score_tracker['my_fisrt_perplexity_score'].value)"
      ],
      "execution_count": 25,
      "outputs": [
        {
          "output_type": "stream",
          "text": [
            "[6667.982421875, 2384.8759765625, 2005.3370361328125, 1683.27880859375, 1531.723876953125, 1448.3494873046875, 1396.2386474609375, 1361.716796875, 1338.3155517578125, 1322.150634765625, 1310.378662109375, 1301.306396484375, 1294.02294921875, 1288.1414794921875, 1283.25634765625, 1279.0418701171875, 1275.344482421875, 1272.01904296875, 1269.0137939453125, 1266.3651123046875]\n"
          ],
          "name": "stdout"
        }
      ]
    },
    {
      "cell_type": "code",
      "metadata": {
        "id": "UmCIH2LwkN1Q",
        "colab_type": "code",
        "colab": {}
      },
      "source": [
        "# изменение кол-ва итераций прохода по документу\n",
        "model.num_document_passes = 5"
      ],
      "execution_count": 0,
      "outputs": []
    },
    {
      "cell_type": "code",
      "metadata": {
        "id": "oxlMk8JokN1U",
        "colab_type": "code",
        "colab": {}
      },
      "source": [
        "# дообучение предыдущей модели, сделав ещё 15 итераций по коллекции, и на каждой из них 5 раз обрабатывая каждый документ\n",
        "model.fit_offline(batch_vectorizer=batch_vectorizer, num_collection_passes=15)"
      ],
      "execution_count": 0,
      "outputs": []
    },
    {
      "cell_type": "code",
      "metadata": {
        "id": "vVQj8NadkN1X",
        "colab_type": "code",
        "colab": {}
      },
      "source": [
        "# заполнение матрицы Φ снова случайными числами\n",
        "model.initialize(dictionary=dictionary)"
      ],
      "execution_count": 0,
      "outputs": []
    },
    {
      "cell_type": "code",
      "metadata": {
        "id": "PNQ1qXiSkN1a",
        "colab_type": "code",
        "colab": {}
      },
      "source": [
        "# везде, где принимается переменная словарь, может приниматься и его имя-строка:\n",
        "model.initialize(dictionary=dictionary.name)"
      ],
      "execution_count": 0,
      "outputs": []
    },
    {
      "cell_type": "markdown",
      "metadata": {
        "id": "w4ELngAvkN1c",
        "colab_type": "text"
      },
      "source": [
        "### 3. Регуляризованная модель PLSA и новые метрики."
      ]
    },
    {
      "cell_type": "code",
      "metadata": {
        "id": "m3veKqMXkN1d",
        "colab_type": "code",
        "colab": {}
      },
      "source": [
        "# создадим новую модель и добавим метрику перплексии\n",
        "model = artm.ARTM(num_topics=20, dictionary=dictionary, cache_theta=False)\n",
        "model.scores.add(artm.PerplexityScore(name='perplexity_score',\n",
        "                                      dictionary=dictionary))\n"
      ],
      "execution_count": 0,
      "outputs": []
    },
    {
      "cell_type": "markdown",
      "metadata": {
        "collapsed": true,
        "id": "HbZxCcbDkN1g",
        "colab_type": "text"
      },
      "source": [
        "Список метрик и их параметров: http://bigartm.readthedocs.org/en/master/api_references/python_interface/scores.html"
      ]
    },
    {
      "cell_type": "code",
      "metadata": {
        "id": "qj32TFOkkN1g",
        "colab_type": "code",
        "colab": {}
      },
      "source": [
        "# добавление метрик\n",
        "model.scores.add(artm.SparsityPhiScore(name='sparsity_phi_score'))\n",
        "model.scores.add(artm.SparsityThetaScore(name='sparsity_theta_score'))\n",
        "model.scores.add(artm.TopTokensScore(name='top_tokens_score'))"
      ],
      "execution_count": 0,
      "outputs": []
    },
    {
      "cell_type": "code",
      "metadata": {
        "id": "P4R0ozpnkN1j",
        "colab_type": "code",
        "colab": {}
      },
      "source": [
        "# будем отдельно считать разреженность первых десяти тем в матрице Phi\n",
        "model.scores.add(artm.SparsityPhiScore(name='sparsity_phi_score_10_topics', topic_names=model.topic_names[0: 9]))"
      ],
      "execution_count": 0,
      "outputs": []
    },
    {
      "cell_type": "code",
      "metadata": {
        "id": "_TUIrF0zkN1p",
        "colab_type": "code",
        "colab": {}
      },
      "source": [
        "# потребуем, чтобы метрика топ-токенов показывала нам 12 наиболее вероятных слов в каждой теме\n",
        "model.num_tokens = 12"
      ],
      "execution_count": 0,
      "outputs": []
    },
    {
      "cell_type": "code",
      "metadata": {
        "id": "5YAKZ_zvkN1r",
        "colab_type": "code",
        "colab": {}
      },
      "source": [
        "# запускаем процесс обучения\n",
        "model.initialize(dictionary=dictionary)\n",
        "model.fit_offline(batch_vectorizer=batch_vectorizer, num_collection_passes=10)"
      ],
      "execution_count": 0,
      "outputs": []
    },
    {
      "cell_type": "markdown",
      "metadata": {
        "collapsed": true,
        "id": "Kr0xhkF2kN1u",
        "colab_type": "text"
      },
      "source": [
        "Этот код уже встречался в предыдущем разделе. Но теперь можно посмотреть значения новых подключенных метрик:"
      ]
    },
    {
      "cell_type": "code",
      "metadata": {
        "id": "u-90wbyWkN1u",
        "colab_type": "code",
        "outputId": "9203128c-9463-4f26-c5eb-3b9f41996fa3",
        "colab": {
          "base_uri": "https://localhost:8080/",
          "height": 68
        }
      },
      "source": [
        "# посмотим значение новых подключенных метрик\n",
        "print('perplexity_score: {}'.format(model.score_tracker['perplexity_score'].value)) # .last_value\n",
        "print('sparsity_phi_score: {}'.format(model.score_tracker['sparsity_phi_score'].value))         # .last_value\n",
        "print('sparsity_theta_score: {}'.format(model.score_tracker['sparsity_theta_score'].value))       # .last_value"
      ],
      "execution_count": 39,
      "outputs": [
        {
          "output_type": "stream",
          "text": [
            "perplexity_score: [6667.982421875, 2384.8759765625, 2005.3370361328125, 1683.27880859375, 1531.723876953125, 1448.3494873046875, 1396.2386474609375, 1361.716796875, 1338.3155517578125, 1322.150634765625]\n",
            "sparsity_phi_score: [0.0, 0.0, 0.0, 0.0, 0.0005357660120353103, 0.00375036196783185, 0.010338835418224335, 0.020721111446619034, 0.03410802036523819, 0.050419922918081284]\n",
            "sparsity_theta_score: [0.0, 0.0, 0.0, 0.0, 0.0, 0.0, 0.0, 0.0, 0.0, 0.0]\n"
          ],
          "name": "stdout"
        }
      ]
    },
    {
      "cell_type": "code",
      "metadata": {
        "id": "VNo7NImDkN1x",
        "colab_type": "code",
        "outputId": "9c694e63-54e9-43c1-9149-6dc0be296480",
        "colab": {
          "base_uri": "https://localhost:8080/",
          "height": 357
        }
      },
      "source": [
        "# поле last_tokens - словарь, в котором ключ - имя темы, а значение - список топ-слов этой темы\n",
        "saved_top_tokens = model.score_tracker['top_tokens_score'].last_tokens\n",
        "\n",
        "for topic_name in model.topic_names:\n",
        "    print(saved_top_tokens[topic_name])"
      ],
      "execution_count": 40,
      "outputs": [
        {
          "output_type": "stream",
          "text": [
            "['tax', 'party', 'bush', 'federal', 'court', 'democratic', 'political', 'economic', 'social', 'law']\n",
            "['iraq', 'war', 'military', 'troops', 'soldiers', 'killed', 'iraqi', 'forces', 'baghdad', 'army']\n",
            "['november', 'poll', 'house', 'governor', 'electoral', 'account', 'senate', 'republicans', 'polls', 'contact']\n",
            "['senate', 'race', 'carson', 'republican', 'elections', 'oklahoma', 'coburn', 'colorado', 'campaign', 'gop']\n",
            "['election', 'specter', 'toomey', 'workers', 'health', 'time', 'people', 'oil', 'bush', 'signs']\n",
            "['kerry', 'cheney', 'john', 'president', 'kerrys', 'america', 'convention', 'speech', 'general', 'people']\n",
            "['race', 'district', 'state', 'nader', 'ballot', 'seat', 'candidate', 'party', 'elections', 'democrats']\n",
            "['administration', 'bush', 'white', 'house', 'commission', 'president', 'report', 'jobs', 'billion', 'year']\n",
            "['campaign', 'media', 'party', 'democratic', 'ads', 'union', 'national', 'unions', 'television', 'political']\n",
            "['house', 'million', 'money', 'delay', 'committee', 'republican', 'elections', 'democratic', 'democrats', 'races']\n",
            "['november', 'voting', 'vote', 'kerry', 'house', 'polls', 'bush', 'electoral', 'senate', 'account']\n",
            "['iraq', 'war', 'bush', 'american', 'saddam', 'iraqi', 'united', 'intelligence', 'administration', 'weapons']\n",
            "['bush', 'poll', 'kerry', 'voters', 'polls', 'general', 'results', 'polling', 'numbers', 'percent']\n",
            "['media', 'time', 'herseth', 'house', 'people', 'blogs', 'bunning', 'reporters', 'election', 'read']\n",
            "['bush', 'kerry', 'general', 'ohio', 'states', 'state', 'oct', 'debate', 'voters', 'michigan']\n",
            "['bush', 'bushs', 'war', 'president', 'iraq', 'administration', 'george', 'news', 'people', 'political']\n",
            "['reagan', 'years', 'people', 'women', 'rights', 'news', 'bush', 'family', 'science', 'cell']\n",
            "['dean', 'edwards', 'primary', 'clark', 'democratic', 'iowa', 'kerry', 'gephardt', 'lieberman', 'jan']\n",
            "['kerry', 'percent', 'democratic', 'john', 'democrats', 'campaign', 'nominee', 'south', 'vote', 'candidate']\n",
            "['republicans', 'republican', 'democrats', 'gop', 'state', 'vote', 'marriage', 'governor', 'party', 'gay']\n"
          ],
          "name": "stdout"
        }
      ]
    },
    {
      "cell_type": "markdown",
      "metadata": {
        "id": "QY-4ZRy2kN1z",
        "colab_type": "text"
      },
      "source": [
        "Списки регуляризаторов и их параметров можно посмотреть здесь: http://bigartm.readthedocs.org/en/master/api_references/python_interface/regularizers.html"
      ]
    },
    {
      "cell_type": "code",
      "metadata": {
        "id": "Qrv0V6j-kN1z",
        "colab_type": "code",
        "colab": {}
      },
      "source": [
        "# добавим в модель три регуляризатора: разреживание $\\Phi$, разреживание $\\Theta$ и декорреляция тем\n",
        "model.regularizers.add(artm.SmoothSparsePhiRegularizer(name='sparse_phi_regularizer'))\n",
        "model.regularizers.add(artm.SmoothSparseThetaRegularizer(name='sparse_theta_regularizer'))\n",
        "model.regularizers.add(artm.DecorrelatorPhiRegularizer(name='decorrelator_phi_regularizer'))"
      ],
      "execution_count": 0,
      "outputs": []
    },
    {
      "cell_type": "code",
      "metadata": {
        "id": "0ip1RUVJkN13",
        "colab_type": "code",
        "colab": {}
      },
      "source": [
        "# задание коэффициента регуляризации 𝜏 каждого регуляризатора\n",
        "model.regularizers['sparse_phi_regularizer'].tau = -1.0\n",
        "model.regularizers['sparse_theta_regularizer'].tau = -0.5\n",
        "model.regularizers['decorrelator_phi_regularizer'].tau = 1e+5"
      ],
      "execution_count": 0,
      "outputs": []
    },
    {
      "cell_type": "code",
      "metadata": {
        "id": "sMQgCg4bkN17",
        "colab_type": "code",
        "colab": {}
      },
      "source": [
        "# запустим обучение модели повторно\n",
        "model.fit_offline(batch_vectorizer=batch_vectorizer, num_collection_passes=10)"
      ],
      "execution_count": 0,
      "outputs": []
    },
    {
      "cell_type": "markdown",
      "metadata": {
        "id": "58e96sVLkN19",
        "colab_type": "text"
      },
      "source": [
        "Возможный сценарий: необходимость разреживания части слов при сглаживании другой части и игнорировании всех остальных. Для примера, хотим разреживать слова про магию, сглаживать - про котов, а остальные не трогать.\n",
        "\n",
        "В этой ситуации необходимо использовать словари.\n",
        "\n",
        "Последовательность действий следующая:\n",
        "\n",
        "- выгружаете словарь в текстовом виде;\n",
        "- открываете его, каждая строка - одно слово, в строке 5 значений: слово - модальность - value - token_tf - token_df (это всё написано в первой строке-заголовке);\n",
        "- не обращайте внимания ни на что, кроме слова и его value; найдите интересующие Вас слова и выставьте им нужные значения value;\n",
        "- загрузите словарь обратно.\n",
        "\n",
        "После редактирования Ваш файл со словарём может выглядеть так (схематично):\n",
        "\n",
        "котик  | что-то  |  1.0  |  что-то  |  что-то\n",
        "\n",
        "пиво   | что-то  |  0.0  |  что-то  |  что-то\n",
        "\n",
        "посох  | что-то  | -1.0  |  что-то  |  что-то\n",
        "\n",
        "киса   | что-то  |  1.0  |  что-то  |  что-то\n",
        "\n",
        "мерлин | что-то  | -1.0  |  что-то  |  что-то\n",
        "\n",
        "москва | что-то  |  0.0  |  что-то  |  что-то"
      ]
    },
    {
      "cell_type": "code",
      "metadata": {
        "id": "nDrpOfjSkN1-",
        "colab_type": "code",
        "colab": {}
      },
      "source": [
        "# создание регуляризатора со словарём:\n",
        "model.regularizers.add(artm.SmoothSparsePhiRegularizer(name='smooth_sparse_phi_regularizer', dictionary=dictionary))"
      ],
      "execution_count": 0,
      "outputs": []
    },
    {
      "cell_type": "markdown",
      "metadata": {
        "id": "RRq1YujPkN2A",
        "colab_type": "text"
      },
      "source": [
        "### 4. Построение мультимодальной тематической модели с регуляризацией и оцениванием качества; метод ARTM.transform()."
      ]
    },
    {
      "cell_type": "markdown",
      "metadata": {
        "id": "fEDeb5mTkN2B",
        "colab_type": "text"
      },
      "source": [
        "Файл в формате Vowpal Wabbit, в котором каждая строка - это документ, а каждый документ состоит из обычных слов и слов-меток классов, к которым относится документ. \n",
        "\n",
        "Пример:\n",
        "\n",
        "`doc_100500 |@default_class aaa:2 bbb:4 ccc ddd:6 |@labels_class class_1 class_6`\n",
        "\n",
        "Всё это подробно описано здесь http://bigartm.readthedocs.org/en/master/formats.html."
      ]
    },
    {
      "cell_type": "code",
      "metadata": {
        "id": "F2_tvBWUkN2C",
        "colab_type": "code",
        "colab": {}
      },
      "source": [
        "# установка модальностей и их весов\n",
        "model = artm.ARTM(num_topics=20, class_ids={'@default_class': 1.0, '@labels_class': 5.0}, cache_theta=True)"
      ],
      "execution_count": 0,
      "outputs": []
    },
    {
      "cell_type": "code",
      "metadata": {
        "id": "woZ1HAcHkN2E",
        "colab_type": "code",
        "colab": {}
      },
      "source": [
        "# переопределение весов модальностей\n",
        "model.class_ids = {'@default_class': 1.0, '@labels_class': 50.0}  # model.class_ids['@labels_class'] = 50.0 --- NO!!!"
      ],
      "execution_count": 0,
      "outputs": []
    },
    {
      "cell_type": "markdown",
      "metadata": {
        "collapsed": true,
        "id": "7jDpVqA3kN2G",
        "colab_type": "text"
      },
      "source": [
        "Посмотреть информацию детально о каждой метрике и каждом регуляризаторе можно по уже данным ранее ссылках http://bigartm.readthedocs.org/en/master/api_references/python_interface/regularizers.html и http://bigartm.readthedocs.org/en/master/api_references/python_interface/scores.html."
      ]
    },
    {
      "cell_type": "code",
      "metadata": {
        "id": "wTPR-eaCkN2H",
        "colab_type": "code",
        "colab": {}
      },
      "source": [
        "# добавим в модель метрику разреженности Phi для модальности меток классов,\n",
        "# а также регуляризаторы декорреляции тем для каждой из модальностей, после чего запустим процесс обучения модели:\n",
        "\n",
        "model.scores.add(artm.SparsityPhiScore(name='sparsity_phi_score', class_id='@labels_class'))\n",
        "\n",
        "model.regularizers.add(artm.DecorrelatorPhiRegularizer(name='decorrelator_phi_def', class_ids=['@default_class']))\n",
        "model.regularizers.add(artm.DecorrelatorPhiRegularizer(name='decorrelator_phi_lab', class_ids=['@labels_class']))\n",
        "\n",
        "model.initialize(dictionary=dictionary)\n",
        "model.fit_offline(batch_vectorizer=batch_vectorizer, num_collection_passes=10)"
      ],
      "execution_count": 0,
      "outputs": []
    },
    {
      "cell_type": "code",
      "metadata": {
        "id": "dp582unakN2L",
        "colab_type": "code",
        "colab": {}
      },
      "source": [
        "# получение Theta\n",
        "theta_test = model.transform(batch_vectorizer=batch_vectorizer)"
      ],
      "execution_count": 0,
      "outputs": []
    },
    {
      "cell_type": "code",
      "metadata": {
        "id": "6I7GYobOjj0c",
        "colab_type": "code",
        "outputId": "9f1c3b10-807f-440f-d6c4-e3acc806a544",
        "colab": {
          "base_uri": "https://localhost:8080/",
          "height": 338
        }
      },
      "source": [
        "theta_test.head()"
      ],
      "execution_count": 51,
      "outputs": [
        {
          "output_type": "execute_result",
          "data": {
            "text/html": [
              "<div>\n",
              "<style scoped>\n",
              "    .dataframe tbody tr th:only-of-type {\n",
              "        vertical-align: middle;\n",
              "    }\n",
              "\n",
              "    .dataframe tbody tr th {\n",
              "        vertical-align: top;\n",
              "    }\n",
              "\n",
              "    .dataframe thead th {\n",
              "        text-align: right;\n",
              "    }\n",
              "</style>\n",
              "<table border=\"1\" class=\"dataframe\">\n",
              "  <thead>\n",
              "    <tr style=\"text-align: right;\">\n",
              "      <th></th>\n",
              "      <th>2001</th>\n",
              "      <th>2002</th>\n",
              "      <th>2003</th>\n",
              "      <th>2004</th>\n",
              "      <th>2005</th>\n",
              "      <th>2006</th>\n",
              "      <th>2007</th>\n",
              "      <th>2008</th>\n",
              "      <th>2009</th>\n",
              "      <th>2010</th>\n",
              "      <th>2011</th>\n",
              "      <th>2012</th>\n",
              "      <th>2013</th>\n",
              "      <th>2014</th>\n",
              "      <th>2015</th>\n",
              "      <th>2016</th>\n",
              "      <th>2017</th>\n",
              "      <th>2018</th>\n",
              "      <th>2019</th>\n",
              "      <th>2020</th>\n",
              "      <th>2021</th>\n",
              "      <th>2022</th>\n",
              "      <th>2023</th>\n",
              "      <th>2024</th>\n",
              "      <th>2025</th>\n",
              "      <th>2026</th>\n",
              "      <th>2027</th>\n",
              "      <th>2028</th>\n",
              "      <th>2029</th>\n",
              "      <th>2030</th>\n",
              "      <th>2031</th>\n",
              "      <th>2032</th>\n",
              "      <th>2033</th>\n",
              "      <th>2034</th>\n",
              "      <th>2035</th>\n",
              "      <th>2036</th>\n",
              "      <th>2037</th>\n",
              "      <th>2038</th>\n",
              "      <th>2039</th>\n",
              "      <th>2040</th>\n",
              "      <th>...</th>\n",
              "      <th>961</th>\n",
              "      <th>962</th>\n",
              "      <th>963</th>\n",
              "      <th>964</th>\n",
              "      <th>965</th>\n",
              "      <th>966</th>\n",
              "      <th>967</th>\n",
              "      <th>968</th>\n",
              "      <th>969</th>\n",
              "      <th>970</th>\n",
              "      <th>971</th>\n",
              "      <th>972</th>\n",
              "      <th>973</th>\n",
              "      <th>974</th>\n",
              "      <th>975</th>\n",
              "      <th>976</th>\n",
              "      <th>977</th>\n",
              "      <th>978</th>\n",
              "      <th>979</th>\n",
              "      <th>980</th>\n",
              "      <th>981</th>\n",
              "      <th>982</th>\n",
              "      <th>983</th>\n",
              "      <th>984</th>\n",
              "      <th>985</th>\n",
              "      <th>986</th>\n",
              "      <th>987</th>\n",
              "      <th>988</th>\n",
              "      <th>989</th>\n",
              "      <th>990</th>\n",
              "      <th>991</th>\n",
              "      <th>992</th>\n",
              "      <th>993</th>\n",
              "      <th>994</th>\n",
              "      <th>995</th>\n",
              "      <th>996</th>\n",
              "      <th>997</th>\n",
              "      <th>998</th>\n",
              "      <th>999</th>\n",
              "      <th>1000</th>\n",
              "    </tr>\n",
              "  </thead>\n",
              "  <tbody>\n",
              "    <tr>\n",
              "      <th>topic_0</th>\n",
              "      <td>0.001806</td>\n",
              "      <td>0.003746</td>\n",
              "      <td>7.554123e-08</td>\n",
              "      <td>1.962508e-03</td>\n",
              "      <td>9.496412e-07</td>\n",
              "      <td>2.584939e-10</td>\n",
              "      <td>0.001973</td>\n",
              "      <td>3.480747e-05</td>\n",
              "      <td>0.232206</td>\n",
              "      <td>8.069003e-02</td>\n",
              "      <td>0.073128</td>\n",
              "      <td>4.316896e-08</td>\n",
              "      <td>2.844153e-03</td>\n",
              "      <td>0.019036</td>\n",
              "      <td>0.000826</td>\n",
              "      <td>0.046520</td>\n",
              "      <td>0.000057</td>\n",
              "      <td>4.159120e-07</td>\n",
              "      <td>3.860691e-03</td>\n",
              "      <td>6.494766e-03</td>\n",
              "      <td>0.000202</td>\n",
              "      <td>4.948063e-10</td>\n",
              "      <td>0.000014</td>\n",
              "      <td>3.212017e-05</td>\n",
              "      <td>0.024582</td>\n",
              "      <td>0.000006</td>\n",
              "      <td>1.943423e-06</td>\n",
              "      <td>0.000007</td>\n",
              "      <td>1.997757e-02</td>\n",
              "      <td>9.780695e-08</td>\n",
              "      <td>0.238695</td>\n",
              "      <td>1.280634e-03</td>\n",
              "      <td>0.000046</td>\n",
              "      <td>0.000020</td>\n",
              "      <td>0.000002</td>\n",
              "      <td>3.467549e-08</td>\n",
              "      <td>1.637545e-11</td>\n",
              "      <td>0.000608</td>\n",
              "      <td>0.265787</td>\n",
              "      <td>3.565942e-02</td>\n",
              "      <td>...</td>\n",
              "      <td>0.000384</td>\n",
              "      <td>0.000822</td>\n",
              "      <td>0.001784</td>\n",
              "      <td>1.988683e-02</td>\n",
              "      <td>3.980653e-02</td>\n",
              "      <td>0.001379</td>\n",
              "      <td>2.413999e-04</td>\n",
              "      <td>0.000957</td>\n",
              "      <td>0.100927</td>\n",
              "      <td>0.015721</td>\n",
              "      <td>1.093562e-02</td>\n",
              "      <td>5.245417e-03</td>\n",
              "      <td>0.132031</td>\n",
              "      <td>1.053788e-01</td>\n",
              "      <td>0.028098</td>\n",
              "      <td>0.000204</td>\n",
              "      <td>0.010964</td>\n",
              "      <td>6.985559e-03</td>\n",
              "      <td>0.002744</td>\n",
              "      <td>0.000911</td>\n",
              "      <td>1.399323e-02</td>\n",
              "      <td>0.003385</td>\n",
              "      <td>4.157420e-04</td>\n",
              "      <td>0.008919</td>\n",
              "      <td>0.002173</td>\n",
              "      <td>4.148465e-03</td>\n",
              "      <td>2.654046e-05</td>\n",
              "      <td>0.002555</td>\n",
              "      <td>1.124028e-02</td>\n",
              "      <td>0.005104</td>\n",
              "      <td>0.045431</td>\n",
              "      <td>9.223581e-03</td>\n",
              "      <td>0.001145</td>\n",
              "      <td>1.918383e-04</td>\n",
              "      <td>2.337523e-01</td>\n",
              "      <td>0.000005</td>\n",
              "      <td>0.021301</td>\n",
              "      <td>0.044427</td>\n",
              "      <td>2.762571e-02</td>\n",
              "      <td>2.346205e-03</td>\n",
              "    </tr>\n",
              "    <tr>\n",
              "      <th>topic_1</th>\n",
              "      <td>0.000001</td>\n",
              "      <td>0.000025</td>\n",
              "      <td>1.575465e-06</td>\n",
              "      <td>2.474800e-04</td>\n",
              "      <td>7.056140e-07</td>\n",
              "      <td>2.809865e-11</td>\n",
              "      <td>0.005626</td>\n",
              "      <td>2.714081e-03</td>\n",
              "      <td>0.001624</td>\n",
              "      <td>2.449492e-03</td>\n",
              "      <td>0.080614</td>\n",
              "      <td>1.423622e-07</td>\n",
              "      <td>2.641554e-08</td>\n",
              "      <td>0.000741</td>\n",
              "      <td>0.002981</td>\n",
              "      <td>0.000516</td>\n",
              "      <td>0.338576</td>\n",
              "      <td>2.168248e-04</td>\n",
              "      <td>1.839685e-05</td>\n",
              "      <td>1.980632e-05</td>\n",
              "      <td>0.000321</td>\n",
              "      <td>1.600446e-14</td>\n",
              "      <td>0.000007</td>\n",
              "      <td>1.968834e-07</td>\n",
              "      <td>0.017118</td>\n",
              "      <td>0.002895</td>\n",
              "      <td>1.391367e-06</td>\n",
              "      <td>0.000002</td>\n",
              "      <td>1.708872e-08</td>\n",
              "      <td>6.905245e-06</td>\n",
              "      <td>0.023103</td>\n",
              "      <td>1.506494e-05</td>\n",
              "      <td>0.000005</td>\n",
              "      <td>0.027872</td>\n",
              "      <td>0.000133</td>\n",
              "      <td>7.109143e-04</td>\n",
              "      <td>1.172349e-11</td>\n",
              "      <td>0.000252</td>\n",
              "      <td>0.001005</td>\n",
              "      <td>4.342185e-02</td>\n",
              "      <td>...</td>\n",
              "      <td>0.000021</td>\n",
              "      <td>0.001680</td>\n",
              "      <td>0.000011</td>\n",
              "      <td>7.461673e-07</td>\n",
              "      <td>8.309078e-06</td>\n",
              "      <td>0.001473</td>\n",
              "      <td>1.269021e-01</td>\n",
              "      <td>0.028903</td>\n",
              "      <td>0.005476</td>\n",
              "      <td>0.096640</td>\n",
              "      <td>2.319897e-01</td>\n",
              "      <td>1.674152e-01</td>\n",
              "      <td>0.116100</td>\n",
              "      <td>3.838216e-01</td>\n",
              "      <td>0.018997</td>\n",
              "      <td>0.002185</td>\n",
              "      <td>0.158678</td>\n",
              "      <td>1.308312e-03</td>\n",
              "      <td>0.303861</td>\n",
              "      <td>0.574611</td>\n",
              "      <td>3.216358e-01</td>\n",
              "      <td>0.186447</td>\n",
              "      <td>5.028674e-04</td>\n",
              "      <td>0.254523</td>\n",
              "      <td>0.528528</td>\n",
              "      <td>1.031733e-01</td>\n",
              "      <td>1.149290e-01</td>\n",
              "      <td>0.128377</td>\n",
              "      <td>1.890925e-03</td>\n",
              "      <td>0.002595</td>\n",
              "      <td>0.029284</td>\n",
              "      <td>6.243786e-01</td>\n",
              "      <td>0.349463</td>\n",
              "      <td>1.821726e-02</td>\n",
              "      <td>1.842792e-03</td>\n",
              "      <td>0.059452</td>\n",
              "      <td>0.173991</td>\n",
              "      <td>0.226394</td>\n",
              "      <td>3.586934e-03</td>\n",
              "      <td>2.559446e-01</td>\n",
              "    </tr>\n",
              "    <tr>\n",
              "      <th>topic_2</th>\n",
              "      <td>0.006723</td>\n",
              "      <td>0.000007</td>\n",
              "      <td>2.300532e-04</td>\n",
              "      <td>3.896790e-08</td>\n",
              "      <td>2.436692e-04</td>\n",
              "      <td>9.899012e-01</td>\n",
              "      <td>0.000032</td>\n",
              "      <td>3.778159e-07</td>\n",
              "      <td>0.000001</td>\n",
              "      <td>1.160136e-08</td>\n",
              "      <td>0.000004</td>\n",
              "      <td>1.074891e-06</td>\n",
              "      <td>5.203071e-02</td>\n",
              "      <td>0.008865</td>\n",
              "      <td>0.837675</td>\n",
              "      <td>0.000012</td>\n",
              "      <td>0.030319</td>\n",
              "      <td>3.504878e-06</td>\n",
              "      <td>7.065866e-08</td>\n",
              "      <td>3.266051e-08</td>\n",
              "      <td>0.000039</td>\n",
              "      <td>1.177996e-09</td>\n",
              "      <td>0.000078</td>\n",
              "      <td>7.665014e-03</td>\n",
              "      <td>0.000029</td>\n",
              "      <td>0.628696</td>\n",
              "      <td>3.102613e-09</td>\n",
              "      <td>0.000111</td>\n",
              "      <td>3.182815e-03</td>\n",
              "      <td>7.648608e-05</td>\n",
              "      <td>0.000035</td>\n",
              "      <td>8.908576e-08</td>\n",
              "      <td>0.000003</td>\n",
              "      <td>0.030152</td>\n",
              "      <td>0.000137</td>\n",
              "      <td>6.634368e-06</td>\n",
              "      <td>9.857404e-01</td>\n",
              "      <td>0.002064</td>\n",
              "      <td>0.000024</td>\n",
              "      <td>2.066852e-07</td>\n",
              "      <td>...</td>\n",
              "      <td>0.000012</td>\n",
              "      <td>0.006658</td>\n",
              "      <td>0.000740</td>\n",
              "      <td>3.532682e-03</td>\n",
              "      <td>3.061519e-08</td>\n",
              "      <td>0.000010</td>\n",
              "      <td>4.117508e-11</td>\n",
              "      <td>0.000955</td>\n",
              "      <td>0.000401</td>\n",
              "      <td>0.365307</td>\n",
              "      <td>9.184824e-07</td>\n",
              "      <td>3.501682e-13</td>\n",
              "      <td>0.000547</td>\n",
              "      <td>5.308567e-08</td>\n",
              "      <td>0.000003</td>\n",
              "      <td>0.002466</td>\n",
              "      <td>0.000050</td>\n",
              "      <td>2.119351e-07</td>\n",
              "      <td>0.000022</td>\n",
              "      <td>0.288233</td>\n",
              "      <td>3.094765e-12</td>\n",
              "      <td>0.021856</td>\n",
              "      <td>2.981900e-07</td>\n",
              "      <td>0.000005</td>\n",
              "      <td>0.000042</td>\n",
              "      <td>2.607838e-09</td>\n",
              "      <td>2.812444e-10</td>\n",
              "      <td>0.018875</td>\n",
              "      <td>6.988331e-11</td>\n",
              "      <td>0.000040</td>\n",
              "      <td>0.236510</td>\n",
              "      <td>1.001952e-07</td>\n",
              "      <td>0.015492</td>\n",
              "      <td>2.230720e-08</td>\n",
              "      <td>3.365231e-07</td>\n",
              "      <td>0.000002</td>\n",
              "      <td>0.000026</td>\n",
              "      <td>0.000003</td>\n",
              "      <td>3.947073e-08</td>\n",
              "      <td>5.444591e-07</td>\n",
              "    </tr>\n",
              "    <tr>\n",
              "      <th>topic_3</th>\n",
              "      <td>0.000260</td>\n",
              "      <td>0.000007</td>\n",
              "      <td>2.372164e-05</td>\n",
              "      <td>2.265258e-05</td>\n",
              "      <td>2.975751e-05</td>\n",
              "      <td>1.170636e-09</td>\n",
              "      <td>0.001880</td>\n",
              "      <td>5.925811e-06</td>\n",
              "      <td>0.000221</td>\n",
              "      <td>8.596602e-03</td>\n",
              "      <td>0.006790</td>\n",
              "      <td>1.444420e-10</td>\n",
              "      <td>2.287914e-08</td>\n",
              "      <td>0.002699</td>\n",
              "      <td>0.029098</td>\n",
              "      <td>0.297965</td>\n",
              "      <td>0.492305</td>\n",
              "      <td>8.921763e-05</td>\n",
              "      <td>2.356204e-04</td>\n",
              "      <td>3.871885e-06</td>\n",
              "      <td>0.000172</td>\n",
              "      <td>2.424872e-06</td>\n",
              "      <td>0.000256</td>\n",
              "      <td>3.195001e-04</td>\n",
              "      <td>0.001999</td>\n",
              "      <td>0.012249</td>\n",
              "      <td>2.854607e-07</td>\n",
              "      <td>0.000081</td>\n",
              "      <td>8.303069e-06</td>\n",
              "      <td>2.648425e-06</td>\n",
              "      <td>0.003285</td>\n",
              "      <td>1.573535e-04</td>\n",
              "      <td>0.001855</td>\n",
              "      <td>0.049686</td>\n",
              "      <td>0.000059</td>\n",
              "      <td>6.688270e-05</td>\n",
              "      <td>9.117704e-10</td>\n",
              "      <td>0.080742</td>\n",
              "      <td>0.000332</td>\n",
              "      <td>6.833252e-06</td>\n",
              "      <td>...</td>\n",
              "      <td>0.008730</td>\n",
              "      <td>0.116663</td>\n",
              "      <td>0.255732</td>\n",
              "      <td>8.427393e-02</td>\n",
              "      <td>6.789187e-02</td>\n",
              "      <td>0.006719</td>\n",
              "      <td>5.351586e-02</td>\n",
              "      <td>0.000063</td>\n",
              "      <td>0.001390</td>\n",
              "      <td>0.000921</td>\n",
              "      <td>5.082371e-04</td>\n",
              "      <td>1.575652e-01</td>\n",
              "      <td>0.138050</td>\n",
              "      <td>1.208284e-02</td>\n",
              "      <td>0.211311</td>\n",
              "      <td>0.542198</td>\n",
              "      <td>0.000255</td>\n",
              "      <td>3.396532e-01</td>\n",
              "      <td>0.000525</td>\n",
              "      <td>0.000012</td>\n",
              "      <td>5.294264e-05</td>\n",
              "      <td>0.008356</td>\n",
              "      <td>4.257741e-04</td>\n",
              "      <td>0.000141</td>\n",
              "      <td>0.006122</td>\n",
              "      <td>3.633897e-03</td>\n",
              "      <td>3.948048e-03</td>\n",
              "      <td>0.000089</td>\n",
              "      <td>1.413994e-01</td>\n",
              "      <td>0.000434</td>\n",
              "      <td>0.000005</td>\n",
              "      <td>2.706449e-05</td>\n",
              "      <td>0.000084</td>\n",
              "      <td>1.143076e-02</td>\n",
              "      <td>4.951440e-04</td>\n",
              "      <td>0.000009</td>\n",
              "      <td>0.000174</td>\n",
              "      <td>0.001022</td>\n",
              "      <td>5.518925e-03</td>\n",
              "      <td>1.197762e-01</td>\n",
              "    </tr>\n",
              "    <tr>\n",
              "      <th>topic_4</th>\n",
              "      <td>0.000265</td>\n",
              "      <td>0.000128</td>\n",
              "      <td>2.023533e-03</td>\n",
              "      <td>2.345093e-02</td>\n",
              "      <td>1.070616e-06</td>\n",
              "      <td>4.934911e-11</td>\n",
              "      <td>0.011512</td>\n",
              "      <td>1.667607e-03</td>\n",
              "      <td>0.224585</td>\n",
              "      <td>3.445730e-02</td>\n",
              "      <td>0.082432</td>\n",
              "      <td>3.630196e-08</td>\n",
              "      <td>2.528645e-07</td>\n",
              "      <td>0.014502</td>\n",
              "      <td>0.000081</td>\n",
              "      <td>0.001632</td>\n",
              "      <td>0.002852</td>\n",
              "      <td>1.884048e-04</td>\n",
              "      <td>1.296840e-03</td>\n",
              "      <td>3.871396e-05</td>\n",
              "      <td>0.000319</td>\n",
              "      <td>1.504499e-08</td>\n",
              "      <td>0.021534</td>\n",
              "      <td>4.102303e-05</td>\n",
              "      <td>0.087036</td>\n",
              "      <td>0.000849</td>\n",
              "      <td>1.815687e-09</td>\n",
              "      <td>0.000030</td>\n",
              "      <td>3.833674e-04</td>\n",
              "      <td>3.352244e-05</td>\n",
              "      <td>0.014592</td>\n",
              "      <td>5.571030e-03</td>\n",
              "      <td>0.000013</td>\n",
              "      <td>0.477268</td>\n",
              "      <td>0.000005</td>\n",
              "      <td>1.917385e-05</td>\n",
              "      <td>3.053114e-09</td>\n",
              "      <td>0.000204</td>\n",
              "      <td>0.006689</td>\n",
              "      <td>5.495640e-03</td>\n",
              "      <td>...</td>\n",
              "      <td>0.000192</td>\n",
              "      <td>0.000317</td>\n",
              "      <td>0.002369</td>\n",
              "      <td>1.351085e-03</td>\n",
              "      <td>1.827817e-02</td>\n",
              "      <td>0.001241</td>\n",
              "      <td>3.255413e-01</td>\n",
              "      <td>0.001218</td>\n",
              "      <td>0.000083</td>\n",
              "      <td>0.000210</td>\n",
              "      <td>4.549318e-03</td>\n",
              "      <td>3.193197e-02</td>\n",
              "      <td>0.025381</td>\n",
              "      <td>4.332042e-03</td>\n",
              "      <td>0.000511</td>\n",
              "      <td>0.002117</td>\n",
              "      <td>0.001127</td>\n",
              "      <td>2.218059e-02</td>\n",
              "      <td>0.001035</td>\n",
              "      <td>0.000049</td>\n",
              "      <td>7.695137e-04</td>\n",
              "      <td>0.000014</td>\n",
              "      <td>6.181582e-04</td>\n",
              "      <td>0.004423</td>\n",
              "      <td>0.000445</td>\n",
              "      <td>7.983605e-03</td>\n",
              "      <td>5.656733e-02</td>\n",
              "      <td>0.005585</td>\n",
              "      <td>1.227337e-01</td>\n",
              "      <td>0.002137</td>\n",
              "      <td>0.000502</td>\n",
              "      <td>2.868268e-02</td>\n",
              "      <td>0.023664</td>\n",
              "      <td>1.160079e-02</td>\n",
              "      <td>1.808638e-04</td>\n",
              "      <td>0.000085</td>\n",
              "      <td>0.001789</td>\n",
              "      <td>0.023459</td>\n",
              "      <td>1.641297e-03</td>\n",
              "      <td>1.076939e-01</td>\n",
              "    </tr>\n",
              "  </tbody>\n",
              "</table>\n",
              "<p>5 rows × 3430 columns</p>\n",
              "</div>"
            ],
            "text/plain": [
              "             2001      2002          2003  ...      998           999           1000\n",
              "topic_0  0.001806  0.003746  7.554123e-08  ...  0.044427  2.762571e-02  2.346205e-03\n",
              "topic_1  0.000001  0.000025  1.575465e-06  ...  0.226394  3.586934e-03  2.559446e-01\n",
              "topic_2  0.006723  0.000007  2.300532e-04  ...  0.000003  3.947073e-08  5.444591e-07\n",
              "topic_3  0.000260  0.000007  2.372164e-05  ...  0.001022  5.518925e-03  1.197762e-01\n",
              "topic_4  0.000265  0.000128  2.023533e-03  ...  0.023459  1.641297e-03  1.076939e-01\n",
              "\n",
              "[5 rows x 3430 columns]"
            ]
          },
          "metadata": {
            "tags": []
          },
          "execution_count": 51
        }
      ]
    },
    {
      "cell_type": "code",
      "metadata": {
        "id": "7lnkIfuCkN2O",
        "colab_type": "code",
        "colab": {}
      },
      "source": [
        "# получение p(c|d)\n",
        "p_cd_test = model.transform(batch_vectorizer=batch_vectorizer, predict_class_id='@labels_class')"
      ],
      "execution_count": 0,
      "outputs": []
    },
    {
      "cell_type": "markdown",
      "metadata": {
        "id": "7Q2_UvhRkN2R",
        "colab_type": "text"
      },
      "source": [
        "Таким образом, Вы получили предсказания модели в pandas.DataFrame. Теперь Вы можете оценить степень качества предсказаний построенной Вами модели любым способом, который Вам необходим."
      ]
    },
    {
      "cell_type": "markdown",
      "metadata": {
        "id": "mJKrujVVkN2R",
        "colab_type": "text"
      },
      "source": [
        "### 5. Извлечение $\\Phi$ и $\\Theta$, сохранение и загрузка модели, фильтрация словарей."
      ]
    },
    {
      "cell_type": "code",
      "metadata": {
        "id": "EORL1lwZkN2S",
        "colab_type": "code",
        "colab": {}
      },
      "source": [
        "# извлечение матриц Phi и Theta\n",
        "phi = model.get_phi()\n",
        "theta = model.get_theta()"
      ],
      "execution_count": 0,
      "outputs": []
    },
    {
      "cell_type": "code",
      "metadata": {
        "id": "Dm7pBrKj9Gbh",
        "colab_type": "code",
        "outputId": "ef271104-cdea-4792-dd3f-a95c5839d6a7",
        "colab": {
          "base_uri": "https://localhost:8080/",
          "height": 309
        }
      },
      "source": [
        "phi.head()"
      ],
      "execution_count": 55,
      "outputs": [
        {
          "output_type": "execute_result",
          "data": {
            "text/html": [
              "<div>\n",
              "<style scoped>\n",
              "    .dataframe tbody tr th:only-of-type {\n",
              "        vertical-align: middle;\n",
              "    }\n",
              "\n",
              "    .dataframe tbody tr th {\n",
              "        vertical-align: top;\n",
              "    }\n",
              "\n",
              "    .dataframe thead th {\n",
              "        text-align: right;\n",
              "    }\n",
              "</style>\n",
              "<table border=\"1\" class=\"dataframe\">\n",
              "  <thead>\n",
              "    <tr style=\"text-align: right;\">\n",
              "      <th></th>\n",
              "      <th>topic_0</th>\n",
              "      <th>topic_1</th>\n",
              "      <th>topic_2</th>\n",
              "      <th>topic_3</th>\n",
              "      <th>topic_4</th>\n",
              "      <th>topic_5</th>\n",
              "      <th>topic_6</th>\n",
              "      <th>topic_7</th>\n",
              "      <th>topic_8</th>\n",
              "      <th>topic_9</th>\n",
              "      <th>topic_10</th>\n",
              "      <th>topic_11</th>\n",
              "      <th>topic_12</th>\n",
              "      <th>topic_13</th>\n",
              "      <th>topic_14</th>\n",
              "      <th>topic_15</th>\n",
              "      <th>topic_16</th>\n",
              "      <th>topic_17</th>\n",
              "      <th>topic_18</th>\n",
              "      <th>topic_19</th>\n",
              "    </tr>\n",
              "  </thead>\n",
              "  <tbody>\n",
              "    <tr>\n",
              "      <th>oceana</th>\n",
              "      <td>1.942413e-13</td>\n",
              "      <td>8.204123e-11</td>\n",
              "      <td>0.000000e+00</td>\n",
              "      <td>4.062175e-16</td>\n",
              "      <td>9.067680e-16</td>\n",
              "      <td>0.000000e+00</td>\n",
              "      <td>6.640061e-04</td>\n",
              "      <td>4.038930e-16</td>\n",
              "      <td>2.850729e-11</td>\n",
              "      <td>7.956726e-10</td>\n",
              "      <td>0.000000</td>\n",
              "      <td>0.000000e+00</td>\n",
              "      <td>0.000000e+00</td>\n",
              "      <td>1.538599e-08</td>\n",
              "      <td>0.000000e+00</td>\n",
              "      <td>0.000000</td>\n",
              "      <td>4.889344e-08</td>\n",
              "      <td>0.000000e+00</td>\n",
              "      <td>0.000000e+00</td>\n",
              "      <td>0.000000e+00</td>\n",
              "    </tr>\n",
              "    <tr>\n",
              "      <th>russo</th>\n",
              "      <td>5.146719e-12</td>\n",
              "      <td>4.645568e-12</td>\n",
              "      <td>0.000000e+00</td>\n",
              "      <td>4.564717e-09</td>\n",
              "      <td>6.945480e-15</td>\n",
              "      <td>0.000000e+00</td>\n",
              "      <td>2.444584e-09</td>\n",
              "      <td>9.503329e-05</td>\n",
              "      <td>1.062507e-10</td>\n",
              "      <td>2.264477e-06</td>\n",
              "      <td>0.000000</td>\n",
              "      <td>1.157149e-10</td>\n",
              "      <td>3.460438e-14</td>\n",
              "      <td>1.361399e-10</td>\n",
              "      <td>1.232965e-11</td>\n",
              "      <td>0.000270</td>\n",
              "      <td>3.772737e-08</td>\n",
              "      <td>0.000000e+00</td>\n",
              "      <td>7.372723e-11</td>\n",
              "      <td>4.088295e-07</td>\n",
              "    </tr>\n",
              "    <tr>\n",
              "      <th>bishops</th>\n",
              "      <td>6.117136e-04</td>\n",
              "      <td>0.000000e+00</td>\n",
              "      <td>0.000000e+00</td>\n",
              "      <td>0.000000e+00</td>\n",
              "      <td>0.000000e+00</td>\n",
              "      <td>0.000000e+00</td>\n",
              "      <td>0.000000e+00</td>\n",
              "      <td>0.000000e+00</td>\n",
              "      <td>0.000000e+00</td>\n",
              "      <td>0.000000e+00</td>\n",
              "      <td>0.000000</td>\n",
              "      <td>2.689244e-16</td>\n",
              "      <td>0.000000e+00</td>\n",
              "      <td>0.000000e+00</td>\n",
              "      <td>0.000000e+00</td>\n",
              "      <td>0.000000</td>\n",
              "      <td>9.257374e-16</td>\n",
              "      <td>0.000000e+00</td>\n",
              "      <td>0.000000e+00</td>\n",
              "      <td>0.000000e+00</td>\n",
              "    </tr>\n",
              "    <tr>\n",
              "      <th>triple</th>\n",
              "      <td>1.345272e-06</td>\n",
              "      <td>4.514070e-11</td>\n",
              "      <td>1.873405e-12</td>\n",
              "      <td>6.260503e-09</td>\n",
              "      <td>5.789713e-16</td>\n",
              "      <td>2.735810e-08</td>\n",
              "      <td>1.073530e-04</td>\n",
              "      <td>4.747328e-05</td>\n",
              "      <td>6.018495e-12</td>\n",
              "      <td>1.863491e-10</td>\n",
              "      <td>0.000042</td>\n",
              "      <td>1.803820e-05</td>\n",
              "      <td>4.083019e-05</td>\n",
              "      <td>3.888586e-10</td>\n",
              "      <td>4.039624e-12</td>\n",
              "      <td>0.000067</td>\n",
              "      <td>7.416470e-09</td>\n",
              "      <td>0.000000e+00</td>\n",
              "      <td>9.189577e-05</td>\n",
              "      <td>4.712440e-06</td>\n",
              "    </tr>\n",
              "    <tr>\n",
              "      <th>fahrenheit</th>\n",
              "      <td>2.772402e-12</td>\n",
              "      <td>1.905010e-08</td>\n",
              "      <td>0.000000e+00</td>\n",
              "      <td>1.877410e-03</td>\n",
              "      <td>1.647517e-12</td>\n",
              "      <td>6.187357e-05</td>\n",
              "      <td>1.116961e-05</td>\n",
              "      <td>7.226261e-09</td>\n",
              "      <td>1.117946e-08</td>\n",
              "      <td>3.410030e-09</td>\n",
              "      <td>0.000000</td>\n",
              "      <td>7.963995e-08</td>\n",
              "      <td>3.511169e-12</td>\n",
              "      <td>5.108954e-08</td>\n",
              "      <td>1.011971e-13</td>\n",
              "      <td>0.000003</td>\n",
              "      <td>1.569643e-04</td>\n",
              "      <td>1.397439e-14</td>\n",
              "      <td>1.060891e-11</td>\n",
              "      <td>2.768540e-14</td>\n",
              "    </tr>\n",
              "  </tbody>\n",
              "</table>\n",
              "</div>"
            ],
            "text/plain": [
              "                 topic_0       topic_1  ...      topic_18      topic_19\n",
              "oceana      1.942413e-13  8.204123e-11  ...  0.000000e+00  0.000000e+00\n",
              "russo       5.146719e-12  4.645568e-12  ...  7.372723e-11  4.088295e-07\n",
              "bishops     6.117136e-04  0.000000e+00  ...  0.000000e+00  0.000000e+00\n",
              "triple      1.345272e-06  4.514070e-11  ...  9.189577e-05  4.712440e-06\n",
              "fahrenheit  2.772402e-12  1.905010e-08  ...  1.060891e-11  2.768540e-14\n",
              "\n",
              "[5 rows x 20 columns]"
            ]
          },
          "metadata": {
            "tags": []
          },
          "execution_count": 55
        }
      ]
    },
    {
      "cell_type": "code",
      "metadata": {
        "id": "TFISZAyf9JBs",
        "colab_type": "code",
        "outputId": "abdbf998-10f6-49aa-d8cb-4422ae1c8646",
        "colab": {
          "base_uri": "https://localhost:8080/",
          "height": 338
        }
      },
      "source": [
        "theta.head()"
      ],
      "execution_count": 56,
      "outputs": [
        {
          "output_type": "execute_result",
          "data": {
            "text/html": [
              "<div>\n",
              "<style scoped>\n",
              "    .dataframe tbody tr th:only-of-type {\n",
              "        vertical-align: middle;\n",
              "    }\n",
              "\n",
              "    .dataframe tbody tr th {\n",
              "        vertical-align: top;\n",
              "    }\n",
              "\n",
              "    .dataframe thead th {\n",
              "        text-align: right;\n",
              "    }\n",
              "</style>\n",
              "<table border=\"1\" class=\"dataframe\">\n",
              "  <thead>\n",
              "    <tr style=\"text-align: right;\">\n",
              "      <th></th>\n",
              "      <th>2001</th>\n",
              "      <th>2002</th>\n",
              "      <th>2003</th>\n",
              "      <th>2004</th>\n",
              "      <th>2005</th>\n",
              "      <th>2006</th>\n",
              "      <th>2007</th>\n",
              "      <th>2008</th>\n",
              "      <th>2009</th>\n",
              "      <th>2010</th>\n",
              "      <th>2011</th>\n",
              "      <th>2012</th>\n",
              "      <th>2013</th>\n",
              "      <th>2014</th>\n",
              "      <th>2015</th>\n",
              "      <th>2016</th>\n",
              "      <th>2017</th>\n",
              "      <th>2018</th>\n",
              "      <th>2019</th>\n",
              "      <th>2020</th>\n",
              "      <th>2021</th>\n",
              "      <th>2022</th>\n",
              "      <th>2023</th>\n",
              "      <th>2024</th>\n",
              "      <th>2025</th>\n",
              "      <th>2026</th>\n",
              "      <th>2027</th>\n",
              "      <th>2028</th>\n",
              "      <th>2029</th>\n",
              "      <th>2030</th>\n",
              "      <th>2031</th>\n",
              "      <th>2032</th>\n",
              "      <th>2033</th>\n",
              "      <th>2034</th>\n",
              "      <th>2035</th>\n",
              "      <th>2036</th>\n",
              "      <th>2037</th>\n",
              "      <th>2038</th>\n",
              "      <th>2039</th>\n",
              "      <th>2040</th>\n",
              "      <th>...</th>\n",
              "      <th>961</th>\n",
              "      <th>962</th>\n",
              "      <th>963</th>\n",
              "      <th>964</th>\n",
              "      <th>965</th>\n",
              "      <th>966</th>\n",
              "      <th>967</th>\n",
              "      <th>968</th>\n",
              "      <th>969</th>\n",
              "      <th>970</th>\n",
              "      <th>971</th>\n",
              "      <th>972</th>\n",
              "      <th>973</th>\n",
              "      <th>974</th>\n",
              "      <th>975</th>\n",
              "      <th>976</th>\n",
              "      <th>977</th>\n",
              "      <th>978</th>\n",
              "      <th>979</th>\n",
              "      <th>980</th>\n",
              "      <th>981</th>\n",
              "      <th>982</th>\n",
              "      <th>983</th>\n",
              "      <th>984</th>\n",
              "      <th>985</th>\n",
              "      <th>986</th>\n",
              "      <th>987</th>\n",
              "      <th>988</th>\n",
              "      <th>989</th>\n",
              "      <th>990</th>\n",
              "      <th>991</th>\n",
              "      <th>992</th>\n",
              "      <th>993</th>\n",
              "      <th>994</th>\n",
              "      <th>995</th>\n",
              "      <th>996</th>\n",
              "      <th>997</th>\n",
              "      <th>998</th>\n",
              "      <th>999</th>\n",
              "      <th>1000</th>\n",
              "    </tr>\n",
              "  </thead>\n",
              "  <tbody>\n",
              "    <tr>\n",
              "      <th>topic_0</th>\n",
              "      <td>0.002537</td>\n",
              "      <td>0.003916</td>\n",
              "      <td>1.034607e-07</td>\n",
              "      <td>2.657889e-03</td>\n",
              "      <td>1.030477e-06</td>\n",
              "      <td>3.813331e-10</td>\n",
              "      <td>0.002176</td>\n",
              "      <td>4.126641e-05</td>\n",
              "      <td>0.217024</td>\n",
              "      <td>7.276093e-02</td>\n",
              "      <td>0.069774</td>\n",
              "      <td>4.154328e-08</td>\n",
              "      <td>7.696996e-04</td>\n",
              "      <td>0.021254</td>\n",
              "      <td>0.000839</td>\n",
              "      <td>0.044761</td>\n",
              "      <td>0.000086</td>\n",
              "      <td>5.686849e-07</td>\n",
              "      <td>4.838574e-03</td>\n",
              "      <td>8.441885e-03</td>\n",
              "      <td>0.000230</td>\n",
              "      <td>4.286015e-10</td>\n",
              "      <td>0.000017</td>\n",
              "      <td>3.944074e-05</td>\n",
              "      <td>0.018435</td>\n",
              "      <td>0.000008</td>\n",
              "      <td>2.575277e-06</td>\n",
              "      <td>0.000008</td>\n",
              "      <td>1.908781e-02</td>\n",
              "      <td>2.162967e-07</td>\n",
              "      <td>0.237620</td>\n",
              "      <td>8.878059e-04</td>\n",
              "      <td>0.000056</td>\n",
              "      <td>0.000025</td>\n",
              "      <td>0.000002</td>\n",
              "      <td>4.107922e-08</td>\n",
              "      <td>2.067081e-11</td>\n",
              "      <td>0.001012</td>\n",
              "      <td>0.248377</td>\n",
              "      <td>4.526982e-02</td>\n",
              "      <td>...</td>\n",
              "      <td>0.000540</td>\n",
              "      <td>0.001016</td>\n",
              "      <td>0.003431</td>\n",
              "      <td>1.968549e-02</td>\n",
              "      <td>4.136465e-02</td>\n",
              "      <td>0.002059</td>\n",
              "      <td>1.956551e-04</td>\n",
              "      <td>0.001074</td>\n",
              "      <td>0.106176</td>\n",
              "      <td>0.015301</td>\n",
              "      <td>1.093226e-02</td>\n",
              "      <td>7.959531e-03</td>\n",
              "      <td>0.137396</td>\n",
              "      <td>1.110849e-01</td>\n",
              "      <td>0.029810</td>\n",
              "      <td>0.000259</td>\n",
              "      <td>0.009448</td>\n",
              "      <td>5.367432e-03</td>\n",
              "      <td>0.002104</td>\n",
              "      <td>0.000662</td>\n",
              "      <td>1.488087e-02</td>\n",
              "      <td>0.003860</td>\n",
              "      <td>4.525439e-04</td>\n",
              "      <td>0.008542</td>\n",
              "      <td>0.002747</td>\n",
              "      <td>4.957703e-03</td>\n",
              "      <td>2.726760e-05</td>\n",
              "      <td>0.002582</td>\n",
              "      <td>8.140009e-03</td>\n",
              "      <td>0.005606</td>\n",
              "      <td>0.047064</td>\n",
              "      <td>8.202591e-03</td>\n",
              "      <td>0.001607</td>\n",
              "      <td>2.473596e-04</td>\n",
              "      <td>2.413676e-01</td>\n",
              "      <td>0.000006</td>\n",
              "      <td>0.027462</td>\n",
              "      <td>0.038716</td>\n",
              "      <td>2.644120e-02</td>\n",
              "      <td>2.226363e-03</td>\n",
              "    </tr>\n",
              "    <tr>\n",
              "      <th>topic_1</th>\n",
              "      <td>0.000002</td>\n",
              "      <td>0.000027</td>\n",
              "      <td>1.142442e-06</td>\n",
              "      <td>3.957777e-04</td>\n",
              "      <td>8.042954e-07</td>\n",
              "      <td>3.190720e-11</td>\n",
              "      <td>0.006344</td>\n",
              "      <td>2.564251e-03</td>\n",
              "      <td>0.001734</td>\n",
              "      <td>3.588315e-03</td>\n",
              "      <td>0.091380</td>\n",
              "      <td>1.524971e-07</td>\n",
              "      <td>2.691231e-08</td>\n",
              "      <td>0.000806</td>\n",
              "      <td>0.003792</td>\n",
              "      <td>0.000525</td>\n",
              "      <td>0.321326</td>\n",
              "      <td>1.164214e-04</td>\n",
              "      <td>2.265662e-05</td>\n",
              "      <td>2.681320e-05</td>\n",
              "      <td>0.000440</td>\n",
              "      <td>1.924728e-14</td>\n",
              "      <td>0.000007</td>\n",
              "      <td>1.870660e-07</td>\n",
              "      <td>0.014993</td>\n",
              "      <td>0.002630</td>\n",
              "      <td>2.896057e-06</td>\n",
              "      <td>0.000002</td>\n",
              "      <td>1.279177e-08</td>\n",
              "      <td>1.324248e-05</td>\n",
              "      <td>0.023805</td>\n",
              "      <td>8.760479e-06</td>\n",
              "      <td>0.000005</td>\n",
              "      <td>0.026504</td>\n",
              "      <td>0.000259</td>\n",
              "      <td>1.517301e-03</td>\n",
              "      <td>1.257986e-11</td>\n",
              "      <td>0.000348</td>\n",
              "      <td>0.000900</td>\n",
              "      <td>3.756402e-02</td>\n",
              "      <td>...</td>\n",
              "      <td>0.000032</td>\n",
              "      <td>0.001710</td>\n",
              "      <td>0.000012</td>\n",
              "      <td>9.372716e-07</td>\n",
              "      <td>9.171663e-06</td>\n",
              "      <td>0.002444</td>\n",
              "      <td>1.550613e-01</td>\n",
              "      <td>0.036426</td>\n",
              "      <td>0.007861</td>\n",
              "      <td>0.102360</td>\n",
              "      <td>2.363647e-01</td>\n",
              "      <td>1.909706e-01</td>\n",
              "      <td>0.138848</td>\n",
              "      <td>3.807942e-01</td>\n",
              "      <td>0.018734</td>\n",
              "      <td>0.003216</td>\n",
              "      <td>0.167676</td>\n",
              "      <td>2.388696e-03</td>\n",
              "      <td>0.358691</td>\n",
              "      <td>0.577611</td>\n",
              "      <td>3.777403e-01</td>\n",
              "      <td>0.202596</td>\n",
              "      <td>7.485849e-04</td>\n",
              "      <td>0.253369</td>\n",
              "      <td>0.552640</td>\n",
              "      <td>1.120873e-01</td>\n",
              "      <td>9.989853e-02</td>\n",
              "      <td>0.125623</td>\n",
              "      <td>1.959656e-03</td>\n",
              "      <td>0.002003</td>\n",
              "      <td>0.031379</td>\n",
              "      <td>6.605682e-01</td>\n",
              "      <td>0.347073</td>\n",
              "      <td>2.466105e-02</td>\n",
              "      <td>1.616149e-03</td>\n",
              "      <td>0.058901</td>\n",
              "      <td>0.194370</td>\n",
              "      <td>0.245937</td>\n",
              "      <td>3.268313e-03</td>\n",
              "      <td>2.429505e-01</td>\n",
              "    </tr>\n",
              "    <tr>\n",
              "      <th>topic_2</th>\n",
              "      <td>0.008527</td>\n",
              "      <td>0.000006</td>\n",
              "      <td>2.138611e-04</td>\n",
              "      <td>5.889147e-08</td>\n",
              "      <td>1.740663e-04</td>\n",
              "      <td>9.891611e-01</td>\n",
              "      <td>0.000038</td>\n",
              "      <td>2.919963e-07</td>\n",
              "      <td>0.000001</td>\n",
              "      <td>1.455627e-08</td>\n",
              "      <td>0.000004</td>\n",
              "      <td>2.812988e-06</td>\n",
              "      <td>5.177584e-02</td>\n",
              "      <td>0.009158</td>\n",
              "      <td>0.838362</td>\n",
              "      <td>0.000010</td>\n",
              "      <td>0.028720</td>\n",
              "      <td>2.535582e-06</td>\n",
              "      <td>4.961776e-08</td>\n",
              "      <td>3.162261e-08</td>\n",
              "      <td>0.000068</td>\n",
              "      <td>7.250806e-10</td>\n",
              "      <td>0.000077</td>\n",
              "      <td>8.215991e-03</td>\n",
              "      <td>0.000038</td>\n",
              "      <td>0.628616</td>\n",
              "      <td>3.099645e-09</td>\n",
              "      <td>0.000153</td>\n",
              "      <td>4.297455e-03</td>\n",
              "      <td>7.502697e-05</td>\n",
              "      <td>0.000033</td>\n",
              "      <td>1.312012e-07</td>\n",
              "      <td>0.000004</td>\n",
              "      <td>0.030234</td>\n",
              "      <td>0.000195</td>\n",
              "      <td>1.060373e-05</td>\n",
              "      <td>9.856363e-01</td>\n",
              "      <td>0.002015</td>\n",
              "      <td>0.000022</td>\n",
              "      <td>1.603616e-07</td>\n",
              "      <td>...</td>\n",
              "      <td>0.000014</td>\n",
              "      <td>0.007016</td>\n",
              "      <td>0.000665</td>\n",
              "      <td>2.908586e-03</td>\n",
              "      <td>3.441715e-08</td>\n",
              "      <td>0.000017</td>\n",
              "      <td>4.532213e-11</td>\n",
              "      <td>0.001018</td>\n",
              "      <td>0.000362</td>\n",
              "      <td>0.370471</td>\n",
              "      <td>8.884114e-07</td>\n",
              "      <td>7.194393e-13</td>\n",
              "      <td>0.000463</td>\n",
              "      <td>6.704257e-08</td>\n",
              "      <td>0.000003</td>\n",
              "      <td>0.003327</td>\n",
              "      <td>0.000048</td>\n",
              "      <td>1.972837e-07</td>\n",
              "      <td>0.000020</td>\n",
              "      <td>0.291895</td>\n",
              "      <td>4.378301e-12</td>\n",
              "      <td>0.022346</td>\n",
              "      <td>2.990610e-07</td>\n",
              "      <td>0.000004</td>\n",
              "      <td>0.000032</td>\n",
              "      <td>3.336087e-09</td>\n",
              "      <td>3.092457e-10</td>\n",
              "      <td>0.017005</td>\n",
              "      <td>8.284489e-11</td>\n",
              "      <td>0.000034</td>\n",
              "      <td>0.239621</td>\n",
              "      <td>9.898540e-08</td>\n",
              "      <td>0.016032</td>\n",
              "      <td>2.456712e-08</td>\n",
              "      <td>3.497613e-07</td>\n",
              "      <td>0.000002</td>\n",
              "      <td>0.000025</td>\n",
              "      <td>0.000003</td>\n",
              "      <td>5.476831e-08</td>\n",
              "      <td>7.744553e-07</td>\n",
              "    </tr>\n",
              "    <tr>\n",
              "      <th>topic_3</th>\n",
              "      <td>0.000468</td>\n",
              "      <td>0.000009</td>\n",
              "      <td>2.216566e-05</td>\n",
              "      <td>3.763045e-05</td>\n",
              "      <td>2.408492e-05</td>\n",
              "      <td>9.888298e-10</td>\n",
              "      <td>0.002227</td>\n",
              "      <td>6.479357e-06</td>\n",
              "      <td>0.000164</td>\n",
              "      <td>9.549397e-03</td>\n",
              "      <td>0.006962</td>\n",
              "      <td>1.248365e-10</td>\n",
              "      <td>4.815403e-08</td>\n",
              "      <td>0.002416</td>\n",
              "      <td>0.027549</td>\n",
              "      <td>0.270087</td>\n",
              "      <td>0.520841</td>\n",
              "      <td>7.034364e-05</td>\n",
              "      <td>3.136682e-04</td>\n",
              "      <td>8.123512e-06</td>\n",
              "      <td>0.000260</td>\n",
              "      <td>2.383189e-06</td>\n",
              "      <td>0.000336</td>\n",
              "      <td>3.967125e-04</td>\n",
              "      <td>0.002468</td>\n",
              "      <td>0.015101</td>\n",
              "      <td>2.693198e-07</td>\n",
              "      <td>0.000073</td>\n",
              "      <td>7.809460e-06</td>\n",
              "      <td>2.932871e-06</td>\n",
              "      <td>0.004004</td>\n",
              "      <td>1.483777e-04</td>\n",
              "      <td>0.002562</td>\n",
              "      <td>0.065495</td>\n",
              "      <td>0.000101</td>\n",
              "      <td>8.877465e-05</td>\n",
              "      <td>8.448239e-10</td>\n",
              "      <td>0.074142</td>\n",
              "      <td>0.000334</td>\n",
              "      <td>8.546655e-06</td>\n",
              "      <td>...</td>\n",
              "      <td>0.008110</td>\n",
              "      <td>0.118371</td>\n",
              "      <td>0.255083</td>\n",
              "      <td>1.025578e-01</td>\n",
              "      <td>7.666198e-02</td>\n",
              "      <td>0.008545</td>\n",
              "      <td>5.180800e-02</td>\n",
              "      <td>0.000083</td>\n",
              "      <td>0.003324</td>\n",
              "      <td>0.001201</td>\n",
              "      <td>6.834755e-04</td>\n",
              "      <td>1.589299e-01</td>\n",
              "      <td>0.139607</td>\n",
              "      <td>1.274831e-02</td>\n",
              "      <td>0.204252</td>\n",
              "      <td>0.516477</td>\n",
              "      <td>0.000431</td>\n",
              "      <td>3.350557e-01</td>\n",
              "      <td>0.000628</td>\n",
              "      <td>0.000012</td>\n",
              "      <td>4.568489e-05</td>\n",
              "      <td>0.015170</td>\n",
              "      <td>3.868184e-04</td>\n",
              "      <td>0.000129</td>\n",
              "      <td>0.005559</td>\n",
              "      <td>4.509480e-03</td>\n",
              "      <td>6.599160e-03</td>\n",
              "      <td>0.000144</td>\n",
              "      <td>1.647279e-01</td>\n",
              "      <td>0.000355</td>\n",
              "      <td>0.000008</td>\n",
              "      <td>4.554667e-05</td>\n",
              "      <td>0.000254</td>\n",
              "      <td>1.041147e-02</td>\n",
              "      <td>5.308845e-04</td>\n",
              "      <td>0.000010</td>\n",
              "      <td>0.000238</td>\n",
              "      <td>0.001303</td>\n",
              "      <td>9.697176e-03</td>\n",
              "      <td>1.349183e-01</td>\n",
              "    </tr>\n",
              "    <tr>\n",
              "      <th>topic_4</th>\n",
              "      <td>0.000288</td>\n",
              "      <td>0.000110</td>\n",
              "      <td>2.313825e-03</td>\n",
              "      <td>2.431815e-02</td>\n",
              "      <td>1.271697e-06</td>\n",
              "      <td>9.715062e-11</td>\n",
              "      <td>0.011599</td>\n",
              "      <td>1.621077e-03</td>\n",
              "      <td>0.220583</td>\n",
              "      <td>4.011913e-02</td>\n",
              "      <td>0.081138</td>\n",
              "      <td>4.317663e-08</td>\n",
              "      <td>3.903774e-07</td>\n",
              "      <td>0.013008</td>\n",
              "      <td>0.000073</td>\n",
              "      <td>0.001454</td>\n",
              "      <td>0.003716</td>\n",
              "      <td>1.911144e-04</td>\n",
              "      <td>2.188408e-03</td>\n",
              "      <td>5.869238e-05</td>\n",
              "      <td>0.000329</td>\n",
              "      <td>1.905975e-08</td>\n",
              "      <td>0.018812</td>\n",
              "      <td>2.919559e-05</td>\n",
              "      <td>0.084926</td>\n",
              "      <td>0.000931</td>\n",
              "      <td>1.878321e-09</td>\n",
              "      <td>0.000027</td>\n",
              "      <td>4.056765e-04</td>\n",
              "      <td>5.682361e-05</td>\n",
              "      <td>0.012543</td>\n",
              "      <td>5.478015e-03</td>\n",
              "      <td>0.000011</td>\n",
              "      <td>0.442805</td>\n",
              "      <td>0.000006</td>\n",
              "      <td>2.256153e-05</td>\n",
              "      <td>3.167218e-09</td>\n",
              "      <td>0.000239</td>\n",
              "      <td>0.006385</td>\n",
              "      <td>5.921824e-03</td>\n",
              "      <td>...</td>\n",
              "      <td>0.000214</td>\n",
              "      <td>0.000276</td>\n",
              "      <td>0.001659</td>\n",
              "      <td>2.301454e-03</td>\n",
              "      <td>1.774566e-02</td>\n",
              "      <td>0.001487</td>\n",
              "      <td>3.116602e-01</td>\n",
              "      <td>0.001090</td>\n",
              "      <td>0.000100</td>\n",
              "      <td>0.000304</td>\n",
              "      <td>5.777407e-03</td>\n",
              "      <td>3.276392e-02</td>\n",
              "      <td>0.025970</td>\n",
              "      <td>3.191908e-03</td>\n",
              "      <td>0.000507</td>\n",
              "      <td>0.001738</td>\n",
              "      <td>0.000987</td>\n",
              "      <td>1.917442e-02</td>\n",
              "      <td>0.000757</td>\n",
              "      <td>0.000053</td>\n",
              "      <td>6.807019e-04</td>\n",
              "      <td>0.000014</td>\n",
              "      <td>5.713302e-04</td>\n",
              "      <td>0.004652</td>\n",
              "      <td>0.000415</td>\n",
              "      <td>6.403335e-03</td>\n",
              "      <td>5.609369e-02</td>\n",
              "      <td>0.005999</td>\n",
              "      <td>1.107166e-01</td>\n",
              "      <td>0.001703</td>\n",
              "      <td>0.000573</td>\n",
              "      <td>2.869576e-02</td>\n",
              "      <td>0.031510</td>\n",
              "      <td>1.465619e-02</td>\n",
              "      <td>2.417133e-04</td>\n",
              "      <td>0.000110</td>\n",
              "      <td>0.001778</td>\n",
              "      <td>0.023876</td>\n",
              "      <td>1.449491e-03</td>\n",
              "      <td>1.043500e-01</td>\n",
              "    </tr>\n",
              "  </tbody>\n",
              "</table>\n",
              "<p>5 rows × 3430 columns</p>\n",
              "</div>"
            ],
            "text/plain": [
              "             2001      2002          2003  ...      998           999           1000\n",
              "topic_0  0.002537  0.003916  1.034607e-07  ...  0.038716  2.644120e-02  2.226363e-03\n",
              "topic_1  0.000002  0.000027  1.142442e-06  ...  0.245937  3.268313e-03  2.429505e-01\n",
              "topic_2  0.008527  0.000006  2.138611e-04  ...  0.000003  5.476831e-08  7.744553e-07\n",
              "topic_3  0.000468  0.000009  2.216566e-05  ...  0.001303  9.697176e-03  1.349183e-01\n",
              "topic_4  0.000288  0.000110  2.313825e-03  ...  0.023876  1.449491e-03  1.043500e-01\n",
              "\n",
              "[5 rows x 3430 columns]"
            ]
          },
          "metadata": {
            "tags": []
          },
          "execution_count": 56
        }
      ]
    },
    {
      "cell_type": "markdown",
      "metadata": {
        "id": "YEobS0orkN2W",
        "colab_type": "text"
      },
      "source": [
        "Модель состоит из двух матриц - $\\Phi$ (она же $p_{wt}$) и $n_{wt}$. Для того, чтобы её можно было загрузить обратно и продолжить обучение с того же места, необходимо сохранять и загружать обе матрицы."
      ]
    },
    {
      "cell_type": "code",
      "metadata": {
        "id": "okF-7lX8kN2W",
        "colab_type": "code",
        "colab": {}
      },
      "source": [
        "# сохранение матриц модели\n",
        "model.save(filename='saved_p_wt', model_name='p_wt')\n",
        "model.save(filename='saved_n_wt', model_name='n_wt')"
      ],
      "execution_count": 0,
      "outputs": []
    },
    {
      "cell_type": "code",
      "metadata": {
        "id": "tm3UtFJbkN2Y",
        "colab_type": "code",
        "colab": {}
      },
      "source": [
        "# загрузка обратно\n",
        "model.load(filename='saved_p_wt', model_name='p_wt')\n",
        "model.load(filename='saved_n_wt', model_name='n_wt')"
      ],
      "execution_count": 0,
      "outputs": []
    },
    {
      "cell_type": "markdown",
      "metadata": {
        "id": "efespf4DkN2a",
        "colab_type": "text"
      },
      "source": [
        "Параметры фильтрации словаря: http://bigartm.readthedocs.org/en/master/api_references/python_interface/dictionary.html"
      ]
    },
    {
      "cell_type": "code",
      "metadata": {
        "id": "kBOevT6DkN2a",
        "colab_type": "code",
        "outputId": "390271db-67a2-4a83-a96e-4a44619b2d43",
        "colab": {
          "base_uri": "https://localhost:8080/",
          "height": 34
        }
      },
      "source": [
        "dictionary.filter(min_tf=10, max_tf=2000, min_df_rate=0.01)"
      ],
      "execution_count": 0,
      "outputs": [
        {
          "output_type": "execute_result",
          "data": {
            "text/plain": [
              "artm.Dictionary(name=1ec8d593-6f5f-448a-9377-b4a8ebbaf497, num_entries=2266)"
            ]
          },
          "metadata": {
            "tags": []
          },
          "execution_count": 46
        }
      ]
    },
    {
      "cell_type": "markdown",
      "metadata": {
        "id": "VtBcZyzCkN2c",
        "colab_type": "text"
      },
      "source": [
        "если суффикса \\_rate нет, то используется абсолютная величина, если есть - нормированная (т. е. от 0 до 1)"
      ]
    },
    {
      "cell_type": "markdown",
      "metadata": {
        "id": "O35apTKAmpP9",
        "colab_type": "text"
      },
      "source": [
        "### Факультативно: Модельный эксперимент с использованием BigARTM Python API."
      ]
    },
    {
      "cell_type": "markdown",
      "metadata": {
        "id": "bKE9mFzlmpP-",
        "colab_type": "text"
      },
      "source": [
        "Credits: **Мурат Апишев** (great-mel@yandex.ru)"
      ]
    },
    {
      "cell_type": "markdown",
      "metadata": {
        "id": "ugbWAOklmpP_",
        "colab_type": "text"
      },
      "source": [
        "#### Описание:\n",
        "Построим две тематические модели коллекции текстовых документов, ARTM и PLSA, сравним качество полученных моделей.\n",
        "\n",
        "#### Функционалы качества:\n",
        "Важным функционалом является перплексия коллекции. Тем не менее это далеко не единственная величина, характеризующая качество обучения. В BigARTM реализованы следующие функционалы:\n",
        "\n",
        "- разреженность матрицы $\\Phi$ (слова-темы);\n",
        "- разреженность матрицы $\\Theta$ (темы-документы);\n",
        "- характеристики ядер тем (чистота, контрастность, размер);\n",
        "- перплексия;\n",
        "- веса тем;\n",
        "- доля фоновых слов;\n",
        "- когерентность топ-слов и слов из ядер тем.\n",
        "\n",
        "Мы будем использовать первые четыре. Более сильные разреженности матриц и более высокие средние значения чистоты и контрастности способствуют большей интерпретируемости модели.\n",
        "\n",
        "#### Цель эксперимента:\n",
        "Попробуем обучить модель ARTM таким образом, чтобы, в сравнении с PLSA, улучшить значения разреженностей и ядровых характеристик и не сильно ухудшить перплексию.\n",
        "\n",
        "Основным инструментом для корректирования процесса обучения являются регуляризаторы. Список имеющихся в BigARTM регуляризаторов:\n",
        "\n",
        "- разреживание матрицы $\\Phi$ (+ частичное обучение);\n",
        "- разреживание матрицы $\\Theta$ (+ частичное обучение);\n",
        "- декоррелирование тем в матрице $\\Phi$;\n",
        "- принудительное разреживание $\\Phi$;\n",
        "- балансирование классов (Label Regularization);\n",
        "- повышение когерентности.\n",
        "\n",
        "В этом эксперименте для обучения ARTM воспользуемся первыми тремя регуляризаторами. ARTM без регуляризации соответствует PLSA.\n",
        "\n",
        "#### Коллекция:\n",
        "Воспользуемся небольшой коллекцией 'kos', доступной в репозитории UCI https://archive.ics.uci.edu/ml/machine-learning-databases/bag-of-words/. Параметры коллекции следующие:\n",
        "\n",
        "- 3430 документов;\n",
        "- 6906 слов в словаре;\n",
        "- 467714 ненулевых счётчиков в \"мешке слов\"."
      ]
    },
    {
      "cell_type": "code",
      "metadata": {
        "id": "oKtEK8uGmpQA",
        "colab_type": "code",
        "colab": {}
      },
      "source": [
        "# подключим все необходимые модули\n",
        "\n",
        "%matplotlib inline\n",
        "import glob\n",
        "import os\n",
        "import matplotlib.pyplot as plt\n",
        "\n",
        "# import artm"
      ],
      "execution_count": 0,
      "outputs": []
    },
    {
      "cell_type": "code",
      "metadata": {
        "id": "MaIAEEZ0mpQE",
        "colab_type": "code",
        "colab": {}
      },
      "source": [
        "# создадим объект BatchVectorizer:\n",
        "batch_vectorizer = None\n",
        "if len(glob.glob(os.path.join('kos', '*.batch'))) < 1:\n",
        "    batch_vectorizer = artm.BatchVectorizer(data_path='', data_format='bow_uci', collection_name='kos', target_folder='kos')\n",
        "else:\n",
        "    batch_vectorizer = artm.BatchVectorizer(data_path='kos', data_format='batches')"
      ],
      "execution_count": 0,
      "outputs": []
    },
    {
      "cell_type": "code",
      "metadata": {
        "id": "K_Zo5cPnmpQH",
        "colab_type": "code",
        "colab": {}
      },
      "source": [
        "dictionary = artm.Dictionary()\n",
        "\n",
        "model_plsa = artm.ARTM(topic_names=['topic_{}'.format(i) for i in range(15)],\n",
        "                       scores=[artm.PerplexityScore(name='PerplexityScore',\n",
        "                                                    # use_unigram_document_model=False,\n",
        "                                                    dictionary=dictionary)],\n",
        "                       cache_theta=True)\n",
        "\n",
        "model_artm = artm.ARTM(topic_names=['topic_{}'.format(i) for i in range(15)],\n",
        "                       scores=[artm.PerplexityScore(name='PerplexityScore',\n",
        "                                                    # use_unigram_document_model=False,\n",
        "                                                    dictionary=dictionary)],\n",
        "                       regularizers=[artm.SmoothSparseThetaRegularizer(name='SparseTheta', tau=-0.15)],\n",
        "                       cache_theta=True)"
      ],
      "execution_count": 0,
      "outputs": []
    },
    {
      "cell_type": "code",
      "metadata": {
        "id": "2oNQX0w9mpQJ",
        "colab_type": "code",
        "colab": {}
      },
      "source": [
        "# инициализация моделей по словарю.\n",
        "if not os.path.isfile('kos/dictionary.dict'):\n",
        "    dictionary.gather(data_path=batch_vectorizer.data_path)\n",
        "    dictionary.save(dictionary_path='kos/dictionary.dict')\n",
        "\n",
        "dictionary.load(dictionary_path='kos/dictionary.dict')\n",
        "dictionary.load(dictionary_path='kos/dictionary.dict')"
      ],
      "execution_count": 0,
      "outputs": []
    },
    {
      "cell_type": "code",
      "metadata": {
        "id": "QkURJUlZmpQM",
        "colab_type": "code",
        "colab": {}
      },
      "source": [
        "model_plsa.initialize(dictionary=dictionary)\n",
        "model_artm.initialize(dictionary=dictionary)"
      ],
      "execution_count": 0,
      "outputs": []
    },
    {
      "cell_type": "code",
      "metadata": {
        "id": "LMfnvax7mpQP",
        "colab_type": "code",
        "colab": {}
      },
      "source": [
        "# добавим функционалы качества, нужные для нашего эксперимента\n",
        "model_plsa.scores.add(artm.SparsityPhiScore(name='SparsityPhiScore'))\n",
        "model_plsa.scores.add(artm.SparsityThetaScore(name='SparsityThetaScore'))\n",
        "model_plsa.scores.add(artm.TopicKernelScore(name='TopicKernelScore', probability_mass_threshold=0.3))\n",
        "\n",
        "model_artm.scores.add(artm.SparsityPhiScore(name='SparsityPhiScore'))\n",
        "model_artm.scores.add(artm.SparsityThetaScore(name='SparsityThetaScore'))\n",
        "model_artm.scores.add(artm.TopicKernelScore(name='TopicKernelScore', probability_mass_threshold=0.3))"
      ],
      "execution_count": 0,
      "outputs": []
    },
    {
      "cell_type": "code",
      "metadata": {
        "id": "cgoxwRB4mpQS",
        "colab_type": "code",
        "colab": {}
      },
      "source": [
        "# аналогично поступим с регуляризаторами для model_artm\n",
        "model_artm.regularizers.add(artm.SmoothSparsePhiRegularizer(name='SparsePhi', tau=-0.1))\n",
        "model_artm.regularizers.add(artm.DecorrelatorPhiRegularizer(name='DecorrelatorPhi', tau=1.5e+5))"
      ],
      "execution_count": 0,
      "outputs": []
    },
    {
      "cell_type": "code",
      "metadata": {
        "id": "JKCfxJ1BmpQU",
        "colab_type": "code",
        "colab": {}
      },
      "source": [
        "# обучаем модели в оффлайн-режиме\n",
        "model_plsa.num_document_passes = 1\n",
        "model_artm.num_document_passes = 1\n",
        "\n",
        "model_plsa.fit_offline(batch_vectorizer=batch_vectorizer, num_collection_passes=15)\n",
        "model_artm.fit_offline(batch_vectorizer=batch_vectorizer, num_collection_passes=15)"
      ],
      "execution_count": 0,
      "outputs": []
    },
    {
      "cell_type": "code",
      "metadata": {
        "id": "o6CbuLTQmpQX",
        "colab_type": "code",
        "outputId": "c1d0c48f-fd04-4a16-c2d7-f56f3401397a",
        "colab": {
          "base_uri": "https://localhost:8080/",
          "height": 364
        }
      },
      "source": [
        "# опишем в виде функции сравнение финальных значений функционалов\n",
        "def print_measures(model_plsa, model_artm):\n",
        "    print('Sparsity Phi: {0:.3f} (PLSA) vs. {1:.3f} (ARTM)'.format(\n",
        "        model_plsa.score_tracker['SparsityPhiScore'].last_value,\n",
        "        model_artm.score_tracker['SparsityPhiScore'].last_value))\n",
        "\n",
        "    print('Sparsity Theta: {0:.3f} (PLSA) vs. {1:.3f} (ARTM)'.format(\n",
        "        model_plsa.score_tracker['SparsityThetaScore'].last_value,\n",
        "        model_artm.score_tracker['SparsityThetaScore'].last_value))\n",
        "\n",
        "    print('Kernel contrast: {0:.3f} (PLSA) vs. {1:.3f} (ARTM)'.format(\n",
        "        model_plsa.score_tracker['TopicKernelScore'].last_average_contrast,\n",
        "        model_artm.score_tracker['TopicKernelScore'].last_average_contrast))\n",
        "\n",
        "    print('Kernel purity: {0:.3f} (PLSA) vs. {1:.3f} (ARTM)'.format(\n",
        "        model_plsa.score_tracker['TopicKernelScore'].last_average_purity,\n",
        "        model_artm.score_tracker['TopicKernelScore'].last_average_purity))\n",
        "\n",
        "    print('Perplexity: {0:.3f} (PLSA) vs. {1:.3f} (ARTM)'.format(\n",
        "        model_plsa.score_tracker['PerplexityScore'].last_value,\n",
        "        model_artm.score_tracker['PerplexityScore'].last_value))\n",
        "\n",
        "    plt.plot(range(model_plsa.num_phi_updates), model_plsa.score_tracker['PerplexityScore'].value, 'b--',\n",
        "             range(model_artm.num_phi_updates), model_artm.score_tracker['PerplexityScore'].value, 'r--', linewidth=2)\n",
        "    plt.xlabel('Iterations count')\n",
        "    plt.ylabel('PLSA perp. (blue), ARTM perp. (red)')\n",
        "    plt.grid(True)\n",
        "    plt.show()\n",
        "    \n",
        "print_measures(model_plsa, model_artm)"
      ],
      "execution_count": 68,
      "outputs": [
        {
          "output_type": "stream",
          "text": [
            "Sparsity Phi: 0.000 (PLSA) vs. 0.469 (ARTM)\n",
            "Sparsity Theta: 0.000 (PLSA) vs. 0.001 (ARTM)\n",
            "Kernel contrast: 0.466 (PLSA) vs. 0.525 (ARTM)\n",
            "Kernel purity: 0.215 (PLSA) vs. 0.359 (ARTM)\n",
            "Perplexity: 2058.027 (PLSA) vs. 1950.716 (ARTM)\n"
          ],
          "name": "stdout"
        },
        {
          "output_type": "display_data",
          "data": {
            "image/png": "[encoded data removed]",
            "text/plain": [
              "<Figure size 432x288 with 1 Axes>"
            ]
          },
          "metadata": {
            "tags": [],
            "needs_background": "light"
          }
        }
      ]
    },
    {
      "cell_type": "code",
      "metadata": {
        "id": "p1u3vf49mpQa",
        "colab_type": "code",
        "colab": {}
      },
      "source": [
        "# попробуем увеличить по модулю значения коэффициентов регуляризации при регуляризаторах\n",
        "model_artm.regularizers['SparsePhi'].tau = -0.2\n",
        "model_artm.regularizers['SparseTheta'].tau = -0.2\n",
        "model_artm.regularizers['DecorrelatorPhi'].tau = 2.5e+5"
      ],
      "execution_count": 0,
      "outputs": []
    },
    {
      "cell_type": "code",
      "metadata": {
        "id": "obkhYWGbmpQc",
        "colab_type": "code",
        "colab": {}
      },
      "source": [
        "# подключим к каждой из моделей функционал TopTokensScore, который позволит взглянуть на самые вероятные слова в каждой теме\n",
        "model_plsa.scores.add(artm.TopTokensScore(name='TopTokensScore', num_tokens=6))\n",
        "model_artm.scores.add(artm.TopTokensScore(name='TopTokensScore', num_tokens=6))"
      ],
      "execution_count": 0,
      "outputs": []
    },
    {
      "cell_type": "code",
      "metadata": {
        "id": "tPrGXZF6mpQf",
        "colab_type": "code",
        "colab": {}
      },
      "source": [
        "# продолжим обучение моделей, инициировав 25 проходов по коллекции\n",
        "model_plsa.fit_offline(batch_vectorizer=batch_vectorizer, num_collection_passes=25)\n",
        "model_artm.fit_offline(batch_vectorizer=batch_vectorizer, num_collection_passes=25)"
      ],
      "execution_count": 0,
      "outputs": []
    },
    {
      "cell_type": "code",
      "metadata": {
        "id": "gJGLQV7MmpQh",
        "colab_type": "code",
        "outputId": "87c8a700-9b53-433d-cc4f-2cf5dd639311",
        "colab": {
          "base_uri": "https://localhost:8080/",
          "height": 364
        }
      },
      "source": [
        "print_measures(model_plsa, model_artm)"
      ],
      "execution_count": 0,
      "outputs": [
        {
          "output_type": "stream",
          "text": [
            "Sparsity Phi: 0.093 (PLSA) vs. 0.841 (ARTM)\n",
            "Sparsity Theta: 0.000 (PLSA) vs. 0.023 (ARTM)\n",
            "Kernel contrast: 0.640 (PLSA) vs. 0.740 (ARTM)\n",
            "Kernel purity: 0.674 (PLSA) vs. 0.822 (ARTM)\n",
            "Perplexity: 1619.034 (PLSA) vs. 1644.218 (ARTM)\n"
          ],
          "name": "stdout"
        },
        {
          "output_type": "display_data",
          "data": {
            "image/png": "[encoded data removed]",
            "text/plain": [
              "<Figure size 432x288 with 1 Axes>"
            ]
          },
          "metadata": {
            "tags": [],
            "needs_background": "light"
          }
        }
      ]
    },
    {
      "cell_type": "code",
      "metadata": {
        "id": "qBNXoNsumpQk",
        "colab_type": "code",
        "outputId": "f7f69d6a-063b-451a-d45c-00900948fa28",
        "colab": {
          "base_uri": "https://localhost:8080/",
          "height": 541
        }
      },
      "source": [
        "# построим графики изменения разреженностей матриц по итерациям:\n",
        "\n",
        "plt.plot(range(model_plsa.num_phi_updates), model_plsa.score_tracker['SparsityPhiScore'].value, 'b--',\n",
        "                 range(model_artm.num_phi_updates), model_artm.score_tracker['SparsityPhiScore'].value, 'r--', linewidth=2)\n",
        "plt.xlabel('Iterations count')\n",
        "plt.ylabel('PLSA Phi sp. (blue), ARTM Phi sp. (red)')\n",
        "plt.grid(True)\n",
        "plt.show()\n",
        "\n",
        "plt.plot(range(model_plsa.num_phi_updates), model_plsa.score_tracker['SparsityThetaScore'].value, 'b--',\n",
        "                 range(model_artm.num_phi_updates), model_artm.score_tracker['SparsityThetaScore'].value, 'r--', linewidth=2)\n",
        "plt.xlabel('Iterations count')\n",
        "plt.ylabel('PLSA Theta sp. (blue), ARTM Theta sp. (red)')\n",
        "plt.grid(True)\n",
        "plt.show()"
      ],
      "execution_count": 72,
      "outputs": [
        {
          "output_type": "display_data",
          "data": {
            "image/png": "[encoded data removed]",
            "text/plain": [
              "<Figure size 432x288 with 1 Axes>"
            ]
          },
          "metadata": {
            "tags": [],
            "needs_background": "light"
          }
        },
        {
          "output_type": "display_data",
          "data": {
            "image/png": "[encoded data removed]",
            "text/plain": [
              "<Figure size 432x288 with 1 Axes>"
            ]
          },
          "metadata": {
            "tags": [],
            "needs_background": "light"
          }
        }
      ]
    },
    {
      "cell_type": "code",
      "metadata": {
        "id": "Jb0Gx1DdmpQn",
        "colab_type": "code",
        "outputId": "4c4432ef-399c-4a3d-a22c-e16bb44a440a",
        "colab": {
          "base_uri": "https://localhost:8080/",
          "height": 527
        }
      },
      "source": [
        "# взглянем на топ-слова слова моделей:\n",
        "for topic_name in model_plsa.topic_names:\n",
        "    print(topic_name + ': ')\n",
        "    print(model_plsa.score_tracker['TopTokensScore'].last_tokens[topic_name])"
      ],
      "execution_count": 73,
      "outputs": [
        {
          "output_type": "stream",
          "text": [
            "topic_0: \n",
            "['year', 'tax', 'jobs', 'america', 'president', 'issues']\n",
            "topic_1: \n",
            "['people', 'war', 'service', 'military', 'rights', 'vietnam']\n",
            "topic_2: \n",
            "['november', 'electoral', 'account', 'polls', 'governor', 'contact']\n",
            "topic_3: \n",
            "['republican', 'gop', 'senate', 'senator', 'south', 'conservative']\n",
            "topic_4: \n",
            "['people', 'time', 'country', 'speech', 'talking', 'read']\n",
            "topic_5: \n",
            "['dean', 'democratic', 'edwards', 'primary', 'kerry', 'clark']\n",
            "topic_6: \n",
            "['state', 'party', 'race', 'candidates', 'candidate', 'elections']\n",
            "topic_7: \n",
            "['administration', 'president', 'years', 'bill', 'white', 'cheney']\n",
            "topic_8: \n",
            "['campaign', 'national', 'media', 'local', 'late', 'union']\n",
            "topic_9: \n",
            "['house', 'million', 'money', 'republican', 'committee', 'delay']\n",
            "topic_10: \n",
            "['republicans', 'vote', 'senate', 'election', 'democrats', 'house']\n",
            "topic_11: \n",
            "['iraq', 'war', 'american', 'iraqi', 'military', 'intelligence']\n",
            "topic_12: \n",
            "['kerry', 'poll', 'percent', 'voters', 'polls', 'numbers']\n",
            "topic_13: \n",
            "['news', 'time', 'asked', 'political', 'washington', 'long']\n",
            "topic_14: \n",
            "['bush', 'general', 'bushs', 'kerry', 'oct', 'states']\n"
          ],
          "name": "stdout"
        }
      ]
    },
    {
      "cell_type": "code",
      "metadata": {
        "id": "rVezGqbompQp",
        "colab_type": "code",
        "outputId": "0b903ec2-d9fd-4fbf-bc56-9b97e0d3347b",
        "colab": {
          "base_uri": "https://localhost:8080/",
          "height": 527
        }
      },
      "source": [
        "for topic_name in model_artm.topic_names:\n",
        "    print(topic_name + ': ')\n",
        "    print(model_artm.score_tracker['TopTokensScore'].last_tokens[topic_name])"
      ],
      "execution_count": 74,
      "outputs": [
        {
          "output_type": "stream",
          "text": [
            "topic_0: \n",
            "['party', 'political', 'issue', 'tax', 'america', 'issues']\n",
            "topic_1: \n",
            "['people', 'military', 'official', 'officials', 'service', 'public']\n",
            "topic_2: \n",
            "['electoral', 'governor', 'account', 'contact', 'ticket', 'experience']\n",
            "topic_3: \n",
            "['gop', 'convention', 'senator', 'debate', 'south', 'sen']\n",
            "topic_4: \n",
            "['country', 'speech', 'bad', 'read', 'end', 'talking']\n",
            "topic_5: \n",
            "['democratic', 'dean', 'john', 'edwards', 'primary', 'clark']\n",
            "topic_6: \n",
            "['percent', 'race', 'candidates', 'candidate', 'win', 'nader']\n",
            "topic_7: \n",
            "['administration', 'years', 'white', 'year', 'bill', 'jobs']\n",
            "topic_8: \n",
            "['campaign', 'national', 'media', 'press', 'local', 'ads']\n",
            "topic_9: \n",
            "['house', 'republican', 'million', 'money', 'elections', 'district']\n",
            "topic_10: \n",
            "['november', 'poll', 'senate', 'republicans', 'vote', 'election']\n",
            "topic_11: \n",
            "['iraq', 'war', 'american', 'iraqi', 'security', 'united']\n",
            "topic_12: \n",
            "['bush', 'kerry', 'general', 'president', 'voters', 'bushs']\n",
            "topic_13: \n",
            "['time', 'news', 'long', 'asked', 'washington', 'political']\n",
            "topic_14: \n",
            "['state', 'states', 'people', 'oct', 'fact', 'ohio']\n"
          ],
          "name": "stdout"
        }
      ]
    },
    {
      "cell_type": "markdown",
      "metadata": {
        "collapsed": false,
        "id": "JPyCLez8mpQr",
        "colab_type": "text"
      },
      "source": [
        "Видно, что темы примерно одинаково интерпретируемы, но в модели ARTM они существенно разнообразнее."
      ]
    },
    {
      "cell_type": "code",
      "metadata": {
        "id": "-aNuHl0mmpQs",
        "colab_type": "code",
        "outputId": "f3acdd97-fd69-413b-ea73-eefa6c2f5f08",
        "colab": {
          "base_uri": "https://localhost:8080/",
          "height": 255
        }
      },
      "source": [
        "# извлечём матрицу Φ в виде pandas.DataFrame и напечатаем её\n",
        "# (в случае необходимости, можно извлекать части матрицы с помощью метода ARTM.get_phi())\n",
        "print(model_artm.phi_)"
      ],
      "execution_count": 76,
      "outputs": [
        {
          "output_type": "stream",
          "text": [
            "             topic_0  topic_1   topic_2  ...  topic_12  topic_13  topic_14\n",
            "oceana      0.000000      0.0  0.000000  ...  0.000000       0.0       0.0\n",
            "russo       0.000000      0.0  0.000000  ...  0.000000       0.0       0.0\n",
            "bishops     0.000433      0.0  0.000000  ...  0.000000       0.0       0.0\n",
            "triple      0.000000      0.0  0.000000  ...  0.000144       0.0       0.0\n",
            "fahrenheit  0.000000      0.0  0.000000  ...  0.000000       0.0       0.0\n",
            "...              ...      ...       ...  ...       ...       ...       ...\n",
            "text        0.000000      0.0  0.000046  ...  0.000000       0.0       0.0\n",
            "landing     0.000000      0.0  0.000000  ...  0.000000       0.0       0.0\n",
            "oppose      0.000378      0.0  0.000000  ...  0.000000       0.0       0.0\n",
            "movie       0.000000      0.0  0.000000  ...  0.000000       0.0       0.0\n",
            "outright    0.000000      0.0  0.000056  ...  0.000000       0.0       0.0\n",
            "\n",
            "[6906 rows x 15 columns]\n"
          ],
          "name": "stdout"
        }
      ]
    },
    {
      "cell_type": "code",
      "metadata": {
        "scrolled": true,
        "id": "4trJNeaPmpQu",
        "colab_type": "code",
        "outputId": "10f20790-5a90-4431-a94b-c44734313755",
        "colab": {
          "base_uri": "https://localhost:8080/",
          "height": 323
        }
      },
      "source": [
        "# Дополнительно извлечём Θ в виде pandas.DataFrame и напечатаем её\n",
        "theta_matrix = model_artm.get_theta()\n",
        "print(theta_matrix)"
      ],
      "execution_count": 77,
      "outputs": [
        {
          "output_type": "stream",
          "text": [
            "              3001      3002      3003  ...      998       999       1000\n",
            "topic_0   0.076121  0.035934  0.069378  ...  0.077524  0.081823  0.066142\n",
            "topic_1   0.095388  0.029030  0.034951  ...  0.185705  0.103476  0.126819\n",
            "topic_2   0.004087  0.048284  0.012102  ...  0.008666  0.007206  0.016567\n",
            "topic_3   0.057739  0.029823  0.122427  ...  0.043518  0.090903  0.129180\n",
            "topic_4   0.122659  0.046273  0.084217  ...  0.077166  0.076402  0.115954\n",
            "topic_5   0.025646  0.010737  0.024132  ...  0.032495  0.027419  0.030624\n",
            "topic_6   0.044074  0.017331  0.072042  ...  0.019817  0.011535  0.043325\n",
            "topic_7   0.061900  0.059856  0.022353  ...  0.060655  0.054204  0.052605\n",
            "topic_8   0.049225  0.048494  0.043635  ...  0.059885  0.065537  0.083408\n",
            "topic_9   0.070107  0.492084  0.014166  ...  0.031605  0.023796  0.024791\n",
            "topic_10  0.056218  0.023523  0.158903  ...  0.011905  0.001742  0.000308\n",
            "topic_11  0.158816  0.031754  0.028020  ...  0.196676  0.146916  0.169096\n",
            "topic_12  0.054254  0.027387  0.191633  ...  0.011672  0.079588  0.036432\n",
            "topic_13  0.056038  0.056568  0.025291  ...  0.134102  0.135612  0.059862\n",
            "topic_14  0.067728  0.042923  0.096751  ...  0.048608  0.093843  0.044887\n",
            "\n",
            "[15 rows x 3430 columns]\n"
          ],
          "name": "stdout"
        }
      ]
    },
    {
      "cell_type": "code",
      "metadata": {
        "id": "MYKO2_mJHTAV",
        "colab_type": "code",
        "colab": {}
      },
      "source": [
        "!mkdir kos_test\n",
        "!cp ./kos/aaaaad.batch ./kos_test/test_docs.batch"
      ],
      "execution_count": 0,
      "outputs": []
    },
    {
      "cell_type": "code",
      "metadata": {
        "scrolled": true,
        "id": "YOAIZ2ytmpQw",
        "colab_type": "code",
        "outputId": "de76dc6d-6997-43d5-8784-f05a76fc0b12",
        "colab": {
          "base_uri": "https://localhost:8080/",
          "height": 323
        }
      },
      "source": [
        "# можно использовать модель для определения векторов  𝜃𝑑  для новых документов с помощью метода ARTM.transform():\n",
        "test_batch_vectorizer = artm.BatchVectorizer(data_format='batches', data_path='kos_test', batches=['test_docs.batch'])\n",
        "test_theta_matrix = model_artm.transform(batch_vectorizer=test_batch_vectorizer)\n",
        "print(test_theta_matrix)"
      ],
      "execution_count": 80,
      "outputs": [
        {
          "output_type": "stream",
          "text": [
            "              3001      3002      3003  ...      3428      3429      3430\n",
            "topic_0   0.075921  0.036025  0.070346  ...  0.230675  0.183250  0.061460\n",
            "topic_1   0.095511  0.029142  0.034926  ...  0.050961  0.016203  0.070528\n",
            "topic_2   0.004073  0.048534  0.012111  ...  0.018511  0.000000  0.000000\n",
            "topic_3   0.057418  0.029879  0.122530  ...  0.057928  0.193814  0.129679\n",
            "topic_4   0.123294  0.046357  0.084458  ...  0.113775  0.041241  0.075501\n",
            "topic_5   0.025446  0.010652  0.024189  ...  0.019121  0.045632  0.048145\n",
            "topic_6   0.044674  0.017212  0.072166  ...  0.009487  0.090483  0.071808\n",
            "topic_7   0.061818  0.060667  0.021505  ...  0.109989  0.061353  0.053021\n",
            "topic_8   0.049570  0.048646  0.043329  ...  0.060510  0.041052  0.099531\n",
            "topic_9   0.070232  0.491968  0.013986  ...  0.063917  0.036156  0.020280\n",
            "topic_10  0.056565  0.023245  0.158611  ...  0.024147  0.031914  0.018237\n",
            "topic_11  0.158806  0.031703  0.028202  ...  0.051375  0.052091  0.119735\n",
            "topic_12  0.054115  0.027403  0.192328  ...  0.078734  0.097284  0.111705\n",
            "topic_13  0.055277  0.055656  0.025469  ...  0.091755  0.069910  0.080937\n",
            "topic_14  0.067281  0.042911  0.095845  ...  0.019116  0.039618  0.039434\n",
            "\n",
            "[15 rows x 430 columns]\n"
          ],
          "name": "stdout"
        }
      ]
    },
    {
      "cell_type": "markdown",
      "metadata": {
        "id": "NbdX-J1lmpQy",
        "colab_type": "text"
      },
      "source": [
        "#### Выводы\n",
        "\n",
        "Задача построения тематической модели имеет бесконечно большое множество решений. Это даёт большую свободу действий, и регуляризаторы позволяют использовать её для получения результата, удовлетворяющего сразу нескольким требованиям (разреженность, интерпретируемость, удовлетворительное значение перплексии и т. п.).\n",
        "\n",
        "Приведённый выше пример является демонстрационным, можно пробовать более гибкие стратегии регуляризации для получения ещё более хорошего результата. По аналогичной схеме можно производить эксперименты с более крупными коллекциями."
      ]
    },
    {
      "cell_type": "markdown",
      "metadata": {
        "id": "K70tSf6UUbFD",
        "colab_type": "text"
      },
      "source": [
        "### **VisARTM** - visualizer for BigARTM\n",
        "\n",
        "https://github.com/bigartm/visartm"
      ]
    },
    {
      "cell_type": "markdown",
      "metadata": {
        "id": "swpycwnPUQH2",
        "colab_type": "text"
      },
      "source": [
        "![alt text](https://i.ibb.co/5W50kJt/Screenshot-2020-05-06-at-21-47-32.png)\n",
        "\n",
        "---\n",
        "http://www.machinelearning.ru/wiki/images/d/d8/Fedoriaka17bsc.pdf\n"
      ]
    },
    {
      "cell_type": "code",
      "metadata": {
        "id": "TnnPaXVw8CEH",
        "colab_type": "code",
        "colab": {}
      },
      "source": [
        "# clear work directory\n",
        "# !rm -rf /content/*"
      ],
      "execution_count": 0,
      "outputs": []
    },
    {
      "cell_type": "code",
      "metadata": {
        "id": "dDzLS2VlbP1b",
        "colab_type": "code",
        "colab": {}
      },
      "source": [
        ""
      ],
      "execution_count": 0,
      "outputs": []
    }
  ]
}