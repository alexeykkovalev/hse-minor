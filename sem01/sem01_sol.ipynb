{
 "cells": [
  {
   "cell_type": "markdown",
   "metadata": {},
   "source": [
    "# Майнор ВШЭ \n",
    "\n",
    "## Прикладные задачи анализа данных 2020\n",
    "\n",
    "## Семинар 1: Рекомендательные системы"
   ]
  },
  {
   "cell_type": "markdown",
   "metadata": {},
   "source": [
    "## План семинара\n",
    "- [Часть 0. Загрузка данных](#Часть-0.-Загрузка-данных)\n",
    "    - [Предобработка данных](#Предобработка-данных)\n",
    "- [Часть 1: Baseline (модель по популярности)](#Часть-1:-Baseline-(модель-по-популярности))\n",
    "- [Часть 2. Коллаборативная фильтрация](#Часть-2.-Коллаборативная-фильтрация)\n",
    "    - [Memory-based](#Memory-based)\n",
    "    - [Модель со скрытыми переменными](#Модель-со-скрытыми-переменными)\n",
    "- [Часть 3. Контентные модели](#Часть-3.-Контентные-модели)\n",
    "- [Часть 4. Факторизационная машина](#Часть-4.-Факторизационная-машина)"
   ]
  },
  {
   "cell_type": "markdown",
   "metadata": {},
   "source": [
    "На этом семинаре мы рассмотрим основные подходы к задаче рекомендации и увидим, как это выглядит на практике на небольшом датасете.\n",
    "\n",
    "Воспользуемся датасетом: [Articles Sharing and Reading from CI&T Deskdrop](https://www.kaggle.com/gspmoreira/articles-sharing-reading-from-cit-deskdrop)."
   ]
  },
  {
   "cell_type": "code",
   "execution_count": 1,
   "metadata": {
    "_cell_guid": "719f3966-e6fd-49c8-9f60-7bd741542450",
    "_uuid": "b61cd3125a7f8f991fc1bda85ae3cd26f74090ae"
   },
   "outputs": [
    {
     "name": "stdout",
     "output_type": "stream",
     "text": [
      "Populating the interactive namespace from numpy and matplotlib\n"
     ]
    }
   ],
   "source": [
    "%pylab inline\n",
    "\n",
    "import pandas as pd\n",
    "\n",
    "from tqdm import tqdm_notebook"
   ]
  },
  {
   "cell_type": "markdown",
   "metadata": {
    "_cell_guid": "5f5c826d-f3d5-42d3-a7e6-0343a44cdc9f",
    "_uuid": "26f1f70fd978957b26f8884fc5f82bfe9475c666"
   },
   "source": [
    "## Часть 0. Загрузка данных"
   ]
  },
  {
   "cell_type": "markdown",
   "metadata": {
    "_cell_guid": "3c48b62c-ad3b-4218-8fb2-2f0e86a16edc",
    "_uuid": "650c279eddc846a48274346e045cfb6e1f8895d5"
   },
   "source": [
    "Загрузим [Deskdrop dataset](https://www.dropbox.com/s/p69j0d978tetktj/articles-sharing-reading-from-cit-deskdrop.zip), включающийся в себе логи за 1 год платформы, где пользователи читают статьи.\n",
    "\n",
    "Данные включают в себя 2 файла:  \n",
    "- **shared_articles.csv**\n",
    "- **users_interactions.csv**\n",
    "\n",
    "Как можно догадаться, в одном описания самих статей (нам понадобятся в контентных моделях), а в другом логи пользователей."
   ]
  },
  {
   "cell_type": "code",
   "execution_count": null,
   "metadata": {},
   "outputs": [],
   "source": [
    "# загружаем и разархивируем данные, для вашего удобства данные можно найти по ссылке: \n",
    "# https://www.dropbox.com/s/p69j0d978tetktj/articles-sharing-reading-from-cit-deskdrop.zip \n",
    "# в Colab и linux вам могут пригодиться утилиты wget и unzip\n",
    "# также, если вы работаете в Google Colab, устанавливаем библиотеки, которые потребуеются дальше: pyfm, catboost\n",
    "####### Здесь ваш код ##########\n",
    "!pip3 -q install cython\n",
    "!pip3 -q install git+https://github.com/coreylynch/pyFM\n",
    "!pip3 -q install catboost\n",
    "!wget -q -N https://www.dropbox.com/s/p69j0d978tetktj/articles-sharing-reading-from-cit-deskdrop.zip \n",
    "!unzip -o -q articles-sharing-reading-from-cit-deskdrop.zip\n",
    "!ls *.csv\n",
    "################################"
   ]
  },
  {
   "cell_type": "markdown",
   "metadata": {
    "_cell_guid": "c9ee29ff-1fee-4dc9-a3cb-e5301c17fded",
    "_uuid": "1e66e976d34d4e28f5a92241b0ea82a2a66363ea"
   },
   "source": [
    "#### shared_articles.csv"
   ]
  },
  {
   "cell_type": "code",
   "execution_count": 2,
   "metadata": {},
   "outputs": [
    {
     "data": {
      "text/html": [
       "<div>\n",
       "<style scoped>\n",
       "    .dataframe tbody tr th:only-of-type {\n",
       "        vertical-align: middle;\n",
       "    }\n",
       "\n",
       "    .dataframe tbody tr th {\n",
       "        vertical-align: top;\n",
       "    }\n",
       "\n",
       "    .dataframe thead th {\n",
       "        text-align: right;\n",
       "    }\n",
       "</style>\n",
       "<table border=\"1\" class=\"dataframe\">\n",
       "  <thead>\n",
       "    <tr style=\"text-align: right;\">\n",
       "      <th></th>\n",
       "      <th>timestamp</th>\n",
       "      <th>eventType</th>\n",
       "      <th>contentId</th>\n",
       "      <th>authorPersonId</th>\n",
       "      <th>authorSessionId</th>\n",
       "      <th>authorUserAgent</th>\n",
       "      <th>authorRegion</th>\n",
       "      <th>authorCountry</th>\n",
       "      <th>contentType</th>\n",
       "      <th>url</th>\n",
       "      <th>title</th>\n",
       "      <th>text</th>\n",
       "      <th>lang</th>\n",
       "    </tr>\n",
       "  </thead>\n",
       "  <tbody>\n",
       "    <tr>\n",
       "      <td>0</td>\n",
       "      <td>1459192779</td>\n",
       "      <td>CONTENT REMOVED</td>\n",
       "      <td>-6451309518266745024</td>\n",
       "      <td>4340306774493623681</td>\n",
       "      <td>8940341205206233829</td>\n",
       "      <td>NaN</td>\n",
       "      <td>NaN</td>\n",
       "      <td>NaN</td>\n",
       "      <td>HTML</td>\n",
       "      <td>http://www.nytimes.com/2016/03/28/business/dea...</td>\n",
       "      <td>Ethereum, a Virtual Currency, Enables Transact...</td>\n",
       "      <td>All of this work is still very early. The firs...</td>\n",
       "      <td>en</td>\n",
       "    </tr>\n",
       "    <tr>\n",
       "      <td>1</td>\n",
       "      <td>1459193988</td>\n",
       "      <td>CONTENT SHARED</td>\n",
       "      <td>-4110354420726924665</td>\n",
       "      <td>4340306774493623681</td>\n",
       "      <td>8940341205206233829</td>\n",
       "      <td>NaN</td>\n",
       "      <td>NaN</td>\n",
       "      <td>NaN</td>\n",
       "      <td>HTML</td>\n",
       "      <td>http://www.nytimes.com/2016/03/28/business/dea...</td>\n",
       "      <td>Ethereum, a Virtual Currency, Enables Transact...</td>\n",
       "      <td>All of this work is still very early. The firs...</td>\n",
       "      <td>en</td>\n",
       "    </tr>\n",
       "  </tbody>\n",
       "</table>\n",
       "</div>"
      ],
      "text/plain": [
       "    timestamp        eventType            contentId       authorPersonId  \\\n",
       "0  1459192779  CONTENT REMOVED -6451309518266745024  4340306774493623681   \n",
       "1  1459193988   CONTENT SHARED -4110354420726924665  4340306774493623681   \n",
       "\n",
       "       authorSessionId authorUserAgent authorRegion authorCountry contentType  \\\n",
       "0  8940341205206233829             NaN          NaN           NaN        HTML   \n",
       "1  8940341205206233829             NaN          NaN           NaN        HTML   \n",
       "\n",
       "                                                 url  \\\n",
       "0  http://www.nytimes.com/2016/03/28/business/dea...   \n",
       "1  http://www.nytimes.com/2016/03/28/business/dea...   \n",
       "\n",
       "                                               title  \\\n",
       "0  Ethereum, a Virtual Currency, Enables Transact...   \n",
       "1  Ethereum, a Virtual Currency, Enables Transact...   \n",
       "\n",
       "                                                text lang  \n",
       "0  All of this work is still very early. The firs...   en  \n",
       "1  All of this work is still very early. The firs...   en  "
      ]
     },
     "execution_count": 2,
     "metadata": {},
     "output_type": "execute_result"
    }
   ],
   "source": [
    "articles_df = pd.read_csv('shared_articles.csv')\n",
    "articles_df.head(2)"
   ]
  },
  {
   "cell_type": "markdown",
   "metadata": {
    "_cell_guid": "f09d2247-a40c-4aaf-90ce-15a8721a3036",
    "_uuid": "e64f4fa8a4751274bd2d37a0f45d2d3d664d6c3e"
   },
   "source": [
    "Так как в файле перечислены даже удалённые статьи, то мы их сразу удалим (на самом деле они могли бы быть нам полезны для подсчёта различных величин, хоть мы и не можем их рекомендовать)."
   ]
  },
  {
   "cell_type": "code",
   "execution_count": 3,
   "metadata": {
    "_cell_guid": "e601f966-d03f-4edc-886f-ca3d511a8045",
    "_uuid": "569c301bd128f66f29b4d97c34171e4d1712015a"
   },
   "outputs": [
    {
     "data": {
      "text/html": [
       "<div>\n",
       "<style scoped>\n",
       "    .dataframe tbody tr th:only-of-type {\n",
       "        vertical-align: middle;\n",
       "    }\n",
       "\n",
       "    .dataframe tbody tr th {\n",
       "        vertical-align: top;\n",
       "    }\n",
       "\n",
       "    .dataframe thead th {\n",
       "        text-align: right;\n",
       "    }\n",
       "</style>\n",
       "<table border=\"1\" class=\"dataframe\">\n",
       "  <thead>\n",
       "    <tr style=\"text-align: right;\">\n",
       "      <th></th>\n",
       "      <th>timestamp</th>\n",
       "      <th>eventType</th>\n",
       "      <th>contentId</th>\n",
       "      <th>authorPersonId</th>\n",
       "      <th>authorSessionId</th>\n",
       "      <th>authorUserAgent</th>\n",
       "      <th>authorRegion</th>\n",
       "      <th>authorCountry</th>\n",
       "      <th>contentType</th>\n",
       "      <th>url</th>\n",
       "      <th>title</th>\n",
       "      <th>text</th>\n",
       "      <th>lang</th>\n",
       "    </tr>\n",
       "  </thead>\n",
       "  <tbody>\n",
       "    <tr>\n",
       "      <td>1</td>\n",
       "      <td>1459193988</td>\n",
       "      <td>CONTENT SHARED</td>\n",
       "      <td>-4110354420726924665</td>\n",
       "      <td>4340306774493623681</td>\n",
       "      <td>8940341205206233829</td>\n",
       "      <td>NaN</td>\n",
       "      <td>NaN</td>\n",
       "      <td>NaN</td>\n",
       "      <td>HTML</td>\n",
       "      <td>http://www.nytimes.com/2016/03/28/business/dea...</td>\n",
       "      <td>Ethereum, a Virtual Currency, Enables Transact...</td>\n",
       "      <td>All of this work is still very early. The firs...</td>\n",
       "      <td>en</td>\n",
       "    </tr>\n",
       "    <tr>\n",
       "      <td>2</td>\n",
       "      <td>1459194146</td>\n",
       "      <td>CONTENT SHARED</td>\n",
       "      <td>-7292285110016212249</td>\n",
       "      <td>4340306774493623681</td>\n",
       "      <td>8940341205206233829</td>\n",
       "      <td>NaN</td>\n",
       "      <td>NaN</td>\n",
       "      <td>NaN</td>\n",
       "      <td>HTML</td>\n",
       "      <td>http://cointelegraph.com/news/bitcoin-future-w...</td>\n",
       "      <td>Bitcoin Future: When GBPcoin of Branson Wins O...</td>\n",
       "      <td>The alarm clock wakes me at 8:00 with stream o...</td>\n",
       "      <td>en</td>\n",
       "    </tr>\n",
       "  </tbody>\n",
       "</table>\n",
       "</div>"
      ],
      "text/plain": [
       "    timestamp       eventType            contentId       authorPersonId  \\\n",
       "1  1459193988  CONTENT SHARED -4110354420726924665  4340306774493623681   \n",
       "2  1459194146  CONTENT SHARED -7292285110016212249  4340306774493623681   \n",
       "\n",
       "       authorSessionId authorUserAgent authorRegion authorCountry contentType  \\\n",
       "1  8940341205206233829             NaN          NaN           NaN        HTML   \n",
       "2  8940341205206233829             NaN          NaN           NaN        HTML   \n",
       "\n",
       "                                                 url  \\\n",
       "1  http://www.nytimes.com/2016/03/28/business/dea...   \n",
       "2  http://cointelegraph.com/news/bitcoin-future-w...   \n",
       "\n",
       "                                               title  \\\n",
       "1  Ethereum, a Virtual Currency, Enables Transact...   \n",
       "2  Bitcoin Future: When GBPcoin of Branson Wins O...   \n",
       "\n",
       "                                                text lang  \n",
       "1  All of this work is still very early. The firs...   en  \n",
       "2  The alarm clock wakes me at 8:00 with stream o...   en  "
      ]
     },
     "execution_count": 3,
     "metadata": {},
     "output_type": "execute_result"
    }
   ],
   "source": [
    "articles_df = articles_df[articles_df['eventType'] == 'CONTENT SHARED']\n",
    "articles_df.head(2)"
   ]
  },
  {
   "cell_type": "markdown",
   "metadata": {
    "_cell_guid": "487936d5-d7b3-487d-9ef1-e3ba1e4bc421",
    "_uuid": "3f96f2d88fa86814e2fa1273d80f26d2559823fd"
   },
   "source": [
    "#### users_interactions.csv"
   ]
  },
  {
   "cell_type": "code",
   "execution_count": 4,
   "metadata": {},
   "outputs": [
    {
     "data": {
      "text/html": [
       "<div>\n",
       "<style scoped>\n",
       "    .dataframe tbody tr th:only-of-type {\n",
       "        vertical-align: middle;\n",
       "    }\n",
       "\n",
       "    .dataframe tbody tr th {\n",
       "        vertical-align: top;\n",
       "    }\n",
       "\n",
       "    .dataframe thead th {\n",
       "        text-align: right;\n",
       "    }\n",
       "</style>\n",
       "<table border=\"1\" class=\"dataframe\">\n",
       "  <thead>\n",
       "    <tr style=\"text-align: right;\">\n",
       "      <th></th>\n",
       "      <th>timestamp</th>\n",
       "      <th>eventType</th>\n",
       "      <th>contentId</th>\n",
       "      <th>personId</th>\n",
       "      <th>sessionId</th>\n",
       "      <th>userAgent</th>\n",
       "      <th>userRegion</th>\n",
       "      <th>userCountry</th>\n",
       "    </tr>\n",
       "  </thead>\n",
       "  <tbody>\n",
       "    <tr>\n",
       "      <td>0</td>\n",
       "      <td>1465413032</td>\n",
       "      <td>VIEW</td>\n",
       "      <td>-3499919498720038879</td>\n",
       "      <td>-8845298781299428018</td>\n",
       "      <td>1264196770339959068</td>\n",
       "      <td>NaN</td>\n",
       "      <td>NaN</td>\n",
       "      <td>NaN</td>\n",
       "    </tr>\n",
       "    <tr>\n",
       "      <td>1</td>\n",
       "      <td>1465412560</td>\n",
       "      <td>VIEW</td>\n",
       "      <td>8890720798209849691</td>\n",
       "      <td>-1032019229384696495</td>\n",
       "      <td>3621737643587579081</td>\n",
       "      <td>Mozilla/5.0 (Macintosh; Intel Mac OS X 10_11_2...</td>\n",
       "      <td>NY</td>\n",
       "      <td>US</td>\n",
       "    </tr>\n",
       "    <tr>\n",
       "      <td>2</td>\n",
       "      <td>1465416190</td>\n",
       "      <td>VIEW</td>\n",
       "      <td>310515487419366995</td>\n",
       "      <td>-1130272294246983140</td>\n",
       "      <td>2631864456530402479</td>\n",
       "      <td>NaN</td>\n",
       "      <td>NaN</td>\n",
       "      <td>NaN</td>\n",
       "    </tr>\n",
       "    <tr>\n",
       "      <td>3</td>\n",
       "      <td>1465413895</td>\n",
       "      <td>FOLLOW</td>\n",
       "      <td>310515487419366995</td>\n",
       "      <td>344280948527967603</td>\n",
       "      <td>-3167637573980064150</td>\n",
       "      <td>NaN</td>\n",
       "      <td>NaN</td>\n",
       "      <td>NaN</td>\n",
       "    </tr>\n",
       "    <tr>\n",
       "      <td>4</td>\n",
       "      <td>1465412290</td>\n",
       "      <td>VIEW</td>\n",
       "      <td>-7820640624231356730</td>\n",
       "      <td>-445337111692715325</td>\n",
       "      <td>5611481178424124714</td>\n",
       "      <td>NaN</td>\n",
       "      <td>NaN</td>\n",
       "      <td>NaN</td>\n",
       "    </tr>\n",
       "  </tbody>\n",
       "</table>\n",
       "</div>"
      ],
      "text/plain": [
       "    timestamp eventType            contentId             personId  \\\n",
       "0  1465413032      VIEW -3499919498720038879 -8845298781299428018   \n",
       "1  1465412560      VIEW  8890720798209849691 -1032019229384696495   \n",
       "2  1465416190      VIEW   310515487419366995 -1130272294246983140   \n",
       "3  1465413895    FOLLOW   310515487419366995   344280948527967603   \n",
       "4  1465412290      VIEW -7820640624231356730  -445337111692715325   \n",
       "\n",
       "             sessionId                                          userAgent  \\\n",
       "0  1264196770339959068                                                NaN   \n",
       "1  3621737643587579081  Mozilla/5.0 (Macintosh; Intel Mac OS X 10_11_2...   \n",
       "2  2631864456530402479                                                NaN   \n",
       "3 -3167637573980064150                                                NaN   \n",
       "4  5611481178424124714                                                NaN   \n",
       "\n",
       "  userRegion userCountry  \n",
       "0        NaN         NaN  \n",
       "1         NY          US  \n",
       "2        NaN         NaN  \n",
       "3        NaN         NaN  \n",
       "4        NaN         NaN  "
      ]
     },
     "execution_count": 4,
     "metadata": {},
     "output_type": "execute_result"
    }
   ],
   "source": [
    "interactions_df = pd.read_csv('users_interactions.csv')\n",
    "interactions_df.head()"
   ]
  },
  {
   "cell_type": "code",
   "execution_count": 5,
   "metadata": {},
   "outputs": [
    {
     "data": {
      "text/plain": [
       "array(['VIEW', 'FOLLOW', 'BOOKMARK', 'LIKE', 'COMMENT CREATED'],\n",
       "      dtype=object)"
      ]
     },
     "execution_count": 5,
     "metadata": {},
     "output_type": "execute_result"
    }
   ],
   "source": [
    "interactions_df['eventType'].unique()"
   ]
  },
  {
   "cell_type": "markdown",
   "metadata": {
    "_cell_guid": "325b8db8-ef44-4b59-8138-2a59bd02d66e",
    "_uuid": "86694f1b80b04b8f9b961148fb265f355f202b26"
   },
   "source": [
    "В колонке `eventType` описаны действия, которые могли совершать пользователи над статьёй:  \n",
    "- VIEW\n",
    "- LIKE\n",
    "- COMMENT CREATED\n",
    "- FOLLOW\n",
    "- BOOKMARK"
   ]
  },
  {
   "cell_type": "markdown",
   "metadata": {},
   "source": [
    "Посмотрим информацию о `interactions_df`"
   ]
  },
  {
   "cell_type": "code",
   "execution_count": 6,
   "metadata": {},
   "outputs": [
    {
     "name": "stdout",
     "output_type": "stream",
     "text": [
      "<class 'pandas.core.frame.DataFrame'>\n",
      "RangeIndex: 72312 entries, 0 to 72311\n",
      "Data columns (total 8 columns):\n",
      "timestamp      72312 non-null int64\n",
      "eventType      72312 non-null object\n",
      "contentId      72312 non-null int64\n",
      "personId       72312 non-null int64\n",
      "sessionId      72312 non-null int64\n",
      "userAgent      56918 non-null object\n",
      "userRegion     56907 non-null object\n",
      "userCountry    56918 non-null object\n",
      "dtypes: int64(4), object(4)\n",
      "memory usage: 4.4+ MB\n"
     ]
    }
   ],
   "source": [
    "interactions_df.info()"
   ]
  },
  {
   "cell_type": "markdown",
   "metadata": {},
   "source": [
    "Признаки `personId`, `contentId` представлены в `int64`. Преобразуем в `str`."
   ]
  },
  {
   "cell_type": "code",
   "execution_count": 7,
   "metadata": {},
   "outputs": [
    {
     "name": "stdout",
     "output_type": "stream",
     "text": [
      "<class 'pandas.core.frame.DataFrame'>\n",
      "RangeIndex: 72312 entries, 0 to 72311\n",
      "Data columns (total 8 columns):\n",
      "timestamp      72312 non-null int64\n",
      "eventType      72312 non-null object\n",
      "contentId      72312 non-null object\n",
      "personId       72312 non-null object\n",
      "sessionId      72312 non-null int64\n",
      "userAgent      56918 non-null object\n",
      "userRegion     56907 non-null object\n",
      "userCountry    56918 non-null object\n",
      "dtypes: int64(2), object(6)\n",
      "memory usage: 4.4+ MB\n"
     ]
    }
   ],
   "source": [
    "interactions_df.personId = interactions_df.personId.astype(str)\n",
    "interactions_df.contentId = interactions_df.contentId.astype(str)\n",
    "\n",
    "interactions_df.info()"
   ]
  },
  {
   "cell_type": "markdown",
   "metadata": {},
   "source": [
    "Проделаем то же самое с `articles_df`."
   ]
  },
  {
   "cell_type": "code",
   "execution_count": 8,
   "metadata": {},
   "outputs": [
    {
     "name": "stdout",
     "output_type": "stream",
     "text": [
      "<class 'pandas.core.frame.DataFrame'>\n",
      "Int64Index: 3047 entries, 1 to 3121\n",
      "Data columns (total 13 columns):\n",
      "timestamp          3047 non-null int64\n",
      "eventType          3047 non-null object\n",
      "contentId          3047 non-null int64\n",
      "authorPersonId     3047 non-null int64\n",
      "authorSessionId    3047 non-null int64\n",
      "authorUserAgent    669 non-null object\n",
      "authorRegion       669 non-null object\n",
      "authorCountry      669 non-null object\n",
      "contentType        3047 non-null object\n",
      "url                3047 non-null object\n",
      "title              3047 non-null object\n",
      "text               3047 non-null object\n",
      "lang               3047 non-null object\n",
      "dtypes: int64(4), object(9)\n",
      "memory usage: 333.3+ KB\n"
     ]
    }
   ],
   "source": [
    "articles_df.info()"
   ]
  },
  {
   "cell_type": "code",
   "execution_count": 9,
   "metadata": {},
   "outputs": [
    {
     "name": "stdout",
     "output_type": "stream",
     "text": [
      "<class 'pandas.core.frame.DataFrame'>\n",
      "Int64Index: 3047 entries, 1 to 3121\n",
      "Data columns (total 13 columns):\n",
      "timestamp          3047 non-null int64\n",
      "eventType          3047 non-null object\n",
      "contentId          3047 non-null object\n",
      "authorPersonId     3047 non-null int64\n",
      "authorSessionId    3047 non-null int64\n",
      "authorUserAgent    669 non-null object\n",
      "authorRegion       669 non-null object\n",
      "authorCountry      669 non-null object\n",
      "contentType        3047 non-null object\n",
      "url                3047 non-null object\n",
      "title              3047 non-null object\n",
      "text               3047 non-null object\n",
      "lang               3047 non-null object\n",
      "dtypes: int64(3), object(10)\n",
      "memory usage: 333.3+ KB\n"
     ]
    }
   ],
   "source": [
    "articles_df.contentId = articles_df.contentId.astype(str)\n",
    "\n",
    "articles_df.info()"
   ]
  },
  {
   "cell_type": "markdown",
   "metadata": {
    "_cell_guid": "585f81a5-c6ff-4399-bbec-901c41fc7285",
    "_uuid": "6abb0af8474eabb50be7a9e6496bfa75ec1b2bd9"
   },
   "source": [
    "### Предобработка данных"
   ]
  },
  {
   "cell_type": "markdown",
   "metadata": {
    "_cell_guid": "bad1a6c9-0258-4b89-85f9-bec89a523662",
    "_uuid": "84c2e91561d5de6afa7c45c173022193664c770e"
   },
   "source": [
    "В логах встречаются различные действия пользователей. Однако мы хотим работать лишь с одной величиной, характеризующей всё взаимодействие пользователя со статьёй. Предлагается задать действиям следующие веса:"
   ]
  },
  {
   "cell_type": "code",
   "execution_count": 10,
   "metadata": {
    "_cell_guid": "3239c376-05b8-4a58-9afc-f6f57f67405f",
    "_uuid": "b06f8c0b082f0ad07bf773a5ad2fae33c1f7acc2"
   },
   "outputs": [],
   "source": [
    "event_type_strength = {\n",
    "   'VIEW': 1.0,\n",
    "   'LIKE': 2.0, \n",
    "   'BOOKMARK': 2.5, \n",
    "   'FOLLOW': 3.0,\n",
    "   'COMMENT CREATED': 4.0,  \n",
    "}"
   ]
  },
  {
   "cell_type": "markdown",
   "metadata": {},
   "source": [
    "Посчитаем числовую величину \"оценки\" пользователем статьи с указанными выше весами."
   ]
  },
  {
   "cell_type": "code",
   "execution_count": 11,
   "metadata": {},
   "outputs": [
    {
     "data": {
      "text/plain": [
       "0        1.0\n",
       "1        1.0\n",
       "2        1.0\n",
       "3        3.0\n",
       "4        1.0\n",
       "        ... \n",
       "72307    2.0\n",
       "72308    1.0\n",
       "72309    1.0\n",
       "72310    1.0\n",
       "72311    1.0\n",
       "Name: eventStrength, Length: 72312, dtype: float64"
      ]
     },
     "execution_count": 11,
     "metadata": {},
     "output_type": "execute_result"
    }
   ],
   "source": [
    "# interactions_df['eventStrength'] =\n",
    "####### Здесь ваш код ##########\n",
    "interactions_df['eventStrength'] = interactions_df['eventType'].map(event_type_strength)\n",
    "################################\n",
    "\n",
    "interactions_df['eventStrength']"
   ]
  },
  {
   "cell_type": "code",
   "execution_count": 12,
   "metadata": {},
   "outputs": [
    {
     "data": {
      "text/html": [
       "<div>\n",
       "<style scoped>\n",
       "    .dataframe tbody tr th:only-of-type {\n",
       "        vertical-align: middle;\n",
       "    }\n",
       "\n",
       "    .dataframe tbody tr th {\n",
       "        vertical-align: top;\n",
       "    }\n",
       "\n",
       "    .dataframe thead th {\n",
       "        text-align: right;\n",
       "    }\n",
       "</style>\n",
       "<table border=\"1\" class=\"dataframe\">\n",
       "  <thead>\n",
       "    <tr style=\"text-align: right;\">\n",
       "      <th></th>\n",
       "      <th>timestamp</th>\n",
       "      <th>eventType</th>\n",
       "      <th>contentId</th>\n",
       "      <th>personId</th>\n",
       "      <th>sessionId</th>\n",
       "      <th>userAgent</th>\n",
       "      <th>userRegion</th>\n",
       "      <th>userCountry</th>\n",
       "      <th>eventStrength</th>\n",
       "    </tr>\n",
       "  </thead>\n",
       "  <tbody>\n",
       "    <tr>\n",
       "      <td>0</td>\n",
       "      <td>1465413032</td>\n",
       "      <td>VIEW</td>\n",
       "      <td>-3499919498720038879</td>\n",
       "      <td>-8845298781299428018</td>\n",
       "      <td>1264196770339959068</td>\n",
       "      <td>NaN</td>\n",
       "      <td>NaN</td>\n",
       "      <td>NaN</td>\n",
       "      <td>1.0</td>\n",
       "    </tr>\n",
       "    <tr>\n",
       "      <td>1</td>\n",
       "      <td>1465412560</td>\n",
       "      <td>VIEW</td>\n",
       "      <td>8890720798209849691</td>\n",
       "      <td>-1032019229384696495</td>\n",
       "      <td>3621737643587579081</td>\n",
       "      <td>Mozilla/5.0 (Macintosh; Intel Mac OS X 10_11_2...</td>\n",
       "      <td>NY</td>\n",
       "      <td>US</td>\n",
       "      <td>1.0</td>\n",
       "    </tr>\n",
       "    <tr>\n",
       "      <td>2</td>\n",
       "      <td>1465416190</td>\n",
       "      <td>VIEW</td>\n",
       "      <td>310515487419366995</td>\n",
       "      <td>-1130272294246983140</td>\n",
       "      <td>2631864456530402479</td>\n",
       "      <td>NaN</td>\n",
       "      <td>NaN</td>\n",
       "      <td>NaN</td>\n",
       "      <td>1.0</td>\n",
       "    </tr>\n",
       "    <tr>\n",
       "      <td>3</td>\n",
       "      <td>1465413895</td>\n",
       "      <td>FOLLOW</td>\n",
       "      <td>310515487419366995</td>\n",
       "      <td>344280948527967603</td>\n",
       "      <td>-3167637573980064150</td>\n",
       "      <td>NaN</td>\n",
       "      <td>NaN</td>\n",
       "      <td>NaN</td>\n",
       "      <td>3.0</td>\n",
       "    </tr>\n",
       "    <tr>\n",
       "      <td>4</td>\n",
       "      <td>1465412290</td>\n",
       "      <td>VIEW</td>\n",
       "      <td>-7820640624231356730</td>\n",
       "      <td>-445337111692715325</td>\n",
       "      <td>5611481178424124714</td>\n",
       "      <td>NaN</td>\n",
       "      <td>NaN</td>\n",
       "      <td>NaN</td>\n",
       "      <td>1.0</td>\n",
       "    </tr>\n",
       "  </tbody>\n",
       "</table>\n",
       "</div>"
      ],
      "text/plain": [
       "    timestamp eventType             contentId              personId  \\\n",
       "0  1465413032      VIEW  -3499919498720038879  -8845298781299428018   \n",
       "1  1465412560      VIEW   8890720798209849691  -1032019229384696495   \n",
       "2  1465416190      VIEW    310515487419366995  -1130272294246983140   \n",
       "3  1465413895    FOLLOW    310515487419366995    344280948527967603   \n",
       "4  1465412290      VIEW  -7820640624231356730   -445337111692715325   \n",
       "\n",
       "             sessionId                                          userAgent  \\\n",
       "0  1264196770339959068                                                NaN   \n",
       "1  3621737643587579081  Mozilla/5.0 (Macintosh; Intel Mac OS X 10_11_2...   \n",
       "2  2631864456530402479                                                NaN   \n",
       "3 -3167637573980064150                                                NaN   \n",
       "4  5611481178424124714                                                NaN   \n",
       "\n",
       "  userRegion userCountry  eventStrength  \n",
       "0        NaN         NaN            1.0  \n",
       "1         NY          US            1.0  \n",
       "2        NaN         NaN            1.0  \n",
       "3        NaN         NaN            3.0  \n",
       "4        NaN         NaN            1.0  "
      ]
     },
     "execution_count": 12,
     "metadata": {},
     "output_type": "execute_result"
    }
   ],
   "source": [
    "interactions_df.head()"
   ]
  },
  {
   "cell_type": "markdown",
   "metadata": {
    "_cell_guid": "5c92aa80-2926-44db-b358-c4c32de806c4",
    "_uuid": "91100a395fdf4fb20df02c8d248072457c980b5d"
   },
   "source": [
    "Ремендательные системы подвержены проблеме холодного старта. Будем работать только с теми пользователями, которые взаимодействовали хотя бы с 5-ю материалами.\n",
    "\n",
    "Оставим только таких пользователей."
   ]
  },
  {
   "cell_type": "code",
   "execution_count": 13,
   "metadata": {},
   "outputs": [
    {
     "name": "stdout",
     "output_type": "stream",
     "text": [
      "# users: 1895\n"
     ]
    }
   ],
   "source": [
    "users_interactions_count_df = (\n",
    "    interactions_df\n",
    "    .groupby(['personId', 'contentId'])\n",
    "    .first()\n",
    "    .reset_index()\n",
    "    .groupby('personId').size())\n",
    "\n",
    "print('# users:', len(users_interactions_count_df))"
   ]
  },
  {
   "cell_type": "code",
   "execution_count": 14,
   "metadata": {},
   "outputs": [
    {
     "data": {
      "text/plain": [
       "personId\n",
       "-1007001694607905623      6\n",
       "-1032019229384696495    648\n",
       "-108842214936804958     270\n",
       "-1093393486211919385      2\n",
       "-1110220372195277179      3\n",
       "                       ... \n",
       "987030274299018507        3\n",
       "989049974880576288       19\n",
       "98958074799194811         4\n",
       "997469202936578234       17\n",
       "998688566268269815        6\n",
       "Length: 1895, dtype: int64"
      ]
     },
     "execution_count": 14,
     "metadata": {},
     "output_type": "execute_result"
    }
   ],
   "source": [
    "users_interactions_count_df"
   ]
  },
  {
   "cell_type": "code",
   "execution_count": 15,
   "metadata": {
    "_cell_guid": "bad1d8ea-9b67-4a47-80c5-87a5e55c4f38",
    "_uuid": "1698c88340183baa7f3ebb8c3b60eaa8e6ca708f"
   },
   "outputs": [
    {
     "name": "stdout",
     "output_type": "stream",
     "text": [
      "# users with at least 5 interactions: 1140\n"
     ]
    }
   ],
   "source": [
    "users_with_enough_interactions_df = \\\n",
    "    users_interactions_count_df[users_interactions_count_df >= 5].reset_index()[['personId']]\n",
    "\n",
    "print('# users with at least 5 interactions:',len(users_with_enough_interactions_df))"
   ]
  },
  {
   "cell_type": "code",
   "execution_count": 16,
   "metadata": {},
   "outputs": [
    {
     "data": {
      "text/plain": [
       "<matplotlib.axes._subplots.AxesSubplot at 0x27c7ca2b748>"
      ]
     },
     "execution_count": 16,
     "metadata": {},
     "output_type": "execute_result"
    },
    {
     "data": {
      "image/png": "[encoded data removed]",
      "text/plain": [
       "<Figure size 432x288 with 1 Axes>"
      ]
     },
     "metadata": {
      "needs_background": "light"
     },
     "output_type": "display_data"
    }
   ],
   "source": [
    "users_interactions_count_df.hist(bins=5)"
   ]
  },
  {
   "cell_type": "markdown",
   "metadata": {},
   "source": [
    "Оставим только те взаимодействия, которые касаются только отфильтрованных пользователей. (Можно воспользоваться функцией `np.isin`.)"
   ]
  },
  {
   "cell_type": "code",
   "execution_count": 17,
   "metadata": {
    "_cell_guid": "4e79a418-a9d6-4e01-9f38-9b290a645626",
    "_uuid": "0f428a4c6e76f95de7ea328dc33c6539389ae5f0"
   },
   "outputs": [],
   "source": [
    "# interactions_from_selected_users_df =\n",
    "####### Здесь ваш код ##########\n",
    "interactions_from_selected_users_df = interactions_df.loc[np.isin(interactions_df['personId'],\n",
    "            users_with_enough_interactions_df)]\n",
    "################################"
   ]
  },
  {
   "cell_type": "code",
   "execution_count": 18,
   "metadata": {},
   "outputs": [
    {
     "name": "stdout",
     "output_type": "stream",
     "text": [
      "# interactions before: (72312, 9)\n",
      "# interactions after: (69868, 9)\n"
     ]
    }
   ],
   "source": [
    "print('# interactions before:', interactions_df.shape)\n",
    "print('# interactions after:', interactions_from_selected_users_df.shape)"
   ]
  },
  {
   "cell_type": "markdown",
   "metadata": {},
   "source": [
    "В данной постановке каждый пользователей мог взаимодействовать с каждой статьёй более 1 раза (как минимум совершая различные действия). Предлагается \"схлопнуть\" все действия в одно взаимодействие с весом, равным сумме весов. \n",
    "\n",
    "Однако полученное число будет в том числе тем больше, чем больше действий произвёл человек. Чтобы уменьшить разброс предлагается взять логарифм от полученного числа (можно придумывать другие веса действиям и по-другому обрабатывать значения).\n",
    "\n",
    "Также сохраним последнее значение времени взаимодействия (`timestamp`) для разделениея выборки на обучение и контроль."
   ]
  },
  {
   "cell_type": "code",
   "execution_count": 19,
   "metadata": {
    "_cell_guid": "54c82dd1-1102-4f11-ac6a-7993f8e5e842",
    "_uuid": "dcd64b20b47cf2c365341303ff410626a801f7a6"
   },
   "outputs": [
    {
     "data": {
      "text/html": [
       "<div>\n",
       "<style scoped>\n",
       "    .dataframe tbody tr th:only-of-type {\n",
       "        vertical-align: middle;\n",
       "    }\n",
       "\n",
       "    .dataframe tbody tr th {\n",
       "        vertical-align: top;\n",
       "    }\n",
       "\n",
       "    .dataframe thead th {\n",
       "        text-align: right;\n",
       "    }\n",
       "</style>\n",
       "<table border=\"1\" class=\"dataframe\">\n",
       "  <thead>\n",
       "    <tr style=\"text-align: right;\">\n",
       "      <th></th>\n",
       "      <th>personId</th>\n",
       "      <th>contentId</th>\n",
       "      <th>eventStrength</th>\n",
       "      <th>last_timestamp</th>\n",
       "    </tr>\n",
       "  </thead>\n",
       "  <tbody>\n",
       "    <tr>\n",
       "      <td>0</td>\n",
       "      <td>-1007001694607905623</td>\n",
       "      <td>-5065077552540450930</td>\n",
       "      <td>1.000000</td>\n",
       "      <td>1470395911</td>\n",
       "    </tr>\n",
       "    <tr>\n",
       "      <td>1</td>\n",
       "      <td>-1007001694607905623</td>\n",
       "      <td>-6623581327558800021</td>\n",
       "      <td>1.000000</td>\n",
       "      <td>1487240080</td>\n",
       "    </tr>\n",
       "    <tr>\n",
       "      <td>2</td>\n",
       "      <td>-1007001694607905623</td>\n",
       "      <td>-793729620925729327</td>\n",
       "      <td>1.000000</td>\n",
       "      <td>1472834892</td>\n",
       "    </tr>\n",
       "    <tr>\n",
       "      <td>3</td>\n",
       "      <td>-1007001694607905623</td>\n",
       "      <td>1469580151036142903</td>\n",
       "      <td>1.000000</td>\n",
       "      <td>1487240062</td>\n",
       "    </tr>\n",
       "    <tr>\n",
       "      <td>4</td>\n",
       "      <td>-1007001694607905623</td>\n",
       "      <td>7270966256391553686</td>\n",
       "      <td>1.584963</td>\n",
       "      <td>1485994324</td>\n",
       "    </tr>\n",
       "    <tr>\n",
       "      <td>5</td>\n",
       "      <td>-1007001694607905623</td>\n",
       "      <td>8729086959762650511</td>\n",
       "      <td>1.000000</td>\n",
       "      <td>1487240086</td>\n",
       "    </tr>\n",
       "    <tr>\n",
       "      <td>6</td>\n",
       "      <td>-1032019229384696495</td>\n",
       "      <td>-1006791494035379303</td>\n",
       "      <td>1.000000</td>\n",
       "      <td>1469129122</td>\n",
       "    </tr>\n",
       "    <tr>\n",
       "      <td>7</td>\n",
       "      <td>-1032019229384696495</td>\n",
       "      <td>-1039912738963181810</td>\n",
       "      <td>1.000000</td>\n",
       "      <td>1459376415</td>\n",
       "    </tr>\n",
       "    <tr>\n",
       "      <td>8</td>\n",
       "      <td>-1032019229384696495</td>\n",
       "      <td>-1081723567492738167</td>\n",
       "      <td>2.000000</td>\n",
       "      <td>1464054093</td>\n",
       "    </tr>\n",
       "    <tr>\n",
       "      <td>9</td>\n",
       "      <td>-1032019229384696495</td>\n",
       "      <td>-1111518890369033396</td>\n",
       "      <td>1.000000</td>\n",
       "      <td>1470109122</td>\n",
       "    </tr>\n",
       "  </tbody>\n",
       "</table>\n",
       "</div>"
      ],
      "text/plain": [
       "               personId             contentId  eventStrength  last_timestamp\n",
       "0  -1007001694607905623  -5065077552540450930       1.000000      1470395911\n",
       "1  -1007001694607905623  -6623581327558800021       1.000000      1487240080\n",
       "2  -1007001694607905623   -793729620925729327       1.000000      1472834892\n",
       "3  -1007001694607905623   1469580151036142903       1.000000      1487240062\n",
       "4  -1007001694607905623   7270966256391553686       1.584963      1485994324\n",
       "5  -1007001694607905623   8729086959762650511       1.000000      1487240086\n",
       "6  -1032019229384696495  -1006791494035379303       1.000000      1469129122\n",
       "7  -1032019229384696495  -1039912738963181810       1.000000      1459376415\n",
       "8  -1032019229384696495  -1081723567492738167       2.000000      1464054093\n",
       "9  -1032019229384696495  -1111518890369033396       1.000000      1470109122"
      ]
     },
     "execution_count": 19,
     "metadata": {},
     "output_type": "execute_result"
    }
   ],
   "source": [
    "def smooth_user_preference(x):\n",
    "    return math.log(1+x, 2)\n",
    "    \n",
    "interactions_full_df = (\n",
    "    interactions_from_selected_users_df\n",
    "    .groupby(['personId', 'contentId'])['eventStrength'].sum()\n",
    "    .apply(smooth_user_preference)\n",
    "    .reset_index().set_index(['personId', 'contentId'])\n",
    ")\n",
    "\n",
    "interactions_full_df['last_timestamp'] = (\n",
    "    interactions_from_selected_users_df\n",
    "    .groupby(['personId', 'contentId'])['timestamp'].last()\n",
    ")\n",
    "        \n",
    "interactions_full_df = interactions_full_df.reset_index()\n",
    "interactions_full_df.head(10)"
   ]
  },
  {
   "cell_type": "markdown",
   "metadata": {},
   "source": [
    "Разобьём выборку на обучение и контроль по времени."
   ]
  },
  {
   "cell_type": "code",
   "execution_count": 20,
   "metadata": {
    "_cell_guid": "e594a5ef-255a-4d30-9ab2-7cebe12fe798",
    "_uuid": "babda61be5306281b34422dbded67675a0aab17d"
   },
   "outputs": [
    {
     "name": "stdout",
     "output_type": "stream",
     "text": [
      "# interactions on Train set: 29329\n",
      "# interactions on Test set: 9777\n"
     ]
    },
    {
     "data": {
      "text/html": [
       "<div>\n",
       "<style scoped>\n",
       "    .dataframe tbody tr th:only-of-type {\n",
       "        vertical-align: middle;\n",
       "    }\n",
       "\n",
       "    .dataframe tbody tr th {\n",
       "        vertical-align: top;\n",
       "    }\n",
       "\n",
       "    .dataframe thead th {\n",
       "        text-align: right;\n",
       "    }\n",
       "</style>\n",
       "<table border=\"1\" class=\"dataframe\">\n",
       "  <thead>\n",
       "    <tr style=\"text-align: right;\">\n",
       "      <th></th>\n",
       "      <th>personId</th>\n",
       "      <th>contentId</th>\n",
       "      <th>eventStrength</th>\n",
       "      <th>last_timestamp</th>\n",
       "    </tr>\n",
       "  </thead>\n",
       "  <tbody>\n",
       "    <tr>\n",
       "      <td>0</td>\n",
       "      <td>-1007001694607905623</td>\n",
       "      <td>-5065077552540450930</td>\n",
       "      <td>1.0</td>\n",
       "      <td>1470395911</td>\n",
       "    </tr>\n",
       "    <tr>\n",
       "      <td>2</td>\n",
       "      <td>-1007001694607905623</td>\n",
       "      <td>-793729620925729327</td>\n",
       "      <td>1.0</td>\n",
       "      <td>1472834892</td>\n",
       "    </tr>\n",
       "    <tr>\n",
       "      <td>6</td>\n",
       "      <td>-1032019229384696495</td>\n",
       "      <td>-1006791494035379303</td>\n",
       "      <td>1.0</td>\n",
       "      <td>1469129122</td>\n",
       "    </tr>\n",
       "    <tr>\n",
       "      <td>7</td>\n",
       "      <td>-1032019229384696495</td>\n",
       "      <td>-1039912738963181810</td>\n",
       "      <td>1.0</td>\n",
       "      <td>1459376415</td>\n",
       "    </tr>\n",
       "    <tr>\n",
       "      <td>8</td>\n",
       "      <td>-1032019229384696495</td>\n",
       "      <td>-1081723567492738167</td>\n",
       "      <td>2.0</td>\n",
       "      <td>1464054093</td>\n",
       "    </tr>\n",
       "    <tr>\n",
       "      <td>...</td>\n",
       "      <td>...</td>\n",
       "      <td>...</td>\n",
       "      <td>...</td>\n",
       "      <td>...</td>\n",
       "    </tr>\n",
       "    <tr>\n",
       "      <td>39099</td>\n",
       "      <td>997469202936578234</td>\n",
       "      <td>9112765177685685246</td>\n",
       "      <td>2.0</td>\n",
       "      <td>1472479493</td>\n",
       "    </tr>\n",
       "    <tr>\n",
       "      <td>39100</td>\n",
       "      <td>998688566268269815</td>\n",
       "      <td>-1255189867397298842</td>\n",
       "      <td>1.0</td>\n",
       "      <td>1474567164</td>\n",
       "    </tr>\n",
       "    <tr>\n",
       "      <td>39101</td>\n",
       "      <td>998688566268269815</td>\n",
       "      <td>-401664538366009049</td>\n",
       "      <td>1.0</td>\n",
       "      <td>1474567449</td>\n",
       "    </tr>\n",
       "    <tr>\n",
       "      <td>39103</td>\n",
       "      <td>998688566268269815</td>\n",
       "      <td>6881796783400625893</td>\n",
       "      <td>1.0</td>\n",
       "      <td>1474567675</td>\n",
       "    </tr>\n",
       "    <tr>\n",
       "      <td>39105</td>\n",
       "      <td>998688566268269815</td>\n",
       "      <td>739747367187387064</td>\n",
       "      <td>1.0</td>\n",
       "      <td>1474567514</td>\n",
       "    </tr>\n",
       "  </tbody>\n",
       "</table>\n",
       "<p>29329 rows × 4 columns</p>\n",
       "</div>"
      ],
      "text/plain": [
       "                   personId             contentId  eventStrength  \\\n",
       "0      -1007001694607905623  -5065077552540450930            1.0   \n",
       "2      -1007001694607905623   -793729620925729327            1.0   \n",
       "6      -1032019229384696495  -1006791494035379303            1.0   \n",
       "7      -1032019229384696495  -1039912738963181810            1.0   \n",
       "8      -1032019229384696495  -1081723567492738167            2.0   \n",
       "...                     ...                   ...            ...   \n",
       "39099    997469202936578234   9112765177685685246            2.0   \n",
       "39100    998688566268269815  -1255189867397298842            1.0   \n",
       "39101    998688566268269815   -401664538366009049            1.0   \n",
       "39103    998688566268269815   6881796783400625893            1.0   \n",
       "39105    998688566268269815    739747367187387064            1.0   \n",
       "\n",
       "       last_timestamp  \n",
       "0          1470395911  \n",
       "2          1472834892  \n",
       "6          1469129122  \n",
       "7          1459376415  \n",
       "8          1464054093  \n",
       "...               ...  \n",
       "39099      1472479493  \n",
       "39100      1474567164  \n",
       "39101      1474567449  \n",
       "39103      1474567675  \n",
       "39105      1474567514  \n",
       "\n",
       "[29329 rows x 4 columns]"
      ]
     },
     "execution_count": 20,
     "metadata": {},
     "output_type": "execute_result"
    }
   ],
   "source": [
    "split_ts = 1475519530\n",
    "\n",
    "interactions_train_df = interactions_full_df.loc[interactions_full_df.last_timestamp < split_ts].copy()\n",
    "interactions_test_df = interactions_full_df.loc[interactions_full_df.last_timestamp >= split_ts].copy()\n",
    "\n",
    "print('# interactions on Train set: %d' % len(interactions_train_df))\n",
    "print('# interactions on Test set: %d' % len(interactions_test_df))\n",
    "\n",
    "interactions_train_df"
   ]
  },
  {
   "cell_type": "markdown",
   "metadata": {},
   "source": [
    "Также разбить данные можно не опираясь на временной фактор:\n",
    "```python\n",
    "from sklearn.model_selection import train_test_split\n",
    "\n",
    "interactions_train_df, interactions_test_df = train_test_split(interactions_full_df,\n",
    "                                   stratify=interactions_full_df['personId'], \n",
    "                                   test_size=0.25,\n",
    "                                   random_state=42)\n",
    "\n",
    "```\n",
    "Как повлият такое разбиение на итоговый результат?"
   ]
  },
  {
   "cell_type": "markdown",
   "metadata": {},
   "source": [
    "Для удобства подсчёта качества запишем данные в формате, где строка соответствует пользователю, а столбцы будут истинными метками и предсказанями в виде списков."
   ]
  },
  {
   "cell_type": "code",
   "execution_count": 21,
   "metadata": {},
   "outputs": [
    {
     "data": {
      "text/html": [
       "<div>\n",
       "<style scoped>\n",
       "    .dataframe tbody tr th:only-of-type {\n",
       "        vertical-align: middle;\n",
       "    }\n",
       "\n",
       "    .dataframe tbody tr th {\n",
       "        vertical-align: top;\n",
       "    }\n",
       "\n",
       "    .dataframe thead th {\n",
       "        text-align: right;\n",
       "    }\n",
       "</style>\n",
       "<table border=\"1\" class=\"dataframe\">\n",
       "  <thead>\n",
       "    <tr style=\"text-align: right;\">\n",
       "      <th></th>\n",
       "      <th>true_train</th>\n",
       "      <th>true_test</th>\n",
       "    </tr>\n",
       "    <tr>\n",
       "      <th>personId</th>\n",
       "      <th></th>\n",
       "      <th></th>\n",
       "    </tr>\n",
       "  </thead>\n",
       "  <tbody>\n",
       "    <tr>\n",
       "      <td>-1007001694607905623</td>\n",
       "      <td>[-5065077552540450930, -793729620925729327]</td>\n",
       "      <td>[-6623581327558800021, 1469580151036142903, 72...</td>\n",
       "    </tr>\n",
       "    <tr>\n",
       "      <td>-1032019229384696495</td>\n",
       "      <td>[-1006791494035379303, -1039912738963181810, -...</td>\n",
       "      <td>[-1415040208471067980, -2555801390963402198, -...</td>\n",
       "    </tr>\n",
       "    <tr>\n",
       "      <td>-108842214936804958</td>\n",
       "      <td>[-1196068832249300490, -133139342397538859, -1...</td>\n",
       "      <td>[-2780168264183400543, -3060116862184714437, -...</td>\n",
       "    </tr>\n",
       "    <tr>\n",
       "      <td>-1130272294246983140</td>\n",
       "      <td>[-1150591229250318592, -1196068832249300490, -...</td>\n",
       "      <td>[-1606980109000976010, -1663441888197894674, -...</td>\n",
       "    </tr>\n",
       "    <tr>\n",
       "      <td>-1160159014793528221</td>\n",
       "      <td>[-133139342397538859, -387651900461462767, 377...</td>\n",
       "      <td>[-3462051751080362224]</td>\n",
       "    </tr>\n",
       "    <tr>\n",
       "      <td>...</td>\n",
       "      <td>...</td>\n",
       "      <td>...</td>\n",
       "    </tr>\n",
       "    <tr>\n",
       "      <td>-2901997243166418276</td>\n",
       "      <td>[-1038011342017850, -1192619987285372590, -129...</td>\n",
       "      <td>[-2164628725543527116, -6584408680441477889, -...</td>\n",
       "    </tr>\n",
       "    <tr>\n",
       "      <td>-2902404120792546116</td>\n",
       "      <td>[834896074125772354]</td>\n",
       "      <td>[-1572252285162838958, 3091351089612339864, 32...</td>\n",
       "    </tr>\n",
       "    <tr>\n",
       "      <td>-290301761563498796</td>\n",
       "      <td>[-1297580205670251233, -133139342397538859, -2...</td>\n",
       "      <td>[-1425776303341065806, -4029704725707465084, -...</td>\n",
       "    </tr>\n",
       "    <tr>\n",
       "      <td>-2922237472410262877</td>\n",
       "      <td>[-1051830303851697653, -2841995722250280583, -...</td>\n",
       "      <td>[]</td>\n",
       "    </tr>\n",
       "    <tr>\n",
       "      <td>-292717837486008213</td>\n",
       "      <td>[-1297580205670251233, -1633984990770981161, -...</td>\n",
       "      <td>[-1787737696395220629]</td>\n",
       "    </tr>\n",
       "  </tbody>\n",
       "</table>\n",
       "<p>100 rows × 2 columns</p>\n",
       "</div>"
      ],
      "text/plain": [
       "                                                             true_train  \\\n",
       "personId                                                                  \n",
       "-1007001694607905623        [-5065077552540450930, -793729620925729327]   \n",
       "-1032019229384696495  [-1006791494035379303, -1039912738963181810, -...   \n",
       "-108842214936804958   [-1196068832249300490, -133139342397538859, -1...   \n",
       "-1130272294246983140  [-1150591229250318592, -1196068832249300490, -...   \n",
       "-1160159014793528221  [-133139342397538859, -387651900461462767, 377...   \n",
       "...                                                                 ...   \n",
       "-2901997243166418276  [-1038011342017850, -1192619987285372590, -129...   \n",
       "-2902404120792546116                               [834896074125772354]   \n",
       "-290301761563498796   [-1297580205670251233, -133139342397538859, -2...   \n",
       "-2922237472410262877  [-1051830303851697653, -2841995722250280583, -...   \n",
       "-292717837486008213   [-1297580205670251233, -1633984990770981161, -...   \n",
       "\n",
       "                                                              true_test  \n",
       "personId                                                                 \n",
       "-1007001694607905623  [-6623581327558800021, 1469580151036142903, 72...  \n",
       "-1032019229384696495  [-1415040208471067980, -2555801390963402198, -...  \n",
       "-108842214936804958   [-2780168264183400543, -3060116862184714437, -...  \n",
       "-1130272294246983140  [-1606980109000976010, -1663441888197894674, -...  \n",
       "-1160159014793528221                             [-3462051751080362224]  \n",
       "...                                                                 ...  \n",
       "-2901997243166418276  [-2164628725543527116, -6584408680441477889, -...  \n",
       "-2902404120792546116  [-1572252285162838958, 3091351089612339864, 32...  \n",
       "-290301761563498796   [-1425776303341065806, -4029704725707465084, -...  \n",
       "-2922237472410262877                                                 []  \n",
       "-292717837486008213                              [-1787737696395220629]  \n",
       "\n",
       "[100 rows x 2 columns]"
      ]
     },
     "execution_count": 21,
     "metadata": {},
     "output_type": "execute_result"
    }
   ],
   "source": [
    "interactions = (\n",
    "    interactions_train_df\n",
    "    .groupby('personId')['contentId'].agg(lambda x: list(x))\n",
    "    .reset_index()\n",
    "    .rename(columns={'contentId': 'true_train'})\n",
    "    .set_index('personId')\n",
    ")\n",
    "\n",
    "interactions['true_test'] = (\n",
    "    interactions_test_df\n",
    "    .groupby('personId')['contentId'].agg(lambda x: list(x))\n",
    ")\n",
    "\n",
    "# заполнение пропусков пустыми списками\n",
    "interactions.loc[pd.isnull(interactions['true_test']), 'true_test'] = [\n",
    "    list() for x in range(len(interactions.loc[pd.isnull(interactions['true_test']), 'true_test']))]\n",
    "\n",
    "interactions.head(100)"
   ]
  },
  {
   "cell_type": "markdown",
   "metadata": {
    "_cell_guid": "2fac2a15-cc5c-4f31-8818-8065b0d2dc16",
    "_uuid": "59dd2131949c4d7e801114bffc11fb439c930b4c"
   },
   "source": [
    "## Часть 1: Baseline (модель по популярности)"
   ]
  },
  {
   "cell_type": "markdown",
   "metadata": {},
   "source": [
    "Самой простой моделью рекомендаций (при этом достаточно сильной!) является модель, которая рекомендует наиболее популярные предметы. \n",
    "\n",
    "Реализуем её. Давайте считать, что рекомендуем мы по 10 материалов (такое ограничение на размер блока на сайте).\n",
    "\n",
    "Посчитаем популярность каждой статьи, как сумму всех \"оценок\" взаимодействий с ней. Отсортируем материалы по их популярности. Работать будем с `interactions_train_df`."
   ]
  },
  {
   "cell_type": "code",
   "execution_count": 22,
   "metadata": {},
   "outputs": [
    {
     "data": {
      "text/plain": [
       "array(['-6783772548752091658', '-133139342397538859',\n",
       "       '-8208801367848627943', ..., '6240076106289531207',\n",
       "       '6541551984368289722', '7083316110921342538'], dtype=object)"
      ]
     },
     "execution_count": 22,
     "metadata": {},
     "output_type": "execute_result"
    }
   ],
   "source": [
    "# popular_content =\n",
    "####### Здесь ваш код ##########\n",
    "popular_content = (\n",
    "    interactions_train_df\n",
    "    .groupby('contentId')['eventStrength'].sum().reset_index()\n",
    "    .sort_values('eventStrength', ascending=False)['contentId'].values\n",
    ")\n",
    "################################\n",
    "popular_content"
   ]
  },
  {
   "cell_type": "code",
   "execution_count": 23,
   "metadata": {},
   "outputs": [
    {
     "name": "stdout",
     "output_type": "stream",
     "text": [
      "[\"Ray Kurzweil: The world isn't getting worse - our information is getting better\"]\n"
     ]
    }
   ],
   "source": [
    "print(articles_df.loc[articles_df.contentId == popular_content[2]]['title'].values)"
   ]
  },
  {
   "cell_type": "code",
   "execution_count": 24,
   "metadata": {},
   "outputs": [
    {
     "name": "stdout",
     "output_type": "stream",
     "text": [
      "['Sunset Blvd. (1950)']\n"
     ]
    }
   ],
   "source": [
    "print(articles_df.loc[articles_df.contentId == popular_content[2363]]['title'].values)"
   ]
  },
  {
   "cell_type": "markdown",
   "metadata": {},
   "source": [
    "Теперь необходимо сделать предсказания для каждого пользователя. Не забываем, что надо рекомендовать то, что пользователь ещё не читал (для этого нужно проверить, что материал не встречался в `true_train`)."
   ]
  },
  {
   "cell_type": "code",
   "execution_count": 25,
   "metadata": {},
   "outputs": [
    {
     "data": {
      "text/html": [
       "<div>\n",
       "<style scoped>\n",
       "    .dataframe tbody tr th:only-of-type {\n",
       "        vertical-align: middle;\n",
       "    }\n",
       "\n",
       "    .dataframe tbody tr th {\n",
       "        vertical-align: top;\n",
       "    }\n",
       "\n",
       "    .dataframe thead th {\n",
       "        text-align: right;\n",
       "    }\n",
       "</style>\n",
       "<table border=\"1\" class=\"dataframe\">\n",
       "  <thead>\n",
       "    <tr style=\"text-align: right;\">\n",
       "      <th></th>\n",
       "      <th>true_train</th>\n",
       "      <th>true_test</th>\n",
       "    </tr>\n",
       "    <tr>\n",
       "      <th>personId</th>\n",
       "      <th></th>\n",
       "      <th></th>\n",
       "    </tr>\n",
       "  </thead>\n",
       "  <tbody>\n",
       "    <tr>\n",
       "      <td>-1007001694607905623</td>\n",
       "      <td>[-5065077552540450930, -793729620925729327]</td>\n",
       "      <td>[-6623581327558800021, 1469580151036142903, 72...</td>\n",
       "    </tr>\n",
       "    <tr>\n",
       "      <td>-1032019229384696495</td>\n",
       "      <td>[-1006791494035379303, -1039912738963181810, -...</td>\n",
       "      <td>[-1415040208471067980, -2555801390963402198, -...</td>\n",
       "    </tr>\n",
       "    <tr>\n",
       "      <td>-108842214936804958</td>\n",
       "      <td>[-1196068832249300490, -133139342397538859, -1...</td>\n",
       "      <td>[-2780168264183400543, -3060116862184714437, -...</td>\n",
       "    </tr>\n",
       "    <tr>\n",
       "      <td>-1130272294246983140</td>\n",
       "      <td>[-1150591229250318592, -1196068832249300490, -...</td>\n",
       "      <td>[-1606980109000976010, -1663441888197894674, -...</td>\n",
       "    </tr>\n",
       "    <tr>\n",
       "      <td>-1160159014793528221</td>\n",
       "      <td>[-133139342397538859, -387651900461462767, 377...</td>\n",
       "      <td>[-3462051751080362224]</td>\n",
       "    </tr>\n",
       "    <tr>\n",
       "      <td>...</td>\n",
       "      <td>...</td>\n",
       "      <td>...</td>\n",
       "    </tr>\n",
       "    <tr>\n",
       "      <td>953707509720613429</td>\n",
       "      <td>[-1068603220639552685, -2358756719610361882, -...</td>\n",
       "      <td>[-2402288292108892893, -5813211845057621660, -...</td>\n",
       "    </tr>\n",
       "    <tr>\n",
       "      <td>983095443598229476</td>\n",
       "      <td>[-133139342397538859, -8742648016180281673]</td>\n",
       "      <td>[-14569272361926584, -1572252285162838958, -18...</td>\n",
       "    </tr>\n",
       "    <tr>\n",
       "      <td>989049974880576288</td>\n",
       "      <td>[-133139342397538859, -2038869595290705317, -2...</td>\n",
       "      <td>[-6289909056857931861, -7047448754687279385, -...</td>\n",
       "    </tr>\n",
       "    <tr>\n",
       "      <td>997469202936578234</td>\n",
       "      <td>[-2358756719610361882, -4336877432539963613, -...</td>\n",
       "      <td>[-4029704725707465084, -5920475612630001479, -...</td>\n",
       "    </tr>\n",
       "    <tr>\n",
       "      <td>998688566268269815</td>\n",
       "      <td>[-1255189867397298842, -401664538366009049, 68...</td>\n",
       "      <td>[3456674717452933449, 7174452660053929140]</td>\n",
       "    </tr>\n",
       "  </tbody>\n",
       "</table>\n",
       "<p>1112 rows × 2 columns</p>\n",
       "</div>"
      ],
      "text/plain": [
       "                                                             true_train  \\\n",
       "personId                                                                  \n",
       "-1007001694607905623        [-5065077552540450930, -793729620925729327]   \n",
       "-1032019229384696495  [-1006791494035379303, -1039912738963181810, -...   \n",
       "-108842214936804958   [-1196068832249300490, -133139342397538859, -1...   \n",
       "-1130272294246983140  [-1150591229250318592, -1196068832249300490, -...   \n",
       "-1160159014793528221  [-133139342397538859, -387651900461462767, 377...   \n",
       "...                                                                 ...   \n",
       "953707509720613429    [-1068603220639552685, -2358756719610361882, -...   \n",
       "983095443598229476          [-133139342397538859, -8742648016180281673]   \n",
       "989049974880576288    [-133139342397538859, -2038869595290705317, -2...   \n",
       "997469202936578234    [-2358756719610361882, -4336877432539963613, -...   \n",
       "998688566268269815    [-1255189867397298842, -401664538366009049, 68...   \n",
       "\n",
       "                                                              true_test  \n",
       "personId                                                                 \n",
       "-1007001694607905623  [-6623581327558800021, 1469580151036142903, 72...  \n",
       "-1032019229384696495  [-1415040208471067980, -2555801390963402198, -...  \n",
       "-108842214936804958   [-2780168264183400543, -3060116862184714437, -...  \n",
       "-1130272294246983140  [-1606980109000976010, -1663441888197894674, -...  \n",
       "-1160159014793528221                             [-3462051751080362224]  \n",
       "...                                                                 ...  \n",
       "953707509720613429    [-2402288292108892893, -5813211845057621660, -...  \n",
       "983095443598229476    [-14569272361926584, -1572252285162838958, -18...  \n",
       "989049974880576288    [-6289909056857931861, -7047448754687279385, -...  \n",
       "997469202936578234    [-4029704725707465084, -5920475612630001479, -...  \n",
       "998688566268269815           [3456674717452933449, 7174452660053929140]  \n",
       "\n",
       "[1112 rows x 2 columns]"
      ]
     },
     "execution_count": 25,
     "metadata": {},
     "output_type": "execute_result"
    }
   ],
   "source": [
    "interactions"
   ]
  },
  {
   "cell_type": "code",
   "execution_count": 26,
   "metadata": {},
   "outputs": [
    {
     "data": {
      "text/html": [
       "<div>\n",
       "<style scoped>\n",
       "    .dataframe tbody tr th:only-of-type {\n",
       "        vertical-align: middle;\n",
       "    }\n",
       "\n",
       "    .dataframe tbody tr th {\n",
       "        vertical-align: top;\n",
       "    }\n",
       "\n",
       "    .dataframe thead th {\n",
       "        text-align: right;\n",
       "    }\n",
       "</style>\n",
       "<table border=\"1\" class=\"dataframe\">\n",
       "  <thead>\n",
       "    <tr style=\"text-align: right;\">\n",
       "      <th></th>\n",
       "      <th>true_train</th>\n",
       "      <th>true_test</th>\n",
       "      <th>prediction_popular</th>\n",
       "    </tr>\n",
       "    <tr>\n",
       "      <th>personId</th>\n",
       "      <th></th>\n",
       "      <th></th>\n",
       "      <th></th>\n",
       "    </tr>\n",
       "  </thead>\n",
       "  <tbody>\n",
       "    <tr>\n",
       "      <td>-1007001694607905623</td>\n",
       "      <td>[-5065077552540450930, -793729620925729327]</td>\n",
       "      <td>[-6623581327558800021, 1469580151036142903, 72...</td>\n",
       "      <td>[-6783772548752091658, -133139342397538859, -8...</td>\n",
       "    </tr>\n",
       "    <tr>\n",
       "      <td>-1032019229384696495</td>\n",
       "      <td>[-1006791494035379303, -1039912738963181810, -...</td>\n",
       "      <td>[-1415040208471067980, -2555801390963402198, -...</td>\n",
       "      <td>[-6783772548752091658, -133139342397538859, -8...</td>\n",
       "    </tr>\n",
       "  </tbody>\n",
       "</table>\n",
       "</div>"
      ],
      "text/plain": [
       "                                                             true_train  \\\n",
       "personId                                                                  \n",
       "-1007001694607905623        [-5065077552540450930, -793729620925729327]   \n",
       "-1032019229384696495  [-1006791494035379303, -1039912738963181810, -...   \n",
       "\n",
       "                                                              true_test  \\\n",
       "personId                                                                  \n",
       "-1007001694607905623  [-6623581327558800021, 1469580151036142903, 72...   \n",
       "-1032019229384696495  [-1415040208471067980, -2555801390963402198, -...   \n",
       "\n",
       "                                                     prediction_popular  \n",
       "personId                                                                 \n",
       "-1007001694607905623  [-6783772548752091658, -133139342397538859, -8...  \n",
       "-1032019229384696495  [-6783772548752091658, -133139342397538859, -8...  "
      ]
     },
     "execution_count": 26,
     "metadata": {},
     "output_type": "execute_result"
    }
   ],
   "source": [
    "top_k = 10\n",
    "\n",
    "# interactions['prediction_popular'] =\n",
    "####### Здесь ваш код ##########\n",
    "interactions['prediction_popular'] = (\n",
    "    interactions['true_train'].apply(lambda x: popular_content[~np.isin(popular_content, x)][:top_k])\n",
    ")\n",
    "################################\n",
    "\n",
    "interactions.head(2)"
   ]
  },
  {
   "cell_type": "code",
   "execution_count": 27,
   "metadata": {},
   "outputs": [
    {
     "data": {
      "text/plain": [
       "array(['-6783772548752091658', '-133139342397538859',\n",
       "       '-8208801367848627943', '8224860111193157980',\n",
       "       '7507067965574797372', '-2358756719610361882',\n",
       "       '-6843047699859121724', '-1297580205670251233',\n",
       "       '8657408509986329668', '3367026768872537336'], dtype=object)"
      ]
     },
     "execution_count": 27,
     "metadata": {},
     "output_type": "execute_result"
    }
   ],
   "source": [
    "interactions['prediction_popular'][0]"
   ]
  },
  {
   "cell_type": "markdown",
   "metadata": {},
   "source": [
    "Настало время оценить качество. Посчитаем **precision@10** для каждого пользователя (доля угаданных рекомендаций). Усредним по всем пользователям. Везде далее будем считать эту же метрику."
   ]
  },
  {
   "cell_type": "markdown",
   "metadata": {},
   "source": [
    "$$Precision@k = \\frac{1}{k}\\sum_{i=1}^{k} I\\left(d \\right)$$\n",
    "\n",
    "$I\\left(d \\right) \\in \\left\\{0, 1\\right\\}$, $I\\left(d \\right)$ — индикатор релевантности документа, $d$ — документ"
   ]
  },
  {
   "cell_type": "code",
   "execution_count": 28,
   "metadata": {},
   "outputs": [],
   "source": [
    "def calc_precision(column):\n",
    "    ####### Здесь ваш код ##########\n",
    "    return (\n",
    "        interactions\n",
    "        .apply(\n",
    "            lambda row:\n",
    "            len(set(row['true_test']).intersection(set(row[column]))) /\n",
    "            min(len(row['true_test']) + 0.001, 10.0),\n",
    "            axis=1)).mean()\n",
    "    ################################"
   ]
  },
  {
   "cell_type": "code",
   "execution_count": 29,
   "metadata": {},
   "outputs": [
    {
     "data": {
      "text/plain": [
       "0.006454207722621084"
      ]
     },
     "execution_count": 29,
     "metadata": {},
     "output_type": "execute_result"
    }
   ],
   "source": [
    "calc_precision('prediction_popular')"
   ]
  },
  {
   "cell_type": "markdown",
   "metadata": {},
   "source": [
    "## Часть 2. Коллаборативная фильтрация"
   ]
  },
  {
   "cell_type": "markdown",
   "metadata": {},
   "source": [
    "Перейдём к более сложному механизму рекомендаций, а именно коллаборативной фильтрации. Суть коллаборативной фильтрации в том, что учитывается схожесть пользователей и товаров между собой, а не факторы, которые их описывают. \n",
    "\n",
    "Для начала для удобства составим матрицу \"оценок\" пользователей. Нули будут обозначать отсутствие взаимодействия."
   ]
  },
  {
   "cell_type": "code",
   "execution_count": 34,
   "metadata": {},
   "outputs": [],
   "source": [
    "ratings = pd.pivot_table(\n",
    "    interactions_train_df,\n",
    "    values='eventStrength',\n",
    "    index='personId',\n",
    "    columns='contentId').fillna(0)"
   ]
  },
  {
   "cell_type": "code",
   "execution_count": 37,
   "metadata": {},
   "outputs": [
    {
     "data": {
      "text/html": [
       "<div>\n",
       "<style scoped>\n",
       "    .dataframe tbody tr th:only-of-type {\n",
       "        vertical-align: middle;\n",
       "    }\n",
       "\n",
       "    .dataframe tbody tr th {\n",
       "        vertical-align: top;\n",
       "    }\n",
       "\n",
       "    .dataframe thead th {\n",
       "        text-align: right;\n",
       "    }\n",
       "</style>\n",
       "<table border=\"1\" class=\"dataframe\">\n",
       "  <thead>\n",
       "    <tr style=\"text-align: right;\">\n",
       "      <th>contentId</th>\n",
       "      <th>-1006791494035379303</th>\n",
       "      <th>-1021685224930603833</th>\n",
       "      <th>-1022885988494278200</th>\n",
       "      <th>-1024046541613287684</th>\n",
       "      <th>-1033806831489252007</th>\n",
       "      <th>-1038011342017850</th>\n",
       "      <th>-1039912738963181810</th>\n",
       "      <th>-1046621686880462790</th>\n",
       "      <th>-1051830303851697653</th>\n",
       "      <th>-1055630159212837930</th>\n",
       "      <th>...</th>\n",
       "      <th>9217155070834564627</th>\n",
       "      <th>921770761777842242</th>\n",
       "      <th>9220445660318725468</th>\n",
       "      <th>9222265156747237864</th>\n",
       "      <th>943818026930898372</th>\n",
       "      <th>957332268361319692</th>\n",
       "      <th>966067567430037498</th>\n",
       "      <th>972258375127367383</th>\n",
       "      <th>980458131533897249</th>\n",
       "      <th>98528655405030624</th>\n",
       "    </tr>\n",
       "    <tr>\n",
       "      <th>personId</th>\n",
       "      <th></th>\n",
       "      <th></th>\n",
       "      <th></th>\n",
       "      <th></th>\n",
       "      <th></th>\n",
       "      <th></th>\n",
       "      <th></th>\n",
       "      <th></th>\n",
       "      <th></th>\n",
       "      <th></th>\n",
       "      <th></th>\n",
       "      <th></th>\n",
       "      <th></th>\n",
       "      <th></th>\n",
       "      <th></th>\n",
       "      <th></th>\n",
       "      <th></th>\n",
       "      <th></th>\n",
       "      <th></th>\n",
       "      <th></th>\n",
       "      <th></th>\n",
       "    </tr>\n",
       "  </thead>\n",
       "  <tbody>\n",
       "    <tr>\n",
       "      <td>-1007001694607905623</td>\n",
       "      <td>0.0</td>\n",
       "      <td>0.0</td>\n",
       "      <td>0.0</td>\n",
       "      <td>0.0</td>\n",
       "      <td>0.0</td>\n",
       "      <td>0.0</td>\n",
       "      <td>0.0</td>\n",
       "      <td>0.0</td>\n",
       "      <td>0.0</td>\n",
       "      <td>0.0</td>\n",
       "      <td>...</td>\n",
       "      <td>0.0</td>\n",
       "      <td>0.0</td>\n",
       "      <td>0.0</td>\n",
       "      <td>0.0</td>\n",
       "      <td>0.000000</td>\n",
       "      <td>0.0</td>\n",
       "      <td>0.0</td>\n",
       "      <td>0.0</td>\n",
       "      <td>0.0</td>\n",
       "      <td>0.0</td>\n",
       "    </tr>\n",
       "    <tr>\n",
       "      <td>-1032019229384696495</td>\n",
       "      <td>1.0</td>\n",
       "      <td>0.0</td>\n",
       "      <td>0.0</td>\n",
       "      <td>0.0</td>\n",
       "      <td>0.0</td>\n",
       "      <td>0.0</td>\n",
       "      <td>1.0</td>\n",
       "      <td>0.0</td>\n",
       "      <td>0.0</td>\n",
       "      <td>0.0</td>\n",
       "      <td>...</td>\n",
       "      <td>3.0</td>\n",
       "      <td>0.0</td>\n",
       "      <td>0.0</td>\n",
       "      <td>0.0</td>\n",
       "      <td>2.321928</td>\n",
       "      <td>0.0</td>\n",
       "      <td>0.0</td>\n",
       "      <td>0.0</td>\n",
       "      <td>0.0</td>\n",
       "      <td>0.0</td>\n",
       "    </tr>\n",
       "    <tr>\n",
       "      <td>-108842214936804958</td>\n",
       "      <td>0.0</td>\n",
       "      <td>0.0</td>\n",
       "      <td>0.0</td>\n",
       "      <td>0.0</td>\n",
       "      <td>0.0</td>\n",
       "      <td>0.0</td>\n",
       "      <td>0.0</td>\n",
       "      <td>0.0</td>\n",
       "      <td>0.0</td>\n",
       "      <td>0.0</td>\n",
       "      <td>...</td>\n",
       "      <td>0.0</td>\n",
       "      <td>0.0</td>\n",
       "      <td>0.0</td>\n",
       "      <td>0.0</td>\n",
       "      <td>0.000000</td>\n",
       "      <td>0.0</td>\n",
       "      <td>2.0</td>\n",
       "      <td>0.0</td>\n",
       "      <td>0.0</td>\n",
       "      <td>0.0</td>\n",
       "    </tr>\n",
       "    <tr>\n",
       "      <td>-1130272294246983140</td>\n",
       "      <td>0.0</td>\n",
       "      <td>0.0</td>\n",
       "      <td>0.0</td>\n",
       "      <td>0.0</td>\n",
       "      <td>0.0</td>\n",
       "      <td>0.0</td>\n",
       "      <td>0.0</td>\n",
       "      <td>0.0</td>\n",
       "      <td>0.0</td>\n",
       "      <td>0.0</td>\n",
       "      <td>...</td>\n",
       "      <td>0.0</td>\n",
       "      <td>0.0</td>\n",
       "      <td>0.0</td>\n",
       "      <td>0.0</td>\n",
       "      <td>1.000000</td>\n",
       "      <td>0.0</td>\n",
       "      <td>0.0</td>\n",
       "      <td>0.0</td>\n",
       "      <td>0.0</td>\n",
       "      <td>0.0</td>\n",
       "    </tr>\n",
       "    <tr>\n",
       "      <td>-1160159014793528221</td>\n",
       "      <td>0.0</td>\n",
       "      <td>0.0</td>\n",
       "      <td>0.0</td>\n",
       "      <td>0.0</td>\n",
       "      <td>0.0</td>\n",
       "      <td>0.0</td>\n",
       "      <td>0.0</td>\n",
       "      <td>0.0</td>\n",
       "      <td>0.0</td>\n",
       "      <td>0.0</td>\n",
       "      <td>...</td>\n",
       "      <td>0.0</td>\n",
       "      <td>0.0</td>\n",
       "      <td>0.0</td>\n",
       "      <td>0.0</td>\n",
       "      <td>0.000000</td>\n",
       "      <td>0.0</td>\n",
       "      <td>0.0</td>\n",
       "      <td>0.0</td>\n",
       "      <td>0.0</td>\n",
       "      <td>0.0</td>\n",
       "    </tr>\n",
       "  </tbody>\n",
       "</table>\n",
       "<p>5 rows × 2366 columns</p>\n",
       "</div>"
      ],
      "text/plain": [
       "contentId             -1006791494035379303  -1021685224930603833  \\\n",
       "personId                                                           \n",
       "-1007001694607905623                   0.0                   0.0   \n",
       "-1032019229384696495                   1.0                   0.0   \n",
       "-108842214936804958                    0.0                   0.0   \n",
       "-1130272294246983140                   0.0                   0.0   \n",
       "-1160159014793528221                   0.0                   0.0   \n",
       "\n",
       "contentId             -1022885988494278200  -1024046541613287684  \\\n",
       "personId                                                           \n",
       "-1007001694607905623                   0.0                   0.0   \n",
       "-1032019229384696495                   0.0                   0.0   \n",
       "-108842214936804958                    0.0                   0.0   \n",
       "-1130272294246983140                   0.0                   0.0   \n",
       "-1160159014793528221                   0.0                   0.0   \n",
       "\n",
       "contentId             -1033806831489252007  -1038011342017850  \\\n",
       "personId                                                        \n",
       "-1007001694607905623                   0.0                0.0   \n",
       "-1032019229384696495                   0.0                0.0   \n",
       "-108842214936804958                    0.0                0.0   \n",
       "-1130272294246983140                   0.0                0.0   \n",
       "-1160159014793528221                   0.0                0.0   \n",
       "\n",
       "contentId             -1039912738963181810  -1046621686880462790  \\\n",
       "personId                                                           \n",
       "-1007001694607905623                   0.0                   0.0   \n",
       "-1032019229384696495                   1.0                   0.0   \n",
       "-108842214936804958                    0.0                   0.0   \n",
       "-1130272294246983140                   0.0                   0.0   \n",
       "-1160159014793528221                   0.0                   0.0   \n",
       "\n",
       "contentId             -1051830303851697653  -1055630159212837930  ...  \\\n",
       "personId                                                          ...   \n",
       "-1007001694607905623                   0.0                   0.0  ...   \n",
       "-1032019229384696495                   0.0                   0.0  ...   \n",
       "-108842214936804958                    0.0                   0.0  ...   \n",
       "-1130272294246983140                   0.0                   0.0  ...   \n",
       "-1160159014793528221                   0.0                   0.0  ...   \n",
       "\n",
       "contentId             9217155070834564627  921770761777842242  \\\n",
       "personId                                                        \n",
       "-1007001694607905623                  0.0                 0.0   \n",
       "-1032019229384696495                  3.0                 0.0   \n",
       "-108842214936804958                   0.0                 0.0   \n",
       "-1130272294246983140                  0.0                 0.0   \n",
       "-1160159014793528221                  0.0                 0.0   \n",
       "\n",
       "contentId             9220445660318725468  9222265156747237864  \\\n",
       "personId                                                         \n",
       "-1007001694607905623                  0.0                  0.0   \n",
       "-1032019229384696495                  0.0                  0.0   \n",
       "-108842214936804958                   0.0                  0.0   \n",
       "-1130272294246983140                  0.0                  0.0   \n",
       "-1160159014793528221                  0.0                  0.0   \n",
       "\n",
       "contentId             943818026930898372  957332268361319692  \\\n",
       "personId                                                       \n",
       "-1007001694607905623            0.000000                 0.0   \n",
       "-1032019229384696495            2.321928                 0.0   \n",
       "-108842214936804958             0.000000                 0.0   \n",
       "-1130272294246983140            1.000000                 0.0   \n",
       "-1160159014793528221            0.000000                 0.0   \n",
       "\n",
       "contentId             966067567430037498  972258375127367383  \\\n",
       "personId                                                       \n",
       "-1007001694607905623                 0.0                 0.0   \n",
       "-1032019229384696495                 0.0                 0.0   \n",
       "-108842214936804958                  2.0                 0.0   \n",
       "-1130272294246983140                 0.0                 0.0   \n",
       "-1160159014793528221                 0.0                 0.0   \n",
       "\n",
       "contentId             980458131533897249  98528655405030624  \n",
       "personId                                                     \n",
       "-1007001694607905623                 0.0                0.0  \n",
       "-1032019229384696495                 0.0                0.0  \n",
       "-108842214936804958                  0.0                0.0  \n",
       "-1130272294246983140                 0.0                0.0  \n",
       "-1160159014793528221                 0.0                0.0  \n",
       "\n",
       "[5 rows x 2366 columns]"
      ]
     },
     "execution_count": 37,
     "metadata": {},
     "output_type": "execute_result"
    }
   ],
   "source": [
    "ratings.head()"
   ]
  },
  {
   "cell_type": "markdown",
   "metadata": {},
   "source": [
    "### Memory-based"
   ]
  },
  {
   "cell_type": "markdown",
   "metadata": {},
   "source": [
    "Посчитаем схожести пользователей с помощью корреляции Пирсона. Для каждой пары учитываем только ненулевые значения.\n",
    "\n",
    "Для скорости работы лучше переходить от **pandas** к **numpy**."
   ]
  },
  {
   "cell_type": "code",
   "execution_count": 38,
   "metadata": {},
   "outputs": [],
   "source": [
    "ratings_m = ratings.values"
   ]
  },
  {
   "cell_type": "code",
   "execution_count": 39,
   "metadata": {},
   "outputs": [
    {
     "data": {
      "application/vnd.jupyter.widget-view+json": {
       "model_id": "18831f903f294a07b88d3857073ec5d6",
       "version_major": 2,
       "version_minor": 0
      },
      "text/plain": [
       "HBox(children=(IntProgress(value=0, max=1111), HTML(value='')))"
      ]
     },
     "metadata": {},
     "output_type": "display_data"
    },
    {
     "name": "stdout",
     "output_type": "stream",
     "text": [
      "\n"
     ]
    }
   ],
   "source": [
    "similarity_users = np.zeros((len(ratings_m), len(ratings_m)))\n",
    "\n",
    "for i in tqdm_notebook(range(len(ratings_m)-1)):\n",
    "    for j in range(i+1, len(ratings_m)):\n",
    "        \n",
    "        # nonzero elements of two users\n",
    "        mask_uv = (ratings_m[i] != 0) & (ratings_m[j] != 0)\n",
    "        \n",
    "        # continue if no intersection\n",
    "        if np.sum(mask_uv) == 0:\n",
    "            continue\n",
    "            \n",
    "        # get nonzero elements\n",
    "        ratings_v = ratings_m[i, mask_uv]\n",
    "        ratings_u = ratings_m[j, mask_uv]\n",
    "        \n",
    "        # for nonzero std\n",
    "        if len(np.unique(ratings_v)) < 2 or len(np.unique(ratings_u)) < 2:\n",
    "            continue\n",
    "            \n",
    "        # similarity_users[i,j] = \n",
    "        # similarity_users[j,i] = \n",
    "        ####### Здесь ваш код ##########\n",
    "        similarity_users[i,j] = np.corrcoef(ratings_v, ratings_u)[0, 1]\n",
    "        similarity_users[j,i] = similarity_users[i,j]\n",
    "        ################################"
   ]
  },
  {
   "cell_type": "markdown",
   "metadata": {},
   "source": [
    "Теперь у нас есть матрицы схожести пользователей. Их можно использовать для рекомендаций.\n",
    "\n",
    "Для каждого пользователя:\n",
    "\n",
    "1. Найдём пользователей с похожестью больше $\\alpha$ на нашего пользователя.\n",
    "2. Посчитаем для каждой статьи долю пользователей (среди выделенных на первом шаге), которые взаимодействовали со статьёй.\n",
    "3. Порекомендуем статьи с наибольшими долями со второго шага (среди тех, которые пользователь ещё не видел).\n",
    "\n",
    "В нашем примере данных не очень много, поэтому возьмём $\\alpha = 0$.\n",
    "\n",
    "После того, как будут сделаны предсказания (новый столбец в `interactions`), посчитаем качество по уже использованной метрике."
   ]
  },
  {
   "cell_type": "code",
   "execution_count": 40,
   "metadata": {},
   "outputs": [
    {
     "data": {
      "application/vnd.jupyter.widget-view+json": {
       "model_id": "11eb52bfd21b448ca1741a61033af741",
       "version_major": 2,
       "version_minor": 0
      },
      "text/plain": [
       "HBox(children=(IntProgress(value=0, max=1112), HTML(value='')))"
      ]
     },
     "metadata": {},
     "output_type": "display_data"
    },
    {
     "name": "stderr",
     "output_type": "stream",
     "text": [
      "C:\\Users\\mi\\Anaconda3\\lib\\site-packages\\numpy\\lib\\arraysetops.py:568: FutureWarning: elementwise comparison failed; returning scalar instead, but in the future will perform elementwise comparison\n",
      "  mask |= (ar1 == a)\n"
     ]
    },
    {
     "name": "stdout",
     "output_type": "stream",
     "text": [
      "\n"
     ]
    }
   ],
   "source": [
    "prediction_user_based = []\n",
    "####### Здесь ваш код ##########\n",
    "for i in tqdm_notebook(range(len(similarity_users))):\n",
    "    users_sim = similarity_users[i] > 0\n",
    "    \n",
    "    if len(users_sim) == 0:\n",
    "        prediction_user_based.append([])\n",
    "    else:\n",
    "        tmp_recommend = np.argsort(ratings_m[users_sim].sum(axis=0))[::-1]\n",
    "        tmp_recommend = ratings.columns[tmp_recommend]\n",
    "        \n",
    "        recommend = np.array(tmp_recommend)[~np.isin(tmp_recommend, interactions.iloc[i])][:10]\n",
    "        \n",
    "        prediction_user_based.append(list(recommend))\n",
    "################################\n",
    "interactions['prediction_user_based'] = prediction_user_based"
   ]
  },
  {
   "cell_type": "code",
   "execution_count": 41,
   "metadata": {},
   "outputs": [
    {
     "data": {
      "text/plain": [
       "0.003541692918885617"
      ]
     },
     "execution_count": 41,
     "metadata": {},
     "output_type": "execute_result"
    }
   ],
   "source": [
    "calc_precision('prediction_user_based')"
   ]
  },
  {
   "cell_type": "markdown",
   "metadata": {},
   "source": [
    "### Модель со скрытыми переменными"
   ]
  },
  {
   "cell_type": "markdown",
   "metadata": {},
   "source": [
    "Реализуем подход с разложением матрицы оценок. Для этого сделаем сингулярное разложение (`svd` в `scipy.linalg`) для `ratings`, на выходе получим три матрицы.\n",
    "\n",
    "Заметим, что мы используем матрицу с нулями, будто отсутствующие взаимодействия негативные, что странно.\n",
    "\n",
    "Если бы мы учили модель со скрытыми переменными с помощью стохастического градиентного спуска, то неизвестные взаимодействия могли бы не использовать."
   ]
  },
  {
   "cell_type": "code",
   "execution_count": 42,
   "metadata": {},
   "outputs": [],
   "source": [
    "from scipy.linalg import svd"
   ]
  },
  {
   "cell_type": "code",
   "execution_count": 43,
   "metadata": {},
   "outputs": [
    {
     "name": "stdout",
     "output_type": "stream",
     "text": [
      "(1112, 2366) (1112, 1112) (1112,) (2366, 2366)\n"
     ]
    }
   ],
   "source": [
    "####### Здесь ваш код ##########\n",
    "U, sigma, V = svd(ratings)\n",
    "\n",
    "print(ratings.shape, U.shape, sigma.shape, V.shape)\n",
    "################################"
   ]
  },
  {
   "cell_type": "code",
   "execution_count": 44,
   "metadata": {},
   "outputs": [
    {
     "name": "stdout",
     "output_type": "stream",
     "text": [
      "8.458724845297917e-25\n"
     ]
    }
   ],
   "source": [
    "####### Здесь ваш код ##########\n",
    "Sigma = np.zeros((1112, 2366))\n",
    "Sigma[:1112, :1112] = np.diag(sigma)\n",
    "\n",
    "new_ratings = U.dot(Sigma).dot(V)\n",
    "\n",
    "print(sum(sum((new_ratings - ratings.values) ** 2)))\n",
    "################################"
   ]
  },
  {
   "cell_type": "markdown",
   "metadata": {},
   "source": [
    "Значения у матрицы с сингулярными числами отсортированы по убыванию. Допустим мы хотим оставить только первые 100 компонент (и получить скрытые представления размерности 100). Для этого необходимо оставить 100 столбцов в матрице $U$, оставить из $sigma$ только первые 100 значений (и сделать из них диагональную матрицу) и 100 столбцов в матрице $V$. Перемножим преобразованные матрицы ($\\hat{U}, \\hat{sigma}, \\hat{V^T}$), чтобы получить восстановленную матрицу оценок."
   ]
  },
  {
   "cell_type": "code",
   "execution_count": 45,
   "metadata": {},
   "outputs": [],
   "source": [
    "K = 100\n",
    "####### Здесь ваш код ##########\n",
    "sigma[K:] = 0\n",
    "Sigma = np.zeros((1112, 2366))\n",
    "Sigma[:1112, :1112] = np.diag(sigma)\n",
    "################################"
   ]
  },
  {
   "cell_type": "markdown",
   "metadata": {},
   "source": [
    "Посчитаем качество аппроксимации матрицы по норме Фробениуса (среднеквадратичную ошибку между всеми элементами соответствующими элементами двух матриц). Сравним его с простым бейзлайном с константным значением, равным среднему значению исходной матрицы. У аппроксимации ошибка должна получиться ниже."
   ]
  },
  {
   "cell_type": "code",
   "execution_count": 46,
   "metadata": {},
   "outputs": [
    {
     "name": "stdout",
     "output_type": "stream",
     "text": [
      "25843.42489891277\n",
      "78622.13000466056\n"
     ]
    }
   ],
   "source": [
    "####### Здесь ваш код ##########\n",
    "new_ratings = U.dot(Sigma).dot(V)\n",
    "\n",
    "print(sum(sum((new_ratings - ratings.values) ** 2)))\n",
    "print(sum(sum((ratings.values.mean() - ratings.values) ** 2)))\n",
    "################################"
   ]
  },
  {
   "cell_type": "markdown",
   "metadata": {},
   "source": [
    "Теперь можно делать предсказания по матрице. Сделаем их (не забываем про то, что уже было просмотрено пользователем), оценим качество. Для этого необходимо для каждого пользователя найти предметы с наибольшими оценками в восстановленной матрице."
   ]
  },
  {
   "cell_type": "code",
   "execution_count": 47,
   "metadata": {},
   "outputs": [
    {
     "data": {
      "application/vnd.jupyter.widget-view+json": {
       "model_id": "a859cb0098684325af7cf5386dc86159",
       "version_major": 2,
       "version_minor": 0
      },
      "text/plain": [
       "HBox(children=(IntProgress(value=0, max=1112), HTML(value='')))"
      ]
     },
     "metadata": {},
     "output_type": "display_data"
    },
    {
     "name": "stdout",
     "output_type": "stream",
     "text": [
      "\n"
     ]
    }
   ],
   "source": [
    "new_ratings = pd.DataFrame(new_ratings, index=ratings.index, columns=ratings.columns)\n",
    "\n",
    "predictions = []\n",
    "####### Здесь ваш код ##########\n",
    "for personId in tqdm_notebook(interactions.index):\n",
    "    prediction = (\n",
    "        new_ratings\n",
    "        .loc[personId]\n",
    "        .sort_values(ascending=False)\n",
    "        .index.values\n",
    "    )\n",
    "    \n",
    "    predictions.append(\n",
    "        list(prediction[~np.isin(prediction,\n",
    "            interactions.loc[personId, 'true_train'])])[:top_k])\n",
    "################################\n",
    "interactions['prediction_svd'] = predictions"
   ]
  },
  {
   "cell_type": "code",
   "execution_count": 48,
   "metadata": {
    "scrolled": true
   },
   "outputs": [
    {
     "data": {
      "text/plain": [
       "0.012212989310270754"
      ]
     },
     "execution_count": 48,
     "metadata": {},
     "output_type": "execute_result"
    }
   ],
   "source": [
    "calc_precision('prediction_svd')"
   ]
  },
  {
   "cell_type": "markdown",
   "metadata": {},
   "source": [
    "## Часть 3. Контентные модели"
   ]
  },
  {
   "cell_type": "markdown",
   "metadata": {},
   "source": [
    "В этой части реализуем альтернативных подход к рекомендательным системам — контентные модели."
   ]
  },
  {
   "cell_type": "markdown",
   "metadata": {},
   "source": [
    "Теперь мы будем оперировать не матрицей с оценками, а классической для машинного обучения матрицей объекты-признаки. Каждый объект будет характеризовать пару user-item и содержать признаки, описывающие как пользователя, так и товар. Кроме этого признаки могут описывать и саму пару целиком.\n",
    "\n",
    "Матрица со всеми взаимодействиями уже получена нами на этапа разбиения выборки на 2 части. \n",
    "\n",
    "Будем обучать классификатор на взаимодействие, а для него нужны отрицательные примеры. Добавим случайные отсутствующие взаимодействия как отрицательные.\n",
    "\n",
    "Заметим, что модель оценивает каждую пару потенциального взаимодействия, а значит, надо подготовить выборку из всех возможных пар из пользователей и статей."
   ]
  },
  {
   "cell_type": "code",
   "execution_count": 49,
   "metadata": {},
   "outputs": [],
   "source": [
    "test_personId = np.repeat(interactions.index, len(ratings.columns)) \n",
    "test_contentId = list(ratings.columns) * len(interactions)\n",
    "\n",
    "test = pd.DataFrame(\n",
    "    np.array([test_personId, test_contentId]).T,\n",
    "    columns=['personId', 'contentId'])\n",
    "\n",
    "interactions_train_df = pd.concat((\n",
    "    interactions_train_df,\n",
    "    test.loc[np.random.permutation(test.index)[:4*len(interactions_train_df)]]), ignore_index=True, sort=True)\n",
    "\n",
    "interactions_train_df['eventStrength'].fillna(0, inplace=True)"
   ]
  },
  {
   "cell_type": "markdown",
   "metadata": {},
   "source": [
    "Придумаем и добавим признаков о пользователях и статьях. Сначала добавим информацию о статьях в данные о взаимодействиях."
   ]
  },
  {
   "cell_type": "code",
   "execution_count": 50,
   "metadata": {},
   "outputs": [],
   "source": [
    "interactions_train_df = interactions_train_df.merge(articles_df, how='left', on='contentId')\n",
    "interactions_test_df = interactions_test_df.merge(articles_df, how='left', on='contentId')"
   ]
  },
  {
   "cell_type": "code",
   "execution_count": 51,
   "metadata": {},
   "outputs": [],
   "source": [
    "# first feature index\n",
    "features_start = len(interactions_train_df.columns)"
   ]
  },
  {
   "cell_type": "markdown",
   "metadata": {},
   "source": [
    "После обучения модели нам придётся делать предсказания на тестовой выборке для всех возможных пар статья-пользователь. Подготовим такую матрицу, чтобы параллельно посчитать признаки для неё."
   ]
  },
  {
   "cell_type": "code",
   "execution_count": 52,
   "metadata": {},
   "outputs": [
    {
     "data": {
      "text/html": [
       "<div>\n",
       "<style scoped>\n",
       "    .dataframe tbody tr th:only-of-type {\n",
       "        vertical-align: middle;\n",
       "    }\n",
       "\n",
       "    .dataframe tbody tr th {\n",
       "        vertical-align: top;\n",
       "    }\n",
       "\n",
       "    .dataframe thead th {\n",
       "        text-align: right;\n",
       "    }\n",
       "</style>\n",
       "<table border=\"1\" class=\"dataframe\">\n",
       "  <thead>\n",
       "    <tr style=\"text-align: right;\">\n",
       "      <th></th>\n",
       "      <th>personId</th>\n",
       "      <th>contentId</th>\n",
       "      <th>timestamp</th>\n",
       "      <th>eventType</th>\n",
       "      <th>authorPersonId</th>\n",
       "      <th>authorSessionId</th>\n",
       "      <th>authorUserAgent</th>\n",
       "      <th>authorRegion</th>\n",
       "      <th>authorCountry</th>\n",
       "      <th>contentType</th>\n",
       "      <th>url</th>\n",
       "      <th>title</th>\n",
       "      <th>text</th>\n",
       "      <th>lang</th>\n",
       "    </tr>\n",
       "  </thead>\n",
       "  <tbody>\n",
       "    <tr>\n",
       "      <td>0</td>\n",
       "      <td>-1007001694607905623</td>\n",
       "      <td>-4110354420726924665</td>\n",
       "      <td>1459193988</td>\n",
       "      <td>CONTENT SHARED</td>\n",
       "      <td>4340306774493623681</td>\n",
       "      <td>8940341205206233829</td>\n",
       "      <td>NaN</td>\n",
       "      <td>NaN</td>\n",
       "      <td>NaN</td>\n",
       "      <td>HTML</td>\n",
       "      <td>http://www.nytimes.com/2016/03/28/business/dea...</td>\n",
       "      <td>Ethereum, a Virtual Currency, Enables Transact...</td>\n",
       "      <td>All of this work is still very early. The firs...</td>\n",
       "      <td>en</td>\n",
       "    </tr>\n",
       "    <tr>\n",
       "      <td>1</td>\n",
       "      <td>-1007001694607905623</td>\n",
       "      <td>-7292285110016212249</td>\n",
       "      <td>1459194146</td>\n",
       "      <td>CONTENT SHARED</td>\n",
       "      <td>4340306774493623681</td>\n",
       "      <td>8940341205206233829</td>\n",
       "      <td>NaN</td>\n",
       "      <td>NaN</td>\n",
       "      <td>NaN</td>\n",
       "      <td>HTML</td>\n",
       "      <td>http://cointelegraph.com/news/bitcoin-future-w...</td>\n",
       "      <td>Bitcoin Future: When GBPcoin of Branson Wins O...</td>\n",
       "      <td>The alarm clock wakes me at 8:00 with stream o...</td>\n",
       "      <td>en</td>\n",
       "    </tr>\n",
       "    <tr>\n",
       "      <td>2</td>\n",
       "      <td>-1007001694607905623</td>\n",
       "      <td>-6151852268067518688</td>\n",
       "      <td>1459194474</td>\n",
       "      <td>CONTENT SHARED</td>\n",
       "      <td>3891637997717104548</td>\n",
       "      <td>-1457532940883382585</td>\n",
       "      <td>NaN</td>\n",
       "      <td>NaN</td>\n",
       "      <td>NaN</td>\n",
       "      <td>HTML</td>\n",
       "      <td>https://cloudplatform.googleblog.com/2016/03/G...</td>\n",
       "      <td>Google Data Center 360° Tour</td>\n",
       "      <td>We're excited to share the Google Data Center ...</td>\n",
       "      <td>en</td>\n",
       "    </tr>\n",
       "    <tr>\n",
       "      <td>3</td>\n",
       "      <td>-1007001694607905623</td>\n",
       "      <td>2448026894306402386</td>\n",
       "      <td>1459194497</td>\n",
       "      <td>CONTENT SHARED</td>\n",
       "      <td>4340306774493623681</td>\n",
       "      <td>8940341205206233829</td>\n",
       "      <td>NaN</td>\n",
       "      <td>NaN</td>\n",
       "      <td>NaN</td>\n",
       "      <td>HTML</td>\n",
       "      <td>https://bitcoinmagazine.com/articles/ibm-wants...</td>\n",
       "      <td>IBM Wants to \"Evolve the Internet\" With Blockc...</td>\n",
       "      <td>The Aite Group projects the blockchain market ...</td>\n",
       "      <td>en</td>\n",
       "    </tr>\n",
       "    <tr>\n",
       "      <td>4</td>\n",
       "      <td>-1007001694607905623</td>\n",
       "      <td>-2826566343807132236</td>\n",
       "      <td>1459194522</td>\n",
       "      <td>CONTENT SHARED</td>\n",
       "      <td>4340306774493623681</td>\n",
       "      <td>8940341205206233829</td>\n",
       "      <td>NaN</td>\n",
       "      <td>NaN</td>\n",
       "      <td>NaN</td>\n",
       "      <td>HTML</td>\n",
       "      <td>http://www.coindesk.com/ieee-blockchain-oxford...</td>\n",
       "      <td>IEEE to Talk Blockchain at Cloud Computing Oxf...</td>\n",
       "      <td>One of the largest and oldest organizations fo...</td>\n",
       "      <td>en</td>\n",
       "    </tr>\n",
       "  </tbody>\n",
       "</table>\n",
       "</div>"
      ],
      "text/plain": [
       "               personId             contentId   timestamp       eventType  \\\n",
       "0  -1007001694607905623  -4110354420726924665  1459193988  CONTENT SHARED   \n",
       "1  -1007001694607905623  -7292285110016212249  1459194146  CONTENT SHARED   \n",
       "2  -1007001694607905623  -6151852268067518688  1459194474  CONTENT SHARED   \n",
       "3  -1007001694607905623   2448026894306402386  1459194497  CONTENT SHARED   \n",
       "4  -1007001694607905623  -2826566343807132236  1459194522  CONTENT SHARED   \n",
       "\n",
       "        authorPersonId      authorSessionId authorUserAgent authorRegion  \\\n",
       "0  4340306774493623681  8940341205206233829             NaN          NaN   \n",
       "1  4340306774493623681  8940341205206233829             NaN          NaN   \n",
       "2  3891637997717104548 -1457532940883382585             NaN          NaN   \n",
       "3  4340306774493623681  8940341205206233829             NaN          NaN   \n",
       "4  4340306774493623681  8940341205206233829             NaN          NaN   \n",
       "\n",
       "  authorCountry contentType  \\\n",
       "0           NaN        HTML   \n",
       "1           NaN        HTML   \n",
       "2           NaN        HTML   \n",
       "3           NaN        HTML   \n",
       "4           NaN        HTML   \n",
       "\n",
       "                                                 url  \\\n",
       "0  http://www.nytimes.com/2016/03/28/business/dea...   \n",
       "1  http://cointelegraph.com/news/bitcoin-future-w...   \n",
       "2  https://cloudplatform.googleblog.com/2016/03/G...   \n",
       "3  https://bitcoinmagazine.com/articles/ibm-wants...   \n",
       "4  http://www.coindesk.com/ieee-blockchain-oxford...   \n",
       "\n",
       "                                               title  \\\n",
       "0  Ethereum, a Virtual Currency, Enables Transact...   \n",
       "1  Bitcoin Future: When GBPcoin of Branson Wins O...   \n",
       "2                       Google Data Center 360° Tour   \n",
       "3  IBM Wants to \"Evolve the Internet\" With Blockc...   \n",
       "4  IEEE to Talk Blockchain at Cloud Computing Oxf...   \n",
       "\n",
       "                                                text lang  \n",
       "0  All of this work is still very early. The firs...   en  \n",
       "1  The alarm clock wakes me at 8:00 with stream o...   en  \n",
       "2  We're excited to share the Google Data Center ...   en  \n",
       "3  The Aite Group projects the blockchain market ...   en  \n",
       "4  One of the largest and oldest organizations fo...   en  "
      ]
     },
     "execution_count": 52,
     "metadata": {},
     "output_type": "execute_result"
    }
   ],
   "source": [
    "test_personId = np.repeat(interactions.index, len(articles_df)) \n",
    "test_contentId = list(articles_df.contentId) * len(interactions)\n",
    "\n",
    "test = pd.DataFrame(\n",
    "    np.array([test_personId, test_contentId]).T,\n",
    "    columns=['personId', 'contentId'])\n",
    "\n",
    "test = test.merge(articles_df, how='left', on='contentId')\n",
    "\n",
    "test.head()"
   ]
  },
  {
   "cell_type": "markdown",
   "metadata": {},
   "source": [
    "Добавим признаки-индикаторы возможных значений `contentType`."
   ]
  },
  {
   "cell_type": "code",
   "execution_count": 53,
   "metadata": {},
   "outputs": [],
   "source": [
    "interactions_train_df['is_HTML'] = interactions_train_df['contentType'] == 'HTML'\n",
    "\n",
    "####### Здесь ваш код ##########\n",
    "interactions_train_df['is_RICH'] = interactions_train_df['contentType'] == 'RICH'\n",
    "interactions_train_df['is_VIDEO'] = interactions_train_df['contentType'] == 'VIDEO'\n",
    "\n",
    "test['is_HTML'] = test['contentType'] == 'HTML'\n",
    "test['is_RICH'] = test['contentType'] == 'RICH'\n",
    "test['is_VIDEO'] = test['contentType'] == 'VIDEO'\n",
    "################################"
   ]
  },
  {
   "cell_type": "markdown",
   "metadata": {},
   "source": [
    "Добавим признаки \"длина названия\" и \"длина текста\" + некоторые проверки на ключевые слова (new, why, how, ai)."
   ]
  },
  {
   "cell_type": "code",
   "execution_count": 54,
   "metadata": {},
   "outputs": [],
   "source": [
    "interactions_train_df['title_length'] = interactions_train_df['title'].fillna('').apply(len)\n",
    "\n",
    "####### Здесь ваш код ##########\n",
    "interactions_train_df['text_length'] = interactions_train_df['text'].fillna('').apply(len)\n",
    "\n",
    "test['title_length'] = test['title'].fillna('').apply(len)\n",
    "test['text_length'] = test['text'].fillna('').apply(len)\n",
    "\n",
    "interactions_train_df['has_new'] = \\\n",
    "    interactions_train_df['title'].fillna('').apply(lambda x: 'new' in x.lower())\n",
    "interactions_train_df['has_why'] = \\\n",
    "    interactions_train_df['title'].fillna('').apply(lambda x: 'why' in x.lower())\n",
    "interactions_train_df['has_how'] = \\\n",
    "    interactions_train_df['title'].fillna('').apply(lambda x: 'how' in x.lower())\n",
    "interactions_train_df['has_ai'] = \\\n",
    "    interactions_train_df['title'].fillna('').apply(lambda x: 'ai' in x.lower())\n",
    "\n",
    "test['has_new'] = \\\n",
    "    test['title'].fillna('').apply(lambda x: 'new' in x.lower())\n",
    "test['has_why'] = \\\n",
    "    test['title'].fillna('').apply(lambda x: 'why' in x.lower())\n",
    "test['has_how'] = \\\n",
    "    test['title'].fillna('').apply(lambda x: 'how' in x.lower())\n",
    "test['has_ai'] = \\\n",
    "    test['title'].fillna('').apply(lambda x: 'ai' in x.lower())\n",
    "################################"
   ]
  },
  {
   "cell_type": "markdown",
   "metadata": {},
   "source": [
    "Добавим признаки-индикаторы языка."
   ]
  },
  {
   "cell_type": "code",
   "execution_count": 55,
   "metadata": {},
   "outputs": [],
   "source": [
    "interactions_train_df['is_lang_en'] = interactions_train_df['lang'] == 'en'\n",
    "\n",
    "####### Здесь ваш код ##########\n",
    "interactions_train_df['is_lang_pt'] = interactions_train_df['lang'] == 'pt'\n",
    "\n",
    "test['is_lang_en'] = test['lang'] == 'en'\n",
    "test['is_lang_pt'] = test['lang'] == 'pt'\n",
    "################################"
   ]
  },
  {
   "cell_type": "markdown",
   "metadata": {},
   "source": [
    "Обучим на полученных признаках градиентный бустинг."
   ]
  },
  {
   "cell_type": "code",
   "execution_count": 56,
   "metadata": {
    "scrolled": true
   },
   "outputs": [
    {
     "name": "stdout",
     "output_type": "stream",
     "text": [
      "Learning rate set to 0.068735\n",
      "0:\tlearn: 0.6652404\ttotal: 120ms\tremaining: 1m 59s\n",
      "1:\tlearn: 0.6409615\ttotal: 162ms\tremaining: 1m 21s\n",
      "2:\tlearn: 0.6205150\ttotal: 188ms\tremaining: 1m 2s\n",
      "3:\tlearn: 0.6029438\ttotal: 220ms\tremaining: 54.9s\n",
      "4:\tlearn: 0.5876624\ttotal: 258ms\tremaining: 51.4s\n",
      "5:\tlearn: 0.5745231\ttotal: 302ms\tremaining: 50s\n",
      "6:\tlearn: 0.5633933\ttotal: 335ms\tremaining: 47.6s\n",
      "7:\tlearn: 0.5536107\ttotal: 374ms\tremaining: 46.3s\n",
      "8:\tlearn: 0.5455481\ttotal: 409ms\tremaining: 45.1s\n",
      "9:\tlearn: 0.5386732\ttotal: 439ms\tremaining: 43.4s\n",
      "10:\tlearn: 0.5327859\ttotal: 465ms\tremaining: 41.8s\n",
      "11:\tlearn: 0.5275126\ttotal: 505ms\tremaining: 41.5s\n",
      "12:\tlearn: 0.5229317\ttotal: 544ms\tremaining: 41.3s\n",
      "13:\tlearn: 0.5192336\ttotal: 568ms\tremaining: 40s\n",
      "14:\tlearn: 0.5158439\ttotal: 607ms\tremaining: 39.8s\n",
      "15:\tlearn: 0.5128339\ttotal: 645ms\tremaining: 39.7s\n",
      "16:\tlearn: 0.5102146\ttotal: 682ms\tremaining: 39.4s\n",
      "17:\tlearn: 0.5081048\ttotal: 737ms\tremaining: 40.2s\n",
      "18:\tlearn: 0.5063607\ttotal: 770ms\tremaining: 39.7s\n",
      "19:\tlearn: 0.5047245\ttotal: 817ms\tremaining: 40.1s\n",
      "20:\tlearn: 0.5033043\ttotal: 855ms\tremaining: 39.8s\n",
      "21:\tlearn: 0.5020195\ttotal: 905ms\tremaining: 40.3s\n",
      "22:\tlearn: 0.5010214\ttotal: 951ms\tremaining: 40.4s\n",
      "23:\tlearn: 0.4999234\ttotal: 1000ms\tremaining: 40.6s\n",
      "24:\tlearn: 0.4990007\ttotal: 1.04s\tremaining: 40.4s\n",
      "25:\tlearn: 0.4981121\ttotal: 1.07s\tremaining: 40.3s\n",
      "26:\tlearn: 0.4972504\ttotal: 1.11s\tremaining: 39.9s\n",
      "27:\tlearn: 0.4966182\ttotal: 1.14s\tremaining: 39.7s\n",
      "28:\tlearn: 0.4959993\ttotal: 1.18s\tremaining: 39.4s\n",
      "29:\tlearn: 0.4954740\ttotal: 1.21s\tremaining: 39.3s\n",
      "30:\tlearn: 0.4949591\ttotal: 1.25s\tremaining: 39.1s\n",
      "31:\tlearn: 0.4945380\ttotal: 1.29s\tremaining: 39.1s\n",
      "32:\tlearn: 0.4940741\ttotal: 1.33s\tremaining: 38.9s\n",
      "33:\tlearn: 0.4938358\ttotal: 1.35s\tremaining: 38.5s\n",
      "34:\tlearn: 0.4934741\ttotal: 1.39s\tremaining: 38.3s\n",
      "35:\tlearn: 0.4932458\ttotal: 1.43s\tremaining: 38.3s\n",
      "36:\tlearn: 0.4929993\ttotal: 1.47s\tremaining: 38.3s\n",
      "37:\tlearn: 0.4926915\ttotal: 1.51s\tremaining: 38.3s\n",
      "38:\tlearn: 0.4924621\ttotal: 1.55s\tremaining: 38.2s\n",
      "39:\tlearn: 0.4922649\ttotal: 1.59s\tremaining: 38.1s\n",
      "40:\tlearn: 0.4920683\ttotal: 1.62s\tremaining: 38s\n",
      "41:\tlearn: 0.4918370\ttotal: 1.66s\tremaining: 37.8s\n",
      "42:\tlearn: 0.4915774\ttotal: 1.69s\tremaining: 37.7s\n",
      "43:\tlearn: 0.4914400\ttotal: 1.74s\tremaining: 37.7s\n",
      "44:\tlearn: 0.4913080\ttotal: 1.77s\tremaining: 37.7s\n",
      "45:\tlearn: 0.4911388\ttotal: 1.81s\tremaining: 37.6s\n",
      "46:\tlearn: 0.4909298\ttotal: 1.85s\tremaining: 37.5s\n",
      "47:\tlearn: 0.4907978\ttotal: 1.89s\tremaining: 37.4s\n",
      "48:\tlearn: 0.4906455\ttotal: 1.93s\tremaining: 37.4s\n",
      "49:\tlearn: 0.4904684\ttotal: 1.96s\tremaining: 37.3s\n",
      "50:\tlearn: 0.4903091\ttotal: 2s\tremaining: 37.2s\n",
      "51:\tlearn: 0.4901307\ttotal: 2.04s\tremaining: 37.1s\n",
      "52:\tlearn: 0.4900807\ttotal: 2.07s\tremaining: 37s\n",
      "53:\tlearn: 0.4899012\ttotal: 2.11s\tremaining: 37s\n",
      "54:\tlearn: 0.4898205\ttotal: 2.15s\tremaining: 37s\n",
      "55:\tlearn: 0.4896696\ttotal: 2.19s\tremaining: 36.9s\n",
      "56:\tlearn: 0.4894603\ttotal: 2.22s\tremaining: 36.8s\n",
      "57:\tlearn: 0.4893256\ttotal: 2.26s\tremaining: 36.7s\n",
      "58:\tlearn: 0.4891872\ttotal: 2.3s\tremaining: 36.7s\n",
      "59:\tlearn: 0.4890339\ttotal: 2.33s\tremaining: 36.6s\n",
      "60:\tlearn: 0.4888943\ttotal: 2.37s\tremaining: 36.5s\n",
      "61:\tlearn: 0.4887305\ttotal: 2.41s\tremaining: 36.4s\n",
      "62:\tlearn: 0.4886031\ttotal: 2.44s\tremaining: 36.4s\n",
      "63:\tlearn: 0.4884169\ttotal: 2.48s\tremaining: 36.3s\n",
      "64:\tlearn: 0.4882819\ttotal: 2.52s\tremaining: 36.3s\n",
      "65:\tlearn: 0.4882348\ttotal: 2.56s\tremaining: 36.3s\n",
      "66:\tlearn: 0.4880399\ttotal: 2.6s\tremaining: 36.2s\n",
      "67:\tlearn: 0.4879221\ttotal: 2.63s\tremaining: 36.1s\n",
      "68:\tlearn: 0.4878139\ttotal: 2.67s\tremaining: 36s\n",
      "69:\tlearn: 0.4876958\ttotal: 2.71s\tremaining: 36s\n",
      "70:\tlearn: 0.4876626\ttotal: 2.74s\tremaining: 35.9s\n",
      "71:\tlearn: 0.4875367\ttotal: 2.78s\tremaining: 35.8s\n",
      "72:\tlearn: 0.4874272\ttotal: 2.82s\tremaining: 35.8s\n",
      "73:\tlearn: 0.4873581\ttotal: 2.85s\tremaining: 35.7s\n",
      "74:\tlearn: 0.4872910\ttotal: 2.89s\tremaining: 35.7s\n",
      "75:\tlearn: 0.4872081\ttotal: 2.93s\tremaining: 35.6s\n",
      "76:\tlearn: 0.4871909\ttotal: 2.97s\tremaining: 35.6s\n",
      "77:\tlearn: 0.4870078\ttotal: 3.01s\tremaining: 35.5s\n",
      "78:\tlearn: 0.4869221\ttotal: 3.04s\tremaining: 35.5s\n",
      "79:\tlearn: 0.4868453\ttotal: 3.08s\tremaining: 35.5s\n",
      "80:\tlearn: 0.4866720\ttotal: 3.12s\tremaining: 35.4s\n",
      "81:\tlearn: 0.4866130\ttotal: 3.16s\tremaining: 35.3s\n",
      "82:\tlearn: 0.4864802\ttotal: 3.19s\tremaining: 35.3s\n",
      "83:\tlearn: 0.4864066\ttotal: 3.23s\tremaining: 35.2s\n",
      "84:\tlearn: 0.4863199\ttotal: 3.26s\tremaining: 35.1s\n",
      "85:\tlearn: 0.4862192\ttotal: 3.3s\tremaining: 35.1s\n",
      "86:\tlearn: 0.4861211\ttotal: 3.34s\tremaining: 35.1s\n",
      "87:\tlearn: 0.4860311\ttotal: 3.38s\tremaining: 35s\n",
      "88:\tlearn: 0.4859345\ttotal: 3.41s\tremaining: 34.9s\n",
      "89:\tlearn: 0.4858461\ttotal: 3.45s\tremaining: 34.8s\n",
      "90:\tlearn: 0.4857032\ttotal: 3.48s\tremaining: 34.8s\n",
      "91:\tlearn: 0.4856434\ttotal: 3.52s\tremaining: 34.7s\n",
      "92:\tlearn: 0.4855116\ttotal: 3.56s\tremaining: 34.7s\n",
      "93:\tlearn: 0.4854736\ttotal: 3.59s\tremaining: 34.6s\n",
      "94:\tlearn: 0.4853738\ttotal: 3.63s\tremaining: 34.6s\n",
      "95:\tlearn: 0.4852461\ttotal: 3.67s\tremaining: 34.5s\n",
      "96:\tlearn: 0.4851197\ttotal: 3.7s\tremaining: 34.5s\n",
      "97:\tlearn: 0.4850131\ttotal: 3.74s\tremaining: 34.4s\n",
      "98:\tlearn: 0.4849351\ttotal: 3.78s\tremaining: 34.4s\n",
      "99:\tlearn: 0.4848326\ttotal: 3.81s\tremaining: 34.3s\n",
      "100:\tlearn: 0.4847275\ttotal: 3.85s\tremaining: 34.3s\n",
      "101:\tlearn: 0.4846598\ttotal: 3.89s\tremaining: 34.2s\n",
      "102:\tlearn: 0.4845674\ttotal: 3.92s\tremaining: 34.2s\n",
      "103:\tlearn: 0.4844855\ttotal: 3.96s\tremaining: 34.1s\n",
      "104:\tlearn: 0.4844254\ttotal: 4s\tremaining: 34.1s\n",
      "105:\tlearn: 0.4843342\ttotal: 4.04s\tremaining: 34s\n",
      "106:\tlearn: 0.4842664\ttotal: 4.08s\tremaining: 34s\n",
      "107:\tlearn: 0.4841910\ttotal: 4.12s\tremaining: 34s\n",
      "108:\tlearn: 0.4841284\ttotal: 4.15s\tremaining: 34s\n",
      "109:\tlearn: 0.4840766\ttotal: 4.19s\tremaining: 33.9s\n",
      "110:\tlearn: 0.4840553\ttotal: 4.23s\tremaining: 33.9s\n",
      "111:\tlearn: 0.4839366\ttotal: 4.27s\tremaining: 33.9s\n",
      "112:\tlearn: 0.4838232\ttotal: 4.31s\tremaining: 33.8s\n",
      "113:\tlearn: 0.4837121\ttotal: 4.35s\tremaining: 33.8s\n",
      "114:\tlearn: 0.4835702\ttotal: 4.39s\tremaining: 33.8s\n",
      "115:\tlearn: 0.4835365\ttotal: 4.43s\tremaining: 33.7s\n",
      "116:\tlearn: 0.4834596\ttotal: 4.46s\tremaining: 33.7s\n",
      "117:\tlearn: 0.4834589\ttotal: 4.49s\tremaining: 33.5s\n",
      "118:\tlearn: 0.4833983\ttotal: 4.53s\tremaining: 33.5s\n",
      "119:\tlearn: 0.4833147\ttotal: 4.56s\tremaining: 33.5s\n",
      "120:\tlearn: 0.4832610\ttotal: 4.6s\tremaining: 33.4s\n",
      "121:\tlearn: 0.4831889\ttotal: 4.64s\tremaining: 33.4s\n",
      "122:\tlearn: 0.4830936\ttotal: 4.68s\tremaining: 33.4s\n",
      "123:\tlearn: 0.4830460\ttotal: 4.72s\tremaining: 33.3s\n",
      "124:\tlearn: 0.4830183\ttotal: 4.75s\tremaining: 33.2s\n",
      "125:\tlearn: 0.4829497\ttotal: 4.78s\tremaining: 33.2s\n",
      "126:\tlearn: 0.4829107\ttotal: 4.82s\tremaining: 33.1s\n",
      "127:\tlearn: 0.4828192\ttotal: 4.86s\tremaining: 33.1s\n",
      "128:\tlearn: 0.4827339\ttotal: 4.9s\tremaining: 33.1s\n",
      "129:\tlearn: 0.4826590\ttotal: 4.93s\tremaining: 33s\n",
      "130:\tlearn: 0.4825839\ttotal: 4.98s\tremaining: 33.1s\n",
      "131:\tlearn: 0.4825382\ttotal: 5.03s\tremaining: 33s\n",
      "132:\tlearn: 0.4824273\ttotal: 5.06s\tremaining: 33s\n",
      "133:\tlearn: 0.4823389\ttotal: 5.1s\tremaining: 33s\n",
      "134:\tlearn: 0.4822653\ttotal: 5.14s\tremaining: 32.9s\n",
      "135:\tlearn: 0.4821341\ttotal: 5.18s\tremaining: 32.9s\n",
      "136:\tlearn: 0.4820145\ttotal: 5.21s\tremaining: 32.9s\n",
      "137:\tlearn: 0.4819313\ttotal: 5.25s\tremaining: 32.8s\n",
      "138:\tlearn: 0.4818576\ttotal: 5.29s\tremaining: 32.8s\n",
      "139:\tlearn: 0.4817662\ttotal: 5.33s\tremaining: 32.7s\n",
      "140:\tlearn: 0.4816783\ttotal: 5.37s\tremaining: 32.7s\n",
      "141:\tlearn: 0.4816336\ttotal: 5.41s\tremaining: 32.7s\n",
      "142:\tlearn: 0.4815691\ttotal: 5.45s\tremaining: 32.6s\n",
      "143:\tlearn: 0.4815091\ttotal: 5.49s\tremaining: 32.7s\n",
      "144:\tlearn: 0.4814766\ttotal: 5.54s\tremaining: 32.7s\n",
      "145:\tlearn: 0.4814143\ttotal: 5.58s\tremaining: 32.6s\n",
      "146:\tlearn: 0.4813395\ttotal: 5.62s\tremaining: 32.6s\n",
      "147:\tlearn: 0.4812981\ttotal: 5.66s\tremaining: 32.6s\n",
      "148:\tlearn: 0.4812764\ttotal: 5.71s\tremaining: 32.6s\n",
      "149:\tlearn: 0.4811935\ttotal: 5.75s\tremaining: 32.6s\n",
      "150:\tlearn: 0.4811875\ttotal: 5.78s\tremaining: 32.5s\n",
      "151:\tlearn: 0.4811259\ttotal: 5.83s\tremaining: 32.5s\n",
      "152:\tlearn: 0.4810892\ttotal: 5.87s\tremaining: 32.5s\n",
      "153:\tlearn: 0.4810603\ttotal: 5.9s\tremaining: 32.4s\n",
      "154:\tlearn: 0.4809621\ttotal: 5.94s\tremaining: 32.4s\n",
      "155:\tlearn: 0.4808842\ttotal: 5.99s\tremaining: 32.4s\n",
      "156:\tlearn: 0.4808517\ttotal: 6.03s\tremaining: 32.4s\n",
      "157:\tlearn: 0.4807822\ttotal: 6.07s\tremaining: 32.3s\n",
      "158:\tlearn: 0.4806941\ttotal: 6.1s\tremaining: 32.3s\n",
      "159:\tlearn: 0.4806385\ttotal: 6.14s\tremaining: 32.3s\n"
     ]
    },
    {
     "name": "stdout",
     "output_type": "stream",
     "text": [
      "160:\tlearn: 0.4805905\ttotal: 6.18s\tremaining: 32.2s\n",
      "161:\tlearn: 0.4805204\ttotal: 6.22s\tremaining: 32.2s\n",
      "162:\tlearn: 0.4804550\ttotal: 6.25s\tremaining: 32.1s\n",
      "163:\tlearn: 0.4803656\ttotal: 6.29s\tremaining: 32.1s\n",
      "164:\tlearn: 0.4802792\ttotal: 6.33s\tremaining: 32s\n",
      "165:\tlearn: 0.4801668\ttotal: 6.37s\tremaining: 32s\n",
      "166:\tlearn: 0.4801050\ttotal: 6.41s\tremaining: 32s\n",
      "167:\tlearn: 0.4800769\ttotal: 6.44s\tremaining: 31.9s\n",
      "168:\tlearn: 0.4799931\ttotal: 6.48s\tremaining: 31.9s\n",
      "169:\tlearn: 0.4799452\ttotal: 6.52s\tremaining: 31.8s\n",
      "170:\tlearn: 0.4798677\ttotal: 6.56s\tremaining: 31.8s\n",
      "171:\tlearn: 0.4798040\ttotal: 6.6s\tremaining: 31.8s\n",
      "172:\tlearn: 0.4797166\ttotal: 6.64s\tremaining: 31.7s\n",
      "173:\tlearn: 0.4796785\ttotal: 6.67s\tremaining: 31.7s\n",
      "174:\tlearn: 0.4796037\ttotal: 6.71s\tremaining: 31.6s\n",
      "175:\tlearn: 0.4795632\ttotal: 6.74s\tremaining: 31.6s\n",
      "176:\tlearn: 0.4795155\ttotal: 6.78s\tremaining: 31.5s\n",
      "177:\tlearn: 0.4794162\ttotal: 6.81s\tremaining: 31.5s\n",
      "178:\tlearn: 0.4793364\ttotal: 6.85s\tremaining: 31.4s\n",
      "179:\tlearn: 0.4791987\ttotal: 6.89s\tremaining: 31.4s\n",
      "180:\tlearn: 0.4791448\ttotal: 6.93s\tremaining: 31.3s\n",
      "181:\tlearn: 0.4790819\ttotal: 6.96s\tremaining: 31.3s\n",
      "182:\tlearn: 0.4790465\ttotal: 7s\tremaining: 31.3s\n",
      "183:\tlearn: 0.4789570\ttotal: 7.04s\tremaining: 31.2s\n",
      "184:\tlearn: 0.4789151\ttotal: 7.08s\tremaining: 31.2s\n",
      "185:\tlearn: 0.4788065\ttotal: 7.11s\tremaining: 31.1s\n",
      "186:\tlearn: 0.4787501\ttotal: 7.15s\tremaining: 31.1s\n",
      "187:\tlearn: 0.4786724\ttotal: 7.18s\tremaining: 31s\n",
      "188:\tlearn: 0.4785473\ttotal: 7.22s\tremaining: 31s\n",
      "189:\tlearn: 0.4784644\ttotal: 7.26s\tremaining: 30.9s\n",
      "190:\tlearn: 0.4784031\ttotal: 7.3s\tremaining: 30.9s\n",
      "191:\tlearn: 0.4783482\ttotal: 7.34s\tremaining: 30.9s\n",
      "192:\tlearn: 0.4782987\ttotal: 7.38s\tremaining: 30.8s\n",
      "193:\tlearn: 0.4782197\ttotal: 7.42s\tremaining: 30.8s\n",
      "194:\tlearn: 0.4781833\ttotal: 7.45s\tremaining: 30.8s\n",
      "195:\tlearn: 0.4781319\ttotal: 7.49s\tremaining: 30.7s\n",
      "196:\tlearn: 0.4780324\ttotal: 7.52s\tremaining: 30.7s\n",
      "197:\tlearn: 0.4779408\ttotal: 7.56s\tremaining: 30.6s\n",
      "198:\tlearn: 0.4778631\ttotal: 7.6s\tremaining: 30.6s\n",
      "199:\tlearn: 0.4777654\ttotal: 7.63s\tremaining: 30.5s\n",
      "200:\tlearn: 0.4776693\ttotal: 7.67s\tremaining: 30.5s\n",
      "201:\tlearn: 0.4775523\ttotal: 7.71s\tremaining: 30.5s\n",
      "202:\tlearn: 0.4775049\ttotal: 7.75s\tremaining: 30.4s\n",
      "203:\tlearn: 0.4774517\ttotal: 7.78s\tremaining: 30.4s\n",
      "204:\tlearn: 0.4774346\ttotal: 7.82s\tremaining: 30.3s\n",
      "205:\tlearn: 0.4773780\ttotal: 7.86s\tremaining: 30.3s\n",
      "206:\tlearn: 0.4772866\ttotal: 7.89s\tremaining: 30.2s\n",
      "207:\tlearn: 0.4772578\ttotal: 7.93s\tremaining: 30.2s\n",
      "208:\tlearn: 0.4771928\ttotal: 7.97s\tremaining: 30.2s\n",
      "209:\tlearn: 0.4771231\ttotal: 8.01s\tremaining: 30.1s\n",
      "210:\tlearn: 0.4770888\ttotal: 8.05s\tremaining: 30.1s\n",
      "211:\tlearn: 0.4770173\ttotal: 8.09s\tremaining: 30.1s\n",
      "212:\tlearn: 0.4769541\ttotal: 8.13s\tremaining: 30s\n",
      "213:\tlearn: 0.4769096\ttotal: 8.17s\tremaining: 30s\n",
      "214:\tlearn: 0.4768508\ttotal: 8.2s\tremaining: 30s\n",
      "215:\tlearn: 0.4767793\ttotal: 8.24s\tremaining: 29.9s\n",
      "216:\tlearn: 0.4766944\ttotal: 8.28s\tremaining: 29.9s\n",
      "217:\tlearn: 0.4766444\ttotal: 8.31s\tremaining: 29.8s\n",
      "218:\tlearn: 0.4765909\ttotal: 8.36s\tremaining: 29.8s\n",
      "219:\tlearn: 0.4765474\ttotal: 8.4s\tremaining: 29.8s\n",
      "220:\tlearn: 0.4764956\ttotal: 8.44s\tremaining: 29.8s\n",
      "221:\tlearn: 0.4764380\ttotal: 8.48s\tremaining: 29.7s\n",
      "222:\tlearn: 0.4763809\ttotal: 8.53s\tremaining: 29.7s\n",
      "223:\tlearn: 0.4762817\ttotal: 8.57s\tremaining: 29.7s\n",
      "224:\tlearn: 0.4762409\ttotal: 8.61s\tremaining: 29.6s\n",
      "225:\tlearn: 0.4762054\ttotal: 8.64s\tremaining: 29.6s\n",
      "226:\tlearn: 0.4761722\ttotal: 8.68s\tremaining: 29.6s\n",
      "227:\tlearn: 0.4761207\ttotal: 8.72s\tremaining: 29.5s\n",
      "228:\tlearn: 0.4760872\ttotal: 8.75s\tremaining: 29.5s\n",
      "229:\tlearn: 0.4760407\ttotal: 8.79s\tremaining: 29.4s\n",
      "230:\tlearn: 0.4759974\ttotal: 8.83s\tremaining: 29.4s\n",
      "231:\tlearn: 0.4758984\ttotal: 8.87s\tremaining: 29.4s\n",
      "232:\tlearn: 0.4758419\ttotal: 8.91s\tremaining: 29.3s\n",
      "233:\tlearn: 0.4757996\ttotal: 8.94s\tremaining: 29.3s\n",
      "234:\tlearn: 0.4757462\ttotal: 8.98s\tremaining: 29.2s\n",
      "235:\tlearn: 0.4757147\ttotal: 9.03s\tremaining: 29.2s\n",
      "236:\tlearn: 0.4756527\ttotal: 9.06s\tremaining: 29.2s\n",
      "237:\tlearn: 0.4755839\ttotal: 9.1s\tremaining: 29.1s\n",
      "238:\tlearn: 0.4755231\ttotal: 9.14s\tremaining: 29.1s\n",
      "239:\tlearn: 0.4754712\ttotal: 9.18s\tremaining: 29.1s\n",
      "240:\tlearn: 0.4754451\ttotal: 9.23s\tremaining: 29.1s\n",
      "241:\tlearn: 0.4754217\ttotal: 9.27s\tremaining: 29s\n",
      "242:\tlearn: 0.4753553\ttotal: 9.31s\tremaining: 29s\n",
      "243:\tlearn: 0.4753238\ttotal: 9.34s\tremaining: 28.9s\n",
      "244:\tlearn: 0.4752731\ttotal: 9.38s\tremaining: 28.9s\n",
      "245:\tlearn: 0.4752263\ttotal: 9.42s\tremaining: 28.9s\n",
      "246:\tlearn: 0.4751847\ttotal: 9.46s\tremaining: 28.8s\n",
      "247:\tlearn: 0.4751333\ttotal: 9.5s\tremaining: 28.8s\n",
      "248:\tlearn: 0.4750825\ttotal: 9.53s\tremaining: 28.8s\n",
      "249:\tlearn: 0.4750191\ttotal: 9.57s\tremaining: 28.7s\n",
      "250:\tlearn: 0.4749759\ttotal: 9.61s\tremaining: 28.7s\n",
      "251:\tlearn: 0.4749462\ttotal: 9.64s\tremaining: 28.6s\n",
      "252:\tlearn: 0.4748838\ttotal: 9.68s\tremaining: 28.6s\n",
      "253:\tlearn: 0.4747918\ttotal: 9.72s\tremaining: 28.5s\n",
      "254:\tlearn: 0.4746928\ttotal: 9.75s\tremaining: 28.5s\n",
      "255:\tlearn: 0.4746357\ttotal: 9.79s\tremaining: 28.5s\n",
      "256:\tlearn: 0.4745799\ttotal: 9.83s\tremaining: 28.4s\n",
      "257:\tlearn: 0.4745186\ttotal: 9.87s\tremaining: 28.4s\n",
      "258:\tlearn: 0.4744619\ttotal: 9.9s\tremaining: 28.3s\n",
      "259:\tlearn: 0.4744335\ttotal: 9.94s\tremaining: 28.3s\n",
      "260:\tlearn: 0.4743715\ttotal: 9.98s\tremaining: 28.3s\n",
      "261:\tlearn: 0.4742867\ttotal: 10s\tremaining: 28.2s\n",
      "262:\tlearn: 0.4742483\ttotal: 10.1s\tremaining: 28.2s\n",
      "263:\tlearn: 0.4742273\ttotal: 10.1s\tremaining: 28.1s\n",
      "264:\tlearn: 0.4741593\ttotal: 10.1s\tremaining: 28.1s\n",
      "265:\tlearn: 0.4741092\ttotal: 10.2s\tremaining: 28.1s\n",
      "266:\tlearn: 0.4740571\ttotal: 10.2s\tremaining: 28s\n",
      "267:\tlearn: 0.4739712\ttotal: 10.2s\tremaining: 28s\n",
      "268:\tlearn: 0.4739076\ttotal: 10.3s\tremaining: 27.9s\n",
      "269:\tlearn: 0.4738607\ttotal: 10.3s\tremaining: 27.9s\n",
      "270:\tlearn: 0.4738422\ttotal: 10.4s\tremaining: 27.9s\n",
      "271:\tlearn: 0.4738140\ttotal: 10.4s\tremaining: 27.9s\n",
      "272:\tlearn: 0.4737697\ttotal: 10.5s\tremaining: 27.8s\n",
      "273:\tlearn: 0.4737347\ttotal: 10.5s\tremaining: 27.8s\n",
      "274:\tlearn: 0.4736515\ttotal: 10.5s\tremaining: 27.8s\n",
      "275:\tlearn: 0.4735989\ttotal: 10.6s\tremaining: 27.8s\n",
      "276:\tlearn: 0.4735535\ttotal: 10.6s\tremaining: 27.7s\n",
      "277:\tlearn: 0.4735267\ttotal: 10.7s\tremaining: 27.7s\n",
      "278:\tlearn: 0.4734373\ttotal: 10.7s\tremaining: 27.7s\n",
      "279:\tlearn: 0.4733602\ttotal: 10.8s\tremaining: 27.6s\n",
      "280:\tlearn: 0.4732956\ttotal: 10.8s\tremaining: 27.6s\n",
      "281:\tlearn: 0.4732631\ttotal: 10.8s\tremaining: 27.6s\n",
      "282:\tlearn: 0.4732169\ttotal: 10.9s\tremaining: 27.6s\n",
      "283:\tlearn: 0.4731679\ttotal: 10.9s\tremaining: 27.5s\n",
      "284:\tlearn: 0.4731302\ttotal: 11s\tremaining: 27.5s\n",
      "285:\tlearn: 0.4730809\ttotal: 11s\tremaining: 27.4s\n",
      "286:\tlearn: 0.4730191\ttotal: 11s\tremaining: 27.4s\n",
      "287:\tlearn: 0.4729880\ttotal: 11.1s\tremaining: 27.3s\n",
      "288:\tlearn: 0.4729447\ttotal: 11.1s\tremaining: 27.3s\n",
      "289:\tlearn: 0.4728566\ttotal: 11.2s\tremaining: 27.3s\n",
      "290:\tlearn: 0.4728077\ttotal: 11.2s\tremaining: 27.3s\n",
      "291:\tlearn: 0.4727485\ttotal: 11.2s\tremaining: 27.3s\n",
      "292:\tlearn: 0.4726964\ttotal: 11.3s\tremaining: 27.2s\n",
      "293:\tlearn: 0.4726487\ttotal: 11.3s\tremaining: 27.2s\n",
      "294:\tlearn: 0.4726176\ttotal: 11.4s\tremaining: 27.2s\n",
      "295:\tlearn: 0.4725628\ttotal: 11.4s\tremaining: 27.1s\n",
      "296:\tlearn: 0.4724961\ttotal: 11.5s\tremaining: 27.1s\n",
      "297:\tlearn: 0.4724538\ttotal: 11.5s\tremaining: 27.1s\n",
      "298:\tlearn: 0.4723851\ttotal: 11.5s\tremaining: 27s\n",
      "299:\tlearn: 0.4723173\ttotal: 11.6s\tremaining: 27s\n",
      "300:\tlearn: 0.4722424\ttotal: 11.6s\tremaining: 27s\n",
      "301:\tlearn: 0.4721919\ttotal: 11.7s\tremaining: 27s\n",
      "302:\tlearn: 0.4721418\ttotal: 11.7s\tremaining: 27s\n",
      "303:\tlearn: 0.4721084\ttotal: 11.8s\tremaining: 27s\n",
      "304:\tlearn: 0.4720309\ttotal: 11.8s\tremaining: 26.9s\n",
      "305:\tlearn: 0.4719742\ttotal: 11.9s\tremaining: 26.9s\n",
      "306:\tlearn: 0.4719443\ttotal: 11.9s\tremaining: 26.9s\n",
      "307:\tlearn: 0.4719006\ttotal: 12s\tremaining: 26.9s\n",
      "308:\tlearn: 0.4718759\ttotal: 12s\tremaining: 26.9s\n",
      "309:\tlearn: 0.4718433\ttotal: 12.1s\tremaining: 26.9s\n",
      "310:\tlearn: 0.4718119\ttotal: 12.1s\tremaining: 26.8s\n",
      "311:\tlearn: 0.4717433\ttotal: 12.2s\tremaining: 26.8s\n",
      "312:\tlearn: 0.4717086\ttotal: 12.2s\tremaining: 26.8s\n",
      "313:\tlearn: 0.4716832\ttotal: 12.3s\tremaining: 26.8s\n",
      "314:\tlearn: 0.4716235\ttotal: 12.3s\tremaining: 26.8s\n",
      "315:\tlearn: 0.4716019\ttotal: 12.3s\tremaining: 26.7s\n",
      "316:\tlearn: 0.4715660\ttotal: 12.4s\tremaining: 26.7s\n",
      "317:\tlearn: 0.4714907\ttotal: 12.4s\tremaining: 26.7s\n",
      "318:\tlearn: 0.4714372\ttotal: 12.5s\tremaining: 26.7s\n"
     ]
    },
    {
     "name": "stdout",
     "output_type": "stream",
     "text": [
      "319:\tlearn: 0.4714229\ttotal: 12.5s\tremaining: 26.7s\n",
      "320:\tlearn: 0.4713667\ttotal: 12.6s\tremaining: 26.6s\n",
      "321:\tlearn: 0.4713035\ttotal: 12.6s\tremaining: 26.6s\n",
      "322:\tlearn: 0.4712564\ttotal: 12.7s\tremaining: 26.6s\n",
      "323:\tlearn: 0.4711974\ttotal: 12.7s\tremaining: 26.6s\n",
      "324:\tlearn: 0.4711630\ttotal: 12.8s\tremaining: 26.6s\n",
      "325:\tlearn: 0.4711348\ttotal: 12.8s\tremaining: 26.5s\n",
      "326:\tlearn: 0.4710942\ttotal: 12.9s\tremaining: 26.5s\n",
      "327:\tlearn: 0.4710418\ttotal: 12.9s\tremaining: 26.5s\n",
      "328:\tlearn: 0.4709841\ttotal: 13s\tremaining: 26.4s\n",
      "329:\tlearn: 0.4709413\ttotal: 13s\tremaining: 26.4s\n",
      "330:\tlearn: 0.4708864\ttotal: 13s\tremaining: 26.4s\n",
      "331:\tlearn: 0.4708562\ttotal: 13.1s\tremaining: 26.3s\n",
      "332:\tlearn: 0.4707953\ttotal: 13.1s\tremaining: 26.3s\n",
      "333:\tlearn: 0.4707401\ttotal: 13.2s\tremaining: 26.3s\n",
      "334:\tlearn: 0.4707024\ttotal: 13.2s\tremaining: 26.2s\n",
      "335:\tlearn: 0.4706615\ttotal: 13.3s\tremaining: 26.2s\n",
      "336:\tlearn: 0.4706166\ttotal: 13.3s\tremaining: 26.2s\n",
      "337:\tlearn: 0.4705436\ttotal: 13.4s\tremaining: 26.2s\n",
      "338:\tlearn: 0.4705180\ttotal: 13.4s\tremaining: 26.1s\n",
      "339:\tlearn: 0.4704903\ttotal: 13.5s\tremaining: 26.1s\n",
      "340:\tlearn: 0.4704452\ttotal: 13.5s\tremaining: 26.1s\n",
      "341:\tlearn: 0.4703761\ttotal: 13.5s\tremaining: 26.1s\n",
      "342:\tlearn: 0.4703574\ttotal: 13.6s\tremaining: 26s\n",
      "343:\tlearn: 0.4702659\ttotal: 13.6s\tremaining: 26s\n",
      "344:\tlearn: 0.4702184\ttotal: 13.7s\tremaining: 26s\n",
      "345:\tlearn: 0.4701783\ttotal: 13.7s\tremaining: 26s\n",
      "346:\tlearn: 0.4701243\ttotal: 13.8s\tremaining: 25.9s\n",
      "347:\tlearn: 0.4700913\ttotal: 13.8s\tremaining: 25.9s\n",
      "348:\tlearn: 0.4700747\ttotal: 13.9s\tremaining: 25.9s\n",
      "349:\tlearn: 0.4700524\ttotal: 13.9s\tremaining: 25.8s\n",
      "350:\tlearn: 0.4700288\ttotal: 14s\tremaining: 25.8s\n",
      "351:\tlearn: 0.4699959\ttotal: 14s\tremaining: 25.8s\n",
      "352:\tlearn: 0.4699353\ttotal: 14s\tremaining: 25.7s\n",
      "353:\tlearn: 0.4698557\ttotal: 14.1s\tremaining: 25.7s\n",
      "354:\tlearn: 0.4697903\ttotal: 14.1s\tremaining: 25.7s\n",
      "355:\tlearn: 0.4697594\ttotal: 14.2s\tremaining: 25.7s\n",
      "356:\tlearn: 0.4697185\ttotal: 14.3s\tremaining: 25.7s\n",
      "357:\tlearn: 0.4697012\ttotal: 14.3s\tremaining: 25.7s\n",
      "358:\tlearn: 0.4696845\ttotal: 14.4s\tremaining: 25.6s\n",
      "359:\tlearn: 0.4696071\ttotal: 14.4s\tremaining: 25.6s\n",
      "360:\tlearn: 0.4695805\ttotal: 14.5s\tremaining: 25.6s\n",
      "361:\tlearn: 0.4695502\ttotal: 14.5s\tremaining: 25.6s\n",
      "362:\tlearn: 0.4695385\ttotal: 14.6s\tremaining: 25.6s\n",
      "363:\tlearn: 0.4694785\ttotal: 14.6s\tremaining: 25.5s\n",
      "364:\tlearn: 0.4694381\ttotal: 14.7s\tremaining: 25.5s\n",
      "365:\tlearn: 0.4694110\ttotal: 14.7s\tremaining: 25.5s\n",
      "366:\tlearn: 0.4693682\ttotal: 14.7s\tremaining: 25.4s\n",
      "367:\tlearn: 0.4692945\ttotal: 14.8s\tremaining: 25.4s\n",
      "368:\tlearn: 0.4692197\ttotal: 14.8s\tremaining: 25.4s\n",
      "369:\tlearn: 0.4692040\ttotal: 14.9s\tremaining: 25.4s\n",
      "370:\tlearn: 0.4691562\ttotal: 14.9s\tremaining: 25.3s\n",
      "371:\tlearn: 0.4691417\ttotal: 15s\tremaining: 25.3s\n",
      "372:\tlearn: 0.4690753\ttotal: 15s\tremaining: 25.3s\n",
      "373:\tlearn: 0.4690292\ttotal: 15.1s\tremaining: 25.2s\n",
      "374:\tlearn: 0.4689855\ttotal: 15.1s\tremaining: 25.2s\n",
      "375:\tlearn: 0.4689397\ttotal: 15.2s\tremaining: 25.2s\n",
      "376:\tlearn: 0.4688946\ttotal: 15.2s\tremaining: 25.2s\n",
      "377:\tlearn: 0.4688479\ttotal: 15.3s\tremaining: 25.2s\n",
      "378:\tlearn: 0.4688148\ttotal: 15.3s\tremaining: 25.1s\n",
      "379:\tlearn: 0.4687956\ttotal: 15.4s\tremaining: 25.1s\n",
      "380:\tlearn: 0.4687209\ttotal: 15.4s\tremaining: 25.1s\n",
      "381:\tlearn: 0.4686458\ttotal: 15.5s\tremaining: 25s\n",
      "382:\tlearn: 0.4686356\ttotal: 15.5s\tremaining: 25s\n",
      "383:\tlearn: 0.4685986\ttotal: 15.6s\tremaining: 25s\n",
      "384:\tlearn: 0.4685451\ttotal: 15.6s\tremaining: 24.9s\n",
      "385:\tlearn: 0.4685275\ttotal: 15.6s\tremaining: 24.9s\n",
      "386:\tlearn: 0.4684991\ttotal: 15.7s\tremaining: 24.8s\n",
      "387:\tlearn: 0.4684549\ttotal: 15.7s\tremaining: 24.8s\n",
      "388:\tlearn: 0.4683999\ttotal: 15.8s\tremaining: 24.8s\n",
      "389:\tlearn: 0.4683550\ttotal: 15.8s\tremaining: 24.7s\n",
      "390:\tlearn: 0.4683031\ttotal: 15.9s\tremaining: 24.7s\n",
      "391:\tlearn: 0.4682605\ttotal: 15.9s\tremaining: 24.7s\n",
      "392:\tlearn: 0.4682114\ttotal: 15.9s\tremaining: 24.6s\n",
      "393:\tlearn: 0.4681955\ttotal: 16s\tremaining: 24.6s\n",
      "394:\tlearn: 0.4681502\ttotal: 16s\tremaining: 24.6s\n",
      "395:\tlearn: 0.4681308\ttotal: 16.1s\tremaining: 24.5s\n",
      "396:\tlearn: 0.4680887\ttotal: 16.1s\tremaining: 24.5s\n",
      "397:\tlearn: 0.4680487\ttotal: 16.2s\tremaining: 24.5s\n",
      "398:\tlearn: 0.4680122\ttotal: 16.2s\tremaining: 24.4s\n",
      "399:\tlearn: 0.4679778\ttotal: 16.3s\tremaining: 24.4s\n",
      "400:\tlearn: 0.4679357\ttotal: 16.3s\tremaining: 24.4s\n",
      "401:\tlearn: 0.4679079\ttotal: 16.4s\tremaining: 24.3s\n",
      "402:\tlearn: 0.4678863\ttotal: 16.4s\tremaining: 24.3s\n",
      "403:\tlearn: 0.4678641\ttotal: 16.5s\tremaining: 24.3s\n",
      "404:\tlearn: 0.4678475\ttotal: 16.5s\tremaining: 24.3s\n",
      "405:\tlearn: 0.4677981\ttotal: 16.6s\tremaining: 24.2s\n",
      "406:\tlearn: 0.4677590\ttotal: 16.6s\tremaining: 24.2s\n",
      "407:\tlearn: 0.4677237\ttotal: 16.7s\tremaining: 24.2s\n",
      "408:\tlearn: 0.4676759\ttotal: 16.7s\tremaining: 24.2s\n",
      "409:\tlearn: 0.4675694\ttotal: 16.8s\tremaining: 24.2s\n",
      "410:\tlearn: 0.4675483\ttotal: 16.9s\tremaining: 24.2s\n",
      "411:\tlearn: 0.4675049\ttotal: 16.9s\tremaining: 24.1s\n",
      "412:\tlearn: 0.4674547\ttotal: 17s\tremaining: 24.1s\n",
      "413:\tlearn: 0.4673989\ttotal: 17s\tremaining: 24.1s\n",
      "414:\tlearn: 0.4673580\ttotal: 17.1s\tremaining: 24s\n",
      "415:\tlearn: 0.4673331\ttotal: 17.1s\tremaining: 24s\n",
      "416:\tlearn: 0.4672701\ttotal: 17.2s\tremaining: 24s\n",
      "417:\tlearn: 0.4672534\ttotal: 17.2s\tremaining: 23.9s\n",
      "418:\tlearn: 0.4672084\ttotal: 17.2s\tremaining: 23.9s\n",
      "419:\tlearn: 0.4671568\ttotal: 17.3s\tremaining: 23.9s\n",
      "420:\tlearn: 0.4671108\ttotal: 17.3s\tremaining: 23.8s\n",
      "421:\tlearn: 0.4670814\ttotal: 17.4s\tremaining: 23.8s\n",
      "422:\tlearn: 0.4670436\ttotal: 17.4s\tremaining: 23.8s\n",
      "423:\tlearn: 0.4670036\ttotal: 17.5s\tremaining: 23.7s\n",
      "424:\tlearn: 0.4669566\ttotal: 17.5s\tremaining: 23.7s\n",
      "425:\tlearn: 0.4669298\ttotal: 17.6s\tremaining: 23.7s\n",
      "426:\tlearn: 0.4669010\ttotal: 17.6s\tremaining: 23.6s\n",
      "427:\tlearn: 0.4668707\ttotal: 17.7s\tremaining: 23.6s\n",
      "428:\tlearn: 0.4668312\ttotal: 17.7s\tremaining: 23.6s\n",
      "429:\tlearn: 0.4668079\ttotal: 17.8s\tremaining: 23.6s\n",
      "430:\tlearn: 0.4667768\ttotal: 17.8s\tremaining: 23.5s\n",
      "431:\tlearn: 0.4667515\ttotal: 17.9s\tremaining: 23.5s\n",
      "432:\tlearn: 0.4667036\ttotal: 17.9s\tremaining: 23.5s\n",
      "433:\tlearn: 0.4666396\ttotal: 18s\tremaining: 23.5s\n",
      "434:\tlearn: 0.4666159\ttotal: 18s\tremaining: 23.4s\n",
      "435:\tlearn: 0.4665856\ttotal: 18.1s\tremaining: 23.4s\n",
      "436:\tlearn: 0.4665633\ttotal: 18.1s\tremaining: 23.4s\n",
      "437:\tlearn: 0.4665171\ttotal: 18.2s\tremaining: 23.3s\n",
      "438:\tlearn: 0.4664762\ttotal: 18.2s\tremaining: 23.3s\n",
      "439:\tlearn: 0.4664581\ttotal: 18.3s\tremaining: 23.2s\n",
      "440:\tlearn: 0.4664325\ttotal: 18.3s\tremaining: 23.2s\n",
      "441:\tlearn: 0.4664097\ttotal: 18.4s\tremaining: 23.2s\n",
      "442:\tlearn: 0.4663744\ttotal: 18.4s\tremaining: 23.1s\n",
      "443:\tlearn: 0.4663360\ttotal: 18.4s\tremaining: 23.1s\n",
      "444:\tlearn: 0.4662954\ttotal: 18.5s\tremaining: 23.1s\n",
      "445:\tlearn: 0.4662830\ttotal: 18.5s\tremaining: 23s\n",
      "446:\tlearn: 0.4662462\ttotal: 18.6s\tremaining: 23s\n",
      "447:\tlearn: 0.4662293\ttotal: 18.6s\tremaining: 23s\n",
      "448:\tlearn: 0.4661857\ttotal: 18.7s\tremaining: 22.9s\n",
      "449:\tlearn: 0.4661473\ttotal: 18.7s\tremaining: 22.9s\n",
      "450:\tlearn: 0.4661319\ttotal: 18.8s\tremaining: 22.9s\n",
      "451:\tlearn: 0.4661058\ttotal: 18.8s\tremaining: 22.8s\n",
      "452:\tlearn: 0.4660864\ttotal: 18.9s\tremaining: 22.8s\n",
      "453:\tlearn: 0.4660732\ttotal: 18.9s\tremaining: 22.8s\n",
      "454:\tlearn: 0.4660528\ttotal: 19s\tremaining: 22.7s\n",
      "455:\tlearn: 0.4660128\ttotal: 19s\tremaining: 22.7s\n",
      "456:\tlearn: 0.4659784\ttotal: 19.1s\tremaining: 22.7s\n",
      "457:\tlearn: 0.4659409\ttotal: 19.1s\tremaining: 22.6s\n",
      "458:\tlearn: 0.4659135\ttotal: 19.2s\tremaining: 22.6s\n",
      "459:\tlearn: 0.4658836\ttotal: 19.2s\tremaining: 22.6s\n",
      "460:\tlearn: 0.4658707\ttotal: 19.3s\tremaining: 22.5s\n",
      "461:\tlearn: 0.4658069\ttotal: 19.3s\tremaining: 22.5s\n",
      "462:\tlearn: 0.4657999\ttotal: 19.4s\tremaining: 22.4s\n",
      "463:\tlearn: 0.4657646\ttotal: 19.4s\tremaining: 22.4s\n",
      "464:\tlearn: 0.4657222\ttotal: 19.4s\tremaining: 22.4s\n",
      "465:\tlearn: 0.4656853\ttotal: 19.5s\tremaining: 22.3s\n",
      "466:\tlearn: 0.4656522\ttotal: 19.6s\tremaining: 22.3s\n",
      "467:\tlearn: 0.4656182\ttotal: 19.6s\tremaining: 22.3s\n",
      "468:\tlearn: 0.4655997\ttotal: 19.6s\tremaining: 22.2s\n",
      "469:\tlearn: 0.4655692\ttotal: 19.7s\tremaining: 22.2s\n",
      "470:\tlearn: 0.4655489\ttotal: 19.7s\tremaining: 22.2s\n",
      "471:\tlearn: 0.4655275\ttotal: 19.8s\tremaining: 22.1s\n",
      "472:\tlearn: 0.4654837\ttotal: 19.8s\tremaining: 22.1s\n",
      "473:\tlearn: 0.4654495\ttotal: 19.9s\tremaining: 22.1s\n",
      "474:\tlearn: 0.4654313\ttotal: 19.9s\tremaining: 22s\n",
      "475:\tlearn: 0.4653967\ttotal: 20s\tremaining: 22s\n",
      "476:\tlearn: 0.4653854\ttotal: 20s\tremaining: 21.9s\n",
      "477:\tlearn: 0.4653113\ttotal: 20.1s\tremaining: 21.9s\n"
     ]
    },
    {
     "name": "stdout",
     "output_type": "stream",
     "text": [
      "478:\tlearn: 0.4652850\ttotal: 20.1s\tremaining: 21.9s\n",
      "479:\tlearn: 0.4652748\ttotal: 20.1s\tremaining: 21.8s\n",
      "480:\tlearn: 0.4652497\ttotal: 20.2s\tremaining: 21.8s\n",
      "481:\tlearn: 0.4652375\ttotal: 20.2s\tremaining: 21.7s\n",
      "482:\tlearn: 0.4652172\ttotal: 20.3s\tremaining: 21.7s\n",
      "483:\tlearn: 0.4651789\ttotal: 20.3s\tremaining: 21.7s\n",
      "484:\tlearn: 0.4651671\ttotal: 20.4s\tremaining: 21.6s\n",
      "485:\tlearn: 0.4651557\ttotal: 20.4s\tremaining: 21.6s\n",
      "486:\tlearn: 0.4651295\ttotal: 20.5s\tremaining: 21.6s\n",
      "487:\tlearn: 0.4651004\ttotal: 20.5s\tremaining: 21.5s\n",
      "488:\tlearn: 0.4650837\ttotal: 20.6s\tremaining: 21.5s\n",
      "489:\tlearn: 0.4650572\ttotal: 20.6s\tremaining: 21.4s\n",
      "490:\tlearn: 0.4650251\ttotal: 20.7s\tremaining: 21.4s\n",
      "491:\tlearn: 0.4649926\ttotal: 20.7s\tremaining: 21.4s\n",
      "492:\tlearn: 0.4649375\ttotal: 20.8s\tremaining: 21.3s\n",
      "493:\tlearn: 0.4649159\ttotal: 20.8s\tremaining: 21.3s\n",
      "494:\tlearn: 0.4648854\ttotal: 20.8s\tremaining: 21.3s\n",
      "495:\tlearn: 0.4648458\ttotal: 20.9s\tremaining: 21.2s\n",
      "496:\tlearn: 0.4647881\ttotal: 20.9s\tremaining: 21.2s\n",
      "497:\tlearn: 0.4647257\ttotal: 21s\tremaining: 21.2s\n",
      "498:\tlearn: 0.4646937\ttotal: 21s\tremaining: 21.1s\n",
      "499:\tlearn: 0.4646531\ttotal: 21.1s\tremaining: 21.1s\n",
      "500:\tlearn: 0.4646346\ttotal: 21.1s\tremaining: 21s\n",
      "501:\tlearn: 0.4646001\ttotal: 21.2s\tremaining: 21s\n",
      "502:\tlearn: 0.4645847\ttotal: 21.2s\tremaining: 20.9s\n",
      "503:\tlearn: 0.4645632\ttotal: 21.2s\tremaining: 20.9s\n",
      "504:\tlearn: 0.4645303\ttotal: 21.3s\tremaining: 20.9s\n",
      "505:\tlearn: 0.4644896\ttotal: 21.3s\tremaining: 20.8s\n",
      "506:\tlearn: 0.4644679\ttotal: 21.4s\tremaining: 20.8s\n",
      "507:\tlearn: 0.4644263\ttotal: 21.4s\tremaining: 20.8s\n",
      "508:\tlearn: 0.4644084\ttotal: 21.5s\tremaining: 20.7s\n",
      "509:\tlearn: 0.4643783\ttotal: 21.5s\tremaining: 20.7s\n",
      "510:\tlearn: 0.4643407\ttotal: 21.6s\tremaining: 20.6s\n",
      "511:\tlearn: 0.4643042\ttotal: 21.6s\tremaining: 20.6s\n",
      "512:\tlearn: 0.4642781\ttotal: 21.7s\tremaining: 20.6s\n",
      "513:\tlearn: 0.4642693\ttotal: 21.7s\tremaining: 20.5s\n",
      "514:\tlearn: 0.4642039\ttotal: 21.8s\tremaining: 20.5s\n",
      "515:\tlearn: 0.4641810\ttotal: 21.8s\tremaining: 20.5s\n",
      "516:\tlearn: 0.4641485\ttotal: 21.9s\tremaining: 20.4s\n",
      "517:\tlearn: 0.4641065\ttotal: 21.9s\tremaining: 20.4s\n",
      "518:\tlearn: 0.4640627\ttotal: 22s\tremaining: 20.4s\n",
      "519:\tlearn: 0.4640527\ttotal: 22s\tremaining: 20.3s\n",
      "520:\tlearn: 0.4640288\ttotal: 22.1s\tremaining: 20.3s\n",
      "521:\tlearn: 0.4639959\ttotal: 22.1s\tremaining: 20.3s\n",
      "522:\tlearn: 0.4639759\ttotal: 22.2s\tremaining: 20.2s\n",
      "523:\tlearn: 0.4639519\ttotal: 22.2s\tremaining: 20.2s\n",
      "524:\tlearn: 0.4639113\ttotal: 22.3s\tremaining: 20.2s\n",
      "525:\tlearn: 0.4638808\ttotal: 22.3s\tremaining: 20.1s\n",
      "526:\tlearn: 0.4638558\ttotal: 22.4s\tremaining: 20.1s\n",
      "527:\tlearn: 0.4638343\ttotal: 22.4s\tremaining: 20.1s\n",
      "528:\tlearn: 0.4638032\ttotal: 22.5s\tremaining: 20s\n",
      "529:\tlearn: 0.4637704\ttotal: 22.5s\tremaining: 20s\n",
      "530:\tlearn: 0.4637264\ttotal: 22.6s\tremaining: 20s\n",
      "531:\tlearn: 0.4637087\ttotal: 22.7s\tremaining: 19.9s\n",
      "532:\tlearn: 0.4636852\ttotal: 22.7s\tremaining: 19.9s\n",
      "533:\tlearn: 0.4636459\ttotal: 22.8s\tremaining: 19.9s\n",
      "534:\tlearn: 0.4636299\ttotal: 22.8s\tremaining: 19.8s\n",
      "535:\tlearn: 0.4635966\ttotal: 22.9s\tremaining: 19.8s\n",
      "536:\tlearn: 0.4635482\ttotal: 22.9s\tremaining: 19.8s\n",
      "537:\tlearn: 0.4635261\ttotal: 23s\tremaining: 19.7s\n",
      "538:\tlearn: 0.4634722\ttotal: 23s\tremaining: 19.7s\n",
      "539:\tlearn: 0.4634509\ttotal: 23.1s\tremaining: 19.7s\n",
      "540:\tlearn: 0.4634408\ttotal: 23.1s\tremaining: 19.6s\n",
      "541:\tlearn: 0.4634336\ttotal: 23.2s\tremaining: 19.6s\n",
      "542:\tlearn: 0.4634084\ttotal: 23.2s\tremaining: 19.5s\n",
      "543:\tlearn: 0.4633830\ttotal: 23.3s\tremaining: 19.5s\n",
      "544:\tlearn: 0.4633610\ttotal: 23.3s\tremaining: 19.5s\n",
      "545:\tlearn: 0.4633343\ttotal: 23.4s\tremaining: 19.4s\n",
      "546:\tlearn: 0.4632875\ttotal: 23.4s\tremaining: 19.4s\n",
      "547:\tlearn: 0.4632723\ttotal: 23.5s\tremaining: 19.4s\n",
      "548:\tlearn: 0.4632520\ttotal: 23.5s\tremaining: 19.3s\n",
      "549:\tlearn: 0.4632227\ttotal: 23.6s\tremaining: 19.3s\n",
      "550:\tlearn: 0.4631886\ttotal: 23.6s\tremaining: 19.2s\n",
      "551:\tlearn: 0.4631573\ttotal: 23.7s\tremaining: 19.2s\n",
      "552:\tlearn: 0.4631494\ttotal: 23.7s\tremaining: 19.2s\n",
      "553:\tlearn: 0.4631109\ttotal: 23.8s\tremaining: 19.1s\n",
      "554:\tlearn: 0.4630859\ttotal: 23.8s\tremaining: 19.1s\n",
      "555:\tlearn: 0.4630529\ttotal: 23.8s\tremaining: 19s\n",
      "556:\tlearn: 0.4629837\ttotal: 23.9s\tremaining: 19s\n",
      "557:\tlearn: 0.4629635\ttotal: 23.9s\tremaining: 19s\n",
      "558:\tlearn: 0.4629261\ttotal: 24s\tremaining: 18.9s\n",
      "559:\tlearn: 0.4628788\ttotal: 24s\tremaining: 18.9s\n",
      "560:\tlearn: 0.4628497\ttotal: 24.1s\tremaining: 18.8s\n",
      "561:\tlearn: 0.4628156\ttotal: 24.1s\tremaining: 18.8s\n",
      "562:\tlearn: 0.4628024\ttotal: 24.1s\tremaining: 18.7s\n",
      "563:\tlearn: 0.4627888\ttotal: 24.2s\tremaining: 18.7s\n",
      "564:\tlearn: 0.4627801\ttotal: 24.2s\tremaining: 18.7s\n",
      "565:\tlearn: 0.4627733\ttotal: 24.3s\tremaining: 18.6s\n",
      "566:\tlearn: 0.4627405\ttotal: 24.3s\tremaining: 18.6s\n",
      "567:\tlearn: 0.4627123\ttotal: 24.4s\tremaining: 18.5s\n",
      "568:\tlearn: 0.4626917\ttotal: 24.4s\tremaining: 18.5s\n",
      "569:\tlearn: 0.4626363\ttotal: 24.5s\tremaining: 18.5s\n",
      "570:\tlearn: 0.4626167\ttotal: 24.5s\tremaining: 18.4s\n",
      "571:\tlearn: 0.4625843\ttotal: 24.6s\tremaining: 18.4s\n",
      "572:\tlearn: 0.4625186\ttotal: 24.6s\tremaining: 18.3s\n",
      "573:\tlearn: 0.4624890\ttotal: 24.6s\tremaining: 18.3s\n",
      "574:\tlearn: 0.4624509\ttotal: 24.7s\tremaining: 18.3s\n",
      "575:\tlearn: 0.4624273\ttotal: 24.7s\tremaining: 18.2s\n",
      "576:\tlearn: 0.4623948\ttotal: 24.8s\tremaining: 18.2s\n",
      "577:\tlearn: 0.4623468\ttotal: 24.8s\tremaining: 18.1s\n",
      "578:\tlearn: 0.4623324\ttotal: 24.9s\tremaining: 18.1s\n",
      "579:\tlearn: 0.4622934\ttotal: 24.9s\tremaining: 18s\n",
      "580:\tlearn: 0.4622726\ttotal: 25s\tremaining: 18s\n",
      "581:\tlearn: 0.4622208\ttotal: 25s\tremaining: 18s\n",
      "582:\tlearn: 0.4621848\ttotal: 25.1s\tremaining: 17.9s\n",
      "583:\tlearn: 0.4621489\ttotal: 25.1s\tremaining: 17.9s\n",
      "584:\tlearn: 0.4621190\ttotal: 25.1s\tremaining: 17.8s\n",
      "585:\tlearn: 0.4620685\ttotal: 25.2s\tremaining: 17.8s\n",
      "586:\tlearn: 0.4620261\ttotal: 25.2s\tremaining: 17.7s\n",
      "587:\tlearn: 0.4619862\ttotal: 25.3s\tremaining: 17.7s\n",
      "588:\tlearn: 0.4619682\ttotal: 25.3s\tremaining: 17.7s\n",
      "589:\tlearn: 0.4619441\ttotal: 25.4s\tremaining: 17.6s\n",
      "590:\tlearn: 0.4619174\ttotal: 25.4s\tremaining: 17.6s\n",
      "591:\tlearn: 0.4618751\ttotal: 25.4s\tremaining: 17.5s\n",
      "592:\tlearn: 0.4618277\ttotal: 25.5s\tremaining: 17.5s\n",
      "593:\tlearn: 0.4618053\ttotal: 25.5s\tremaining: 17.5s\n",
      "594:\tlearn: 0.4617797\ttotal: 25.6s\tremaining: 17.4s\n",
      "595:\tlearn: 0.4617593\ttotal: 25.6s\tremaining: 17.4s\n",
      "596:\tlearn: 0.4617415\ttotal: 25.7s\tremaining: 17.3s\n",
      "597:\tlearn: 0.4617214\ttotal: 25.7s\tremaining: 17.3s\n",
      "598:\tlearn: 0.4616849\ttotal: 25.8s\tremaining: 17.2s\n",
      "599:\tlearn: 0.4616493\ttotal: 25.8s\tremaining: 17.2s\n",
      "600:\tlearn: 0.4616388\ttotal: 25.8s\tremaining: 17.2s\n",
      "601:\tlearn: 0.4616300\ttotal: 25.9s\tremaining: 17.1s\n",
      "602:\tlearn: 0.4616227\ttotal: 25.9s\tremaining: 17.1s\n",
      "603:\tlearn: 0.4615975\ttotal: 26s\tremaining: 17s\n",
      "604:\tlearn: 0.4615577\ttotal: 26s\tremaining: 17s\n",
      "605:\tlearn: 0.4615095\ttotal: 26.1s\tremaining: 16.9s\n",
      "606:\tlearn: 0.4614796\ttotal: 26.1s\tremaining: 16.9s\n",
      "607:\tlearn: 0.4614540\ttotal: 26.1s\tremaining: 16.9s\n",
      "608:\tlearn: 0.4614376\ttotal: 26.2s\tremaining: 16.8s\n",
      "609:\tlearn: 0.4614090\ttotal: 26.2s\tremaining: 16.8s\n",
      "610:\tlearn: 0.4613700\ttotal: 26.3s\tremaining: 16.7s\n",
      "611:\tlearn: 0.4613389\ttotal: 26.3s\tremaining: 16.7s\n",
      "612:\tlearn: 0.4613240\ttotal: 26.4s\tremaining: 16.6s\n",
      "613:\tlearn: 0.4613062\ttotal: 26.4s\tremaining: 16.6s\n",
      "614:\tlearn: 0.4612898\ttotal: 26.4s\tremaining: 16.6s\n",
      "615:\tlearn: 0.4612654\ttotal: 26.5s\tremaining: 16.5s\n",
      "616:\tlearn: 0.4611966\ttotal: 26.5s\tremaining: 16.5s\n",
      "617:\tlearn: 0.4611886\ttotal: 26.6s\tremaining: 16.4s\n",
      "618:\tlearn: 0.4611516\ttotal: 26.6s\tremaining: 16.4s\n",
      "619:\tlearn: 0.4611330\ttotal: 26.7s\tremaining: 16.3s\n",
      "620:\tlearn: 0.4611065\ttotal: 26.7s\tremaining: 16.3s\n",
      "621:\tlearn: 0.4610989\ttotal: 26.8s\tremaining: 16.3s\n",
      "622:\tlearn: 0.4610811\ttotal: 26.8s\tremaining: 16.2s\n",
      "623:\tlearn: 0.4610643\ttotal: 26.8s\tremaining: 16.2s\n",
      "624:\tlearn: 0.4610425\ttotal: 26.9s\tremaining: 16.1s\n",
      "625:\tlearn: 0.4610320\ttotal: 26.9s\tremaining: 16.1s\n",
      "626:\tlearn: 0.4610158\ttotal: 27s\tremaining: 16.1s\n",
      "627:\tlearn: 0.4609817\ttotal: 27s\tremaining: 16s\n",
      "628:\tlearn: 0.4609644\ttotal: 27.1s\tremaining: 16s\n",
      "629:\tlearn: 0.4609527\ttotal: 27.1s\tremaining: 15.9s\n",
      "630:\tlearn: 0.4609403\ttotal: 27.2s\tremaining: 15.9s\n",
      "631:\tlearn: 0.4609214\ttotal: 27.2s\tremaining: 15.8s\n",
      "632:\tlearn: 0.4609123\ttotal: 27.3s\tremaining: 15.8s\n",
      "633:\tlearn: 0.4609052\ttotal: 27.3s\tremaining: 15.8s\n",
      "634:\tlearn: 0.4608827\ttotal: 27.3s\tremaining: 15.7s\n",
      "635:\tlearn: 0.4608507\ttotal: 27.4s\tremaining: 15.7s\n",
      "636:\tlearn: 0.4608144\ttotal: 27.4s\tremaining: 15.6s\n"
     ]
    },
    {
     "name": "stdout",
     "output_type": "stream",
     "text": [
      "637:\tlearn: 0.4607989\ttotal: 27.5s\tremaining: 15.6s\n",
      "638:\tlearn: 0.4607711\ttotal: 27.5s\tremaining: 15.5s\n",
      "639:\tlearn: 0.4607421\ttotal: 27.6s\tremaining: 15.5s\n",
      "640:\tlearn: 0.4607178\ttotal: 27.6s\tremaining: 15.5s\n",
      "641:\tlearn: 0.4606985\ttotal: 27.6s\tremaining: 15.4s\n",
      "642:\tlearn: 0.4606790\ttotal: 27.7s\tremaining: 15.4s\n",
      "643:\tlearn: 0.4606559\ttotal: 27.7s\tremaining: 15.3s\n",
      "644:\tlearn: 0.4606031\ttotal: 27.8s\tremaining: 15.3s\n",
      "645:\tlearn: 0.4605607\ttotal: 27.8s\tremaining: 15.2s\n",
      "646:\tlearn: 0.4605410\ttotal: 27.9s\tremaining: 15.2s\n",
      "647:\tlearn: 0.4605188\ttotal: 27.9s\tremaining: 15.2s\n",
      "648:\tlearn: 0.4604764\ttotal: 27.9s\tremaining: 15.1s\n",
      "649:\tlearn: 0.4604396\ttotal: 28s\tremaining: 15.1s\n",
      "650:\tlearn: 0.4604009\ttotal: 28s\tremaining: 15s\n",
      "651:\tlearn: 0.4603879\ttotal: 28.1s\tremaining: 15s\n",
      "652:\tlearn: 0.4603798\ttotal: 28.1s\tremaining: 14.9s\n",
      "653:\tlearn: 0.4603553\ttotal: 28.2s\tremaining: 14.9s\n",
      "654:\tlearn: 0.4603376\ttotal: 28.2s\tremaining: 14.9s\n",
      "655:\tlearn: 0.4603202\ttotal: 28.2s\tremaining: 14.8s\n",
      "656:\tlearn: 0.4602798\ttotal: 28.3s\tremaining: 14.8s\n",
      "657:\tlearn: 0.4602462\ttotal: 28.3s\tremaining: 14.7s\n",
      "658:\tlearn: 0.4602376\ttotal: 28.4s\tremaining: 14.7s\n",
      "659:\tlearn: 0.4602249\ttotal: 28.4s\tremaining: 14.6s\n",
      "660:\tlearn: 0.4601945\ttotal: 28.4s\tremaining: 14.6s\n",
      "661:\tlearn: 0.4601814\ttotal: 28.5s\tremaining: 14.5s\n",
      "662:\tlearn: 0.4601551\ttotal: 28.5s\tremaining: 14.5s\n",
      "663:\tlearn: 0.4601436\ttotal: 28.6s\tremaining: 14.5s\n",
      "664:\tlearn: 0.4601188\ttotal: 28.6s\tremaining: 14.4s\n",
      "665:\tlearn: 0.4601067\ttotal: 28.7s\tremaining: 14.4s\n",
      "666:\tlearn: 0.4600874\ttotal: 28.7s\tremaining: 14.3s\n",
      "667:\tlearn: 0.4600776\ttotal: 28.7s\tremaining: 14.3s\n",
      "668:\tlearn: 0.4600372\ttotal: 28.8s\tremaining: 14.2s\n",
      "669:\tlearn: 0.4600085\ttotal: 28.8s\tremaining: 14.2s\n",
      "670:\tlearn: 0.4599941\ttotal: 28.9s\tremaining: 14.2s\n",
      "671:\tlearn: 0.4599694\ttotal: 28.9s\tremaining: 14.1s\n",
      "672:\tlearn: 0.4599648\ttotal: 29s\tremaining: 14.1s\n",
      "673:\tlearn: 0.4599491\ttotal: 29s\tremaining: 14s\n",
      "674:\tlearn: 0.4599165\ttotal: 29s\tremaining: 14s\n",
      "675:\tlearn: 0.4598863\ttotal: 29.1s\tremaining: 13.9s\n",
      "676:\tlearn: 0.4598699\ttotal: 29.1s\tremaining: 13.9s\n",
      "677:\tlearn: 0.4598303\ttotal: 29.2s\tremaining: 13.8s\n",
      "678:\tlearn: 0.4597902\ttotal: 29.2s\tremaining: 13.8s\n",
      "679:\tlearn: 0.4597741\ttotal: 29.2s\tremaining: 13.8s\n",
      "680:\tlearn: 0.4597413\ttotal: 29.3s\tremaining: 13.7s\n",
      "681:\tlearn: 0.4597235\ttotal: 29.3s\tremaining: 13.7s\n",
      "682:\tlearn: 0.4596766\ttotal: 29.4s\tremaining: 13.6s\n",
      "683:\tlearn: 0.4596380\ttotal: 29.4s\tremaining: 13.6s\n",
      "684:\tlearn: 0.4596196\ttotal: 29.5s\tremaining: 13.6s\n",
      "685:\tlearn: 0.4596062\ttotal: 29.5s\tremaining: 13.5s\n",
      "686:\tlearn: 0.4595919\ttotal: 29.6s\tremaining: 13.5s\n",
      "687:\tlearn: 0.4595675\ttotal: 29.6s\tremaining: 13.4s\n",
      "688:\tlearn: 0.4595444\ttotal: 29.6s\tremaining: 13.4s\n",
      "689:\tlearn: 0.4595258\ttotal: 29.7s\tremaining: 13.3s\n",
      "690:\tlearn: 0.4594957\ttotal: 29.7s\tremaining: 13.3s\n",
      "691:\tlearn: 0.4594737\ttotal: 29.8s\tremaining: 13.3s\n",
      "692:\tlearn: 0.4594366\ttotal: 29.8s\tremaining: 13.2s\n",
      "693:\tlearn: 0.4594139\ttotal: 29.9s\tremaining: 13.2s\n",
      "694:\tlearn: 0.4593947\ttotal: 29.9s\tremaining: 13.1s\n",
      "695:\tlearn: 0.4593769\ttotal: 30s\tremaining: 13.1s\n",
      "696:\tlearn: 0.4593468\ttotal: 30s\tremaining: 13s\n",
      "697:\tlearn: 0.4593372\ttotal: 30s\tremaining: 13s\n",
      "698:\tlearn: 0.4593280\ttotal: 30.1s\tremaining: 13s\n",
      "699:\tlearn: 0.4593132\ttotal: 30.1s\tremaining: 12.9s\n",
      "700:\tlearn: 0.4593005\ttotal: 30.2s\tremaining: 12.9s\n",
      "701:\tlearn: 0.4592921\ttotal: 30.2s\tremaining: 12.8s\n",
      "702:\tlearn: 0.4592635\ttotal: 30.2s\tremaining: 12.8s\n",
      "703:\tlearn: 0.4592533\ttotal: 30.3s\tremaining: 12.7s\n",
      "704:\tlearn: 0.4592231\ttotal: 30.3s\tremaining: 12.7s\n",
      "705:\tlearn: 0.4592099\ttotal: 30.4s\tremaining: 12.7s\n",
      "706:\tlearn: 0.4591771\ttotal: 30.4s\tremaining: 12.6s\n",
      "707:\tlearn: 0.4591589\ttotal: 30.5s\tremaining: 12.6s\n",
      "708:\tlearn: 0.4591141\ttotal: 30.5s\tremaining: 12.5s\n",
      "709:\tlearn: 0.4590974\ttotal: 30.6s\tremaining: 12.5s\n",
      "710:\tlearn: 0.4590769\ttotal: 30.6s\tremaining: 12.4s\n",
      "711:\tlearn: 0.4590525\ttotal: 30.6s\tremaining: 12.4s\n",
      "712:\tlearn: 0.4590365\ttotal: 30.7s\tremaining: 12.3s\n",
      "713:\tlearn: 0.4590284\ttotal: 30.7s\tremaining: 12.3s\n",
      "714:\tlearn: 0.4590244\ttotal: 30.8s\tremaining: 12.3s\n",
      "715:\tlearn: 0.4590157\ttotal: 30.8s\tremaining: 12.2s\n",
      "716:\tlearn: 0.4590133\ttotal: 30.9s\tremaining: 12.2s\n",
      "717:\tlearn: 0.4589912\ttotal: 30.9s\tremaining: 12.1s\n",
      "718:\tlearn: 0.4589484\ttotal: 30.9s\tremaining: 12.1s\n",
      "719:\tlearn: 0.4589265\ttotal: 31s\tremaining: 12s\n",
      "720:\tlearn: 0.4589216\ttotal: 31s\tremaining: 12s\n",
      "721:\tlearn: 0.4589013\ttotal: 31.1s\tremaining: 12s\n",
      "722:\tlearn: 0.4588810\ttotal: 31.1s\tremaining: 11.9s\n",
      "723:\tlearn: 0.4588606\ttotal: 31.1s\tremaining: 11.9s\n",
      "724:\tlearn: 0.4588523\ttotal: 31.2s\tremaining: 11.8s\n",
      "725:\tlearn: 0.4588301\ttotal: 31.2s\tremaining: 11.8s\n",
      "726:\tlearn: 0.4588183\ttotal: 31.3s\tremaining: 11.7s\n",
      "727:\tlearn: 0.4588059\ttotal: 31.3s\tremaining: 11.7s\n",
      "728:\tlearn: 0.4587738\ttotal: 31.4s\tremaining: 11.7s\n",
      "729:\tlearn: 0.4587706\ttotal: 31.4s\tremaining: 11.6s\n",
      "730:\tlearn: 0.4587507\ttotal: 31.5s\tremaining: 11.6s\n",
      "731:\tlearn: 0.4587113\ttotal: 31.5s\tremaining: 11.5s\n",
      "732:\tlearn: 0.4586696\ttotal: 31.5s\tremaining: 11.5s\n",
      "733:\tlearn: 0.4586473\ttotal: 31.6s\tremaining: 11.4s\n",
      "734:\tlearn: 0.4586296\ttotal: 31.6s\tremaining: 11.4s\n",
      "735:\tlearn: 0.4586201\ttotal: 31.7s\tremaining: 11.4s\n",
      "736:\tlearn: 0.4585958\ttotal: 31.7s\tremaining: 11.3s\n",
      "737:\tlearn: 0.4585914\ttotal: 31.8s\tremaining: 11.3s\n",
      "738:\tlearn: 0.4585596\ttotal: 31.8s\tremaining: 11.2s\n",
      "739:\tlearn: 0.4585163\ttotal: 31.8s\tremaining: 11.2s\n",
      "740:\tlearn: 0.4585053\ttotal: 31.9s\tremaining: 11.1s\n",
      "741:\tlearn: 0.4584854\ttotal: 31.9s\tremaining: 11.1s\n",
      "742:\tlearn: 0.4584812\ttotal: 32s\tremaining: 11.1s\n",
      "743:\tlearn: 0.4584792\ttotal: 32s\tremaining: 11s\n",
      "744:\tlearn: 0.4584339\ttotal: 32.1s\tremaining: 11s\n",
      "745:\tlearn: 0.4584227\ttotal: 32.1s\tremaining: 10.9s\n",
      "746:\tlearn: 0.4584096\ttotal: 32.2s\tremaining: 10.9s\n",
      "747:\tlearn: 0.4583804\ttotal: 32.2s\tremaining: 10.9s\n",
      "748:\tlearn: 0.4583596\ttotal: 32.3s\tremaining: 10.8s\n",
      "749:\tlearn: 0.4583327\ttotal: 32.3s\tremaining: 10.8s\n",
      "750:\tlearn: 0.4583076\ttotal: 32.3s\tremaining: 10.7s\n",
      "751:\tlearn: 0.4582673\ttotal: 32.4s\tremaining: 10.7s\n",
      "752:\tlearn: 0.4582571\ttotal: 32.4s\tremaining: 10.6s\n",
      "753:\tlearn: 0.4582307\ttotal: 32.5s\tremaining: 10.6s\n",
      "754:\tlearn: 0.4582204\ttotal: 32.5s\tremaining: 10.6s\n",
      "755:\tlearn: 0.4582170\ttotal: 32.6s\tremaining: 10.5s\n",
      "756:\tlearn: 0.4581939\ttotal: 32.7s\tremaining: 10.5s\n",
      "757:\tlearn: 0.4581688\ttotal: 32.7s\tremaining: 10.4s\n",
      "758:\tlearn: 0.4581515\ttotal: 32.8s\tremaining: 10.4s\n",
      "759:\tlearn: 0.4581154\ttotal: 32.8s\tremaining: 10.4s\n",
      "760:\tlearn: 0.4580936\ttotal: 32.9s\tremaining: 10.3s\n",
      "761:\tlearn: 0.4580779\ttotal: 32.9s\tremaining: 10.3s\n",
      "762:\tlearn: 0.4580527\ttotal: 33s\tremaining: 10.2s\n",
      "763:\tlearn: 0.4580363\ttotal: 33s\tremaining: 10.2s\n",
      "764:\tlearn: 0.4580193\ttotal: 33.1s\tremaining: 10.2s\n",
      "765:\tlearn: 0.4580146\ttotal: 33.1s\tremaining: 10.1s\n",
      "766:\tlearn: 0.4580062\ttotal: 33.2s\tremaining: 10.1s\n",
      "767:\tlearn: 0.4579953\ttotal: 33.2s\tremaining: 10s\n",
      "768:\tlearn: 0.4579659\ttotal: 33.3s\tremaining: 9.99s\n",
      "769:\tlearn: 0.4579467\ttotal: 33.3s\tremaining: 9.95s\n",
      "770:\tlearn: 0.4579128\ttotal: 33.4s\tremaining: 9.91s\n",
      "771:\tlearn: 0.4578910\ttotal: 33.4s\tremaining: 9.87s\n",
      "772:\tlearn: 0.4578713\ttotal: 33.5s\tremaining: 9.83s\n",
      "773:\tlearn: 0.4578633\ttotal: 33.5s\tremaining: 9.79s\n",
      "774:\tlearn: 0.4578446\ttotal: 33.6s\tremaining: 9.75s\n",
      "775:\tlearn: 0.4578256\ttotal: 33.6s\tremaining: 9.71s\n",
      "776:\tlearn: 0.4577984\ttotal: 33.7s\tremaining: 9.68s\n",
      "777:\tlearn: 0.4577717\ttotal: 33.8s\tremaining: 9.64s\n",
      "778:\tlearn: 0.4577586\ttotal: 33.9s\tremaining: 9.61s\n",
      "779:\tlearn: 0.4577299\ttotal: 33.9s\tremaining: 9.56s\n",
      "780:\tlearn: 0.4576831\ttotal: 34s\tremaining: 9.53s\n",
      "781:\tlearn: 0.4576589\ttotal: 34s\tremaining: 9.49s\n",
      "782:\tlearn: 0.4576371\ttotal: 34.1s\tremaining: 9.45s\n",
      "783:\tlearn: 0.4576288\ttotal: 34.2s\tremaining: 9.41s\n",
      "784:\tlearn: 0.4576143\ttotal: 34.2s\tremaining: 9.38s\n",
      "785:\tlearn: 0.4575977\ttotal: 34.3s\tremaining: 9.34s\n",
      "786:\tlearn: 0.4575622\ttotal: 34.4s\tremaining: 9.3s\n",
      "787:\tlearn: 0.4575275\ttotal: 34.4s\tremaining: 9.26s\n",
      "788:\tlearn: 0.4575080\ttotal: 34.5s\tremaining: 9.21s\n",
      "789:\tlearn: 0.4574719\ttotal: 34.5s\tremaining: 9.17s\n",
      "790:\tlearn: 0.4574601\ttotal: 34.6s\tremaining: 9.13s\n",
      "791:\tlearn: 0.4574554\ttotal: 34.6s\tremaining: 9.1s\n",
      "792:\tlearn: 0.4574313\ttotal: 34.7s\tremaining: 9.06s\n",
      "793:\tlearn: 0.4573923\ttotal: 34.8s\tremaining: 9.02s\n",
      "794:\tlearn: 0.4573555\ttotal: 34.8s\tremaining: 8.98s\n",
      "795:\tlearn: 0.4573508\ttotal: 34.9s\tremaining: 8.94s\n"
     ]
    },
    {
     "name": "stdout",
     "output_type": "stream",
     "text": [
      "796:\tlearn: 0.4573282\ttotal: 34.9s\tremaining: 8.9s\n",
      "797:\tlearn: 0.4573218\ttotal: 35s\tremaining: 8.86s\n",
      "798:\tlearn: 0.4572929\ttotal: 35s\tremaining: 8.81s\n",
      "799:\tlearn: 0.4572749\ttotal: 35.1s\tremaining: 8.77s\n",
      "800:\tlearn: 0.4572572\ttotal: 35.1s\tremaining: 8.73s\n",
      "801:\tlearn: 0.4572230\ttotal: 35.2s\tremaining: 8.69s\n",
      "802:\tlearn: 0.4571821\ttotal: 35.2s\tremaining: 8.64s\n",
      "803:\tlearn: 0.4571719\ttotal: 35.3s\tremaining: 8.6s\n",
      "804:\tlearn: 0.4571635\ttotal: 35.3s\tremaining: 8.56s\n",
      "805:\tlearn: 0.4571327\ttotal: 35.4s\tremaining: 8.51s\n",
      "806:\tlearn: 0.4571191\ttotal: 35.4s\tremaining: 8.47s\n",
      "807:\tlearn: 0.4571121\ttotal: 35.5s\tremaining: 8.43s\n",
      "808:\tlearn: 0.4570766\ttotal: 35.5s\tremaining: 8.38s\n",
      "809:\tlearn: 0.4570205\ttotal: 35.6s\tremaining: 8.34s\n",
      "810:\tlearn: 0.4570098\ttotal: 35.6s\tremaining: 8.3s\n",
      "811:\tlearn: 0.4569959\ttotal: 35.7s\tremaining: 8.26s\n",
      "812:\tlearn: 0.4569882\ttotal: 35.7s\tremaining: 8.22s\n",
      "813:\tlearn: 0.4569807\ttotal: 35.8s\tremaining: 8.18s\n",
      "814:\tlearn: 0.4569680\ttotal: 35.9s\tremaining: 8.14s\n",
      "815:\tlearn: 0.4569427\ttotal: 35.9s\tremaining: 8.1s\n",
      "816:\tlearn: 0.4569214\ttotal: 36s\tremaining: 8.06s\n",
      "817:\tlearn: 0.4569094\ttotal: 36s\tremaining: 8.02s\n",
      "818:\tlearn: 0.4569030\ttotal: 36.1s\tremaining: 7.98s\n",
      "819:\tlearn: 0.4568888\ttotal: 36.2s\tremaining: 7.94s\n",
      "820:\tlearn: 0.4568747\ttotal: 36.2s\tremaining: 7.9s\n",
      "821:\tlearn: 0.4568695\ttotal: 36.3s\tremaining: 7.86s\n",
      "822:\tlearn: 0.4568518\ttotal: 36.3s\tremaining: 7.81s\n",
      "823:\tlearn: 0.4568486\ttotal: 36.4s\tremaining: 7.77s\n",
      "824:\tlearn: 0.4568351\ttotal: 36.4s\tremaining: 7.73s\n",
      "825:\tlearn: 0.4568268\ttotal: 36.5s\tremaining: 7.69s\n",
      "826:\tlearn: 0.4567986\ttotal: 36.5s\tremaining: 7.64s\n",
      "827:\tlearn: 0.4567799\ttotal: 36.6s\tremaining: 7.6s\n",
      "828:\tlearn: 0.4567709\ttotal: 36.6s\tremaining: 7.56s\n",
      "829:\tlearn: 0.4567602\ttotal: 36.7s\tremaining: 7.52s\n",
      "830:\tlearn: 0.4567402\ttotal: 36.8s\tremaining: 7.47s\n",
      "831:\tlearn: 0.4567219\ttotal: 36.8s\tremaining: 7.43s\n",
      "832:\tlearn: 0.4567123\ttotal: 36.9s\tremaining: 7.39s\n",
      "833:\tlearn: 0.4567054\ttotal: 36.9s\tremaining: 7.35s\n",
      "834:\tlearn: 0.4566823\ttotal: 37s\tremaining: 7.31s\n",
      "835:\tlearn: 0.4566576\ttotal: 37s\tremaining: 7.26s\n",
      "836:\tlearn: 0.4566391\ttotal: 37.1s\tremaining: 7.22s\n",
      "837:\tlearn: 0.4566258\ttotal: 37.2s\tremaining: 7.18s\n",
      "838:\tlearn: 0.4566141\ttotal: 37.2s\tremaining: 7.14s\n",
      "839:\tlearn: 0.4566075\ttotal: 37.3s\tremaining: 7.1s\n",
      "840:\tlearn: 0.4565848\ttotal: 37.3s\tremaining: 7.05s\n",
      "841:\tlearn: 0.4565488\ttotal: 37.3s\tremaining: 7.01s\n",
      "842:\tlearn: 0.4565297\ttotal: 37.4s\tremaining: 6.96s\n",
      "843:\tlearn: 0.4565002\ttotal: 37.4s\tremaining: 6.92s\n",
      "844:\tlearn: 0.4564708\ttotal: 37.5s\tremaining: 6.87s\n",
      "845:\tlearn: 0.4564485\ttotal: 37.5s\tremaining: 6.83s\n",
      "846:\tlearn: 0.4564309\ttotal: 37.6s\tremaining: 6.79s\n",
      "847:\tlearn: 0.4564084\ttotal: 37.6s\tremaining: 6.74s\n",
      "848:\tlearn: 0.4563916\ttotal: 37.6s\tremaining: 6.7s\n",
      "849:\tlearn: 0.4563680\ttotal: 37.7s\tremaining: 6.65s\n",
      "850:\tlearn: 0.4563651\ttotal: 37.7s\tremaining: 6.61s\n",
      "851:\tlearn: 0.4563497\ttotal: 37.8s\tremaining: 6.56s\n",
      "852:\tlearn: 0.4563399\ttotal: 37.8s\tremaining: 6.52s\n",
      "853:\tlearn: 0.4563315\ttotal: 37.9s\tremaining: 6.47s\n",
      "854:\tlearn: 0.4563237\ttotal: 37.9s\tremaining: 6.43s\n",
      "855:\tlearn: 0.4563162\ttotal: 38s\tremaining: 6.39s\n",
      "856:\tlearn: 0.4562952\ttotal: 38s\tremaining: 6.34s\n",
      "857:\tlearn: 0.4562850\ttotal: 38.1s\tremaining: 6.3s\n",
      "858:\tlearn: 0.4562777\ttotal: 38.1s\tremaining: 6.25s\n",
      "859:\tlearn: 0.4562728\ttotal: 38.1s\tremaining: 6.21s\n",
      "860:\tlearn: 0.4562378\ttotal: 38.2s\tremaining: 6.16s\n",
      "861:\tlearn: 0.4562313\ttotal: 38.2s\tremaining: 6.12s\n",
      "862:\tlearn: 0.4561997\ttotal: 38.3s\tremaining: 6.07s\n",
      "863:\tlearn: 0.4561788\ttotal: 38.3s\tremaining: 6.03s\n",
      "864:\tlearn: 0.4561690\ttotal: 38.3s\tremaining: 5.98s\n",
      "865:\tlearn: 0.4561627\ttotal: 38.4s\tremaining: 5.94s\n",
      "866:\tlearn: 0.4561303\ttotal: 38.4s\tremaining: 5.9s\n",
      "867:\tlearn: 0.4561067\ttotal: 38.5s\tremaining: 5.85s\n",
      "868:\tlearn: 0.4560985\ttotal: 38.5s\tremaining: 5.81s\n",
      "869:\tlearn: 0.4560857\ttotal: 38.6s\tremaining: 5.76s\n",
      "870:\tlearn: 0.4560710\ttotal: 38.6s\tremaining: 5.72s\n",
      "871:\tlearn: 0.4560361\ttotal: 38.7s\tremaining: 5.67s\n",
      "872:\tlearn: 0.4560179\ttotal: 38.7s\tremaining: 5.63s\n",
      "873:\tlearn: 0.4559877\ttotal: 38.7s\tremaining: 5.58s\n",
      "874:\tlearn: 0.4559797\ttotal: 38.8s\tremaining: 5.54s\n",
      "875:\tlearn: 0.4559641\ttotal: 38.8s\tremaining: 5.49s\n",
      "876:\tlearn: 0.4559404\ttotal: 38.9s\tremaining: 5.45s\n",
      "877:\tlearn: 0.4559096\ttotal: 38.9s\tremaining: 5.4s\n",
      "878:\tlearn: 0.4558931\ttotal: 38.9s\tremaining: 5.36s\n",
      "879:\tlearn: 0.4558672\ttotal: 39s\tremaining: 5.32s\n",
      "880:\tlearn: 0.4558506\ttotal: 39s\tremaining: 5.27s\n",
      "881:\tlearn: 0.4558340\ttotal: 39.1s\tremaining: 5.22s\n",
      "882:\tlearn: 0.4558247\ttotal: 39.1s\tremaining: 5.18s\n",
      "883:\tlearn: 0.4558051\ttotal: 39.1s\tremaining: 5.13s\n",
      "884:\tlearn: 0.4557990\ttotal: 39.2s\tremaining: 5.09s\n",
      "885:\tlearn: 0.4557950\ttotal: 39.2s\tremaining: 5.05s\n",
      "886:\tlearn: 0.4557705\ttotal: 39.3s\tremaining: 5s\n",
      "887:\tlearn: 0.4557615\ttotal: 39.3s\tremaining: 4.96s\n",
      "888:\tlearn: 0.4557362\ttotal: 39.4s\tremaining: 4.91s\n",
      "889:\tlearn: 0.4557224\ttotal: 39.4s\tremaining: 4.87s\n",
      "890:\tlearn: 0.4556996\ttotal: 39.4s\tremaining: 4.82s\n",
      "891:\tlearn: 0.4556765\ttotal: 39.5s\tremaining: 4.78s\n",
      "892:\tlearn: 0.4556732\ttotal: 39.5s\tremaining: 4.74s\n",
      "893:\tlearn: 0.4556507\ttotal: 39.6s\tremaining: 4.69s\n",
      "894:\tlearn: 0.4556384\ttotal: 39.6s\tremaining: 4.64s\n",
      "895:\tlearn: 0.4556168\ttotal: 39.7s\tremaining: 4.6s\n",
      "896:\tlearn: 0.4556060\ttotal: 39.7s\tremaining: 4.56s\n",
      "897:\tlearn: 0.4555866\ttotal: 39.7s\tremaining: 4.51s\n",
      "898:\tlearn: 0.4555705\ttotal: 39.8s\tremaining: 4.47s\n",
      "899:\tlearn: 0.4555612\ttotal: 39.8s\tremaining: 4.42s\n",
      "900:\tlearn: 0.4555319\ttotal: 39.9s\tremaining: 4.38s\n",
      "901:\tlearn: 0.4555209\ttotal: 39.9s\tremaining: 4.33s\n",
      "902:\tlearn: 0.4555156\ttotal: 39.9s\tremaining: 4.29s\n",
      "903:\tlearn: 0.4554871\ttotal: 40s\tremaining: 4.25s\n",
      "904:\tlearn: 0.4554531\ttotal: 40s\tremaining: 4.2s\n",
      "905:\tlearn: 0.4554465\ttotal: 40.1s\tremaining: 4.16s\n",
      "906:\tlearn: 0.4554127\ttotal: 40.1s\tremaining: 4.11s\n",
      "907:\tlearn: 0.4553994\ttotal: 40.1s\tremaining: 4.07s\n",
      "908:\tlearn: 0.4553913\ttotal: 40.2s\tremaining: 4.02s\n",
      "909:\tlearn: 0.4553585\ttotal: 40.2s\tremaining: 3.98s\n",
      "910:\tlearn: 0.4553454\ttotal: 40.3s\tremaining: 3.93s\n",
      "911:\tlearn: 0.4553286\ttotal: 40.3s\tremaining: 3.89s\n",
      "912:\tlearn: 0.4553215\ttotal: 40.3s\tremaining: 3.84s\n",
      "913:\tlearn: 0.4552982\ttotal: 40.4s\tremaining: 3.8s\n",
      "914:\tlearn: 0.4552703\ttotal: 40.4s\tremaining: 3.75s\n",
      "915:\tlearn: 0.4552563\ttotal: 40.5s\tremaining: 3.71s\n",
      "916:\tlearn: 0.4552478\ttotal: 40.5s\tremaining: 3.67s\n",
      "917:\tlearn: 0.4552012\ttotal: 40.5s\tremaining: 3.62s\n",
      "918:\tlearn: 0.4551933\ttotal: 40.6s\tremaining: 3.58s\n",
      "919:\tlearn: 0.4551575\ttotal: 40.6s\tremaining: 3.53s\n",
      "920:\tlearn: 0.4551458\ttotal: 40.7s\tremaining: 3.49s\n",
      "921:\tlearn: 0.4551333\ttotal: 40.7s\tremaining: 3.44s\n",
      "922:\tlearn: 0.4551238\ttotal: 40.8s\tremaining: 3.4s\n",
      "923:\tlearn: 0.4551120\ttotal: 40.8s\tremaining: 3.35s\n",
      "924:\tlearn: 0.4550949\ttotal: 40.9s\tremaining: 3.31s\n",
      "925:\tlearn: 0.4550813\ttotal: 40.9s\tremaining: 3.27s\n",
      "926:\tlearn: 0.4550736\ttotal: 40.9s\tremaining: 3.22s\n",
      "927:\tlearn: 0.4550616\ttotal: 41s\tremaining: 3.18s\n",
      "928:\tlearn: 0.4550407\ttotal: 41s\tremaining: 3.13s\n",
      "929:\tlearn: 0.4550283\ttotal: 41.1s\tremaining: 3.09s\n",
      "930:\tlearn: 0.4550191\ttotal: 41.1s\tremaining: 3.05s\n",
      "931:\tlearn: 0.4550083\ttotal: 41.1s\tremaining: 3s\n",
      "932:\tlearn: 0.4549959\ttotal: 41.2s\tremaining: 2.96s\n",
      "933:\tlearn: 0.4549671\ttotal: 41.2s\tremaining: 2.91s\n",
      "934:\tlearn: 0.4549498\ttotal: 41.3s\tremaining: 2.87s\n",
      "935:\tlearn: 0.4549311\ttotal: 41.3s\tremaining: 2.82s\n",
      "936:\tlearn: 0.4548943\ttotal: 41.4s\tremaining: 2.78s\n",
      "937:\tlearn: 0.4548764\ttotal: 41.4s\tremaining: 2.73s\n",
      "938:\tlearn: 0.4548570\ttotal: 41.4s\tremaining: 2.69s\n",
      "939:\tlearn: 0.4548433\ttotal: 41.5s\tremaining: 2.65s\n",
      "940:\tlearn: 0.4548359\ttotal: 41.5s\tremaining: 2.6s\n",
      "941:\tlearn: 0.4548254\ttotal: 41.6s\tremaining: 2.56s\n",
      "942:\tlearn: 0.4548099\ttotal: 41.6s\tremaining: 2.51s\n",
      "943:\tlearn: 0.4547965\ttotal: 41.7s\tremaining: 2.47s\n",
      "944:\tlearn: 0.4547660\ttotal: 41.7s\tremaining: 2.43s\n",
      "945:\tlearn: 0.4547367\ttotal: 41.7s\tremaining: 2.38s\n",
      "946:\tlearn: 0.4547218\ttotal: 41.8s\tremaining: 2.34s\n",
      "947:\tlearn: 0.4546972\ttotal: 41.8s\tremaining: 2.29s\n",
      "948:\tlearn: 0.4546786\ttotal: 41.9s\tremaining: 2.25s\n",
      "949:\tlearn: 0.4546712\ttotal: 41.9s\tremaining: 2.21s\n",
      "950:\tlearn: 0.4546346\ttotal: 42s\tremaining: 2.16s\n",
      "951:\tlearn: 0.4546257\ttotal: 42s\tremaining: 2.12s\n",
      "952:\tlearn: 0.4546149\ttotal: 42.1s\tremaining: 2.07s\n",
      "953:\tlearn: 0.4546029\ttotal: 42.1s\tremaining: 2.03s\n",
      "954:\tlearn: 0.4545964\ttotal: 42.2s\tremaining: 1.99s\n"
     ]
    },
    {
     "name": "stdout",
     "output_type": "stream",
     "text": [
      "955:\tlearn: 0.4545870\ttotal: 42.2s\tremaining: 1.94s\n",
      "956:\tlearn: 0.4545616\ttotal: 42.3s\tremaining: 1.9s\n",
      "957:\tlearn: 0.4545591\ttotal: 42.3s\tremaining: 1.85s\n",
      "958:\tlearn: 0.4545454\ttotal: 42.3s\tremaining: 1.81s\n",
      "959:\tlearn: 0.4545333\ttotal: 42.4s\tremaining: 1.76s\n",
      "960:\tlearn: 0.4545212\ttotal: 42.4s\tremaining: 1.72s\n",
      "961:\tlearn: 0.4544926\ttotal: 42.5s\tremaining: 1.68s\n",
      "962:\tlearn: 0.4544770\ttotal: 42.5s\tremaining: 1.63s\n",
      "963:\tlearn: 0.4544714\ttotal: 42.5s\tremaining: 1.59s\n",
      "964:\tlearn: 0.4544433\ttotal: 42.6s\tremaining: 1.54s\n",
      "965:\tlearn: 0.4544379\ttotal: 42.6s\tremaining: 1.5s\n",
      "966:\tlearn: 0.4544265\ttotal: 42.7s\tremaining: 1.46s\n",
      "967:\tlearn: 0.4544193\ttotal: 42.7s\tremaining: 1.41s\n",
      "968:\tlearn: 0.4544062\ttotal: 42.8s\tremaining: 1.37s\n",
      "969:\tlearn: 0.4543991\ttotal: 42.8s\tremaining: 1.32s\n",
      "970:\tlearn: 0.4543790\ttotal: 42.9s\tremaining: 1.28s\n",
      "971:\tlearn: 0.4543649\ttotal: 42.9s\tremaining: 1.24s\n",
      "972:\tlearn: 0.4543493\ttotal: 43s\tremaining: 1.19s\n",
      "973:\tlearn: 0.4543303\ttotal: 43s\tremaining: 1.15s\n",
      "974:\tlearn: 0.4543216\ttotal: 43.1s\tremaining: 1.1s\n",
      "975:\tlearn: 0.4543151\ttotal: 43.1s\tremaining: 1.06s\n",
      "976:\tlearn: 0.4542940\ttotal: 43.1s\tremaining: 1.01s\n",
      "977:\tlearn: 0.4542831\ttotal: 43.2s\tremaining: 972ms\n",
      "978:\tlearn: 0.4542627\ttotal: 43.2s\tremaining: 927ms\n",
      "979:\tlearn: 0.4542591\ttotal: 43.3s\tremaining: 883ms\n",
      "980:\tlearn: 0.4542467\ttotal: 43.3s\tremaining: 839ms\n",
      "981:\tlearn: 0.4542309\ttotal: 43.4s\tremaining: 795ms\n",
      "982:\tlearn: 0.4542254\ttotal: 43.4s\tremaining: 751ms\n",
      "983:\tlearn: 0.4542237\ttotal: 43.5s\tremaining: 707ms\n",
      "984:\tlearn: 0.4542178\ttotal: 43.5s\tremaining: 662ms\n",
      "985:\tlearn: 0.4542083\ttotal: 43.5s\tremaining: 618ms\n",
      "986:\tlearn: 0.4541997\ttotal: 43.6s\tremaining: 574ms\n",
      "987:\tlearn: 0.4541629\ttotal: 43.6s\tremaining: 530ms\n",
      "988:\tlearn: 0.4541510\ttotal: 43.7s\tremaining: 486ms\n",
      "989:\tlearn: 0.4541348\ttotal: 43.7s\tremaining: 442ms\n",
      "990:\tlearn: 0.4541123\ttotal: 43.8s\tremaining: 397ms\n",
      "991:\tlearn: 0.4540946\ttotal: 43.8s\tremaining: 353ms\n",
      "992:\tlearn: 0.4540628\ttotal: 43.8s\tremaining: 309ms\n",
      "993:\tlearn: 0.4540585\ttotal: 43.9s\tremaining: 265ms\n",
      "994:\tlearn: 0.4540405\ttotal: 43.9s\tremaining: 221ms\n",
      "995:\tlearn: 0.4540252\ttotal: 44s\tremaining: 177ms\n",
      "996:\tlearn: 0.4540197\ttotal: 44s\tremaining: 132ms\n",
      "997:\tlearn: 0.4540078\ttotal: 44.1s\tremaining: 88.3ms\n",
      "998:\tlearn: 0.4540052\ttotal: 44.1s\tremaining: 44.1ms\n",
      "999:\tlearn: 0.4539925\ttotal: 44.1s\tremaining: 0us\n"
     ]
    },
    {
     "data": {
      "text/plain": [
       "<catboost.core.CatBoostClassifier at 0x27c0540a2b0>"
      ]
     },
     "execution_count": 56,
     "metadata": {},
     "output_type": "execute_result"
    }
   ],
   "source": [
    "import catboost \n",
    "\n",
    "model = catboost.CatBoostClassifier()\n",
    "\n",
    "model.fit(interactions_train_df[interactions_train_df.columns[features_start:]],\n",
    "          np.array(interactions_train_df.eventStrength > 0, dtype=int))"
   ]
  },
  {
   "cell_type": "markdown",
   "metadata": {},
   "source": [
    "Сделаем предсказания на тестовой выборке, сформируем из них рекомендации. "
   ]
  },
  {
   "cell_type": "code",
   "execution_count": 57,
   "metadata": {},
   "outputs": [
    {
     "data": {
      "application/vnd.jupyter.widget-view+json": {
       "model_id": "442ee06336464822b15240e39870a183",
       "version_major": 2,
       "version_minor": 0
      },
      "text/plain": [
       "HBox(children=(IntProgress(value=0, max=1112), HTML(value='')))"
      ]
     },
     "metadata": {},
     "output_type": "display_data"
    },
    {
     "name": "stdout",
     "output_type": "stream",
     "text": [
      "\n"
     ]
    }
   ],
   "source": [
    "####### Здесь ваш код ##########\n",
    "predictions = model.predict_proba(test[interactions_train_df.columns[features_start:]])[:, 1]\n",
    "test['predictions'] = predictions\n",
    "\n",
    "test = test.sort_values('predictions', ascending=False)\n",
    "predictions = test.groupby('personId')['contentId'].aggregate(list)\n",
    "tmp_predictions = []\n",
    "\n",
    "for personId in tqdm_notebook(interactions.index):\n",
    "    prediction = np.array(predictions.loc[personId])\n",
    "    \n",
    "    tmp_predictions.append(\n",
    "        list(prediction[~np.in1d(\n",
    "            prediction,\n",
    "            interactions.loc[personId, 'true_train'])])[:top_k])\n",
    "    \n",
    "interactions['prediction_content'] = tmp_predictions\n",
    "################################"
   ]
  },
  {
   "cell_type": "markdown",
   "metadata": {},
   "source": [
    "Оценим их качество."
   ]
  },
  {
   "cell_type": "code",
   "execution_count": 58,
   "metadata": {
    "scrolled": true
   },
   "outputs": [
    {
     "data": {
      "text/plain": [
       "0.008966241961349004"
      ]
     },
     "execution_count": 58,
     "metadata": {},
     "output_type": "execute_result"
    }
   ],
   "source": [
    "# calc_precision(...)\n",
    "####### Здесь ваш код ##########\n",
    "calc_precision('prediction_content')\n",
    "################################"
   ]
  },
  {
   "cell_type": "markdown",
   "metadata": {},
   "source": [
    "## Часть 4. Факторизационная машина"
   ]
  },
  {
   "cell_type": "markdown",
   "metadata": {},
   "source": [
    "Вспомним, что факторизационная машина учитывает попарные взаимодействия признаков, что приводит сразу и к использованию контента (сами признаки), и к обучению скрытых представлений (индикаторы пользователей и статей).\n",
    "\n",
    "Попробуем факторизационные машины из библиотеки pyFM (так как можно работать прямо из питона). https://github.com/coreylynch/pyFM"
   ]
  },
  {
   "cell_type": "code",
   "execution_count": 1,
   "metadata": {},
   "outputs": [],
   "source": [
    "from pyfm import pylibfm\n",
    "from sklearn.feature_extraction import DictVectorizer"
   ]
  },
  {
   "cell_type": "markdown",
   "metadata": {},
   "source": [
    "Перейдём к обобщению матричных разложений — факторизационным машинам, которые работают с контентной информацией. Вспомним, какие данные у нас изначально были:"
   ]
  },
  {
   "cell_type": "markdown",
   "metadata": {},
   "source": [
    "В факторизационную машину можно загрузить **id** пользователей и статей (то есть сделать аналог коллаборативной фильтрации) и одновременно различные признаки.\n",
    "\n",
    "Удобно обрабатывать категориальные переменные (**id** и другие) с помощью `DictVectorizer`. Например, процесс может выглядить вот так:\n",
    "```python\n",
    "train = [\n",
    "    {\"user\": \"1\", \"item\": \"5\", \"age\": 19},\n",
    "    {\"user\": \"2\", \"item\": \"43\", \"age\": 33},\n",
    "    {\"user\": \"3\", \"item\": \"20\", \"age\": 55},\n",
    "    {\"user\": \"4\", \"item\": \"10\", \"age\": 20},\n",
    "]\n",
    "v = DictVectorizer()\n",
    "X = v.fit_transform(train)\n",
    "\n",
    "y = np.repeat(1.0, X.shape[0])\n",
    "\n",
    "fm = pylibfm.FM()\n",
    "fm.fit(X,y)\n",
    "fm.predict(v.transform({\"user\": \"1\", \"item\": \"10\", \"age\": 24}))\n",
    "```"
   ]
  },
  {
   "cell_type": "markdown",
   "metadata": {},
   "source": [
    "Сгенерируем таблицу с признаками в таком виде, где будут **id** пользователя, статьи и автора статьи и несколько других признаков (попробуйте придумать)."
   ]
  },
  {
   "cell_type": "code",
   "execution_count": null,
   "metadata": {},
   "outputs": [],
   "source": [
    "train_data = []\n",
    "\n",
    "for i in tqdm_notebook(range(len(interactions_train_df))):\n",
    "    features = {}\n",
    "    features['personId'] = str(interactions_train_df.iloc[i]['personId'])\n",
    "    features['contentId'] = str(interactions_train_df.iloc[i]['contentId'])\n",
    "    \n",
    "    ####### Здесь ваш код ##########\n",
    "    try:\n",
    "        article = articles_df.loc[features['contentId']]\n",
    "        features['authorId'] = str(article['authorPersonId'])\n",
    "        features['authorCountry'] = str(article['authorCountry'])\n",
    "        features['lang'] = str(article['lang'])\n",
    "    except:\n",
    "        features['authorId'] = 'unknown'\n",
    "        features['authorCountry'] = 'unknown'\n",
    "        features['lang'] = 'unknown'\n",
    "    ################################\n",
    "    train_data.append(features)"
   ]
  },
  {
   "cell_type": "markdown",
   "metadata": {},
   "source": [
    "Повторим эту процедуру для тестовой выборки. Заметим, что модель оценивает каждую пару потенциального взаимодействия, а значит, надо подготовить выборку из всех возможных пар из пользователей и статей."
   ]
  },
  {
   "cell_type": "code",
   "execution_count": null,
   "metadata": {},
   "outputs": [],
   "source": [
    "from copy import deepcopy\n",
    "\n",
    "test_data = []\n",
    "\n",
    "for i in tqdm_notebook(range(len(interactions))):\n",
    "    features = {}\n",
    "    features['personId'] = str(interactions.index[i])  \n",
    "    for j in range(len(ratings.columns)):\n",
    "        \n",
    "        ####### Здесь ваш код ##########\n",
    "        features['contentId'] = str(ratings.columns[j])\n",
    "        \n",
    "        try:\n",
    "            article = articles_df.loc[features['contentId']]\n",
    "            features['authorId'] = str(article['authorPersonId'])\n",
    "            features['authorCountry'] = str(article['authorCountry'])\n",
    "            features['lang'] = str(article['lang'])\n",
    "        except:\n",
    "            features['authorId'] = 'unknown'\n",
    "            features['authorCountry'] = 'unknown'\n",
    "            features['lang'] = 'unknown'\n",
    "        ################################\n",
    "        test_data.append(deepcopy(features))"
   ]
  },
  {
   "cell_type": "markdown",
   "metadata": {},
   "source": [
    "Векторизуем, получим разреженные матрицы.\n",
    "\n",
    "Мы будем обучать регрессор на силу взаимодействия, а для него нужны отрицательные примеры. Добавим некоторое количество случайных примеров как негативные (матрица взаимодействий разреженная, поэтому шансы взять как негативное взаимодействие некоторое положительное мало)."
   ]
  },
  {
   "cell_type": "code",
   "execution_count": null,
   "metadata": {},
   "outputs": [],
   "source": [
    "dv = DictVectorizer()\n",
    "\n",
    "train_features = dv.fit_transform(\n",
    "    train_data + list(np.random.permutation(test_data)[:100000]))\n",
    "\n",
    "test_features = dv.transform(test_data)"
   ]
  },
  {
   "cell_type": "code",
   "execution_count": null,
   "metadata": {},
   "outputs": [],
   "source": [
    "train_features"
   ]
  },
  {
   "cell_type": "code",
   "execution_count": null,
   "metadata": {},
   "outputs": [],
   "source": [
    "y_train = list(interactions_train_df.eventStrength.values) + list(np.zeros(100000))"
   ]
  },
  {
   "cell_type": "markdown",
   "metadata": {},
   "source": [
    "Укажем размером скрытого представления 10, сделаем 10 итераций."
   ]
  },
  {
   "cell_type": "code",
   "execution_count": null,
   "metadata": {
    "scrolled": true
   },
   "outputs": [],
   "source": [
    "# fm = pylibfm.FM(...\n",
    "####### Здесь ваш код ##########\n",
    "fm = pylibfm.FM(num_factors=10, num_iter=30, task='regression')\n",
    "################################\n",
    "fm.fit(train_features, y_train)"
   ]
  },
  {
   "cell_type": "markdown",
   "metadata": {},
   "source": [
    "Предскажем и оценим качество."
   ]
  },
  {
   "cell_type": "code",
   "execution_count": null,
   "metadata": {},
   "outputs": [],
   "source": [
    "####### Здесь ваш код ##########\n",
    "test_features = dv.transform(test_data)\n",
    "\n",
    "y_predict = fm.predict(test_features)\n",
    "\n",
    "new_ratings = y_predict.reshape((1112, 2366))\n",
    "################################"
   ]
  },
  {
   "cell_type": "code",
   "execution_count": null,
   "metadata": {},
   "outputs": [],
   "source": [
    "predictions = []\n",
    "\n",
    "for i, person in enumerate(interactions.index):\n",
    "    user_prediction = ratings.columns[np.argsort(new_ratings[i])[::-1]]\n",
    "    predictions.append(\n",
    "        user_prediction[~np.in1d(user_prediction,\n",
    "                                 interactions.loc[person, 'true_train'])][:top_k])\n",
    "    \n",
    "interactions['fm_prediction'] = predictions"
   ]
  },
  {
   "cell_type": "code",
   "execution_count": null,
   "metadata": {},
   "outputs": [],
   "source": [
    "calc_precision('fm_prediction')"
   ]
  },
  {
   "cell_type": "code",
   "execution_count": null,
   "metadata": {},
   "outputs": [],
   "source": [
    "\n",
    "\n"
   ]
  }
 ],
 "metadata": {
  "kernelspec": {
   "display_name": "Python 3",
   "language": "python",
   "name": "python3"
  },
  "language_info": {
   "codemirror_mode": {
    "name": "ipython",
    "version": 3
   },
   "file_extension": ".py",
   "mimetype": "text/x-python",
   "name": "python",
   "nbconvert_exporter": "python",
   "pygments_lexer": "ipython3",
   "version": "3.7.1"
  }
 },
 "nbformat": 4,
 "nbformat_minor": 1
}
