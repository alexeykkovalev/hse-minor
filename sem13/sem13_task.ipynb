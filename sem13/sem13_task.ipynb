{
  "nbformat": 4,
  "nbformat_minor": 0,
  "metadata": {
    "kernelspec": {
      "display_name": "Python 3",
      "language": "python",
      "name": "python3"
    },
    "language_info": {
      "codemirror_mode": {
        "name": "ipython",
        "version": 3
      },
      "file_extension": ".py",
      "mimetype": "text/x-python",
      "name": "python",
      "nbconvert_exporter": "python",
      "pygments_lexer": "ipython3",
      "version": "3.5.2"
    },
    "colab": {
      "name": "sem13_task.ipynb",
      "provenance": [],
      "collapsed_sections": []
    },
    "accelerator": "GPU"
  },
  "cells": [
    {
      "cell_type": "markdown",
      "metadata": {
        "id": "enP-YM6wVzxg",
        "colab_type": "text"
      },
      "source": [
        "# Майнор ВШЭ\n",
        "## Прикладные задачи анализа данных 2020\n",
        "## Семинар 13: Диалоговые системы"
      ]
    },
    {
      "cell_type": "markdown",
      "metadata": {
        "id": "DvL3ZFFk5rCy",
        "colab_type": "text"
      },
      "source": [
        "**Диалоговая (вопросно-ответная) система** - это система, которая умеет обрабатывать введенный пользователем вопрос на каком-либо языке и давать осмысленный ответ."
      ]
    },
    {
      "cell_type": "markdown",
      "metadata": {
        "id": "IFSsUpAm9Qaj",
        "colab_type": "text"
      },
      "source": [
        "Например так:"
      ]
    },
    {
      "cell_type": "markdown",
      "metadata": {
        "id": "DUl09H348isQ",
        "colab_type": "text"
      },
      "source": [
        "<center>\n",
        "  \n",
        "![img](https://demotos.ru/sites/default/files/caricatures/2019-03-30-1553943418.jpg)\n",
        "</center>"
      ]
    },
    {
      "cell_type": "markdown",
      "metadata": {
        "id": "preocq89Vzxh",
        "colab_type": "text"
      },
      "source": [
        "В последнее время диалоговые системы набирают популярность.  \n",
        "Question Answering -- одно из самых активно развивающихся направлений в NLP.  \n",
        "Многие крупные IT-компании создают диалоговых помощников, таких как Siri (Apple), Cortana (Microsoft), Alexa (Amazon) и Алиса (Яндекс).  \n",
        "\n",
        "Сейчас доступно огромное количество открытых вопросно-ответных датасетов (субтитры фильмов, диалоги, данные с Википедии и др)\n",
        "\n",
        "Самый популярный датасет -- SQUAD от Стэнфорда  \n",
        "\n",
        "<div>\n",
        "<img src=\"https://i1.wp.com/syncedreview.com/wp-content/uploads/2019/04/Screen-Shot-2019-03-29-at-4.18.21-PM.png?resize=1058%2C440&ssl=1\" width=\"400\"/>\n",
        "</div>\n",
        "\n",
        "https://rajpurkar.github.io/SQuAD-explorer/   \n",
        "На нем тестируют различные архитектуры нейронных сетей (например, BERT). "
      ]
    },
    {
      "cell_type": "code",
      "metadata": {
        "id": "3CkIcKRraSFp",
        "colab_type": "code",
        "colab": {}
      },
      "source": [
        "!pip install tensorflow==1.15"
      ],
      "execution_count": 0,
      "outputs": []
    },
    {
      "cell_type": "code",
      "metadata": {
        "id": "Qt5fyDISWGlA",
        "colab_type": "code",
        "colab": {}
      },
      "source": [
        "!wget https://rajpurkar.github.io/SQuAD-explorer/dataset/train-v2.0.json\n",
        "!wget https://rajpurkar.github.io/SQuAD-explorer/dataset/dev-v2.0.json"
      ],
      "execution_count": 0,
      "outputs": []
    },
    {
      "cell_type": "code",
      "metadata": {
        "id": "6q-LD9uGVzxi",
        "colab_type": "code",
        "colab": {}
      },
      "source": [
        "import json\n",
        "import numpy as np\n",
        "from keras.models import Sequential, Model\n",
        "from keras.layers import Embedding, Dropout, Dense, Activation, CuDNNLSTM\n",
        "from keras.layers import LSTM, Bidirectional,Input\n",
        "from keras.layers import concatenate\n",
        "from keras.models import Sequential\n",
        "from keras import optimizers\n",
        "from keras.layers import CuDNNLSTM, Dense, Bidirectional, Conv1D, MaxPooling1D, Dropout, GlobalAveragePooling1D, LSTM\n",
        "from keras import backend as K\n",
        "from keras.layers.core import Layer  \n",
        "from keras import initializers, regularizers, constraints  \n",
        "from keras import backend as K\n",
        "\n",
        "from keras import backend as K, initializers, regularizers, constraints\n",
        "from keras.engine.topology import Layer\n",
        "from keras.preprocessing.sequence import pad_sequences\n",
        "from keras.utils import to_categorical\n",
        "import keras\n",
        "import gensim\n",
        "\n",
        "import tensorflow as tf"
      ],
      "execution_count": 0,
      "outputs": []
    },
    {
      "cell_type": "code",
      "metadata": {
        "id": "3GZJv0S_w8JG",
        "colab_type": "code",
        "colab": {
          "base_uri": "https://localhost:8080/",
          "height": 68
        },
        "outputId": "1e88dc30-a9ee-47d7-c73f-6f0acb821886"
      },
      "source": [
        "print(\"TF version:\", tf.__version__)\n",
        "print(\"GPU is\", \"available\" if tf.test.is_gpu_available() else \"NOT AVAILABLE\")\n",
        "print(tf.test.gpu_device_name())"
      ],
      "execution_count": 77,
      "outputs": [
        {
          "output_type": "stream",
          "text": [
            "TF version: 1.15.0\n",
            "GPU is available\n",
            "/device:GPU:0\n"
          ],
          "name": "stdout"
        }
      ]
    },
    {
      "cell_type": "code",
      "metadata": {
        "id": "ZSd_wTfEVzxm",
        "colab_type": "code",
        "colab": {}
      },
      "source": [
        "train = json.load(open('train-v2.0.json'))\n",
        "dev = json.load(open('dev-v2.0.json'))"
      ],
      "execution_count": 0,
      "outputs": []
    },
    {
      "cell_type": "code",
      "metadata": {
        "id": "VqBAHXjQlOlS",
        "colab_type": "code",
        "colab": {
          "base_uri": "https://localhost:8080/",
          "height": 255
        },
        "outputId": "21e99022-2719-4334-a4eb-07b3a197e164"
      },
      "source": [
        "import nltk\n",
        "nltk.download('punkt')"
      ],
      "execution_count": 32,
      "outputs": [
        {
          "output_type": "stream",
          "text": [
            "--2020-04-29 20:16:35--  https://raw.githubusercontent.com/yandexdataschool/Practical_DL/fall18/week11_dssm/utils.py\n",
            "Resolving raw.githubusercontent.com (raw.githubusercontent.com)... 151.101.0.133, 151.101.64.133, 151.101.128.133, ...\n",
            "Connecting to raw.githubusercontent.com (raw.githubusercontent.com)|151.101.0.133|:443... connected.\n",
            "HTTP request sent, awaiting response... 200 OK\n",
            "Length: 9814 (9.6K) [text/plain]\n",
            "Saving to: ‘utils.py.1’\n",
            "\n",
            "\rutils.py.1            0%[                    ]       0  --.-KB/s               \rutils.py.1          100%[===================>]   9.58K  --.-KB/s    in 0s      \n",
            "\n",
            "2020-04-29 20:16:35 (91.6 MB/s) - ‘utils.py.1’ saved [9814/9814]\n",
            "\n",
            "[nltk_data] Downloading package punkt to /root/nltk_data...\n",
            "[nltk_data]   Unzipping tokenizers/punkt.zip.\n"
          ],
          "name": "stdout"
        },
        {
          "output_type": "execute_result",
          "data": {
            "text/plain": [
              "True"
            ]
          },
          "metadata": {
            "tags": []
          },
          "execution_count": 32
        }
      ]
    },
    {
      "cell_type": "markdown",
      "metadata": {
        "id": "g07P5VfQnuoz",
        "colab_type": "text"
      },
      "source": [
        "**Задание 1.**\n",
        "Выведите тип данных train, dev и примеры хранящихся данных."
      ]
    },
    {
      "cell_type": "code",
      "metadata": {
        "id": "j18XgK1LoeMW",
        "colab_type": "code",
        "colab": {}
      },
      "source": [
        "#------------------------------------------------\n",
        "# Ваш код здесь\n",
        "#------------------------------------------------\n"
      ],
      "execution_count": 0,
      "outputs": []
    },
    {
      "cell_type": "markdown",
      "metadata": {
        "id": "LxVBl0toowhO",
        "colab_type": "text"
      },
      "source": [
        "Видим, что для каждого элемента в train есть:\n",
        "\n",
        "*   context\n",
        "*   questiion\n",
        "*   text\n"
      ]
    },
    {
      "cell_type": "markdown",
      "metadata": {
        "id": "ob8vULLwpf-I",
        "colab_type": "text"
      },
      "source": [
        "**Посмотрим на примере:**"
      ]
    },
    {
      "cell_type": "markdown",
      "metadata": {
        "id": "YckclccCpaZI",
        "colab_type": "text"
      },
      "source": [
        "![](https://miro.medium.com/max/2000/1*0KDRs1_tYlqIs6_FYiaNBQ.png)"
      ]
    },
    {
      "cell_type": "markdown",
      "metadata": {
        "id": "sqO3oWGPpmYL",
        "colab_type": "text"
      },
      "source": [
        "Задача состоит в том, чтобы найти в параграфе ответ на заданный вопрос."
      ]
    },
    {
      "cell_type": "markdown",
      "metadata": {
        "id": "OjUfEOygp2n6",
        "colab_type": "text"
      },
      "source": [
        "**Задание 2.**\n",
        "Выведите первый вопрос и первый ответ из train."
      ]
    },
    {
      "cell_type": "code",
      "metadata": {
        "id": "acaMQH9Up8KX",
        "colab_type": "code",
        "colab": {}
      },
      "source": [
        "#------------------------------------------------\n",
        "# Ваш код здесь\n",
        "#------------------------------------------------"
      ],
      "execution_count": 0,
      "outputs": []
    },
    {
      "cell_type": "markdown",
      "metadata": {
        "id": "_ID-l8mSVzxs",
        "colab_type": "text"
      },
      "source": [
        "**Задание 3.**  \n",
        "Реализуйте предобработку (удаление стоп-слов, пунктуации и тп)"
      ]
    },
    {
      "cell_type": "code",
      "metadata": {
        "id": "YYiWxSOXVzxv",
        "colab_type": "code",
        "colab": {}
      },
      "source": [
        "from string import punctuation\n",
        "from nltk.corpus import stopwords\n",
        "punct = punctuation + '«»—…“”*№–'\n",
        "\n",
        "def normalize(text):\n",
        "    #------------------------------------------------\n",
        "    # Ваш код здесь\n",
        "    #------------------------------------------------ \n",
        "\n",
        "    return words"
      ],
      "execution_count": 0,
      "outputs": []
    },
    {
      "cell_type": "markdown",
      "metadata": {
        "id": "foIvk1lVVzxy",
        "colab_type": "text"
      },
      "source": [
        "Как организован датасет?  \n",
        "Даны тексты из Википедии и к какому-то параграфу этого текста задан вопрос и из этого же параграфа извлечен ответ.  \n",
        "В версии 2.0 добавились также вопросы, на которые нет ответа, что усложняет задачу для модели, но мы пока будем опускать такие вопросы."
      ]
    },
    {
      "cell_type": "markdown",
      "metadata": {
        "id": "_D2azmL7Vzxz",
        "colab_type": "text"
      },
      "source": [
        "Для каждого ответа даны начало и конец (индексы) в соответствующем параграфе. На этих индексах мы и будем обучаться."
      ]
    },
    {
      "cell_type": "markdown",
      "metadata": {
        "id": "uBpP9WlAVzxz",
        "colab_type": "text"
      },
      "source": [
        "Но для начала нужно все предобработать. Чтобы уменьшить время обучения предобучим FastText от Facebook AI на всех параграфах и вопросах"
      ]
    },
    {
      "cell_type": "code",
      "metadata": {
        "id": "yZ890UGZVzx0",
        "colab_type": "code",
        "colab": {}
      },
      "source": [
        "corpus = []"
      ],
      "execution_count": 0,
      "outputs": []
    },
    {
      "cell_type": "markdown",
      "metadata": {
        "id": "CZVVHyNrssJq",
        "colab_type": "text"
      },
      "source": [
        "**Задание 4.**  \n",
        "Примените предобработку к context, question.   \n",
        "Если ответа нет, пропускайте этот вопрос."
      ]
    },
    {
      "cell_type": "code",
      "metadata": {
        "id": "4ayLqXgnVzx2",
        "colab_type": "code",
        "colab": {}
      },
      "source": [
        "contexts = []\n",
        "questions = []\n",
        "\n",
        "starts = []\n",
        "ends = []\n",
        "\n",
        "for instance in train['data']:\n",
        "\n",
        "\n",
        "    for paragraph in instance['paragraphs']:\n",
        "        context = paragraph['context']\n",
        "        corpus.append(normalize(context))\n",
        "        \n",
        "        for qas in paragraph['qas']:\n",
        "                #------------------------------------------------\n",
        "                # Ваш код здесь\n",
        "                #------------------------------------------------ \n",
        "            \n",
        "            if qas['is_impossible']:\n",
        "                #------------------------------------------------\n",
        "                # Ваш код здесь\n",
        "                #------------------------------------------------ \n",
        "            \n",
        "            for answer in qas['answers']:\n",
        "                #------------------------------------------------\n",
        "                # Ваш код здесь\n",
        "                #------------------------------------------------ \n",
        "\n",
        "                corpus.append(normalize(question))"
      ],
      "execution_count": 0,
      "outputs": []
    },
    {
      "cell_type": "markdown",
      "metadata": {
        "id": "5XSLfDE8Vzx6",
        "colab_type": "text"
      },
      "source": [
        "Для отложенной выборки сохраним исходные параграфы и индексы вопросов. Они пригодятся для тестирования."
      ]
    },
    {
      "cell_type": "code",
      "metadata": {
        "id": "9KnIgytaVzx6",
        "colab_type": "code",
        "colab": {}
      },
      "source": [
        "contexts_dev = []\n",
        "questions_dev = []\n",
        "\n",
        "starts_dev = []\n",
        "ends_dev = []\n",
        "ids = []\n",
        "imporssible_ids = []\n",
        "raw_context = []\n",
        "for instance in dev['data']:\n",
        "    for paragraph in instance['paragraphs']:\n",
        "        context = paragraph['context']\n",
        "        corpus.append(normalize(context))\n",
        "        for qas in paragraph['qas']:\n",
        "            if qas['is_impossible']:\n",
        "                imporssible_ids.append(qas['id'])\n",
        "                continue\n",
        "            \n",
        "            question = qas['question']\n",
        "            \n",
        "            for answer in qas['answers']:\n",
        "                \n",
        "                start = answer['answer_start']\n",
        "                end = len(answer['text'])\n",
        "                contexts_dev.append(normalize(context))\n",
        "                questions_dev.append(normalize(question))\n",
        "                starts_dev.append(start)\n",
        "                ends_dev.append(end)\n",
        "                corpus.append(normalize(question))\n",
        "                ids.append(qas['id'])\n",
        "                raw_context.append(context)"
      ],
      "execution_count": 0,
      "outputs": []
    },
    {
      "cell_type": "markdown",
      "metadata": {
        "id": "8S96dpiiVzx9",
        "colab_type": "text"
      },
      "source": [
        "Обучаем FastText"
      ]
    },
    {
      "cell_type": "code",
      "metadata": {
        "id": "MZdaf2uLVzx-",
        "colab_type": "code",
        "colab": {}
      },
      "source": [
        "ft = gensim.models.FastText(corpus, size=200, sg=1)"
      ],
      "execution_count": 0,
      "outputs": []
    },
    {
      "cell_type": "markdown",
      "metadata": {
        "id": "MDlEjFBKVzyB",
        "colab_type": "text"
      },
      "source": [
        "**Задание 5.**  \n",
        "Построим словарь id2word и word2id."
      ]
    },
    {
      "cell_type": "code",
      "metadata": {
        "id": "cJinHzVNVzyC",
        "colab_type": "code",
        "colab": {}
      },
      "source": [
        "vocab = set()\n",
        "\n",
        "for context in contexts:\n",
        "    vocab.update(context)\n",
        "\n",
        "for question in questions:\n",
        "    vocab.update(question)\n",
        "    \n",
        "for context in contexts_dev:\n",
        "    vocab.update(context)\n",
        "\n",
        "for question in questions_dev:\n",
        "    vocab.update(question)\n",
        "\n",
        "#------------------------------------------------\n",
        "# Ваш код здесь\n",
        "#------------------------------------------------\n",
        "\n",
        "id2word = {}\n",
        "word2id = {}"
      ],
      "execution_count": 0,
      "outputs": []
    },
    {
      "cell_type": "markdown",
      "metadata": {
        "id": "AtehExscVzyF",
        "colab_type": "text"
      },
      "source": [
        "Создадим матрицу с эмбеддингами всех слов. Потом подадим её в Embedding слой нейронной сети."
      ]
    },
    {
      "cell_type": "code",
      "metadata": {
        "id": "M6dPeAB-VzyG",
        "colab_type": "code",
        "colab": {
          "base_uri": "https://localhost:8080/",
          "height": 71
        },
        "outputId": "a784721d-0137-4c46-afa0-08efe6682d42"
      },
      "source": [
        "embeddings = np.zeros((len(vocab) + 1, 200))\n",
        "\n",
        "for i in range(1, len(vocab)+1):\n",
        "    try:\n",
        "        embeddings[i] = ft[id2word[i]]\n",
        "    except KeyError:\n",
        "        embeddings[i] = np.random.rand((200))"
      ],
      "execution_count": 12,
      "outputs": [
        {
          "output_type": "stream",
          "text": [
            "/usr/local/lib/python3.6/dist-packages/ipykernel_launcher.py:5: DeprecationWarning: Call to deprecated `__getitem__` (Method will be removed in 4.0.0, use self.wv.__getitem__() instead).\n",
            "  \"\"\"\n"
          ],
          "name": "stderr"
        }
      ]
    },
    {
      "cell_type": "markdown",
      "metadata": {
        "id": "vUxMVTAAVzyJ",
        "colab_type": "text"
      },
      "source": [
        "Теперь преобразуем все слова индексы и приведем все к одной длине (максимальной)."
      ]
    },
    {
      "cell_type": "markdown",
      "metadata": {
        "id": "jzABp1PTuBMu",
        "colab_type": "text"
      },
      "source": [
        "**Контекст**"
      ]
    },
    {
      "cell_type": "code",
      "metadata": {
        "id": "-G6eUvTwVzyM",
        "colab_type": "code",
        "colab": {}
      },
      "source": [
        "contexts_le = [[word2id[word] for word in context] for context in contexts]\n",
        "max_len = max([len(c) for c in contexts])\n",
        "\n",
        "X_train_context = pad_sequences(contexts_le, max_len, padding='post')"
      ],
      "execution_count": 0,
      "outputs": []
    },
    {
      "cell_type": "code",
      "metadata": {
        "id": "wLwAn-LgVzyO",
        "colab_type": "code",
        "colab": {}
      },
      "source": [
        "contexts_le_dev = [[word2id.get(word, 0) for word in context] for context in contexts_dev]\n",
        "\n",
        "X_dev_context = pad_sequences(contexts_le_dev, max_len, padding='post')"
      ],
      "execution_count": 0,
      "outputs": []
    },
    {
      "cell_type": "markdown",
      "metadata": {
        "id": "5FyLD5QPt9kn",
        "colab_type": "text"
      },
      "source": [
        "**Вопросы**"
      ]
    },
    {
      "cell_type": "markdown",
      "metadata": {
        "id": "Eirm8kV4Cj1i",
        "colab_type": "text"
      },
      "source": [
        "**Задание 6.**.  \n",
        "Для вопросов реализуйте самостоятельно."
      ]
    },
    {
      "cell_type": "code",
      "metadata": {
        "id": "bI4x4an4VzyT",
        "colab_type": "code",
        "colab": {}
      },
      "source": [
        "#------------------------------------------------\n",
        "# Ваш код здесь\n",
        "#------------------------------------------------\n"
      ],
      "execution_count": 0,
      "outputs": []
    },
    {
      "cell_type": "code",
      "metadata": {
        "id": "Ogy8cwjoVzyW",
        "colab_type": "code",
        "colab": {}
      },
      "source": [
        ""
      ],
      "execution_count": 0,
      "outputs": []
    },
    {
      "cell_type": "markdown",
      "metadata": {
        "id": "g-C4vmKHVzyZ",
        "colab_type": "text"
      },
      "source": [
        "Зададим параметры для нейронки."
      ]
    },
    {
      "cell_type": "code",
      "metadata": {
        "id": "U0PNaypfVzyZ",
        "colab_type": "code",
        "colab": {}
      },
      "source": [
        "vocab_size = len(vocab) + 1\n",
        "embedding_vector_length = 200\n",
        "\n",
        "max_span_begin = np.max(starts)\n",
        "max_span_end = np.max(ends)\n"
      ],
      "execution_count": 0,
      "outputs": []
    },
    {
      "cell_type": "code",
      "metadata": {
        "id": "xLvVDEdRVzyb",
        "colab_type": "code",
        "colab": {}
      },
      "source": [
        "starts = np.array(starts)  \n",
        "ends = np.array(ends) \n",
        "\n",
        "starts_dev = np.array(starts_dev) \n",
        "ends_dev = np.array(ends_dev)"
      ],
      "execution_count": 0,
      "outputs": []
    },
    {
      "cell_type": "markdown",
      "metadata": {
        "id": "88MOSwLeVzyd",
        "colab_type": "text"
      },
      "source": [
        "Теперь основная часть.  \n",
        "У нашей нейронной сети будет два входа и два выхода. \n"
      ]
    },
    {
      "cell_type": "code",
      "metadata": {
        "id": "wcAJsZg4Vzye",
        "colab_type": "code",
        "colab": {
          "base_uri": "https://localhost:8080/",
          "height": 683
        },
        "outputId": "0ca91f38-3639-4143-c59c-7542734e6a47"
      },
      "source": [
        "# !pip install tensorflow==1.15\n",
        "\n",
        "# Первый вход\n",
        "context_input = Input(shape=(max_len, ), name='context_input')\n",
        "emb_c = Embedding(input_dim=vocab_size, output_dim=200, weights=[embeddings], \n",
        "              input_length=max_len, trainable=False)(context_input)\n",
        "\n",
        "lstm_out_c = Bidirectional(CuDNNLSTM(50,  return_sequences=True,))(emb_c)\n",
        "drop_1 = Dropout(0.1)(lstm_out_c)\n",
        "\n",
        "# Второй вход\n",
        "ques_input = Input(shape=(max_len_q, ), name='ques_input')\n",
        "emb_q = Embedding(input_dim=vocab_size, output_dim=200, weights=[embeddings], \n",
        "              input_length=max_len_q, trainable=False)(ques_input)\n",
        "lstm_out_q = Bidirectional(CuDNNLSTM(50,return_sequences=True,) )(emb_q)\n",
        "drop_2 = Dropout(0.1)(lstm_out_q)\n",
        "\n",
        "# merger model\n",
        "merge_layer = concatenate([drop_1, drop_2], axis=1)\n",
        "biLSTM_s = Bidirectional(CuDNNLSTM(10,))(merge_layer)\n",
        "biLSTM_e = Bidirectional(CuDNNLSTM(10,))(merge_layer)\n",
        "\n",
        "# Выход 1\n",
        "softmax_1 = Dense(max_span_begin+1, activation='softmax', name='start')(biLSTM_s)\n",
        "\n",
        "# Выход 2\n",
        "softmax_2 = Dense(max_span_end+1, activation='softmax', name='end')(biLSTM_e)\n",
        "\n",
        "model = Model(inputs=[context_input, ques_input], outputs=[softmax_1, softmax_2])\n",
        "\n",
        "\n",
        "model.compile(optimizer='adam', loss='sparse_categorical_crossentropy', metrics=['accuracy'])\n",
        "model.summary()"
      ],
      "execution_count": 21,
      "outputs": [
        {
          "output_type": "stream",
          "text": [
            "WARNING:tensorflow:From /usr/local/lib/python3.6/dist-packages/tensorflow_core/python/ops/resource_variable_ops.py:1630: calling BaseResourceVariable.__init__ (from tensorflow.python.ops.resource_variable_ops) with constraint is deprecated and will be removed in a future version.\n",
            "Instructions for updating:\n",
            "If using Keras pass *_constraint arguments to layers.\n",
            "Model: \"model_1\"\n",
            "__________________________________________________________________________________________________\n",
            "Layer (type)                    Output Shape         Param #     Connected to                     \n",
            "==================================================================================================\n",
            "context_input (InputLayer)      (None, 650)          0                                            \n",
            "__________________________________________________________________________________________________\n",
            "ques_input (InputLayer)         (None, 40)           0                                            \n",
            "__________________________________________________________________________________________________\n",
            "embedding_1 (Embedding)         (None, 650, 200)     22157600    context_input[0][0]              \n",
            "__________________________________________________________________________________________________\n",
            "embedding_2 (Embedding)         (None, 40, 200)      22157600    ques_input[0][0]                 \n",
            "__________________________________________________________________________________________________\n",
            "bidirectional_1 (Bidirectional) (None, 650, 100)     100800      embedding_1[0][0]                \n",
            "__________________________________________________________________________________________________\n",
            "bidirectional_2 (Bidirectional) (None, 40, 100)      100800      embedding_2[0][0]                \n",
            "__________________________________________________________________________________________________\n",
            "dropout_1 (Dropout)             (None, 650, 100)     0           bidirectional_1[0][0]            \n",
            "__________________________________________________________________________________________________\n",
            "dropout_2 (Dropout)             (None, 40, 100)      0           bidirectional_2[0][0]            \n",
            "__________________________________________________________________________________________________\n",
            "concatenate_1 (Concatenate)     (None, 690, 100)     0           dropout_1[0][0]                  \n",
            "                                                                 dropout_2[0][0]                  \n",
            "__________________________________________________________________________________________________\n",
            "bidirectional_3 (Bidirectional) (None, 20)           8960        concatenate_1[0][0]              \n",
            "__________________________________________________________________________________________________\n",
            "bidirectional_4 (Bidirectional) (None, 20)           8960        concatenate_1[0][0]              \n",
            "__________________________________________________________________________________________________\n",
            "start (Dense)                   (None, 3127)         65667       bidirectional_3[0][0]            \n",
            "__________________________________________________________________________________________________\n",
            "end (Dense)                     (None, 240)          5040        bidirectional_4[0][0]            \n",
            "==================================================================================================\n",
            "Total params: 44,605,427\n",
            "Trainable params: 290,227\n",
            "Non-trainable params: 44,315,200\n",
            "__________________________________________________________________________________________________\n"
          ],
          "name": "stdout"
        }
      ]
    },
    {
      "cell_type": "markdown",
      "metadata": {
        "id": "31o9TOaTVzyg",
        "colab_type": "text"
      },
      "source": [
        "Попробуем обучить модель"
      ]
    },
    {
      "cell_type": "code",
      "metadata": {
        "scrolled": true,
        "id": "ZD6VBZiFVzyg",
        "colab_type": "code",
        "colab": {
          "base_uri": "https://localhost:8080/",
          "height": 616
        },
        "outputId": "fb7354e0-1f1a-45bf-9539-a30ce2c0cd82"
      },
      "source": [
        "%%time\n",
        "validation_data=({'context_input': X_dev_context,\n",
        "                  'ques_input':X_dev_question}, \n",
        "                 {'start': starts_dev,\n",
        "                  'end': ends_dev})\n",
        "\n",
        "\n",
        "training_data=({'context_input': X_train_context,\n",
        "                'ques_input':X_train_question}, \n",
        "                 {'start': starts,\n",
        "                  'end': ends})\n",
        "\n",
        "model.fit(training_data[0], training_data[1], batch_size=1024,  epochs=100, shuffle=True,\n",
        "          validation_data=(validation_data[0], validation_data[1]))"
      ],
      "execution_count": 22,
      "outputs": [
        {
          "output_type": "stream",
          "text": [
            "WARNING:tensorflow:From /usr/local/lib/python3.6/dist-packages/keras/backend/tensorflow_backend.py:422: The name tf.global_variables is deprecated. Please use tf.compat.v1.global_variables instead.\n",
            "\n",
            "Train on 86821 samples, validate on 20302 samples\n",
            "Epoch 1/100\n",
            "86821/86821 [==============================] - 81s 933us/step - loss: 12.0491 - start_loss: 7.4450 - end_loss: 4.6010 - start_accuracy: 0.0045 - end_accuracy: 0.0776 - val_loss: 10.9411 - val_start_loss: 6.9453 - val_end_loss: 3.9950 - val_start_accuracy: 0.0230 - val_end_accuracy: 0.0735\n",
            "Epoch 2/100\n",
            "86821/86821 [==============================] - 75s 863us/step - loss: 10.7193 - start_loss: 6.7978 - end_loss: 3.9211 - start_accuracy: 0.0256 - end_accuracy: 0.0817 - val_loss: 10.7254 - val_start_loss: 6.8215 - val_end_loss: 3.9031 - val_start_accuracy: 0.0230 - val_end_accuracy: 0.0735\n",
            "Epoch 3/100\n",
            "86821/86821 [==============================] - 73s 841us/step - loss: 10.6127 - start_loss: 6.7287 - end_loss: 3.8840 - start_accuracy: 0.0256 - end_accuracy: 0.0817 - val_loss: 10.6887 - val_start_loss: 6.8015 - val_end_loss: 3.8864 - val_start_accuracy: 0.0230 - val_end_accuracy: 0.0735\n",
            "Epoch 4/100\n",
            "86821/86821 [==============================] - 74s 855us/step - loss: 10.5873 - start_loss: 6.7123 - end_loss: 3.8746 - start_accuracy: 0.0256 - end_accuracy: 0.0817 - val_loss: 10.6743 - val_start_loss: 6.7946 - val_end_loss: 3.8789 - val_start_accuracy: 0.0230 - val_end_accuracy: 0.0735\n",
            "Epoch 5/100\n",
            "86821/86821 [==============================] - 74s 850us/step - loss: 10.5760 - start_loss: 6.7056 - end_loss: 3.8707 - start_accuracy: 0.0256 - end_accuracy: 0.0817 - val_loss: 10.6697 - val_start_loss: 6.7915 - val_end_loss: 3.8775 - val_start_accuracy: 0.0230 - val_end_accuracy: 0.0735\n",
            "Epoch 6/100\n",
            "50176/86821 [================>.............] - ETA: 28s - loss: 10.5695 - start_loss: 6.7008 - end_loss: 3.8686 - start_accuracy: 0.0252 - end_accuracy: 0.0828"
          ],
          "name": "stdout"
        },
        {
          "output_type": "error",
          "ename": "KeyboardInterrupt",
          "evalue": "ignored",
          "traceback": [
            "\u001b[0;31m---------------------------------------------------------------------------\u001b[0m",
            "\u001b[0;31mKeyboardInterrupt\u001b[0m                         Traceback (most recent call last)",
            "\u001b[0;32m<ipython-input-22-92749f8b35f6>\u001b[0m in \u001b[0;36m<module>\u001b[0;34m()\u001b[0m\n\u001b[1;32m     11\u001b[0m \u001b[0;34m\u001b[0m\u001b[0m\n\u001b[1;32m     12\u001b[0m model.fit(training_data[0], training_data[1], batch_size=1024,  epochs=100, shuffle=True,\n\u001b[0;32m---> 13\u001b[0;31m           validation_data=(validation_data[0], validation_data[1]))\n\u001b[0m",
            "\u001b[0;32m/usr/local/lib/python3.6/dist-packages/keras/engine/training.py\u001b[0m in \u001b[0;36mfit\u001b[0;34m(self, x, y, batch_size, epochs, verbose, callbacks, validation_split, validation_data, shuffle, class_weight, sample_weight, initial_epoch, steps_per_epoch, validation_steps, validation_freq, max_queue_size, workers, use_multiprocessing, **kwargs)\u001b[0m\n\u001b[1;32m   1237\u001b[0m                                         \u001b[0msteps_per_epoch\u001b[0m\u001b[0;34m=\u001b[0m\u001b[0msteps_per_epoch\u001b[0m\u001b[0;34m,\u001b[0m\u001b[0;34m\u001b[0m\u001b[0;34m\u001b[0m\u001b[0m\n\u001b[1;32m   1238\u001b[0m                                         \u001b[0mvalidation_steps\u001b[0m\u001b[0;34m=\u001b[0m\u001b[0mvalidation_steps\u001b[0m\u001b[0;34m,\u001b[0m\u001b[0;34m\u001b[0m\u001b[0;34m\u001b[0m\u001b[0m\n\u001b[0;32m-> 1239\u001b[0;31m                                         validation_freq=validation_freq)\n\u001b[0m\u001b[1;32m   1240\u001b[0m \u001b[0;34m\u001b[0m\u001b[0m\n\u001b[1;32m   1241\u001b[0m     def evaluate(self,\n",
            "\u001b[0;32m/usr/local/lib/python3.6/dist-packages/keras/engine/training_arrays.py\u001b[0m in \u001b[0;36mfit_loop\u001b[0;34m(model, fit_function, fit_inputs, out_labels, batch_size, epochs, verbose, callbacks, val_function, val_inputs, shuffle, initial_epoch, steps_per_epoch, validation_steps, validation_freq)\u001b[0m\n\u001b[1;32m    194\u001b[0m                     \u001b[0mins_batch\u001b[0m\u001b[0;34m[\u001b[0m\u001b[0mi\u001b[0m\u001b[0;34m]\u001b[0m \u001b[0;34m=\u001b[0m \u001b[0mins_batch\u001b[0m\u001b[0;34m[\u001b[0m\u001b[0mi\u001b[0m\u001b[0;34m]\u001b[0m\u001b[0;34m.\u001b[0m\u001b[0mtoarray\u001b[0m\u001b[0;34m(\u001b[0m\u001b[0;34m)\u001b[0m\u001b[0;34m\u001b[0m\u001b[0;34m\u001b[0m\u001b[0m\n\u001b[1;32m    195\u001b[0m \u001b[0;34m\u001b[0m\u001b[0m\n\u001b[0;32m--> 196\u001b[0;31m                 \u001b[0mouts\u001b[0m \u001b[0;34m=\u001b[0m \u001b[0mfit_function\u001b[0m\u001b[0;34m(\u001b[0m\u001b[0mins_batch\u001b[0m\u001b[0;34m)\u001b[0m\u001b[0;34m\u001b[0m\u001b[0;34m\u001b[0m\u001b[0m\n\u001b[0m\u001b[1;32m    197\u001b[0m                 \u001b[0mouts\u001b[0m \u001b[0;34m=\u001b[0m \u001b[0mto_list\u001b[0m\u001b[0;34m(\u001b[0m\u001b[0mouts\u001b[0m\u001b[0;34m)\u001b[0m\u001b[0;34m\u001b[0m\u001b[0;34m\u001b[0m\u001b[0m\n\u001b[1;32m    198\u001b[0m                 \u001b[0;32mfor\u001b[0m \u001b[0ml\u001b[0m\u001b[0;34m,\u001b[0m \u001b[0mo\u001b[0m \u001b[0;32min\u001b[0m \u001b[0mzip\u001b[0m\u001b[0;34m(\u001b[0m\u001b[0mout_labels\u001b[0m\u001b[0;34m,\u001b[0m \u001b[0mouts\u001b[0m\u001b[0;34m)\u001b[0m\u001b[0;34m:\u001b[0m\u001b[0;34m\u001b[0m\u001b[0;34m\u001b[0m\u001b[0m\n",
            "\u001b[0;32m/usr/local/lib/python3.6/dist-packages/tensorflow_core/python/keras/backend.py\u001b[0m in \u001b[0;36m__call__\u001b[0;34m(self, inputs)\u001b[0m\n\u001b[1;32m   3474\u001b[0m \u001b[0;34m\u001b[0m\u001b[0m\n\u001b[1;32m   3475\u001b[0m     fetched = self._callable_fn(*array_vals,\n\u001b[0;32m-> 3476\u001b[0;31m                                 run_metadata=self.run_metadata)\n\u001b[0m\u001b[1;32m   3477\u001b[0m     \u001b[0mself\u001b[0m\u001b[0;34m.\u001b[0m\u001b[0m_call_fetch_callbacks\u001b[0m\u001b[0;34m(\u001b[0m\u001b[0mfetched\u001b[0m\u001b[0;34m[\u001b[0m\u001b[0;34m-\u001b[0m\u001b[0mlen\u001b[0m\u001b[0;34m(\u001b[0m\u001b[0mself\u001b[0m\u001b[0;34m.\u001b[0m\u001b[0m_fetches\u001b[0m\u001b[0;34m)\u001b[0m\u001b[0;34m:\u001b[0m\u001b[0;34m]\u001b[0m\u001b[0;34m)\u001b[0m\u001b[0;34m\u001b[0m\u001b[0;34m\u001b[0m\u001b[0m\n\u001b[1;32m   3478\u001b[0m     output_structure = nest.pack_sequence_as(\n",
            "\u001b[0;32m/usr/local/lib/python3.6/dist-packages/tensorflow_core/python/client/session.py\u001b[0m in \u001b[0;36m__call__\u001b[0;34m(self, *args, **kwargs)\u001b[0m\n\u001b[1;32m   1470\u001b[0m         ret = tf_session.TF_SessionRunCallable(self._session._session,\n\u001b[1;32m   1471\u001b[0m                                                \u001b[0mself\u001b[0m\u001b[0;34m.\u001b[0m\u001b[0m_handle\u001b[0m\u001b[0;34m,\u001b[0m \u001b[0margs\u001b[0m\u001b[0;34m,\u001b[0m\u001b[0;34m\u001b[0m\u001b[0;34m\u001b[0m\u001b[0m\n\u001b[0;32m-> 1472\u001b[0;31m                                                run_metadata_ptr)\n\u001b[0m\u001b[1;32m   1473\u001b[0m         \u001b[0;32mif\u001b[0m \u001b[0mrun_metadata\u001b[0m\u001b[0;34m:\u001b[0m\u001b[0;34m\u001b[0m\u001b[0;34m\u001b[0m\u001b[0m\n\u001b[1;32m   1474\u001b[0m           \u001b[0mproto_data\u001b[0m \u001b[0;34m=\u001b[0m \u001b[0mtf_session\u001b[0m\u001b[0;34m.\u001b[0m\u001b[0mTF_GetBuffer\u001b[0m\u001b[0;34m(\u001b[0m\u001b[0mrun_metadata_ptr\u001b[0m\u001b[0;34m)\u001b[0m\u001b[0;34m\u001b[0m\u001b[0;34m\u001b[0m\u001b[0m\n",
            "\u001b[0;31mKeyboardInterrupt\u001b[0m: "
          ]
        }
      ]
    },
    {
      "cell_type": "markdown",
      "metadata": {
        "id": "Dyidq4sQVzyj",
        "colab_type": "text"
      },
      "source": [
        "Точность лучше всего оценить с помощью скрипта evaluation.py на страничке SQuAd. \n",
        "\n",
        "https://rajpurkar.github.io/SQuAD-explorer/"
      ]
    },
    {
      "cell_type": "markdown",
      "metadata": {
        "id": "E5dwkxcoDGOQ",
        "colab_type": "text"
      },
      "source": [
        "**Задание 7.**. \n",
        "Предиктим на val data"
      ]
    },
    {
      "cell_type": "code",
      "metadata": {
        "id": "NBpKB8jKVzyk",
        "colab_type": "code",
        "colab": {
          "base_uri": "https://localhost:8080/",
          "height": 34
        },
        "outputId": "b35b1471-fb22-4122-e541-bf4f7feefe67"
      },
      "source": [
        "#------------------------------------------------\n",
        "# Ваш код здесь\n",
        "#------------------------------------------------\n",
        "preds = "
      ],
      "execution_count": 23,
      "outputs": [
        {
          "output_type": "stream",
          "text": [
            "20302/20302 [==============================] - 59s 3ms/step\n"
          ],
          "name": "stdout"
        }
      ]
    },
    {
      "cell_type": "markdown",
      "metadata": {
        "id": "5eNPrd81Vzym",
        "colab_type": "text"
      },
      "source": [
        "Предиктим распределения для каждого выхода. Делаем argmax(), чтобы достать самый вероятный класс(индекс)."
      ]
    },
    {
      "cell_type": "code",
      "metadata": {
        "id": "bUjJ5IJnVzym",
        "colab_type": "code",
        "colab": {}
      },
      "source": [
        "starts_pred = preds[0].argmax(axis=1)\n",
        "ends_pred = preds[1].argmax(axis=1)"
      ],
      "execution_count": 0,
      "outputs": []
    },
    {
      "cell_type": "markdown",
      "metadata": {
        "id": "Yo6ezqchVzyq",
        "colab_type": "text"
      },
      "source": [
        "По индексам достаем текст из нетронутых текстов из отложенной выборки. Для плохих вопросов, просто добавляем пустые строки (что на самом деле не совсем правильно)."
      ]
    },
    {
      "cell_type": "code",
      "metadata": {
        "id": "Dc42rAJ-Vzyr",
        "colab_type": "code",
        "colab": {}
      },
      "source": [
        "pred_dict = {}\n",
        "for i in range(len(starts_pred)):\n",
        "    cont = raw_context[i]\n",
        "    span = cont[starts_pred[i]:starts_pred[i]+ends_pred[i]]\n",
        "    pred_dict[ids[i]] = span\n",
        "\n",
        "for idx in imporssible_ids:\n",
        "    pred_dict[idx] = \"\""
      ],
      "execution_count": 0,
      "outputs": []
    },
    {
      "cell_type": "code",
      "metadata": {
        "id": "ZQ9WBadpVzyt",
        "colab_type": "code",
        "colab": {
          "base_uri": "https://localhost:8080/",
          "height": 1000
        },
        "outputId": "e6c9bfb3-3d70-4f0f-ee63-5c633f12f18d"
      },
      "source": [
        "pred_dict"
      ],
      "execution_count": 26,
      "outputs": [
        {
          "output_type": "execute_result",
          "data": {
            "text/plain": [
              "{'56ddde6b9a695914005b9628': 'The ',\n",
              " '56ddde6b9a695914005b9629': 'The ',\n",
              " '56ddde6b9a695914005b962a': 'The ',\n",
              " '56ddde6b9a695914005b962b': 'The ',\n",
              " '56ddde6b9a695914005b962c': 'The ',\n",
              " '56dddf4066d3e219004dad5f': 'The ',\n",
              " '56dddf4066d3e219004dad60': 'The ',\n",
              " '56dddf4066d3e219004dad61': 'The ',\n",
              " '56dde0379a695914005b9636': 'The ',\n",
              " '56dde0379a695914005b9637': 'The ',\n",
              " '56dde0ba66d3e219004dad75': 'In t',\n",
              " '56dde0ba66d3e219004dad76': 'In t',\n",
              " '56dde0ba66d3e219004dad77': 'In t',\n",
              " '56dde1d966d3e219004dad8d': 'Befo',\n",
              " '56dde27d9a695914005b9651': 'The ',\n",
              " '56dde27d9a695914005b9652': 'The ',\n",
              " '56dde2fa66d3e219004dad9b': 'The ',\n",
              " '56de0f6a4396321400ee257f': 'Soon',\n",
              " '56de0ffd4396321400ee258d': 'One ',\n",
              " '56de0ffd4396321400ee258e': 'One ',\n",
              " '56de0ffd4396321400ee258f': 'One ',\n",
              " '56de10b44396321400ee2593': 'Some',\n",
              " '56de10b44396321400ee2594': 'Some',\n",
              " '56de10b44396321400ee2595': 'Some',\n",
              " '56de11154396321400ee25aa': 'Seve',\n",
              " '56de148dcffd8e1900b4b5bc': 'Robe',\n",
              " '56de148dcffd8e1900b4b5bd': 'Robe',\n",
              " '56de148dcffd8e1900b4b5be': 'Robe',\n",
              " '56de15104396321400ee25b7': 'A fe',\n",
              " '56de15104396321400ee25b8': 'A fe',\n",
              " '56de15104396321400ee25b9': 'A fe',\n",
              " '56de1563cffd8e1900b4b5c2': 'The ',\n",
              " '56de1563cffd8e1900b4b5c3': 'The ',\n",
              " '56de1563cffd8e1900b4b5c4': 'The ',\n",
              " '56de15dbcffd8e1900b4b5c8': 'The ',\n",
              " '56de15dbcffd8e1900b4b5c9': 'The ',\n",
              " '56de15dbcffd8e1900b4b5ca': 'The ',\n",
              " '56de15dbcffd8e1900b4b5cb': 'The ',\n",
              " '56de1645cffd8e1900b4b5d0': 'When',\n",
              " '56de1645cffd8e1900b4b5d1': 'When',\n",
              " '56de1645cffd8e1900b4b5d2': 'When',\n",
              " '56de16ca4396321400ee25c5': 'In 1',\n",
              " '56de16ca4396321400ee25c6': 'In 1',\n",
              " '56de16ca4396321400ee25c7': 'In 1',\n",
              " '56de16ca4396321400ee25c8': 'In 1',\n",
              " '56de1728cffd8e1900b4b5d7': 'Even',\n",
              " '56de179dcffd8e1900b4b5da': 'The ',\n",
              " '56de179dcffd8e1900b4b5db': 'The ',\n",
              " '56de179dcffd8e1900b4b5dc': 'The ',\n",
              " '56de17f9cffd8e1900b4b5e0': 'One ',\n",
              " '56de17f9cffd8e1900b4b5e1': 'One ',\n",
              " '56de17f9cffd8e1900b4b5e2': 'One ',\n",
              " '56de17f9cffd8e1900b4b5e3': 'One ',\n",
              " '56de3cd0cffd8e1900b4b6be': 'Norm',\n",
              " '56de3cd0cffd8e1900b4b6bf': 'Norm',\n",
              " '56de3d594396321400ee26ca': 'Even',\n",
              " '56de3d594396321400ee26cb': 'Even',\n",
              " '56de3d594396321400ee26cc': 'Even',\n",
              " '56de3dbacffd8e1900b4b6d2': 'Subs',\n",
              " '56de3e414396321400ee26d8': 'The ',\n",
              " '56de3e414396321400ee26d9': 'The ',\n",
              " '56de3ebc4396321400ee26e6': 'In 1',\n",
              " '56de3ebc4396321400ee26e7': 'In 1',\n",
              " '56de3ebc4396321400ee26e8': 'In 1',\n",
              " '56de3efccffd8e1900b4b6fe': 'The ',\n",
              " '56de3f784396321400ee26fa': 'In A',\n",
              " '56de3f784396321400ee26fb': 'In A',\n",
              " '56de3f784396321400ee26fc': 'In A',\n",
              " '56de3f784396321400ee26fd': 'In A',\n",
              " '56de40da4396321400ee2708': 'Vari',\n",
              " '56de40da4396321400ee2709': 'Vari',\n",
              " '56de40da4396321400ee270a': 'Vari',\n",
              " '56de49564396321400ee277a': 'Betw',\n",
              " '56de49a8cffd8e1900b4b7a7': 'Beth',\n",
              " '56de49a8cffd8e1900b4b7a8': 'Beth',\n",
              " '56de49a8cffd8e1900b4b7a9': 'Beth',\n",
              " '56de4a474396321400ee2786': 'The ',\n",
              " '56de4a474396321400ee2787': 'The ',\n",
              " '56de4a89cffd8e1900b4b7bd': 'Norm',\n",
              " '56de4a89cffd8e1900b4b7be': 'Norm',\n",
              " '56de4b074396321400ee2793': 'In E',\n",
              " '56de4b074396321400ee2794': 'In E',\n",
              " '56de4b074396321400ee2795': 'In E',\n",
              " '56de4b5c4396321400ee2799': 'In t',\n",
              " '56de4b5c4396321400ee279a': 'In t',\n",
              " '56de4bb84396321400ee27a2': 'The ',\n",
              " '56de4c324396321400ee27ab': 'By f',\n",
              " '56de4c324396321400ee27ac': 'By f',\n",
              " '56de4c324396321400ee27ad': 'By f',\n",
              " '56de51244396321400ee27ef': 'In B',\n",
              " '56de51c64396321400ee27f7': 'Norm',\n",
              " '56de51c64396321400ee27f8': 'Norm',\n",
              " '56de52614396321400ee27fb': 'At S',\n",
              " '56de52614396321400ee27fc': 'At S',\n",
              " '56de52614396321400ee27fd': 'At S',\n",
              " '56de52614396321400ee27fe': 'At S',\n",
              " '56e16182e3433e1400422e28': 'Comp',\n",
              " '56e16182e3433e1400422e29': 'Comp',\n",
              " '56e16182e3433e1400422e2a': 'Comp',\n",
              " '56e16839cd28a01900c67887': 'A pr',\n",
              " '56e16839cd28a01900c67888': 'A pr',\n",
              " '56e16839cd28a01900c67889': 'A pr',\n",
              " '56e16839cd28a01900c6788a': 'A pr',\n",
              " '56e16839cd28a01900c6788b': 'A pr',\n",
              " '56e17644e3433e1400422f40': 'Clos',\n",
              " '56e17644e3433e1400422f41': 'Clos',\n",
              " '56e17644e3433e1400422f42': 'Clos',\n",
              " '56e17644e3433e1400422f43': 'Clos',\n",
              " '56e17a7ccd28a01900c679a1': 'A co',\n",
              " '56e17a7ccd28a01900c679a2': 'A co',\n",
              " '56e17a7ccd28a01900c679a3': 'A co',\n",
              " '56e17a7ccd28a01900c679a4': 'A co',\n",
              " '56e17a7ccd28a01900c679a5': 'A co',\n",
              " '56e17e6ee3433e1400422f7f': 'To f',\n",
              " '56e17e6ee3433e1400422f80': 'To f',\n",
              " '56e17e6ee3433e1400422f81': 'To f',\n",
              " '56e181d9e3433e1400422fa0': 'When',\n",
              " '56e181d9e3433e1400422fa1': 'When',\n",
              " '56e181d9e3433e1400422fa2': 'When',\n",
              " '56e181d9e3433e1400422fa3': 'When',\n",
              " '56e181d9e3433e1400422fa4': 'When',\n",
              " '56e190bce3433e1400422fc8': 'Deci',\n",
              " '56e190bce3433e1400422fc9': 'Deci',\n",
              " '56e190bce3433e1400422fca': 'Deci',\n",
              " '56e190bce3433e1400422fcb': 'Deci',\n",
              " '56e190bce3433e1400422fcc': 'Deci',\n",
              " '56e19557e3433e1400422fee': 'An e',\n",
              " '56e19557e3433e1400422ff0': 'An e',\n",
              " '56e19557e3433e1400422ff1': 'An e',\n",
              " '56e19724cd28a01900c679f6': 'A fu',\n",
              " '56e19724cd28a01900c679f7': 'A fu',\n",
              " '56e19724cd28a01900c679f8': 'A fu',\n",
              " '56e19724cd28a01900c679f9': 'A fu',\n",
              " '56e19724cd28a01900c679fa': 'A fu',\n",
              " '56e1a0dccd28a01900c67a2e': 'It i',\n",
              " '56e1a0dccd28a01900c67a2f': 'It i',\n",
              " '56e1a38de3433e140042305c': 'To m',\n",
              " '56e1a38de3433e140042305d': 'To m',\n",
              " '56e1a38de3433e140042305e': 'To m',\n",
              " '56e1a38de3433e140042305f': 'To m',\n",
              " '56e1a38de3433e1400423060': 'To m',\n",
              " '56e1a564cd28a01900c67a48': 'If t',\n",
              " '56e1a564cd28a01900c67a49': 'If t',\n",
              " '56e1a564cd28a01900c67a4a': 'If t',\n",
              " '56e1a564cd28a01900c67a4b': 'If t',\n",
              " '56e1a564cd28a01900c67a4c': 'If t',\n",
              " '56e1aba0e3433e1400423094': 'A Tu',\n",
              " '56e1aba0e3433e1400423095': 'A Tu',\n",
              " '56e1aba0e3433e1400423097': 'A Tu',\n",
              " '56e1aba0e3433e1400423098': 'A Tu',\n",
              " '56e1aff7cd28a01900c67a68': 'A de',\n",
              " '56e1aff7cd28a01900c67a69': 'A de',\n",
              " '56e1aff7cd28a01900c67a6a': 'A de',\n",
              " '56e1aff7cd28a01900c67a6b': 'A de',\n",
              " '56e1aff7cd28a01900c67a6c': 'A de',\n",
              " '56e1b00ce3433e140042309e': 'Many',\n",
              " '56e1b00ce3433e140042309f': 'Many',\n",
              " '56e1b00ce3433e14004230a1': 'Many',\n",
              " '56e1b169cd28a01900c67a72': 'Many',\n",
              " '56e1b169cd28a01900c67a73': 'Many',\n",
              " '56e1b169cd28a01900c67a74': 'Many',\n",
              " '56e1b169cd28a01900c67a75': 'Many',\n",
              " '56e1b355e3433e14004230b0': 'Howe',\n",
              " '56e1b355e3433e14004230b1': 'Howe',\n",
              " '56e1b355e3433e14004230b2': 'Howe',\n",
              " '56e1b355e3433e14004230b3': 'Howe',\n",
              " '56e1b62ecd28a01900c67aa3': 'For ',\n",
              " '56e1b62ecd28a01900c67aa4': 'For ',\n",
              " '56e1b62ecd28a01900c67aa5': 'For ',\n",
              " '56e1b62ecd28a01900c67aa6': 'For ',\n",
              " '56e1b754cd28a01900c67abc': 'Anal',\n",
              " '56e1b754cd28a01900c67abd': 'Anal',\n",
              " '56e1b754cd28a01900c67abe': 'Anal',\n",
              " '56e1b754cd28a01900c67abf': 'Anal',\n",
              " '56e1b754cd28a01900c67ac0': 'Anal',\n",
              " '56e1b8f3e3433e14004230e6': 'The ',\n",
              " '56e1b8f3e3433e14004230e7': 'The ',\n",
              " '56e1b8f3e3433e14004230e8': 'The ',\n",
              " '56e1b8f3e3433e14004230e9': 'The ',\n",
              " '56e1ba41cd28a01900c67ae0': 'For ',\n",
              " '56e1ba41cd28a01900c67ae1': 'For ',\n",
              " '56e1ba41cd28a01900c67ae2': 'For ',\n",
              " '56e1bc3ae3433e1400423104': 'To c',\n",
              " '56e1bc3ae3433e1400423105': 'To c',\n",
              " '56e1bc3ae3433e1400423106': 'To c',\n",
              " '56e1bc3ae3433e1400423107': 'To c',\n",
              " '56e1bc3ae3433e1400423108': 'To c',\n",
              " '56e1bd4acd28a01900c67afc': 'Uppe',\n",
              " '56e1bd4acd28a01900c67afd': 'Uppe',\n",
              " '56e1bd4acd28a01900c67afe': 'Uppe',\n",
              " '56e1bd4acd28a01900c67aff': 'Uppe',\n",
              " '56e1c0f6cd28a01900c67b2c': 'Of c',\n",
              " '56e1c0f6cd28a01900c67b2d': 'Of c',\n",
              " '56e1c0f6cd28a01900c67b2e': 'Of c',\n",
              " '56e1c2eee3433e1400423134': 'But ',\n",
              " '56e1c2eee3433e1400423135': 'But ',\n",
              " '56e1c2eee3433e1400423136': 'But ',\n",
              " '56e1c2eee3433e1400423137': 'But ',\n",
              " '56e1c2eee3433e1400423138': 'But ',\n",
              " '56e1c3e1e3433e1400423148': 'Many',\n",
              " '56e1c3e1e3433e1400423149': 'Many',\n",
              " '56e1c3e1e3433e140042314a': 'Many',\n",
              " '56e1c4fce3433e140042314e': 'Othe',\n",
              " '56e1c4fce3433e140042314f': 'Othe',\n",
              " '56e1c4fce3433e1400423150': 'Othe',\n",
              " '56e1c4fce3433e1400423151': 'Othe',\n",
              " '56e1c4fce3433e1400423152': 'Othe',\n",
              " '56e1c720e3433e140042316a': 'For ',\n",
              " '56e1c720e3433e140042316b': 'For ',\n",
              " '56e1c720e3433e140042316c': 'For ',\n",
              " '56e1c720e3433e140042316d': 'For ',\n",
              " '56e1c720e3433e140042316e': 'For ',\n",
              " '56e1c7e2cd28a01900c67b74': 'The ',\n",
              " '56e1c7e2cd28a01900c67b75': 'The ',\n",
              " '56e1c7e2cd28a01900c67b76': 'The ',\n",
              " '56e1c9bfe3433e1400423192': 'Many',\n",
              " '56e1c9bfe3433e1400423193': 'Many',\n",
              " '56e1c9bfe3433e1400423194': 'Many',\n",
              " '56e1c9bfe3433e1400423195': 'Many',\n",
              " '56e1c9bfe3433e1400423196': 'Many',\n",
              " '56e1cbe2cd28a01900c67bac': 'The ',\n",
              " '56e1cbe2cd28a01900c67bad': 'The ',\n",
              " '56e1cbe2cd28a01900c67bae': 'The ',\n",
              " '56e1cbe2cd28a01900c67baf': 'The ',\n",
              " '56e1cbe2cd28a01900c67bb0': 'The ',\n",
              " '56e1ce08e3433e14004231a4': 'This',\n",
              " '56e1ce08e3433e14004231a5': 'This',\n",
              " '56e1ce08e3433e14004231a6': 'This',\n",
              " '56e1ce08e3433e14004231a8': 'This',\n",
              " '56e1d9fee3433e14004231cb': 'If a',\n",
              " '56e1d9fee3433e14004231cc': 'If a',\n",
              " '56e1d9fee3433e14004231cd': 'If a',\n",
              " '56e1d9fee3433e14004231ce': 'If a',\n",
              " '56e1dc62cd28a01900c67bca': 'The ',\n",
              " '56e1dc62cd28a01900c67bcb': 'The ',\n",
              " '56e1dc62cd28a01900c67bcc': 'The ',\n",
              " '56e1dc62cd28a01900c67bcd': 'The ',\n",
              " '56e1dc62cd28a01900c67bce': 'The ',\n",
              " '56e1ddfce3433e14004231d5': 'The ',\n",
              " '56e1ddfce3433e14004231d6': 'The ',\n",
              " '56e1ddfce3433e14004231d8': 'The ',\n",
              " '56e1ded7cd28a01900c67bd4': 'It w',\n",
              " '56e1ded7cd28a01900c67bd5': 'It w',\n",
              " '56e1ded7cd28a01900c67bd6': 'It w',\n",
              " '56e1e9dfe3433e14004231fc': 'The ',\n",
              " '56e1e9dfe3433e14004231fd': 'The ',\n",
              " '56e1e9dfe3433e14004231fe': 'The ',\n",
              " '56e1e9dfe3433e14004231ff': 'The ',\n",
              " '56e1e9dfe3433e1400423200': 'The ',\n",
              " '56e1ec83cd28a01900c67c0a': 'The ',\n",
              " '56e1ec83cd28a01900c67c0b': 'The ',\n",
              " '56e1ec83cd28a01900c67c0c': 'The ',\n",
              " '56e1ec83cd28a01900c67c0e': 'The ',\n",
              " '56e1ee4de3433e1400423210': 'Many',\n",
              " '56e1ee4de3433e1400423211': 'Many',\n",
              " '56e1ee4de3433e1400423212': 'Many',\n",
              " '56e1ee4de3433e1400423214': 'Many',\n",
              " '56e1efa0e3433e140042321a': 'Alon',\n",
              " '56e1efa0e3433e140042321b': 'Alon',\n",
              " '56e1efa0e3433e140042321c': 'Alon',\n",
              " '56e1efa0e3433e140042321d': 'Alon',\n",
              " '56e1f10ee3433e1400423222': 'Simi',\n",
              " '56e1f10ee3433e1400423223': 'Simi',\n",
              " '56e1f10ee3433e1400423224': 'Simi',\n",
              " '56e1f10ee3433e1400423225': 'Simi',\n",
              " '56e1f10ee3433e1400423226': 'Simi',\n",
              " '56e1fc57e3433e140042322c': 'Prob',\n",
              " '56e1fc57e3433e140042322f': 'Prob',\n",
              " '56e1fc57e3433e1400423230': 'Prob',\n",
              " '56e1febfe3433e1400423236': 'What',\n",
              " '56e1febfe3433e1400423237': 'What',\n",
              " '56e1febfe3433e1400423238': 'What',\n",
              " '56e1febfe3433e1400423239': 'What',\n",
              " '56e1febfe3433e140042323a': 'What',\n",
              " '56e200e4cd28a01900c67c14': 'Befo',\n",
              " '56e200e4cd28a01900c67c15': 'Befo',\n",
              " '56e200e4cd28a01900c67c16': 'Befo',\n",
              " '56e200e4cd28a01900c67c17': 'Befo',\n",
              " '56e200e4cd28a01900c67c18': 'Befo',\n",
              " '56e202e9e3433e1400423240': 'As F',\n",
              " '56e202e9e3433e1400423241': 'As F',\n",
              " '56e202e9e3433e1400423242': 'As F',\n",
              " '56e202e9e3433e1400423243': 'As F',\n",
              " '56e202e9e3433e1400423244': 'As F',\n",
              " '56e2042ecd28a01900c67c1e': 'Earl',\n",
              " '56e2042ecd28a01900c67c1f': 'Earl',\n",
              " '56e2042ecd28a01900c67c20': 'Earl',\n",
              " '56e20a27cd28a01900c67c24': 'Even',\n",
              " '56e20a27cd28a01900c67c25': 'Even',\n",
              " '56e20a3ae3433e140042324a': 'In 1',\n",
              " '56e20a3ae3433e140042324b': 'In 1',\n",
              " '56e20a3ae3433e140042324d': 'In 1',\n",
              " '56e20a3ae3433e140042324e': 'In 1',\n",
              " '5705e26d75f01819005e76d4': 'Sout',\n",
              " '5705e26d75f01819005e76d5': 'Sout',\n",
              " '5705e26d75f01819005e76d6': 'Sout',\n",
              " '5705e26d75f01819005e76d7': 'Sout',\n",
              " '5705e26d75f01819005e76d8': 'Sout',\n",
              " '5705e33f52bb89140068964c': 'The ',\n",
              " '5705e33f52bb89140068964d': 'The ',\n",
              " '5705e33f52bb89140068964e': 'The ',\n",
              " '5705e33f52bb89140068964f': 'The ',\n",
              " '5705e33f52bb891400689650': 'The ',\n",
              " '5705e3f252bb89140068966a': 'Sout',\n",
              " '5705e3f252bb89140068966b': 'Sout',\n",
              " '5705e3f252bb89140068966c': 'Sout',\n",
              " '5705e3f252bb89140068966d': 'Sout',\n",
              " '5705e3f252bb89140068966e': 'Sout',\n",
              " '5705e4fe75f01819005e7704': 'To t',\n",
              " '5705e4fe75f01819005e7705': 'To t',\n",
              " '5705e4fe75f01819005e7706': 'To t',\n",
              " '5705e4fe75f01819005e7707': 'To t',\n",
              " '5705e63175f01819005e7720': 'With',\n",
              " '5705e63175f01819005e7721': 'With',\n",
              " '5705e63175f01819005e7722': 'With',\n",
              " '5705e63175f01819005e7723': 'With',\n",
              " '5705e63175f01819005e7724': 'With',\n",
              " '5705e99452bb891400689688': 'Its ',\n",
              " '5705e99452bb891400689689': 'Its ',\n",
              " '5705e99452bb89140068968a': 'Its ',\n",
              " '5705e99452bb89140068968b': 'Its ',\n",
              " '5705e99452bb89140068968c': 'Its ',\n",
              " '5705eb3375f01819005e7764': 'The ',\n",
              " '5705eb3375f01819005e7765': 'The ',\n",
              " '5705eb3375f01819005e7766': 'The ',\n",
              " '5705eb3375f01819005e7767': 'The ',\n",
              " '5705eb3375f01819005e7768': 'The ',\n",
              " '5705ec1675f01819005e776e': 'Sout',\n",
              " '5705ec1675f01819005e776f': 'Sout',\n",
              " '5705ec1675f01819005e7770': 'Sout',\n",
              " '5705ec1675f01819005e7771': 'Sout',\n",
              " '5705ec1675f01819005e7772': 'Sout',\n",
              " '5705eccb52bb8914006896b8': 'Many',\n",
              " '5705eccb52bb8914006896b9': 'Many',\n",
              " '5705eccb52bb8914006896ba': 'Many',\n",
              " '5705eccb52bb8914006896bb': 'Many',\n",
              " '5705edcd52bb8914006896ca': '\"Sou',\n",
              " '5705edcd52bb8914006896cb': '\"Sou',\n",
              " '5705edcd52bb8914006896cc': '\"Sou',\n",
              " '5705edcd52bb8914006896cd': '\"Sou',\n",
              " '5705edcd52bb8914006896ce': '\"Sou',\n",
              " '5705eee952bb8914006896de': 'Thou',\n",
              " '5705eee952bb8914006896df': 'Thou',\n",
              " '5705eee952bb8914006896e0': 'Thou',\n",
              " '5705eee952bb8914006896e1': 'Thou',\n",
              " '5705eee952bb8914006896e2': 'Thou',\n",
              " '5705f09e75f01819005e77a4': 'Subs',\n",
              " '5705f09e75f01819005e77a5': 'Subs',\n",
              " '5705f09e75f01819005e77a6': 'Subs',\n",
              " '5705f09e75f01819005e77a7': 'Subs',\n",
              " '5705f09e75f01819005e77a8': 'Subs',\n",
              " '5705f13d52bb8914006896f0': 'In 1',\n",
              " '5705f13d52bb8914006896f1': 'In 1',\n",
              " '5705f13d52bb8914006896f2': 'In 1',\n",
              " '5705f13d52bb8914006896f3': 'In 1',\n",
              " '5705f13d52bb8914006896f4': 'In 1',\n",
              " '5705f36452bb891400689718': 'The ',\n",
              " '5705f36452bb891400689719': 'The ',\n",
              " '5705f36452bb89140068971a': 'The ',\n",
              " '5705f36452bb89140068971b': 'The ',\n",
              " '5705f36452bb89140068971c': 'The ',\n",
              " '5705f7c875f01819005e77dc': 'Sout',\n",
              " '5705f7c875f01819005e77dd': 'Sout',\n",
              " '5705f7c875f01819005e77de': 'Sout',\n",
              " '5705f7c875f01819005e77df': 'Sout',\n",
              " '5705f7c875f01819005e77e0': 'Sout',\n",
              " '5705fb7f52bb891400689750': 'Trav',\n",
              " '5705fb7f52bb891400689751': 'Trav',\n",
              " '5705fb7f52bb891400689752': 'Trav',\n",
              " '5705fb7f52bb891400689753': 'Trav',\n",
              " '5705fb7f52bb891400689754': 'Trav',\n",
              " '5705fc3a52bb89140068976a': 'Sout',\n",
              " '5705fc3a52bb89140068976b': 'Sout',\n",
              " '5705fc3a52bb89140068976c': 'Sout',\n",
              " '5705fc3a52bb89140068976d': 'Sout',\n",
              " '5705fc3a52bb89140068976e': 'Sout',\n",
              " '5705fd8475f01819005e7840': 'Sout',\n",
              " '5705fd8475f01819005e7841': 'Sout',\n",
              " '5705fd8475f01819005e7842': 'Sout',\n",
              " '5705fd8475f01819005e7843': 'Sout',\n",
              " '5705fd8475f01819005e7844': 'Sout',\n",
              " '5705fec152bb89140068977a': 'Each',\n",
              " '5705fec152bb89140068977b': 'Each',\n",
              " '5705fec152bb89140068977c': 'Each',\n",
              " '5705fec152bb89140068977d': 'Each',\n",
              " '5705fec152bb89140068977e': 'Each',\n",
              " '5705ffde52bb891400689784': 'Many',\n",
              " '5705ffde52bb891400689785': 'Many',\n",
              " '5705ffde52bb891400689786': 'Many',\n",
              " '5705ffde52bb891400689787': 'Many',\n",
              " '5705ffde52bb891400689788': 'Many',\n",
              " '570602fa52bb89140068979e': 'Sout',\n",
              " '570602fa52bb89140068979f': 'Sout',\n",
              " '570602fa52bb8914006897a0': 'Sout',\n",
              " '570603c475f01819005e7882': 'As o',\n",
              " '570603c475f01819005e7883': 'As o',\n",
              " '570603c475f01819005e7884': 'As o',\n",
              " '570603c475f01819005e7885': 'As o',\n",
              " '570603c475f01819005e7886': 'As o',\n",
              " '5706074552bb8914006897d4': 'Sout',\n",
              " '5706074552bb8914006897d5': 'Sout',\n",
              " '5706074552bb8914006897d6': 'Sout',\n",
              " '5706074552bb8914006897d7': 'Sout',\n",
              " '5706074552bb8914006897d8': 'Sout',\n",
              " '570607f575f01819005e78b4': 'Los ',\n",
              " '570607f575f01819005e78b5': 'Los ',\n",
              " '570607f575f01819005e78b6': 'Los ',\n",
              " '570607f575f01819005e78b7': 'Los ',\n",
              " '570607f575f01819005e78b8': 'Los ',\n",
              " '5706094b52bb8914006897de': 'Sout',\n",
              " '5706094b52bb8914006897df': 'Sout',\n",
              " '5706094b52bb8914006897e0': 'Sout',\n",
              " '5706094b52bb8914006897e1': 'Sout',\n",
              " '5706094b52bb8914006897e2': 'Sout',\n",
              " '57060a1175f01819005e78d2': 'Sinc',\n",
              " '57060a1175f01819005e78d3': 'Sinc',\n",
              " '57060a1175f01819005e78d4': 'Sinc',\n",
              " '57060a1175f01819005e78d5': 'Sinc',\n",
              " '57060a1175f01819005e78d6': 'Sinc',\n",
              " '57060a6e52bb8914006897f8': 'Sout',\n",
              " '57060a6e52bb8914006897f9': 'Sout',\n",
              " '57060a6e52bb8914006897fa': 'Sout',\n",
              " '57060cc352bb89140068980e': 'With',\n",
              " '57060cc352bb89140068980f': 'With',\n",
              " '57060cc352bb891400689810': 'With',\n",
              " '57060cc352bb891400689811': 'With',\n",
              " '57060df252bb891400689820': 'The ',\n",
              " '57060df252bb891400689821': 'The ',\n",
              " '57060df252bb891400689822': 'The ',\n",
              " '57060eaf75f01819005e7910': 'Oran',\n",
              " '57060eaf75f01819005e7911': 'Oran',\n",
              " '57060eaf75f01819005e7912': 'Oran',\n",
              " '57060eaf75f01819005e7913': 'Oran',\n",
              " '57060eaf75f01819005e7914': 'Oran',\n",
              " '57060f3e75f01819005e7922': 'Down',\n",
              " '57060f3e75f01819005e7923': 'Down',\n",
              " '57060f3e75f01819005e7924': 'Down',\n",
              " '57060f3e75f01819005e7925': 'Down',\n",
              " '570610b275f01819005e792a': 'Sout',\n",
              " '570610b275f01819005e792b': 'Sout',\n",
              " '570610b275f01819005e792c': 'Sout',\n",
              " '570610b275f01819005e792d': 'Sout',\n",
              " '570610b275f01819005e792e': 'Sout',\n",
              " '5706111a52bb89140068984c': 'Six ',\n",
              " '5706111a52bb89140068984d': 'Six ',\n",
              " '5706111a52bb89140068984e': 'Six ',\n",
              " '5706111a52bb89140068984f': 'Six ',\n",
              " '570611c475f01819005e793c': 'Sout',\n",
              " '570611c475f01819005e793d': 'Sout',\n",
              " '570611c475f01819005e793e': 'Sout',\n",
              " '5706139252bb891400689864': 'The ',\n",
              " '5706139252bb891400689865': 'The ',\n",
              " '5706139252bb891400689866': 'The ',\n",
              " '5706139252bb891400689867': 'The ',\n",
              " '5706139252bb891400689868': 'The ',\n",
              " '5706143575f01819005e7950': 'Prof',\n",
              " '5706143575f01819005e7951': 'Prof',\n",
              " '5706143575f01819005e7952': 'Prof',\n",
              " '5706143575f01819005e7953': 'Prof',\n",
              " '5706143575f01819005e7954': 'Prof',\n",
              " '5706149552bb891400689880': 'From',\n",
              " '5706149552bb891400689881': 'From',\n",
              " '5706149552bb891400689882': 'From',\n",
              " '5706149552bb891400689883': 'From',\n",
              " '5706149552bb891400689884': 'From',\n",
              " '570614ff52bb89140068988a': 'Coll',\n",
              " '570614ff52bb89140068988b': 'Coll',\n",
              " '570614ff52bb89140068988c': 'Coll',\n",
              " '570614ff52bb89140068988d': 'Coll',\n",
              " '570614ff52bb89140068988e': 'Coll',\n",
              " '5706155352bb891400689894': 'Rugb',\n",
              " '5706155352bb891400689895': 'Rugb',\n",
              " '5706155352bb891400689896': 'Rugb',\n",
              " '57092322efce8f15003a7db0': 'Form',\n",
              " '57092322efce8f15003a7db1': 'Form',\n",
              " '57092322efce8f15003a7db2': 'Form',\n",
              " '57092322efce8f15003a7db3': 'Form',\n",
              " '57092322efce8f15003a7db4': 'Form',\n",
              " '57094a79efce8f15003a7dc4': 'Foll',\n",
              " '57094a79efce8f15003a7dc5': 'Foll',\n",
              " '57094a79efce8f15003a7dc6': 'Foll',\n",
              " '57094a79efce8f15003a7dc7': 'Foll',\n",
              " '57094b4f9928a814004714f6': 'Whil',\n",
              " '57094b4f9928a814004714f7': 'Whil',\n",
              " '57094b4f9928a814004714f8': 'Whil',\n",
              " '57094b4f9928a814004714f9': 'Whil',\n",
              " '57094b4f9928a814004714fa': 'Whil',\n",
              " '57094ca7efce8f15003a7dd6': 'BSky',\n",
              " '57094ca7efce8f15003a7dd7': 'BSky',\n",
              " '57094ca7efce8f15003a7dd8': 'BSky',\n",
              " '57094ca7efce8f15003a7dd9': 'BSky',\n",
              " '57094ca7efce8f15003a7dda': 'BSky',\n",
              " '57094d489928a8140047150a': 'BSky',\n",
              " '57094d489928a8140047150b': 'BSky',\n",
              " '57094d489928a8140047150c': 'BSky',\n",
              " '57094d489928a8140047150d': 'BSky',\n",
              " '57094d489928a8140047150e': 'BSky',\n",
              " '570953a7efce8f15003a7dfe': 'In 2',\n",
              " '570953a7efce8f15003a7dff': 'In 2',\n",
              " '570953a7efce8f15003a7e00': 'In 2',\n",
              " '570953a7efce8f15003a7e01': 'In 2',\n",
              " '570953a7efce8f15003a7e02': 'In 2',\n",
              " '570960cf200fba1400367f01': 'In J',\n",
              " '570960cf200fba1400367f02': 'In J',\n",
              " '570960cf200fba1400367f03': 'In J',\n",
              " '570960cf200fba1400367f04': 'In J',\n",
              " '570960cf200fba1400367f05': 'In J',\n",
              " '570961aa200fba1400367f15': 'The ',\n",
              " '570961aa200fba1400367f16': 'The ',\n",
              " '570961aa200fba1400367f17': 'The ',\n",
              " '570961aa200fba1400367f18': 'The ',\n",
              " '570961aa200fba1400367f19': 'The ',\n",
              " '570963a5200fba1400367f33': 'Sky ',\n",
              " '570963a5200fba1400367f34': 'Sky ',\n",
              " '570963a5200fba1400367f35': 'Sky ',\n",
              " '570963a5200fba1400367f36': 'Sky ',\n",
              " '57096505ed30961900e84082': 'On 1',\n",
              " '57096505ed30961900e84083': 'On 1',\n",
              " '57096505ed30961900e84084': 'On 1',\n",
              " '57096505ed30961900e84085': 'On 1',\n",
              " '57096505ed30961900e84086': 'On 1',\n",
              " '570966e0200fba1400367f4f': 'BSky',\n",
              " '570966e0200fba1400367f50': 'BSky',\n",
              " '570966e0200fba1400367f51': 'BSky',\n",
              " '570966e0200fba1400367f52': 'BSky',\n",
              " '570966e0200fba1400367f53': 'BSky',\n",
              " '570967c4ed30961900e840ba': 'When',\n",
              " '570967c4ed30961900e840bb': 'When',\n",
              " '570967c4ed30961900e840bc': 'When',\n",
              " '570967c4ed30961900e840bd': 'When',\n",
              " '570967c4ed30961900e840be': 'When',\n",
              " '5709686c200fba1400367f77': 'BSky',\n",
              " '5709686c200fba1400367f78': 'BSky',\n",
              " '5709686c200fba1400367f79': 'BSky',\n",
              " '5709686c200fba1400367f7a': 'BSky',\n",
              " '5709686c200fba1400367f7b': 'BSky',\n",
              " '57096b66200fba1400367fa7': 'On 8',\n",
              " '57096b66200fba1400367fa8': 'On 8',\n",
              " '57096b66200fba1400367fa9': 'On 8',\n",
              " '57096b66200fba1400367faa': 'On 8',\n",
              " '57096b66200fba1400367fab': 'On 8',\n",
              " '57096c95200fba1400367fbb': 'Prov',\n",
              " '57096c95200fba1400367fbc': 'Prov',\n",
              " '57096c95200fba1400367fbd': 'Prov',\n",
              " '57096c95200fba1400367fbe': 'Prov',\n",
              " '57096c95200fba1400367fbf': 'Prov',\n",
              " '57096e1ced30961900e84102': 'In t',\n",
              " '57096e1ced30961900e84103': 'In t',\n",
              " '57096e1ced30961900e84104': 'In t',\n",
              " '57096e1ced30961900e84105': 'In t',\n",
              " '57096e1ced30961900e84106': 'In t',\n",
              " '57096f37200fba1400367fe5': 'BSky',\n",
              " '57096f37200fba1400367fe6': 'BSky',\n",
              " '57096f37200fba1400367fe7': 'BSky',\n",
              " '57096f37200fba1400367fe8': 'BSky',\n",
              " '57096f37200fba1400367fe9': 'BSky',\n",
              " '57097051ed30961900e84132': 'BSky',\n",
              " '57097051ed30961900e84133': 'BSky',\n",
              " '57097051ed30961900e84134': 'BSky',\n",
              " '57097051ed30961900e84135': 'BSky',\n",
              " '57097051ed30961900e84136': 'BSky',\n",
              " '57097141200fba1400367ff9': 'Virg',\n",
              " '57097141200fba1400367ffa': 'Virg',\n",
              " '57097141200fba1400367ffb': 'Virg',\n",
              " '57097141200fba1400367ffc': 'Virg',\n",
              " '57097141200fba1400367ffd': 'Virg',\n",
              " '57097b50200fba140036804d': 'BSky',\n",
              " '57097b50200fba140036804e': 'BSky',\n",
              " '57097b50200fba140036804f': 'BSky',\n",
              " '57097b50200fba1400368050': 'BSky',\n",
              " '57097b50200fba1400368051': 'BSky',\n",
              " '57097c8fed30961900e841f2': 'The ',\n",
              " '57097c8fed30961900e841f3': 'The ',\n",
              " '57097c8fed30961900e841f4': 'The ',\n",
              " '57097c8fed30961900e841f5': 'The ',\n",
              " '57097c8fed30961900e841f6': 'The ',\n",
              " '57097d63ed30961900e841fc': 'The ',\n",
              " '57097d63ed30961900e841fd': 'The ',\n",
              " '57097d63ed30961900e841fe': 'The ',\n",
              " '57097d63ed30961900e841ff': 'The ',\n",
              " '57097d63ed30961900e84200': 'The ',\n",
              " '570d2417fed7b91900d45c3d': 'The ',\n",
              " '570d2417fed7b91900d45c3e': 'The ',\n",
              " '570d2417fed7b91900d45c3f': 'The ',\n",
              " '570d2417fed7b91900d45c40': 'The ',\n",
              " '570d2417fed7b91900d45c41': 'The ',\n",
              " '570d2556fed7b91900d45c47': 'Immi',\n",
              " '570d2556fed7b91900d45c48': 'Immi',\n",
              " '570d2556fed7b91900d45c49': 'Immi',\n",
              " '570d2556fed7b91900d45c4a': 'Immi',\n",
              " '570d2556fed7b91900d45c4b': 'Immi',\n",
              " '570d26efb3d812140066d48f': 'In N',\n",
              " '570d26efb3d812140066d490': 'In N',\n",
              " '570d26efb3d812140066d491': 'In N',\n",
              " '570d26efb3d812140066d492': 'In N',\n",
              " '570d26efb3d812140066d493': 'In N',\n",
              " '570d28bdb3d812140066d4a3': 'The ',\n",
              " '570d28bdb3d812140066d4a4': 'The ',\n",
              " '570d28bdb3d812140066d4a5': 'The ',\n",
              " '570d28bdb3d812140066d4a6': 'The ',\n",
              " '570d28bdb3d812140066d4a7': 'The ',\n",
              " '570d29c2b3d812140066d4bd': 'Abou',\n",
              " '570d29c2b3d812140066d4be': 'Abou',\n",
              " '570d29c2b3d812140066d4bf': 'Abou',\n",
              " '570d29c2b3d812140066d4c0': 'Abou',\n",
              " '570d29c2b3d812140066d4c1': 'Abou',\n",
              " '570d2af0fed7b91900d45c93': 'Vict',\n",
              " '570d2af0fed7b91900d45c94': 'Vict',\n",
              " '570d2af0fed7b91900d45c95': 'Vict',\n",
              " '570d2af0fed7b91900d45c96': 'Vict',\n",
              " '570d2af0fed7b91900d45c97': 'Vict',\n",
              " '570d2c20fed7b91900d45ca7': 'Prio',\n",
              " '570d2c20fed7b91900d45ca8': 'Prio',\n",
              " '570d2c20fed7b91900d45ca9': 'Prio',\n",
              " '570d2c20fed7b91900d45caa': 'Prio',\n",
              " '570d2c20fed7b91900d45cab': 'Prio',\n",
              " '570d2d68fed7b91900d45cbb': 'More',\n",
              " '570d2d68fed7b91900d45cbc': 'More',\n",
              " '570d2d68fed7b91900d45cbd': 'More',\n",
              " '570d2d68fed7b91900d45cbe': 'More',\n",
              " '570d2d68fed7b91900d45cbf': 'More',\n",
              " '570d2f5bfed7b91900d45ccf': 'Vict',\n",
              " '570d2f5bfed7b91900d45cd0': 'Vict',\n",
              " '570d2f5bfed7b91900d45cd1': 'Vict',\n",
              " '570d2f5bfed7b91900d45cd2': 'Vict',\n",
              " '570d2f5bfed7b91900d45cd3': 'Vict',\n",
              " '570d30fdfed7b91900d45ce3': 'The ',\n",
              " '570d30fdfed7b91900d45ce4': 'The ',\n",
              " '570d30fdfed7b91900d45ce5': 'The ',\n",
              " '570d30fdfed7b91900d45ce6': 'The ',\n",
              " '570d30fdfed7b91900d45ce7': 'The ',\n",
              " '570d32e4fed7b91900d45d01': 'Vict',\n",
              " '570d32e4fed7b91900d45d02': 'Vict',\n",
              " '570d32e4fed7b91900d45d03': 'Vict',\n",
              " '570d32e4fed7b91900d45d04': 'Vict',\n",
              " '570d32e4fed7b91900d45d05': 'Vict',\n",
              " '570d3468b3d812140066d543': 'Hist',\n",
              " '570d3468b3d812140066d544': 'Hist',\n",
              " '570d3468b3d812140066d545': 'Hist',\n",
              " '570d3468b3d812140066d546': 'Hist',\n",
              " '570d3468b3d812140066d547': 'Hist',\n",
              " '570d35b7b3d812140066d54d': 'Vict',\n",
              " '570d35b7b3d812140066d54e': 'Vict',\n",
              " '570d35b7b3d812140066d54f': 'Vict',\n",
              " '570d35b7b3d812140066d550': 'Vict',\n",
              " '570d35b7b3d812140066d551': 'Vict',\n",
              " '570d391fb3d812140066d575': 'The ',\n",
              " '570d391fb3d812140066d576': 'The ',\n",
              " '570d391fb3d812140066d577': 'The ',\n",
              " '570d391fb3d812140066d578': 'The ',\n",
              " '570d391fb3d812140066d579': 'The ',\n",
              " '570d4030fed7b91900d45d9f': 'Rail',\n",
              " '570d4030fed7b91900d45da0': 'Rail',\n",
              " '570d4030fed7b91900d45da1': 'Rail',\n",
              " '570d4030fed7b91900d45da2': 'Rail',\n",
              " '570d4030fed7b91900d45da3': 'Rail',\n",
              " '570d418dfed7b91900d45dbd': 'Poli',\n",
              " '570d418dfed7b91900d45dbe': 'Poli',\n",
              " '570d418dfed7b91900d45dbf': 'Poli',\n",
              " '570d418dfed7b91900d45dc0': 'Poli',\n",
              " '570d418dfed7b91900d45dc1': 'Poli',\n",
              " '570d4329fed7b91900d45dd7': 'On 1',\n",
              " '570d4329fed7b91900d45dd8': 'On 1',\n",
              " '570d4329fed7b91900d45dd9': 'On 1',\n",
              " '570d4329fed7b91900d45dda': 'On 1',\n",
              " '570d4329fed7b91900d45ddb': 'On 1',\n",
              " '570d44abb3d812140066d5fd': 'As o',\n",
              " '570d44abb3d812140066d5fe': 'As o',\n",
              " '570d44abb3d812140066d5ff': 'As o',\n",
              " '570d44abb3d812140066d600': 'As o',\n",
              " '570d44abb3d812140066d601': 'As o',\n",
              " '570d4606b3d812140066d619': 'Vict',\n",
              " '570d4606b3d812140066d61a': 'Vict',\n",
              " '570d4606b3d812140066d61b': 'Vict',\n",
              " '570d4606b3d812140066d61c': 'Vict',\n",
              " '570d4606b3d812140066d61d': 'Vict',\n",
              " '570d47b8b3d812140066d62d': 'Ther',\n",
              " '570d47b8b3d812140066d62e': 'Ther',\n",
              " '570d47b8b3d812140066d62f': 'Ther',\n",
              " '570d47b8b3d812140066d630': 'Ther',\n",
              " '570d47b8b3d812140066d631': 'Ther',\n",
              " '570d4a6bfed7b91900d45e13': 'Afte',\n",
              " '570d4a6bfed7b91900d45e14': 'Afte',\n",
              " '570d4a6bfed7b91900d45e15': 'Afte',\n",
              " '570d4a6bfed7b91900d45e16': 'Afte',\n",
              " '570d4c3bfed7b91900d45e31': 'In 1',\n",
              " '570d4c3bfed7b91900d45e32': 'In 1',\n",
              " '570d4c3bfed7b91900d45e33': 'In 1',\n",
              " '570d4c3bfed7b91900d45e34': 'In 1',\n",
              " '570d4c3bfed7b91900d45e35': 'In 1',\n",
              " '570d4e6cb3d812140066d66d': 'The ',\n",
              " '570d4e6cb3d812140066d66e': 'The ',\n",
              " '570d4e6cb3d812140066d66f': 'The ',\n",
              " '570d4e6cb3d812140066d670': 'The ',\n",
              " '570d4e6cb3d812140066d671': 'The ',\n",
              " '570d50a5fed7b91900d45e7d': 'Duri',\n",
              " '570d50a5fed7b91900d45e7e': 'Duri',\n",
              " '570d50a5fed7b91900d45e7f': 'Duri',\n",
              " '570d50a5fed7b91900d45e80': 'Duri',\n",
              " '570d50a5fed7b91900d45e81': 'Duri',\n",
              " '570d529fb3d812140066d6bb': 'Majo',\n",
              " '570d529fb3d812140066d6bc': 'Majo',\n",
              " '570d529fb3d812140066d6bd': 'Majo',\n",
              " '570d529fb3d812140066d6be': 'Majo',\n",
              " '570d529fb3d812140066d6bf': 'Majo',\n",
              " '57105da9a58dae1900cd699e': 'Hugu',\n",
              " '57105da9a58dae1900cd699f': 'Hugu',\n",
              " '57105da9a58dae1900cd69a0': 'Hugu',\n",
              " '57105da9a58dae1900cd69a1': 'Hugu',\n",
              " '57105da9a58dae1900cd69a2': 'Hugu',\n",
              " '57106185b654c5140001f8db': 'A te',\n",
              " '57106185b654c5140001f8dc': 'A te',\n",
              " '57106185b654c5140001f8dd': 'A te',\n",
              " '57106185b654c5140001f8de': 'A te',\n",
              " '57106185b654c5140001f8df': 'A te',\n",
              " '57106644b654c5140001f8e5': 'The ',\n",
              " '57106644b654c5140001f8e6': 'The ',\n",
              " '57106644b654c5140001f8e7': 'The ',\n",
              " '57106644b654c5140001f8e8': 'The ',\n",
              " '57106644b654c5140001f8e9': 'The ',\n",
              " '57106d2fb654c5140001f8ef': 'Mont',\n",
              " '57106d2fb654c5140001f8f0': 'Mont',\n",
              " '57106d2fb654c5140001f8f1': 'Mont',\n",
              " '57106d2fb654c5140001f8f2': 'Mont',\n",
              " '57106d2fb654c5140001f8f3': 'Mont',\n",
              " '571077ecb654c5140001f909': 'Indi',\n",
              " '571077ecb654c5140001f90a': 'Indi',\n",
              " '571077ecb654c5140001f90b': 'Indi',\n",
              " '571077ecb654c5140001f90c': 'Indi',\n",
              " '571077ecb654c5140001f90d': 'Indi',\n",
              " '57107932a58dae1900cd69ca': 'Barr',\n",
              " '57107932a58dae1900cd69cb': 'Barr',\n",
              " '57107932a58dae1900cd69cc': 'Barr',\n",
              " '57107932a58dae1900cd69cd': 'Barr',\n",
              " '57107932a58dae1900cd69ce': 'Barr',\n",
              " '57107a3ea58dae1900cd69de': 'In t',\n",
              " '57107a3ea58dae1900cd69df': 'In t',\n",
              " '57107a3ea58dae1900cd69e0': 'In t',\n",
              " '57107a3ea58dae1900cd69e1': 'In t',\n",
              " '57107a3ea58dae1900cd69e2': 'In t',\n",
              " '57107c24a58dae1900cd69e8': 'Stad',\n",
              " '57107c24a58dae1900cd69e9': 'Stad',\n",
              " '57107c24a58dae1900cd69ea': 'Stad',\n",
              " '57107c24a58dae1900cd69eb': 'Stad',\n",
              " '57107c24a58dae1900cd69ec': 'Stad',\n",
              " '57107d73b654c5140001f91d': 'Rene',\n",
              " '57107d73b654c5140001f91e': 'Rene',\n",
              " '57107d73b654c5140001f91f': 'Rene',\n",
              " '57107d73b654c5140001f920': 'Rene',\n",
              " '57107e6ca58dae1900cd69f2': 'The ',\n",
              " '57107e6ca58dae1900cd69f3': 'The ',\n",
              " '57107e6ca58dae1900cd69f4': 'The ',\n",
              " '57107e6ca58dae1900cd69f5': 'The ',\n",
              " '57107e6ca58dae1900cd69f6': 'The ',\n",
              " '57108073b654c5140001f925': 'By 1',\n",
              " '57108073b654c5140001f926': 'By 1',\n",
              " '57108073b654c5140001f927': 'By 1',\n",
              " '57108073b654c5140001f928': 'By 1',\n",
              " '57108073b654c5140001f929': 'By 1',\n",
              " '57108198b654c5140001f937': 'Appr',\n",
              " '57108198b654c5140001f938': 'Appr',\n",
              " '57108198b654c5140001f939': 'Appr',\n",
              " '57108198b654c5140001f93a': 'Appr',\n",
              " '57108198b654c5140001f93b': 'Appr',\n",
              " '57108c95b654c5140001f979': 'Hugu',\n",
              " '57108c95b654c5140001f97a': 'Hugu',\n",
              " '57108c95b654c5140001f97b': 'Hugu',\n",
              " '57108c95b654c5140001f97c': 'Hugu',\n",
              " '57108c95b654c5140001f97d': 'Hugu',\n",
              " '57108d69b654c5140001f983': 'Afte',\n",
              " '57108d69b654c5140001f984': 'Afte',\n",
              " '57108d69b654c5140001f985': 'Afte',\n",
              " '57108d69b654c5140001f986': 'Afte',\n",
              " '57108d69b654c5140001f987': 'Afte',\n",
              " '57108ee6a58dae1900cd6a1a': 'In t',\n",
              " '57108ee6a58dae1900cd6a1b': 'In t',\n",
              " '57108ee6a58dae1900cd6a1c': 'In t',\n",
              " '57108ee6a58dae1900cd6a1d': 'In t',\n",
              " '57108ee6a58dae1900cd6a1e': 'In t',\n",
              " '571090abb654c5140001f995': 'Othe',\n",
              " '571090abb654c5140001f996': 'Othe',\n",
              " '571090abb654c5140001f997': 'Othe',\n",
              " '571090abb654c5140001f998': 'Othe',\n",
              " '571090abb654c5140001f999': 'Othe',\n",
              " '57109180a58dae1900cd6a40': 'A nu',\n",
              " '57109180a58dae1900cd6a41': 'A nu',\n",
              " '57109180a58dae1900cd6a42': 'A nu',\n",
              " '57109180a58dae1900cd6a43': 'A nu',\n",
              " '57109180a58dae1900cd6a44': 'A nu',\n",
              " '57109275b654c5140001f99f': 'The ',\n",
              " '57109275b654c5140001f9a0': 'The ',\n",
              " '57109275b654c5140001f9a1': 'The ',\n",
              " '57109275b654c5140001f9a2': 'The ',\n",
              " '57109275b654c5140001f9a3': 'The ',\n",
              " '571093aba58dae1900cd6a5c': 'The ',\n",
              " '571093aba58dae1900cd6a5d': 'The ',\n",
              " '571093aba58dae1900cd6a5e': 'The ',\n",
              " '571093aba58dae1900cd6a5f': 'The ',\n",
              " '571093aba58dae1900cd6a60': 'The ',\n",
              " '571094b7a58dae1900cd6a66': 'The ',\n",
              " '571094b7a58dae1900cd6a67': 'The ',\n",
              " '571094b7a58dae1900cd6a68': 'The ',\n",
              " '571094b7a58dae1900cd6a69': 'The ',\n",
              " '571094b7a58dae1900cd6a6a': 'The ',\n",
              " '571095a8a58dae1900cd6a76': 'The ',\n",
              " '571095a8a58dae1900cd6a77': 'The ',\n",
              " '571095a8a58dae1900cd6a78': 'The ',\n",
              " '571095a8a58dae1900cd6a79': 'The ',\n",
              " '571095a8a58dae1900cd6a7a': 'The ',\n",
              " '5710968aa58dae1900cd6a86': 'Many',\n",
              " '5710968aa58dae1900cd6a87': 'Many',\n",
              " '5710968aa58dae1900cd6a88': 'Many',\n",
              " '5710968aa58dae1900cd6a89': 'Many',\n",
              " '571097baa58dae1900cd6a98': 'Paul',\n",
              " '571097baa58dae1900cd6a99': 'Paul',\n",
              " '571097baa58dae1900cd6a9a': 'Paul',\n",
              " '571097baa58dae1900cd6a9b': 'Paul',\n",
              " '571097baa58dae1900cd6a9c': 'Paul',\n",
              " '571098f8a58dae1900cd6ab2': 'Some',\n",
              " '571098f8a58dae1900cd6ab3': 'Some',\n",
              " '571098f8a58dae1900cd6ab4': 'Some',\n",
              " '571098f8a58dae1900cd6ab5': 'Some',\n",
              " '571099b2b654c5140001f9b3': 'In B',\n",
              " '571099b2b654c5140001f9b4': 'In B',\n",
              " '571099b2b654c5140001f9b5': 'In B',\n",
              " '571099b2b654c5140001f9b6': 'In B',\n",
              " '571099b2b654c5140001f9b7': 'In B',\n",
              " '5710e8c8a58dae1900cd6b26': 'Afte',\n",
              " '5710e8c8a58dae1900cd6b27': 'Afte',\n",
              " '5710e8c8a58dae1900cd6b28': 'Afte',\n",
              " '5710e8c8a58dae1900cd6b29': 'Afte',\n",
              " '5710e8c8a58dae1900cd6b2a': 'Afte',\n",
              " '5710e9f8a58dae1900cd6b30': 'In 1',\n",
              " '5710e9f8a58dae1900cd6b31': 'In 1',\n",
              " '5710e9f8a58dae1900cd6b32': 'In 1',\n",
              " '5710e9f8a58dae1900cd6b33': 'In 1',\n",
              " '5710e9f8a58dae1900cd6b34': 'In 1',\n",
              " '5710eb6fb654c5140001fa17': 'Fren',\n",
              " '5710eb6fb654c5140001fa18': 'Fren',\n",
              " '5710eb6fb654c5140001fa19': 'Fren',\n",
              " '5710eb6fb654c5140001fa1a': 'Fren',\n",
              " '5710eb6fb654c5140001fa1b': 'Fren',\n",
              " '5710eca0a58dae1900cd6b3a': 'In 1',\n",
              " '5710eca0a58dae1900cd6b3b': 'In 1',\n",
              " '5710eca0a58dae1900cd6b3c': 'In 1',\n",
              " '5710eca0a58dae1900cd6b3d': 'In 1',\n",
              " '5710eca0a58dae1900cd6b3e': 'In 1',\n",
              " '5710ed7bb654c5140001fa2b': 'Some',\n",
              " '5710ed7bb654c5140001fa2c': 'Some',\n",
              " '5710ed7bb654c5140001fa2d': 'Some',\n",
              " '5710ed7bb654c5140001fa2e': 'Some',\n",
              " '5710ed7bb654c5140001fa2f': 'Some',\n",
              " '5710f114a58dae1900cd6b60': 'Both',\n",
              " '5710f114a58dae1900cd6b61': 'Both',\n",
              " '5710f114a58dae1900cd6b62': 'Both',\n",
              " '5710f114a58dae1900cd6b63': 'Both',\n",
              " '5710f114a58dae1900cd6b64': 'Both',\n",
              " '5710f2e2a58dae1900cd6b72': 'Foll',\n",
              " '5710f2e2a58dae1900cd6b73': 'Foll',\n",
              " '5710f2e2a58dae1900cd6b74': 'Foll',\n",
              " '5710f2e2a58dae1900cd6b75': 'Foll',\n",
              " '5710f2e2a58dae1900cd6b76': 'Foll',\n",
              " '5710f4b8b654c5140001fa45': 'Prin',\n",
              " '5710f4b8b654c5140001fa46': 'Prin',\n",
              " '5710f4b8b654c5140001fa47': 'Prin',\n",
              " '5710f4b8b654c5140001fa48': 'Prin',\n",
              " '5710f4b8b654c5140001fa49': 'Prin',\n",
              " '5711119cb654c5140001fae3': 'The ',\n",
              " '5711119cb654c5140001fae4': 'The ',\n",
              " '5711119cb654c5140001fae5': 'The ',\n",
              " '5711119cb654c5140001fae6': 'The ',\n",
              " '5711119cb654c5140001fae7': 'The ',\n",
              " '571112ada58dae1900cd6bcc': 'Some',\n",
              " '571112ada58dae1900cd6bcd': 'Some',\n",
              " '571112ada58dae1900cd6bce': 'Some',\n",
              " '571112ada58dae1900cd6bcf': 'Some',\n",
              " '571112ada58dae1900cd6bd0': 'Some',\n",
              " '57111380a58dae1900cd6bd6': 'Othe',\n",
              " '57111380a58dae1900cd6bd7': 'Othe',\n",
              " '57111380a58dae1900cd6bd8': 'Othe',\n",
              " '57111380a58dae1900cd6bd9': 'Othe',\n",
              " '57111380a58dae1900cd6bda': 'Othe',\n",
              " '57111428b654c5140001faff': 'In w',\n",
              " '57111428b654c5140001fb00': 'In w',\n",
              " '57111428b654c5140001fb01': 'In w',\n",
              " '57111428b654c5140001fb02': 'In w',\n",
              " '57111429b654c5140001fb03': 'In w',\n",
              " '571114cfb654c5140001fb09': 'Loui',\n",
              " '571114cfb654c5140001fb0a': 'Loui',\n",
              " '571114cfb654c5140001fb0b': 'Loui',\n",
              " '571114cfb654c5140001fb0c': 'Loui',\n",
              " '571114cfb654c5140001fb0d': 'Loui',\n",
              " '5711163bb654c5140001fb13': 'New ',\n",
              " '5711163bb654c5140001fb14': 'New ',\n",
              " '5711163bb654c5140001fb15': 'New ',\n",
              " '5711163bb654c5140001fb16': 'New ',\n",
              " '5711163bb654c5140001fb17': 'New ',\n",
              " '57111713a58dae1900cd6c00': 'Most',\n",
              " '57111713a58dae1900cd6c01': 'Most',\n",
              " '57111713a58dae1900cd6c02': 'Most',\n",
              " '57111713a58dae1900cd6c03': 'Most',\n",
              " '57111713a58dae1900cd6c04': 'Most',\n",
              " '571117d4a58dae1900cd6c0a': 'One ',\n",
              " '571117d4a58dae1900cd6c0b': 'One ',\n",
              " '571117d4a58dae1900cd6c0c': 'One ',\n",
              " '571117d4a58dae1900cd6c0d': 'One ',\n",
              " '571117d4a58dae1900cd6c0e': 'One ',\n",
              " '57111992b654c5140001fb43': 'The ',\n",
              " '57111992b654c5140001fb44': 'The ',\n",
              " '57111992b654c5140001fb45': 'The ',\n",
              " '57111992b654c5140001fb46': 'The ',\n",
              " '57111992b654c5140001fb47': 'The ',\n",
              " '57111ab8a58dae1900cd6c3c': 'Arou',\n",
              " '57111ab8a58dae1900cd6c3d': 'Arou',\n",
              " '57111ab8a58dae1900cd6c3e': 'Arou',\n",
              " '57111ab8a58dae1900cd6c3f': 'Arou',\n",
              " '57111ab8a58dae1900cd6c40': 'Arou',\n",
              " '57111b95a58dae1900cd6c50': 'Fred',\n",
              " '57111b95a58dae1900cd6c51': 'Fred',\n",
              " '57111b95a58dae1900cd6c52': 'Fred',\n",
              " '57111b95a58dae1900cd6c53': 'Fred',\n",
              " '57111b95a58dae1900cd6c54': 'Fred',\n",
              " '57112686b654c5140001fbd3': 'Stea',\n",
              " '57112686b654c5140001fbd4': 'Stea',\n",
              " '57112686b654c5140001fbd5': 'Stea',\n",
              " '57112686b654c5140001fbd6': 'Stea',\n",
              " '57112686b654c5140001fbd7': 'Stea',\n",
              " '571126dfa58dae1900cd6cb2': 'The ',\n",
              " '571126dfa58dae1900cd6cb3': 'The ',\n",
              " '571126dfa58dae1900cd6cb4': 'The ',\n",
              " '571126dfa58dae1900cd6cb5': 'The ',\n",
              " '571126dfa58dae1900cd6cb6': 'The ',\n",
              " '571127a5a58dae1900cd6cc4': 'The ',\n",
              " '571127a5a58dae1900cd6cc5': 'The ',\n",
              " '571127a5a58dae1900cd6cc6': 'The ',\n",
              " '571127a5a58dae1900cd6cc7': 'The ',\n",
              " '571127a5a58dae1900cd6cc8': 'The ',\n",
              " '571135b8a58dae1900cd6d0e': 'The ',\n",
              " '571135b8a58dae1900cd6d0f': 'The ',\n",
              " '571135b8a58dae1900cd6d10': 'The ',\n",
              " '571135b8a58dae1900cd6d11': 'The ',\n",
              " '571135b8a58dae1900cd6d12': 'The ',\n",
              " '57113639a58dae1900cd6d18': 'It i',\n",
              " '57113639a58dae1900cd6d19': 'It i',\n",
              " '57113639a58dae1900cd6d1a': 'It i',\n",
              " '57113639a58dae1900cd6d1b': 'It i',\n",
              " '57113639a58dae1900cd6d1c': 'It i',\n",
              " '571136b8a58dae1900cd6d22': 'In t',\n",
              " '571136b8a58dae1900cd6d23': 'In t',\n",
              " '571136b8a58dae1900cd6d24': 'In t',\n",
              " '57113ba6b654c5140001fc1f': 'Lead',\n",
              " '57113ba6b654c5140001fc20': 'Lead',\n",
              " '57113ba6b654c5140001fc21': 'Lead',\n",
              " '57113ba6b654c5140001fc22': 'Lead',\n",
              " '57113ba6b654c5140001fc23': 'Lead',\n",
              " '57113be3a58dae1900cd6d28': 'In 1',\n",
              " '57113be3a58dae1900cd6d29': 'In 1',\n",
              " '57113be3a58dae1900cd6d2a': 'In 1',\n",
              " '57113be3a58dae1900cd6d2b': 'In 1',\n",
              " '57113be3a58dae1900cd6d2c': 'In 1',\n",
              " '57113c6da58dae1900cd6d32': 'The ',\n",
              " '57113c6da58dae1900cd6d33': 'The ',\n",
              " '57113c6da58dae1900cd6d34': 'The ',\n",
              " '57113c6da58dae1900cd6d35': 'The ',\n",
              " '57113c6da58dae1900cd6d36': 'The ',\n",
              " '57113f83b654c5140001fc29': 'Near',\n",
              " '57113f83b654c5140001fc2a': 'Near',\n",
              " '57113f83b654c5140001fc2b': 'Near',\n",
              " '57113f83b654c5140001fc2c': 'Near',\n",
              " '57113f83b654c5140001fc2d': 'Near',\n",
              " '571142b3a58dae1900cd6d5a': 'The ',\n",
              " '571142b3a58dae1900cd6d5b': 'The ',\n",
              " '571142b3a58dae1900cd6d5c': 'The ',\n",
              " '571142b3a58dae1900cd6d5d': 'The ',\n",
              " '571142b3a58dae1900cd6d5e': 'The ',\n",
              " '571144d1a58dae1900cd6d6e': 'The ',\n",
              " '571144d1a58dae1900cd6d6f': 'The ',\n",
              " '571144d1a58dae1900cd6d70': 'The ',\n",
              " '571144d1a58dae1900cd6d71': 'The ',\n",
              " '57114667a58dae1900cd6d80': 'The ',\n",
              " '57114667a58dae1900cd6d81': 'The ',\n",
              " '57114667a58dae1900cd6d82': 'The ',\n",
              " '57114667a58dae1900cd6d83': 'The ',\n",
              " '57114667a58dae1900cd6d84': 'The ',\n",
              " '5711475ca58dae1900cd6d8a': 'With',\n",
              " '5711475ca58dae1900cd6d8b': 'With',\n",
              " '5711475ca58dae1900cd6d8c': 'With',\n",
              " '5711488ab654c5140001fc3d': 'In m',\n",
              " '5711488ab654c5140001fc3e': 'In m',\n",
              " '5711488ab654c5140001fc3f': 'In m',\n",
              " '5711488ab654c5140001fc40': 'In m',\n",
              " '5711488ab654c5140001fc41': 'In m',\n",
              " '57114aceb654c5140001fc47': 'Unif',\n",
              " '57114aceb654c5140001fc48': 'Unif',\n",
              " '57114aceb654c5140001fc49': 'Unif',\n",
              " '57114b1a2419e31400955575': 'An o',\n",
              " '57114b1a2419e31400955576': 'An o',\n",
              " '57114b1a2419e31400955577': 'An o',\n",
              " '57114b1a2419e31400955578': 'An o',\n",
              " '57114dfb50c2381900b54a53': 'The ',\n",
              " ...}"
            ]
          },
          "metadata": {
            "tags": []
          },
          "execution_count": 26
        }
      ]
    },
    {
      "cell_type": "markdown",
      "metadata": {
        "id": "SDpYk5L0Dn83",
        "colab_type": "text"
      },
      "source": [
        "**Задание 8.**.  \n",
        "Сохраняем результат в json файл."
      ]
    },
    {
      "cell_type": "code",
      "metadata": {
        "id": "y9TqY4EqVzy0",
        "colab_type": "code",
        "colab": {}
      },
      "source": [
        "#------------------------------------------------\n",
        "# Ваш код здесь\n",
        "#------------------------------------------------\n",
        "import json\n"
      ],
      "execution_count": 0,
      "outputs": []
    },
    {
      "cell_type": "markdown",
      "metadata": {
        "id": "olls_8xaVzy2",
        "colab_type": "text"
      },
      "source": [
        "Для оценки точности запустим скрипт "
      ]
    },
    {
      "cell_type": "code",
      "metadata": {
        "id": "8CUx7EgMVzy2",
        "colab_type": "code",
        "colab": {}
      },
      "source": [
        "!python3 evaluate-v2.0.py dev-v2.0.json prediction.json"
      ],
      "execution_count": 0,
      "outputs": []
    },
    {
      "cell_type": "markdown",
      "metadata": {
        "id": "QU9Qgs5IA6Xh",
        "colab_type": "text"
      },
      "source": [
        "## Полезные ссылки:\n",
        "- SQuAD dataset: https://rajpurkar.github.io/SQuAD-explorer/\n",
        "\n",
        "- Official BERT version from Google: https://github.com/google-research/bert\n",
        "\n",
        "- DeepPavlov, a library that has an Open-Domain QA system:\n",
        "https://medium.com/deeppavlov/open-domain-question-answering-with-deeppavlov-c665d2ee4d65\n",
        "\n",
        "- Как устроена Алиса:\n",
        "https://habr.com/company/yandex/blog/349372/"
      ]
    }
  ]
}