{
  "nbformat": 4,
  "nbformat_minor": 0,
  "metadata": {
    "colab": {
      "name": "NCF_stud",
      "provenance": [],
      "toc_visible": true
    },
    "kernelspec": {
      "name": "python3",
      "display_name": "Python 3"
    },
    "accelerator": "GPU"
  },
  "cells": [
    {
      "cell_type": "markdown",
      "metadata": {
        "id": "Wdnw3tE9Deb1",
        "colab_type": "text"
      },
      "source": [
        "# Neural Collaborative Filtering"
      ]
    },
    {
      "cell_type": "markdown",
      "metadata": {
        "id": "EG1IgkJFLSnW",
        "colab_type": "text"
      },
      "source": [
        "## Matrix factorization algorithm\n",
        "\n",
        "NCF - это нейронная модель матричной факторизации, которая объединяет Generalized Matrix Factorization (GMF) и Multi-Layer Perceptron (MLP), объединяя в себе сильные стороны линейности MF и нелинейности MLP для моделирования скрытых структур user-item.\n",
        "\n",
        "Схема архитектуры NCF:"
      ]
    },
    {
      "cell_type": "markdown",
      "metadata": {
        "id": "GGfys8qiLTs7",
        "colab_type": "text"
      },
      "source": [
        "<img src=\"https://recodatasets.blob.core.windows.net/images/NCF.svg?sanitize=true\">\n",
        "\n",
        "На схеме видно, как используются скрытые вектора пользователей и айтемов и как затем объединяются выходы из слоя GMF (слева) и слоя MLP (справа).\n",
        "\n",
        "### 1.1 Модель GMF\n",
        "\n",
        "В ALS, матрицу оценок можно записать как:\n",
        "\n",
        "$$\\hat { r } _ { u , i } = q _ { i } ^ { T } p _ { u }$$\n",
        "\n",
        "GMF представляет собой слой NCF как стандартный выходной слой MF. Поэтому MF может быть легко обобщена и расширена. Например, если мы позволим веса ребер выходно слоя обучаться без общего ограничения - это даст вариант MF, который позволяет варьировать важность скрытых измерений. А если мы будем использовать нелинейную функцию активации, это даст обобщение MF до нелинейной формы, которая может быть более выразительной чем линейная MF модель. GMF может быть записана как:\n",
        "\n",
        "$$\\hat { r } _ { u , i } = a _ { o u t } \\left( h ^ { T } \\left( q _ { i } \\odot p _ { u } \\right) \\right)$$\n",
        "\n",
        "где $\\odot$ - поэлементное произведение векторов, ${a}_{out}$ и ${h}$ обозначают функцию активации и веса ребер выходного слоя соответственно. MF может рассматриваться как частный случай GMF. Интуитивно, если мы используем тождественную функцию для ${a}_{out}$ и выбираем единичный вектор в качестве ${h}$, то мы в точности повторяем модель MF."
      ]
    },
    {
      "cell_type": "markdown",
      "metadata": {
        "id": "LHuih2qGLppl",
        "colab_type": "text"
      },
      "source": [
        "\n",
        "### 1.2 Модель MLP\n",
        "\n",
        "NCF использует два способа при моделировании рейтингов:\n",
        "\n",
        "1) поэлементное произведение векторов,\n",
        "2) конкатенация векторов.\n",
        "\n",
        "Сразу после контатенации скрытых признаков пользователей и айтемов применяется стандартная модель MLP. Это дает возможность наделить модель большим уровнем гибкости и нелинейности для изучения взаимодействий между $p_{u}$ и $q_{i}$. \n",
        "\n",
        "Запишем модель MLP модель более строго:\n",
        "\n",
        "Для входного слоя, используется конкатенация векторов пользователей и айтемов:\n",
        "\n",
        "$$z _ { 1 } = \\phi _ { 1 } \\left( p _ { u } , q _ { i } \\right) = \\left[ \\begin{array} { c } { p _ { u } } \\\\ { q _ { i } } \\end{array} \\right]$$\n",
        "\n",
        "Для скрытых и выходного слоев MLP запись имеет вид:\n",
        "\n",
        "$$\n",
        "\\phi _ { l } \\left( z _ { l } \\right) = a _ { o u t } \\left( W _ { l } ^ { T } z _ { l } + b _ { l } \\right) , ( l = 2,3 , \\ldots , L - 1 )\n",
        "$$\n",
        "\n",
        "и:\n",
        "\n",
        "$$\n",
        "\\hat { r } _ { u , i } = \\sigma \\left( h ^ { T } \\phi \\left( z _ { L - 1 } \\right) \\right)\n",
        "$$\n",
        "\n",
        "где ${ W }_{ l }$, ${ b }_{ l }$, и ${ a }_{ out }$ обозначают матрицу весов, вектор свободных членов и функцию активации для $l$-ого слоя, соответственно. В качестве функций активации MLP слоев, мы вольны выбирать любую: сигмоиду, гиперболический тангенс, ReLU и другие. В качестве функции активации на выходном слое используется сигмоида $\\sigma(x)=\\frac{1}{1+e^{-x}}$, чтобы ограничить оценки диапазоном (0,1)."
      ]
    },
    {
      "cell_type": "markdown",
      "metadata": {
        "id": "-SmWKJn1Lt7y",
        "colab_type": "text"
      },
      "source": [
        "### 1.3 Смешивание GMF и MLP\n",
        "\n",
        "Чтобы обеспечить большую гибкость нашей смешанной модели мы позволяем GMF и MLP обучать независимые эмбединги и затем комбинируем две модели объединяя их последние скрытие слои. Мы взяли $\\phi^{GMF}$ из GMF:\n",
        "\n",
        "$$\\phi _ { u , i } ^ { G M F } = p _ { u } ^ { G M F } \\odot q _ { i } ^ { G M F }$$\n",
        "\n",
        "и получили $\\phi^{MLP}$ из MLP:\n",
        "\n",
        "$$\\phi _ { u , i } ^ { M L P } = a _ { o u t } \\left( W _ { L } ^ { T } \\left( a _ { o u t } \\left( \\ldots a _ { o u t } \\left( W _ { 2 } ^ { T } \\left[ \\begin{array} { c } { p _ { u } ^ { M L P } } \\\\ { q _ { i } ^ { M L P } } \\end{array} \\right] + b _ { 2 } \\right) \\ldots \\right) \\right) + b _ { L }\\right.$$\n",
        "\n",
        "Наконец, мы смешали выходы из GMF и MLP:\n",
        "\n",
        "$$\\hat { r } _ { u , i } = \\sigma \\left( h ^ { T } \\left[ \\begin{array} { l } { \\phi ^ { G M F } } \\\\ { \\phi ^ { M L P } } \\end{array} \\right] \\right)$$\n",
        "\n",
        "Модель сочетает линейность MF и нелинейность DNN при моделировании скрытых user–item структур."
      ]
    },
    {
      "cell_type": "markdown",
      "metadata": {
        "id": "SDJwiFk8LwXr",
        "colab_type": "text"
      },
      "source": [
        "### 1.4 Целевая функция\n",
        "\n",
        "Мы можем записать функцию правдоподобия как:\n",
        "\n",
        "$$P \\left( \\mathcal { R } , \\mathcal { R } ^ { - } | \\mathbf { P } , \\mathbf { Q } , \\Theta \\right) = \\prod _ { ( u , i ) \\in \\mathcal { R } } \\hat { r } _ { u , i } \\prod _ { ( u , j ) \\in \\mathcal { R } ^{ - } } \\left( 1 - \\hat { r } _ { u , j } \\right)$$\n",
        "\n",
        "Где $\\mathcal{R}$ обозначает множество наблюдаемых взаимодействий пользователя, а $\\mathcal{ R } ^ { - }$ обозначает множество негативных наблюдений. $\\mathbf{P}$ и $\\mathbf{Q}$ - это скрытая матрица признаков пользователей и айтемов соответственно, $\\Theta$ - параметры модели. Взяв со знаком минус логарифм от правдоподобия мы получим целевую функцию для минимизации NCF алгоритма. Что-то напоминает, не правда ли? https://en.wikipedia.org/wiki/Cross_entropy\n",
        "\n",
        "$$L = - \\sum _ { ( u , i ) \\in \\mathcal { R } \\cup { \\mathcal { R } } ^ { - } } r _ { u , i } \\log \\hat { r } _ { u , i } + \\left( 1 - r _ { u , i } \\right) \\log \\left( 1 - \\hat { r } _ { u , i } \\right)$$"
      ]
    },
    {
      "cell_type": "markdown",
      "metadata": {
        "id": "zAyBExMGLWJC",
        "colab_type": "text"
      },
      "source": [
        "## Tensorflow NCF implementation"
      ]
    },
    {
      "cell_type": "markdown",
      "metadata": {
        "id": "1YdVsP6LElUF",
        "colab_type": "text"
      },
      "source": [
        "### Downloading dataset"
      ]
    },
    {
      "cell_type": "code",
      "metadata": {
        "id": "SyKykR2fEqDB",
        "colab_type": "code",
        "outputId": "f860f81c-193d-4590-d747-913672f903c6",
        "colab": {
          "base_uri": "https://localhost:8080/",
          "height": 590
        }
      },
      "source": [
        "!wget https://raw.githubusercontent.com/hexiangnan/neural_collaborative_filtering/master/Data/ml-1m.test.negative\n",
        "!wget https://raw.githubusercontent.com/hexiangnan/neural_collaborative_filtering/master/Data/ml-1m.test.rating\n",
        "!wget https://raw.githubusercontent.com/hexiangnan/neural_collaborative_filtering/master/Data/ml-1m.train.rating"
      ],
      "execution_count": 0,
      "outputs": [
        {
          "output_type": "stream",
          "text": [
            "--2020-02-05 22:38:28--  https://raw.githubusercontent.com/hexiangnan/neural_collaborative_filtering/master/Data/ml-1m.test.negative\n",
            "Resolving raw.githubusercontent.com (raw.githubusercontent.com)... 151.101.0.133, 151.101.64.133, 151.101.128.133, ...\n",
            "Connecting to raw.githubusercontent.com (raw.githubusercontent.com)|151.101.0.133|:443... connected.\n",
            "HTTP request sent, awaiting response... 200 OK\n",
            "Length: 2891424 (2.8M) [text/plain]\n",
            "Saving to: ‘ml-1m.test.negative.1’\n",
            "\n",
            "ml-1m.test.negative 100%[===================>]   2.76M  13.4MB/s    in 0.2s    \n",
            "\n",
            "2020-02-05 22:38:29 (13.4 MB/s) - ‘ml-1m.test.negative.1’ saved [2891424/2891424]\n",
            "\n",
            "--2020-02-05 22:38:30--  https://raw.githubusercontent.com/hexiangnan/neural_collaborative_filtering/master/Data/ml-1m.test.rating\n",
            "Resolving raw.githubusercontent.com (raw.githubusercontent.com)... 151.101.0.133, 151.101.64.133, 151.101.128.133, ...\n",
            "Connecting to raw.githubusercontent.com (raw.githubusercontent.com)|151.101.0.133|:443... connected.\n",
            "HTTP request sent, awaiting response... 200 OK\n",
            "Length: 128039 (125K) [text/plain]\n",
            "Saving to: ‘ml-1m.test.rating.1’\n",
            "\n",
            "ml-1m.test.rating.1 100%[===================>] 125.04K  --.-KB/s    in 0.03s   \n",
            "\n",
            "2020-02-05 22:38:31 (4.03 MB/s) - ‘ml-1m.test.rating.1’ saved [128039/128039]\n",
            "\n",
            "--2020-02-05 22:38:32--  https://raw.githubusercontent.com/hexiangnan/neural_collaborative_filtering/master/Data/ml-1m.train.rating\n",
            "Resolving raw.githubusercontent.com (raw.githubusercontent.com)... 151.101.0.133, 151.101.64.133, 151.101.128.133, ...\n",
            "Connecting to raw.githubusercontent.com (raw.githubusercontent.com)|151.101.0.133|:443... connected.\n",
            "HTTP request sent, awaiting response... 200 OK\n",
            "Length: 20982911 (20M) [text/plain]\n",
            "Saving to: ‘ml-1m.train.rating.1’\n",
            "\n",
            "ml-1m.train.rating. 100%[===================>]  20.01M  36.0MB/s    in 0.6s    \n",
            "\n",
            "2020-02-05 22:38:33 (36.0 MB/s) - ‘ml-1m.train.rating.1’ saved [20982911/20982911]\n",
            "\n"
          ],
          "name": "stdout"
        }
      ]
    },
    {
      "cell_type": "markdown",
      "metadata": {
        "id": "D3a-EgDuDYUw",
        "colab_type": "text"
      },
      "source": [
        "### Imports"
      ]
    },
    {
      "cell_type": "code",
      "metadata": {
        "id": "_UL1pN8cfG4j",
        "colab_type": "code",
        "outputId": "84c3bd8b-f34e-48e1-d0a7-466ad8b7169e",
        "colab": {
          "base_uri": "https://localhost:8080/",
          "height": 52
        }
      },
      "source": [
        "import math\n",
        "import heapq\n",
        "import scipy.sparse as sp\n",
        "import multiprocessing\n",
        "from six.moves import xrange\n",
        "\n",
        "from time import time\n",
        "import sys\n",
        "\n",
        "import numpy as np\n",
        "\n",
        "%tensorflow_version 2.x\n",
        "import tensorflow as tf\n",
        "print(\"TF version:\", tf.__version__)\n",
        "print(\"GPU is\", \"available\" if tf.config.list_physical_devices('GPU') else \"NOT AVAILABLE\")"
      ],
      "execution_count": 0,
      "outputs": [
        {
          "output_type": "stream",
          "text": [
            "TF version: 2.1.0\n",
            "GPU is available\n"
          ],
          "name": "stdout"
        }
      ]
    },
    {
      "cell_type": "markdown",
      "metadata": {
        "id": "32-nxuu6Db6M",
        "colab_type": "text"
      },
      "source": [
        "### Constants"
      ]
    },
    {
      "cell_type": "code",
      "metadata": {
        "id": "ORrCQPT4uZgl",
        "colab_type": "code",
        "colab": {}
      },
      "source": [
        "# ml-1m dataset contains 1,000,209 anonymous ratings of approximately 3,706 movies made by 6,040 users who joined MovieLens in 2000.\n",
        "# All ratings are contained in the file \"ratings.dat\" without header row, and are in the following format:\n",
        "# UserID::MovieID::Rating::Timestamp\n",
        "#\n",
        "# - UserIDs range between 1 and 6040.\n",
        "# - MovieIDs range between 1 and 3952.\n",
        "# - Ratings are made on a 5-star scale (whole-star ratings only).\n",
        "\n",
        "FILE_NAME = 'ml-1m'\n",
        "\n",
        "USER_COLUMN = \"user_id\"\n",
        "ITEM_COLUMN = \"item_id\"  # movies\n",
        "RATING_COLUMN = \"rating\""
      ],
      "execution_count": 0,
      "outputs": []
    },
    {
      "cell_type": "markdown",
      "metadata": {
        "id": "mSNns4ibJCj6",
        "colab_type": "text"
      },
      "source": [
        "### Data loading"
      ]
    },
    {
      "cell_type": "markdown",
      "metadata": {
        "id": "C7hN0q1KZFGw",
        "colab_type": "text"
      },
      "source": [
        "Данные предварительно предобработаны:\n",
        "\n",
        "**train.rating:**\n",
        "- Train file.\n",
        "- Each Line is a training instance: userID itemID rating timestamp (if have)\n",
        "\n",
        "**test.rating:**\n",
        "- Test file (positive instances). \n",
        "- Each Line is a testing instance: userID itemID rating timestamp (if have)\n",
        "\n",
        "**test.negative**\n",
        "- Test file (negative instances).\n",
        "- Each line corresponds to the line of test.rating, containing 99 negative samples.  \n",
        "- Each line is in the format: (userID,itemID) negativeItemID1 negativeItemID2 ..."
      ]
    },
    {
      "cell_type": "code",
      "metadata": {
        "id": "B_6RifGb_rI3",
        "colab_type": "code",
        "colab": {}
      },
      "source": [
        "### Ничего интересного - чтение данных из файлов (можно пропустить).\n",
        "\n",
        "def load_rating_file_as_list(filename):\n",
        "    ratingList = []\n",
        "    with open(filename+'.test.rating', \"r\") as f:\n",
        "        line = f.readline()\n",
        "        while line != None and line != \"\":\n",
        "            arr = line.split(\"\\t\")\n",
        "            user, item = int(arr[0]), int(arr[1])\n",
        "            ratingList.append([user, item])\n",
        "            line = f.readline()\n",
        "    return ratingList\n",
        "\n",
        "def load_negative_file(filename):\n",
        "    negativeList = []\n",
        "    with open(filename+'.test.negative', \"r\") as f:\n",
        "        line = f.readline()\n",
        "        while line != None and line != \"\":\n",
        "            arr = line.split(\"\\t\")\n",
        "            negatives = []\n",
        "            for x in arr[1: ]:\n",
        "                negatives.append(int(x))\n",
        "            negativeList.append(negatives)\n",
        "            line = f.readline()\n",
        "    return negativeList\n",
        "\n",
        "def load_rating_file_as_matrix(filename):\n",
        "    '''\n",
        "    Read .rating file and Return dok matrix.\n",
        "    '''\n",
        "    # Get number of users and items\n",
        "    num_users, num_items = 0, 0\n",
        "    with open(filename+'.train.rating', \"r\") as f:\n",
        "        line = f.readline()\n",
        "        while line != None and line != \"\":\n",
        "            arr = line.split(\"\\t\")\n",
        "            u, i = int(arr[0]), int(arr[1])\n",
        "            num_users = max(num_users, u)\n",
        "            num_items = max(num_items, i)\n",
        "            line = f.readline()\n",
        "    # Construct matrix\n",
        "    mat = sp.dok_matrix((num_users+1, num_items+1), dtype=np.float32)\n",
        "    with open(filename+'.train.rating', \"r\") as f:\n",
        "        line = f.readline()\n",
        "        while line != None and line != \"\":\n",
        "            arr = line.split(\"\\t\")\n",
        "            user, item, rating = int(arr[0]), int(arr[1]), float(arr[2])\n",
        "            if (rating > 0):\n",
        "                mat[user, item] = 1.0\n",
        "            line = f.readline()    \n",
        "    return mat"
      ],
      "execution_count": 0,
      "outputs": []
    },
    {
      "cell_type": "code",
      "metadata": {
        "id": "MZE5OBXGAdyz",
        "colab_type": "code",
        "outputId": "64f9e906-f59e-422d-cc04-86157100de18",
        "colab": {
          "base_uri": "https://localhost:8080/",
          "height": 34
        }
      },
      "source": [
        "t1 = time()\n",
        "\n",
        "# Loading data\n",
        "train, testRatings, testNegatives = load_rating_file_as_matrix(FILE_NAME), load_rating_file_as_list(FILE_NAME), load_negative_file(FILE_NAME)\n",
        "num_users, num_items = train.shape\n",
        "\n",
        "print(\"Load data done [%.1f s]. #user=%d, #item=%d, #train=%d, #test=%d\" \n",
        "      %(time()-t1, num_users, num_items, train.nnz, len(testRatings)))"
      ],
      "execution_count": 0,
      "outputs": [
        {
          "output_type": "stream",
          "text": [
            "Load data done [14.6 s]. #user=6040, #item=3706, #train=994169, #test=6040\n"
          ],
          "name": "stdout"
        }
      ]
    },
    {
      "cell_type": "markdown",
      "metadata": {
        "id": "134bmv7QEDhR",
        "colab_type": "text"
      },
      "source": [
        "### Metrics functions"
      ]
    },
    {
      "cell_type": "code",
      "metadata": {
        "id": "nsjzYANX9cJ6",
        "colab_type": "code",
        "colab": {}
      },
      "source": [
        "### Расчет метрик: Hit_Ratio, NDCG для top-K рекомендаций\n",
        "\n",
        "# Global variables that are shared across processes\n",
        "_model = None\n",
        "_testRatings = None\n",
        "_testNegatives = None\n",
        "_K = None\n",
        "\n",
        "def getHitRatio(ranklist, gtItem):\n",
        "    for item in ranklist:\n",
        "        if item == gtItem:\n",
        "            return 1\n",
        "    return 0\n",
        "\n",
        "def getNDCG(ranklist, gtItem):\n",
        "    for i in xrange(len(ranklist)):\n",
        "        item = ranklist[i]\n",
        "        if item == gtItem:\n",
        "            return math.log(2) / math.log(i+2)\n",
        "    return 0\n",
        "\n",
        "def eval_one_rating(idx):\n",
        "    rating = _testRatings[idx]\n",
        "    items = _testNegatives[idx]\n",
        "    u = rating[0]\n",
        "    gtItem = rating[1]\n",
        "    items.append(gtItem)\n",
        "    # Get prediction scores\n",
        "    map_item_score = {}\n",
        "    users = np.full(len(items), u, dtype = 'int32')\n",
        "    predictions = _model.predict([users, np.array(items)], \n",
        "                                 batch_size=100, verbose=0)\n",
        "    for i in xrange(len(items)):\n",
        "        item = items[i]\n",
        "        map_item_score[item] = predictions[i]\n",
        "    items.pop()\n",
        "    \n",
        "    # Evaluate top rank list\n",
        "    ranklist = heapq.nlargest(_K, map_item_score, key=map_item_score.get)\n",
        "    hr = getHitRatio(ranklist, gtItem)\n",
        "    ndcg = getNDCG(ranklist, gtItem)\n",
        "    return (hr, ndcg)\n",
        "\n",
        "def evaluate_model(model, testRatings, testNegatives, K, num_thread):\n",
        "\n",
        "    global _model\n",
        "    global _testRatings\n",
        "    global _testNegatives\n",
        "    global _K\n",
        "    _model = model\n",
        "    _testRatings = testRatings\n",
        "    _testNegatives = testNegatives\n",
        "    _K = K\n",
        "        \n",
        "    hits, ndcgs = [],[]\n",
        "    if(num_thread > 1): # Multi-thread\n",
        "        pool = multiprocessing.Pool(processes=num_thread)\n",
        "        res = pool.map(eval_one_rating, range(len(_testRatings)))\n",
        "        pool.close()\n",
        "        pool.join()\n",
        "        hits = [r[0] for r in res]\n",
        "        ndcgs = [r[1] for r in res]\n",
        "        return (hits, ndcgs)\n",
        "    # Single thread\n",
        "    for idx in xrange(len(_testRatings)):\n",
        "        (hr,ndcg) = eval_one_rating(idx)\n",
        "        hits.append(hr)\n",
        "        ndcgs.append(ndcg)      \n",
        "    return (hits, ndcgs)"
      ],
      "execution_count": 0,
      "outputs": []
    },
    {
      "cell_type": "markdown",
      "metadata": {
        "id": "bQC7ggbEJXSo",
        "colab_type": "text"
      },
      "source": [
        "### Model building"
      ]
    },
    {
      "cell_type": "code",
      "metadata": {
        "id": "2eCKo2fnfsFs",
        "colab_type": "code",
        "colab": {}
      },
      "source": [
        "mf_regularization = 0. #regularization factor for MF embeddings\n",
        "\n",
        "def get_model(num_users, num_items, mf_dim=10, model_layers=[16, 8], mlp_reg_layers=[0., 0.], reg_mf=0):\n",
        "    assert len(model_layers) == len(mlp_reg_layers)\n",
        "\n",
        "    # Input variables\n",
        "\n",
        "    user_input = tf.keras.layers.Input( \"\"\" your code here \"\"\" )\n",
        "    \n",
        "    item_input = tf.keras.layers.Input( \"\"\" your code here \"\"\" )\n",
        "\n",
        "    # Embedding layer\n",
        "\n",
        "    # Initializer for embedding layers\n",
        "    embedding_initializer = \"glorot_uniform\"\n",
        "\n",
        "    # It turns out to be significantly more effecient to store the MF and MLP\n",
        "    # embedding portions in the same table, and then slice as needed.\n",
        "    embedding_user = tf.keras.layers.Embedding( \"\"\" your code here \"\"\" )\n",
        "\n",
        "    embedding_item = tf.keras.layers.Embedding( \"\"\" your code here \"\"\" )\n",
        "\n",
        "    # GMF part\n",
        "\n",
        "    def mf_slice_fn(x):\n",
        "       \"\"\" your code here \"\"\" \n",
        "    mf_user_latent = tf.keras.layers.Lambda( \"\"\" your code here \"\"\" )\n",
        "    mf_item_latent = tf.keras.layers.Lambda( \"\"\" your code here \"\"\" )\n",
        "    \n",
        "    # Element-wise multiply\n",
        "    mf_vector =  \"\"\" your code here \"\"\" \n",
        "\n",
        "    # MLP part\n",
        "\n",
        "    def mlp_slice_fn(x):\n",
        "       \"\"\" your code here \"\"\" \n",
        "    mlp_user_latent = tf.keras.layers.Lambda( \"\"\" your code here \"\"\" )\n",
        "    mlp_item_latent = tf.keras.layers.Lambda( \"\"\" your code here \"\"\" )\n",
        "\n",
        "    # Concatenation of two latent features\n",
        "    mlp_vector =  \"\"\" your code here \"\"\" \n",
        "\n",
        "    num_layer = len(model_layers) # Number of layers in the MLP\n",
        "    for layer in xrange(1, num_layer):\n",
        "       \"\"\" your code here \"\"\" \n",
        "\n",
        "    # Concatenate GMF and MLP parts\n",
        "    predict_vector =  \"\"\" your code here \"\"\"   \n",
        "    \n",
        "    # Final prediction layer\n",
        "    logits =  \"\"\" your code here \"\"\" \n",
        "\n",
        "    model =  \"\"\" your code here \"\"\" \n",
        "\n",
        "    # Print model topology.\n",
        "    model.summary()\n",
        "\n",
        "    return model"
      ],
      "execution_count": 0,
      "outputs": []
    },
    {
      "cell_type": "markdown",
      "metadata": {
        "id": "opNrJeB32qv7",
        "colab_type": "text"
      },
      "source": [
        "### Задания для самостоятельной работы:\n",
        "\n",
        "\n",
        "1. Собрать архитектуру GMF\n",
        "2. Собрать архитектуру MLP\n",
        "3. Собрать архитектуру NeuMF (GMF+MLP)\n",
        "4. Попробовать различные гиперпараметры: mf_regularization, lr\n",
        "5. Попробовать другой оптимизатор: SGD, Adam и др.\n",
        "6. \n",
        "\n"
      ]
    },
    {
      "cell_type": "code",
      "metadata": {
        "id": "YaZg7_TH7FT8",
        "colab_type": "code",
        "outputId": "0a9e0bfd-0154-4722-83cd-ff3204a6eddd",
        "colab": {
          "base_uri": "https://localhost:8080/",
          "height": 660
        }
      },
      "source": [
        "model = get_model(num_users, num_items)"
      ],
      "execution_count": 0,
      "outputs": [
        {
          "output_type": "stream",
          "text": [
            "Model: \"model_13\"\n",
            "__________________________________________________________________________________________________\n",
            "Layer (type)                    Output Shape         Param #     Connected to                     \n",
            "==================================================================================================\n",
            "user_id (InputLayer)            [(None, 1)]          0                                            \n",
            "__________________________________________________________________________________________________\n",
            "item_id (InputLayer)            [(None, 1)]          0                                            \n",
            "__________________________________________________________________________________________________\n",
            "embedding_user (Embedding)      (None, 1, 18)        108720      user_id[0][0]                    \n",
            "__________________________________________________________________________________________________\n",
            "embedding_item (Embedding)      (None, 1, 18)        66708       item_id[0][0]                    \n",
            "__________________________________________________________________________________________________\n",
            "embedding_user_mlp (Lambda)     (None, 8)            0           embedding_user[0][0]             \n",
            "__________________________________________________________________________________________________\n",
            "embedding_item_mlp (Lambda)     (None, 8)            0           embedding_item[0][0]             \n",
            "__________________________________________________________________________________________________\n",
            "embedding_user_mf (Lambda)      (None, 10)           0           embedding_user[0][0]             \n",
            "__________________________________________________________________________________________________\n",
            "embedding_item_mf (Lambda)      (None, 10)           0           embedding_item[0][0]             \n",
            "__________________________________________________________________________________________________\n",
            "concatenate_27 (Concatenate)    (None, 16)           0           embedding_user_mlp[0][0]         \n",
            "                                                                 embedding_item_mlp[0][0]         \n",
            "__________________________________________________________________________________________________\n",
            "multiply_14 (Multiply)          (None, 10)           0           embedding_user_mf[0][0]          \n",
            "                                                                 embedding_item_mf[0][0]          \n",
            "__________________________________________________________________________________________________\n",
            "dense_11 (Dense)                (None, 8)            136         concatenate_27[0][0]             \n",
            "__________________________________________________________________________________________________\n",
            "concatenate_28 (Concatenate)    (None, 18)           0           multiply_14[0][0]                \n",
            "                                                                 dense_11[0][0]                   \n",
            "__________________________________________________________________________________________________\n",
            "rating (Dense)                  (None, 1)            19          concatenate_28[0][0]             \n",
            "==================================================================================================\n",
            "Total params: 175,583\n",
            "Trainable params: 175,583\n",
            "Non-trainable params: 0\n",
            "__________________________________________________________________________________________________\n"
          ],
          "name": "stdout"
        }
      ]
    },
    {
      "cell_type": "code",
      "metadata": {
        "id": "blhjtveG7Rhn",
        "colab_type": "code",
        "colab": {}
      },
      "source": [
        "model.compile(optimizer=tf.keras.optimizers.RMSprop(lr=0.1), loss='binary_crossentropy')"
      ],
      "execution_count": 0,
      "outputs": []
    },
    {
      "cell_type": "markdown",
      "metadata": {
        "id": "I17ntIP8OdEP",
        "colab_type": "text"
      },
      "source": [
        "### Training"
      ]
    },
    {
      "cell_type": "code",
      "metadata": {
        "id": "K9SIDjZWA8so",
        "colab_type": "code",
        "outputId": "2c129b45-97c8-422b-a04e-1d62d7cb4abe",
        "colab": {
          "base_uri": "https://localhost:8080/",
          "height": 52
        }
      },
      "source": [
        "# обучается ~ 2 мин.\n",
        "start_time = time()\n",
        "\n",
        "# Init performance\n",
        "topK = 10\n",
        "evaluation_threads = 1 #multiprocessing.cpu_count()\n",
        "\n",
        "(hits, ndcgs) = evaluate_model(model, testRatings, testNegatives, topK, evaluation_threads)\n",
        "hr, ndcg = np.array(hits).mean(), np.array(ndcgs).mean()\n",
        "print(\"Init: HR = %.4f, NDCG = %.4f\" % (hr, ndcg))\n",
        "\n",
        "train_time = time() - start_time\n",
        "print(\"Took %.1f seconds for training.\" % (train_time))\n",
        "\n",
        "best_hr, best_ndcg, best_iter = hr, ndcg, -1"
      ],
      "execution_count": 0,
      "outputs": [
        {
          "output_type": "stream",
          "text": [
            "Init: HR = 0.1315, NDCG = 0.0673\n",
            "Took 135.5 seconds for training.\n"
          ],
          "name": "stdout"
        }
      ]
    },
    {
      "cell_type": "code",
      "metadata": {
        "id": "AVSPsbGNPyND",
        "colab_type": "code",
        "colab": {}
      },
      "source": [
        "def get_train_instances(train, num_negatives):\n",
        "    user_input, item_input, labels = [],[],[]\n",
        "    num_users = train.shape[0]\n",
        "    for (u, i) in train.keys():\n",
        "        # positive instance\n",
        "        user_input.append(u)\n",
        "        item_input.append(i)\n",
        "        labels.append(1)\n",
        "        # negative instances\n",
        "        for t in xrange(num_negatives):\n",
        "            j = np.random.randint(num_items)\n",
        "            while (u, j) in train:\n",
        "                j = np.random.randint(num_items)\n",
        "            user_input.append(u)\n",
        "            item_input.append(j)\n",
        "            labels.append(0)\n",
        "    return user_input, item_input, labels"
      ],
      "execution_count": 0,
      "outputs": []
    },
    {
      "cell_type": "code",
      "metadata": {
        "id": "HjN_V5CH75P2",
        "colab_type": "code",
        "outputId": "df6dd15b-afcb-401d-f5fb-58e590954a29",
        "colab": {
          "base_uri": "https://localhost:8080/",
          "height": 86
        }
      },
      "source": [
        "num_epochs = 1 #20\n",
        "num_negatives = 10\n",
        "batch_size = 256\n",
        "verbose = 1\n",
        "\n",
        "# Training model\n",
        "for epoch in xrange(num_epochs):\n",
        "    t1 = time()\n",
        "    # Generate training instances\n",
        "    user_input, item_input, labels = get_train_instances(train, num_negatives)\n",
        "    \n",
        "    # Training\n",
        "    hist = model.fit([np.array(user_input), np.array(item_input)], #input\n",
        "                      np.array(labels), # labels \n",
        "                      batch_size=batch_size, epochs=1, verbose=0, shuffle=True)\n",
        "    t2 = time()\n",
        "    \n",
        "    # Evaluation\n",
        "    if epoch % verbose == 0:\n",
        "        (hits, ndcgs) = evaluate_model(model, testRatings, testNegatives, topK, evaluation_threads)\n",
        "        hr, ndcg, loss = np.array(hits).mean(), np.array(ndcgs).mean(), hist.history['loss'][0]\n",
        "        print('Iteration %d [%.1f s]: HR = %.4f, NDCG = %.4f, loss = %.4f [%.1f s]' \n",
        "              % (epoch,  t2-t1, hr, ndcg, loss, time()-t2))\n",
        "        if hr > best_hr:\n",
        "            best_hr, best_ndcg, best_iter = hr, ndcg, epoch\n",
        "\n",
        "print(\"End. Best Iteration %d:  HR = %.4f, NDCG = %.4f. \" %(best_iter, best_hr, best_ndcg))"
      ],
      "execution_count": 0,
      "outputs": [
        {
          "output_type": "stream",
          "text": [
            "Iteration 0 [266.9 s]: HR = 0.1315, NDCG = 0.0673, loss = 1.4023 [121.7 s]\n",
            "Iteration 1 [251.8 s]: HR = 0.1315, NDCG = 0.0673, loss = 1.4023 [118.7 s]\n",
            "Iteration 2 [249.4 s]: HR = 0.1315, NDCG = 0.0673, loss = 1.4023 [127.3 s]\n",
            "End. Best Iteration -1:  HR = 0.1315, NDCG = 0.0673. \n"
          ],
          "name": "stdout"
        }
      ]
    },
    {
      "cell_type": "markdown",
      "metadata": {
        "id": "vMLt_wYeMQ3f",
        "colab_type": "text"
      },
      "source": [
        "## Полезные ссылки:\n",
        "\n",
        "### Пейпер, на который все ссылаются:\n",
        "Xiangnan He, Lizi Liao, Hanwang Zhang, Liqiang Nie, Xia Hu & Tat-Seng Chua, Neural Collaborative Filtering, 2017 https://arxiv.org/abs/1708.05031\n",
        "\n",
        "### Туториалы и реализации:\n",
        "##### Microsoft:\n",
        "https://github.com/microsoft/recommenders/blob/master/notebooks/02_model/ncf_deep_dive.ipynb\n",
        "\n",
        "##### Tensorflow:\n",
        "https://github.com/tensorflow/models/tree/master/official/recommendation\n",
        "\n",
        "##### Towards Data Science\n",
        "https://towardsdatascience.com/neural-collaborative-filtering-96cef1009401\n",
        "\n",
        "### Лекции:\n",
        "Е.Соколов. Рекомендательные системы. Лекция 1 https://github.com/hse-ds/iad-applied-ds/blob/master/2020/lectures/lecture01-recommender.pdf\n",
        "\n",
        "Е.Соколов. Рекомендательные системы. Лекция 2 https://github.com/hse-ds/iad-applied-ds/blob/master/2020/lectures/lecture02-recommender.pdf\n",
        "\n"
      ]
    }
  ]
}