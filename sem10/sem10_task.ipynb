{
 "cells": [
  {
   "cell_type": "markdown",
   "metadata": {},
   "source": [
    "# Майнор ВШЭ \n",
    "\n",
    "## Прикладные задачи анализа данных 2020\n",
    "\n",
    "## Семинар 10: Детектирования аномалий"
   ]
  },
  {
   "cell_type": "markdown",
   "metadata": {},
   "source": [
    "- [Часть 0. Введение](#Часть-0.-Введение)\n",
    "- [Часть 1. Простые методы](#Часть-1.-Простые-методы)\n",
    "    - [1.1. Box plot (ящик с усами)](#1.1.-Box-plot-(ящик-с-усами))\n",
    "    - [1.2. Z-score](#1.2.-Z-score)\n",
    "- [Часть 2. Elliptic Envelope](#Часть-2.-Elliptic-Envelope)\n",
    "- [Часть 3. Одноклассовый SWM](#Часть-3.-Одноклассовый-SWM)\n",
    "- [Часть 4. Изолирующий лес (Isolation Forest)](#Часть-4.-Изолирующий-лес-(Isolation-Forest))\n",
    "- [Часть 5. Раздеяющие поверхности для разных алгоритмов](#Часть-5.-Раздеяющие-поверхности-для-разных-алгоритмов)\n",
    "    - [5.1. OneClassSVM](#5.1.-OneClassSVM)\n",
    "    - [5.2. IsolationForest](#5.2.-IsolationForest)\n",
    "    - [5.3. EllipticEnvelope](#5.3.-EllipticEnvelope)\n",
    "- [Часть 6. Библиотека PyOD](#Часть-6.-Библиотека-PyOD)\n",
    "    - [6.1. kNN](#6.1.-kNN)"
   ]
  },
  {
   "cell_type": "code",
   "execution_count": null,
   "metadata": {},
   "outputs": [],
   "source": [
    "import numpy as np\n",
    "from numpy import genfromtxt\n",
    "import pandas as pd\n",
    "import matplotlib.pyplot as plt\n",
    "import seaborn as sns\n",
    "from scipy.stats import multivariate_normal\n",
    "from sklearn.metrics import f1_score\n",
    "\n",
    "import warnings\n",
    "warnings.filterwarnings(\"ignore\")"
   ]
  },
  {
   "cell_type": "markdown",
   "metadata": {},
   "source": [
    "## Часть 0. Введение"
   ]
  },
  {
   "cell_type": "markdown",
   "metadata": {},
   "source": [
    "**Задача поиска аномалий** (Anomaly Detection) - один из вариантов обучения без учителя (Unsupervised Learning):\n",
    "обычно примеров аномалий или нет, или их достаточно мало.\n",
    "\n",
    "Можно выделить два направления, занимающихся поиском аномалий:\n",
    "1. Детектирование выбросов ([Outlier Detection](https://en.wikipedia.org/wiki/Anomaly_detection))\n",
    "2. Детектирование «новизны» ([Novelty Detection](https://en.wikipedia.org/wiki/Novelty_detection))\n",
    "\n",
    "В статистике **выбросом** называю результат измерения, выделяющийся из общей выборки.\n",
    "\n",
    "**Выбросы** являются следствием:\n",
    "\n",
    "- ошибок в данных (неточности измерения, округления, неверной записи и т.п.)\n",
    "- наличия шумовых объектов (неверно классифицированных объектов)\n",
    "- присутствия объектов «других» выборок (например, показаниями сломавшегося датчика).\n",
    "\n",
    "**«Новый объект»**, как и **выброс**,  — это объект, который отличается по своим свойствам от объектов (обучающей) выборки.  Но  в отличие от выброса, его в самой выборке пока нет (он появится через некоторое время, и задача как раз и заключается в том, чтобы обнаружить его при появлении). **Новизна**, как правило, появляется в результате принципиально нового поведения объекта."
   ]
  },
  {
   "cell_type": "markdown",
   "metadata": {},
   "source": [
    "<img src=\"https://alexanderdyakonov.files.wordpress.com/2017/04/fig_softoutlier.png\" width=\"500\">"
   ]
  },
  {
   "cell_type": "markdown",
   "metadata": {},
   "source": [
    "На рисинке видно, что шум (noise) — это выброс «в слабом смысле» (он может немного размывать границы класса/кластера). Нас же интересуют, прежде всего, выбросы «в сильном смысле», которые искажают эти границы.\n",
    "\n",
    "Практические приложения:\n",
    "- Обнаружение подозрительных банковских операций (Credit-card Fraud)\n",
    "- Обнаружение вторжений (Intrusion Detection)\n",
    "- Обнаружение нестандартных игроков на бирже (инсайдеров)\n",
    "- Обнаружение неполадок в механизмах по показаниям датчиков\n",
    "- Медицинская диагностика (Medical Diagnosis)\n",
    "- Сейсмология"
   ]
  },
  {
   "cell_type": "markdown",
   "metadata": {},
   "source": [
    "## Часть 1. Простые методы"
   ]
  },
  {
   "cell_type": "markdown",
   "metadata": {},
   "source": [
    "### 1.1. Box plot (ящик с усами)"
   ]
  },
  {
   "cell_type": "markdown",
   "metadata": {},
   "source": [
    "Будем работать с набором данных [Boston house prices dataset](https://scikit-learn.org/stable/datasets/index.html#boston-dataset)."
   ]
  },
  {
   "cell_type": "code",
   "execution_count": null,
   "metadata": {},
   "outputs": [],
   "source": [
    "from sklearn.datasets import load_boston"
   ]
  },
  {
   "cell_type": "code",
   "execution_count": null,
   "metadata": {},
   "outputs": [],
   "source": [
    "# Загружаем данные\n",
    "boston = load_boston()\n",
    "\n",
    "X = boston.data\n",
    "y = boston.target\n",
    "\n",
    "# Посмотрим на данные\n",
    "columns = boston.feature_names\n",
    "boston_df = pd.DataFrame(boston.data)\n",
    "boston_df.columns = columns\n",
    "boston_df.head()"
   ]
  },
  {
   "cell_type": "markdown",
   "metadata": {},
   "source": [
    "#### Построение Box plot"
   ]
  },
  {
   "cell_type": "markdown",
   "metadata": {},
   "source": [
    "<img src=\"https://upload.wikimedia.org/wikipedia/commons/1/1a/Boxplot_vs_PDF.svg?uselang=ru\" width=\"500\">"
   ]
  },
  {
   "cell_type": "markdown",
   "metadata": {},
   "source": [
    "Построим **box plot** для признака `DIS`."
   ]
  },
  {
   "cell_type": "code",
   "execution_count": null,
   "metadata": {},
   "outputs": [],
   "source": [
    "sns.boxplot(x=boston_df['DIS']);"
   ]
  },
  {
   "cell_type": "markdown",
   "metadata": {},
   "source": [
    "Как видно из графика, присутствует некоторое количество выбросов. Такой способ удобен для визуализации, но не для нахождения самих выбросов.\n",
    "\n",
    "Исходя из методики построения ящика с усами, выбросами считаются точки, чьё значение признака $x$:\n",
    "1. $x > Q_3 + 1.5*IQR$\n",
    "2. $x < Q_1 - 1.5*IQR$\n",
    "\n",
    "где **интерквартильный размах** $IQR = Q_3 - Q_1$"
   ]
  },
  {
   "cell_type": "markdown",
   "metadata": {},
   "source": [
    "**Задание 1**\n",
    "\n",
    "1. Найдите индексы выбросов для признака `DIS`\n",
    "2. Исключите выбросы\n",
    "3. Постройте box plot для `DIS`"
   ]
  },
  {
   "cell_type": "code",
   "execution_count": null,
   "metadata": {},
   "outputs": [],
   "source": [
    "#------------------------------------------------\n",
    "# Ваш код здесь\n",
    "# outlier_idx = \n",
    "#------------------------------------------------"
   ]
  },
  {
   "cell_type": "markdown",
   "metadata": {},
   "source": [
    "### 1.2. Z-score"
   ]
  },
  {
   "cell_type": "markdown",
   "metadata": {},
   "source": [
    "**Стандартизованная оценка** (z-оценка, standard score, z-score) - это мера относительного разброса наблюдаемого или измеренного значения, которая показывает сколько стандартных отклонений составляет его разброс относительного среднего значения.\n",
    "\n",
    "**Интуиция.**\n",
    "Вычисляя Z-score, мы масштабируем и центрируем данные и смотрим на точки, которые находятся далеко от 0. \n",
    "\n",
    "$$\\Large z = \\frac{x - \\bar{x}}{std}$$\n",
    "\n",
    "где\n",
    "- $\\bar{x}$ - выборочное среднее\n",
    "- $std$ - выборочное стандартное отклонение\n",
    "\n",
    "Точки, которые достаточно далеко от 0, считаются выбросами. В большинстве случаев используется порог 3 или -3, т.е. если **Z-score** больше 3 или меньше -3, то точка считается выбросом.\n",
    "\n",
    "**Замечание:** *`правило трёх сигм` гласит, что приблизительно с вероятностью 0,9973 значение нормально распределённой случайной величины лежит в интервале $\\pm 3\\sigma$).*\n"
   ]
  },
  {
   "cell_type": "markdown",
   "metadata": {},
   "source": [
    "<img src=\"https://upload.wikimedia.org/wikipedia/commons/3/37/Standard_deviation_diagram_%28decimal_comma%29.svg?uselang=ru\" width=\"500\">"
   ]
  },
  {
   "cell_type": "markdown",
   "metadata": {},
   "source": [
    "**Задание 2**\n",
    "\n",
    "1. Найдите индексы выбросов для признака `DIS` используя **z-score**\n",
    "2. Исключите выбросы\n",
    "3. Постройте box plot для `DIS`"
   ]
  },
  {
   "cell_type": "code",
   "execution_count": null,
   "metadata": {},
   "outputs": [],
   "source": [
    "#------------------------------------------------\n",
    "# Ваш код здесь\n",
    "# outlier_idx = \n",
    "#------------------------------------------------"
   ]
  },
  {
   "cell_type": "markdown",
   "metadata": {},
   "source": [
    "## Часть 2. Elliptic Envelope "
   ]
  },
  {
   "cell_type": "markdown",
   "metadata": {},
   "source": [
    "Будем считать, что распределение данных подчиняется многомерному нормальному распределению. Будем оценивать параметры этого распределения $\\mu$ и $\\Sigma$ по данным, где\n",
    "\n",
    "- $\\mu$ - вектор средних значений\n",
    "- $\\Sigma$ - ковариационная матрица.\n",
    "\n",
    "Плотность вероятности:\n",
    "\n",
    "$$\\Large f_X(x_1, x_2, ...,x_k) = \\frac{1}{\\sqrt{(2\\pi)^k |\\Sigma|}} e^{-\\frac{1}{2}(x - \\mu)^T \\Sigma^{-1}(x - \\mu)}$$"
   ]
  },
  {
   "cell_type": "markdown",
   "metadata": {},
   "source": [
    "<img src=\"https://upload.wikimedia.org/wikipedia/commons/8/8e/MultivariateNormal.png\" width=\"500\">"
   ]
  },
  {
   "cell_type": "markdown",
   "metadata": {},
   "source": [
    "Аномалиями будем считать те объекты, вероятность появления которых мала."
   ]
  },
  {
   "cell_type": "markdown",
   "metadata": {},
   "source": [
    "**Задание 3**\n",
    "\n",
    "Допишите следующие функции:"
   ]
  },
  {
   "cell_type": "code",
   "execution_count": null,
   "metadata": {},
   "outputs": [],
   "source": [
    "from scipy.stats import multivariate_normal\n",
    "from sklearn.metrics import f1_score\n",
    "\n",
    "# Возвращает оцененные параметры распределения\n",
    "def estimateGaussian(dataset):\n",
    "    #------------------------------------------------\n",
    "    # Ваш код здесь\n",
    "    #------------------------------------------------\n",
    "    return mu, sigma\n",
    "\n",
    "# Возвращает вероятность для каждого объекта\n",
    "def multivariateGaussian(dataset, mu, sigma):\n",
    "    #------------------------------------------------\n",
    "    # Ваш код здесь\n",
    "    #------------------------------------------------\n",
    "\n",
    "# Возвращает лучшее значение f1 и лучший порог\n",
    "def selectThresholdByCV(probs, target):\n",
    "    best_epsilon = 0\n",
    "    best_f1 = 0\n",
    "    f = 0\n",
    "    \n",
    "    stepsize = (max(probs) - min(probs)) / 1000;\n",
    "    epsilons = np.arange(min(probs), max(probs), stepsize)\n",
    "    \n",
    "    for epsilon in np.nditer(epsilons):\n",
    "        #------------------------------------------------\n",
    "        # Ваш код здесь\n",
    "        #------------------------------------------------\n",
    "    \n",
    "    return best_f1, best_epsilon"
   ]
  },
  {
   "cell_type": "markdown",
   "metadata": {},
   "source": [
    "Загружаем данные"
   ]
  },
  {
   "cell_type": "code",
   "execution_count": null,
   "metadata": {},
   "outputs": [],
   "source": [
    "columns_names = ['Latency (ms)', 'Throughput (mb/s)']\n",
    "\n",
    "# Тренировочные данные\n",
    "data_train = pd.read_csv('tr_server_data.csv', names=columns_names)\n",
    "\n",
    "# Валидационные данные\n",
    "data_val = pd.read_csv('cv_server_data.csv', names=columns_names)\n",
    "\n",
    "# Значения target на валидационных данных\n",
    "data_val_tr = pd.read_csv('gt_server_data.csv', names=['target'])"
   ]
  },
  {
   "cell_type": "code",
   "execution_count": null,
   "metadata": {},
   "outputs": [],
   "source": [
    "data_train.head()"
   ]
  },
  {
   "cell_type": "markdown",
   "metadata": {},
   "source": [
    "Построим график"
   ]
  },
  {
   "cell_type": "code",
   "execution_count": null,
   "metadata": {},
   "outputs": [],
   "source": [
    "plt.xlabel('Latency (ms)')\n",
    "plt.ylabel('Throughput (mb/s)')\n",
    "plt.plot(data_train.iloc[:,0], data_train.iloc[:,1],'bx')\n",
    "plt.show()"
   ]
  },
  {
   "cell_type": "markdown",
   "metadata": {},
   "source": [
    "**Задание 4**\n",
    "\n",
    "1. Оцените параметры распределния по тестовым данным\n",
    "2. Оцените вероятность для каждого объекта тренировочной выборки\n",
    "3. Оцените вероятность для каждого объекта валидационной выборки\n",
    "4. Выбирете оптимальное значение порога\n",
    "5. Найдите индексы аномальных объектов в тренировочной выборке\n",
    "6. Постройте график, на котороя аномальные объекты отображены крассным цветом"
   ]
  },
  {
   "cell_type": "code",
   "execution_count": null,
   "metadata": {},
   "outputs": [],
   "source": [
    "#------------------------------------------------\n",
    "# Ваш код здесь\n",
    "#------------------------------------------------"
   ]
  },
  {
   "cell_type": "markdown",
   "metadata": {},
   "source": [
    "## Часть 3. Одноклассовый SWM"
   ]
  },
  {
   "cell_type": "markdown",
   "metadata": {},
   "source": [
    "Вариант метода опорных векторов, который отделяет выборку от начала координат. Использование ядер позволяет обойти сомнительное предположение о том, что объекты должны распологаться в дали от начала координат. По умолчанию, в качестве ядра используют лишь rbf (радиальные базисные функции), остальные ядра показывают плохие результаты.\n",
    "\n",
    "**OneClassSVM** это скорее алгоритм поиска новизны, а не выбросов, т.к. «затачивается» под обучающую выборку."
   ]
  },
  {
   "cell_type": "code",
   "execution_count": null,
   "metadata": {},
   "outputs": [],
   "source": [
    "from sklearn import svm\n",
    "\n",
    "data_train = pd.read_csv('tr_server_data.csv', names=columns_names)"
   ]
  },
  {
   "cell_type": "markdown",
   "metadata": {},
   "source": [
    "**Задание 5**\n",
    "\n",
    "1. Обучите `OneClassSVM` с параметрами:\n",
    "    - `nu=0.05`\n",
    "    - `kernel=\"rbf\"`\n",
    "    - `gamma=0.1`\n",
    "2. Сделайте предсказание для объектов тренировочной выборки\n",
    "3. Постройте график, на котороя аномальные объекты отображены крассным цветом"
   ]
  },
  {
   "cell_type": "code",
   "execution_count": null,
   "metadata": {},
   "outputs": [],
   "source": [
    "#------------------------------------------------\n",
    "# Ваш код здесь\n",
    "#------------------------------------------------"
   ]
  },
  {
   "cell_type": "markdown",
   "metadata": {},
   "source": [
    "## Часть 4. Изолирующий лес (Isolation Forest)"
   ]
  },
  {
   "cell_type": "markdown",
   "metadata": {},
   "source": [
    "**Isolation Forest** ([оригинальная статья](https://cs.nju.edu.cn/zhouzh/zhouzh.files/publication/icdm08b.pdf?q=isolation-forest)) «изолирует» наблюдения следующим образом:\n",
    "1. сначала, случайным образом выбирается признак,\n",
    "2. затем, случайным образом выбирает *разделяющее значение* (split value) между максимальным и минимальным значениями выбранного признака.\n",
    "\n",
    "Поскольку рекурсивное разбиение может быть представлено древовидной структурой, количество разбиений, необходимых для выделения объекта, эквивалентно длине пути от корневого узла до конечного узла."
   ]
  },
  {
   "cell_type": "markdown",
   "metadata": {},
   "source": [
    "<img src=\"https://miro.medium.com/max/1400/1*TqkqI2QECywBLnY6KlVvHA.png\" width=\"600\">"
   ]
  },
  {
   "cell_type": "markdown",
   "metadata": {},
   "source": [
    "Эта длина пути, усредненная по лесу таких случайных деревьев, является мерой нормальности и нашей решающей функции.\n",
    "\n",
    "$$\\Large s(x, n) = 2^{-\\frac{E(h(x))}{c(n)}}$$\n",
    "\n",
    "где\n",
    "- $h(x)$ - длина пути до наблюдения $x$\n",
    "- $c(n)$ - средняя длина пути неудачного поиска в бинарном дереве поиска\n",
    "- $n$ - количество внешних узлов\n",
    "\n",
    "При случайном разбиение, для аномальных объектов пути получаются заметно более короткими, чем для \"нормальных\" объектов. Следовательно, когда лес случайных деревьев в совокупности дает более короткие длины пути для конкретных объектов, они с большой вероятностью могут быть аномалиями."
   ]
  },
  {
   "cell_type": "markdown",
   "metadata": {},
   "source": [
    "Сгенерируем данные и посмотрим на них."
   ]
  },
  {
   "cell_type": "code",
   "execution_count": null,
   "metadata": {},
   "outputs": [],
   "source": [
    "rng = np.random.RandomState(42)\n",
    "\n",
    "# Тренировочные данные\n",
    "X_train = 0.2 * rng.randn(1000, 2)\n",
    "X_train = np.r_[X_train + 3, X_train]\n",
    "X_train = pd.DataFrame(X_train, columns = ['x1', 'x2'])\n",
    "\n",
    "# Тестовые данные - новые \"нормальные\" наблюдения\n",
    "X_test = 0.2 * rng.randn(200, 2)\n",
    "X_test = np.r_[X_test + 3, X_test]\n",
    "X_test = pd.DataFrame(X_test, columns = ['x1', 'x2'])\n",
    "\n",
    "# Аномальные данные\n",
    "X_outliers = rng.uniform(low=-1, high=5, size=(50, 2))\n",
    "X_outliers = pd.DataFrame(X_outliers, columns = ['x1', 'x2'])"
   ]
  },
  {
   "cell_type": "markdown",
   "metadata": {},
   "source": [
    "Построим график"
   ]
  },
  {
   "cell_type": "code",
   "execution_count": null,
   "metadata": {},
   "outputs": [],
   "source": [
    "plt.figure(figsize=(10,10))\n",
    "plt.title(\"Data\")\n",
    "\n",
    "p1 = plt.scatter(X_train.x1, X_train.x2, c='white', s=20*4, edgecolor='k')\n",
    "p2 = plt.scatter(X_test.x1, X_test.x2, c='green', s=20*4, edgecolor='k')\n",
    "p3 = plt.scatter(X_outliers.x1, X_outliers.x2, c='red', s=20*4, edgecolor='k')\n",
    "\n",
    "plt.axis('tight')\n",
    "plt.xlim((-2, 5))\n",
    "plt.ylim((-2, 5))\n",
    "plt.legend([p1, p2, p3], [\"train\", \"test normal\", \"abnormal\"], loc=\"lower right\")\n",
    "\n",
    "plt.show()"
   ]
  },
  {
   "cell_type": "markdown",
   "metadata": {},
   "source": [
    "Обучим [`IsolationForest`](https://scikit-learn.org/stable/modules/generated/sklearn.ensemble.IsolationForest.html) и сделаем предсказание на наших данных"
   ]
  },
  {
   "cell_type": "code",
   "execution_count": null,
   "metadata": {},
   "outputs": [],
   "source": [
    "from sklearn.ensemble import IsolationForest"
   ]
  },
  {
   "cell_type": "markdown",
   "metadata": {},
   "source": [
    "**Задание 6**\n",
    "\n",
    "1. Обучите `IsolationForest` со следующими параметрами:\n",
    "    - `max_samples=100`\n",
    "    - `contamination=0.1` - доля выбросов в наборе данных\n",
    "    - `random_state=rng`\n",
    "    - `behaviour=\"new\"`\n",
    "2. Посчитайте долю верных ответов (accuracy) для тестовой \"нормальной\" выборки и для аномалий\n",
    "3. Постройте scatter plot, на котором видно какие наблюдения изолирующий лес считает аномалиями"
   ]
  },
  {
   "cell_type": "code",
   "execution_count": null,
   "metadata": {},
   "outputs": [],
   "source": [
    "#------------------------------------------------\n",
    "# Ваш код здесь\n",
    "#------------------------------------------------"
   ]
  },
  {
   "cell_type": "markdown",
   "metadata": {},
   "source": [
    "## Часть 5. Раздеяющие поверхности для разных алгоритмов"
   ]
  },
  {
   "cell_type": "code",
   "execution_count": null,
   "metadata": {},
   "outputs": [],
   "source": [
    "from sklearn.covariance import EllipticEnvelope\n",
    "from sklearn.ensemble import IsolationForest\n",
    "\n",
    "# чтобы был русский шрифт\n",
    "import matplotlib\n",
    "from matplotlib import rc\n",
    "from scipy import stats"
   ]
  },
  {
   "cell_type": "markdown",
   "metadata": {},
   "source": [
    "Сгенерируем данные"
   ]
  },
  {
   "cell_type": "code",
   "execution_count": null,
   "metadata": {},
   "outputs": [],
   "source": [
    "n = 100 # длина выборки\n",
    "n_out = 5 # число выбросов\n",
    "\n",
    "\n",
    "from sklearn.datasets import make_blobs\n",
    "\n",
    "X = make_blobs(n_samples=n, n_features=2, centers=3, random_state=2, center_box=(-8.0, 8.0))[0]\n",
    "X[:n_out,:] = 20*np.random.rand(n_out, 2) - 10\n",
    "y = np.ones(n)\n",
    "y[:n_out] = -1\n",
    "\n",
    "plt.scatter(X[:,0], X[:,1], c='#0000FF', label='выборка')\n",
    "plt.scatter(X[:n_out,0], X[:n_out,1], c='#FF0000', label='выбросы')\n",
    "plt.xlabel(u'признак 1')\n",
    "plt.ylabel('признак 2')\n",
    "plt.legend();"
   ]
  },
  {
   "cell_type": "code",
   "execution_count": null,
   "metadata": {},
   "outputs": [],
   "source": [
    "xx, yy = np.meshgrid(np.linspace(-10, 10, 500), np.linspace(-10, 10, 500))\n",
    "\n",
    "outliers_fraction = 0.1"
   ]
  },
  {
   "cell_type": "code",
   "execution_count": null,
   "metadata": {},
   "outputs": [],
   "source": [
    "# Функция для рисования областей\n",
    "def run_and_plot(clf, X, outliers_fraction, draw_legend=True, title=''):\n",
    "    clf.fit(X)\n",
    "    print(clf)\n",
    "    \n",
    "    a_prob =  clf.decision_function(X)\n",
    "    threshold = stats.scoreatpercentile(a_prob, 100 * outliers_fraction)\n",
    "      \n",
    "    print ('ошибка  = ' + str( (clf.predict(X) != y).mean()))\n",
    "\n",
    "    Z = clf.decision_function(np.c_[xx.ravel(), yy.ravel()])\n",
    "    Z = Z.reshape(xx.shape)\n",
    "\n",
    "\n",
    "    plt.figure(figsize=(8, 8))\n",
    "    plt.contourf(xx, yy, Z, levels=np.linspace(Z.min(), Z.max(), 20), cmap=plt.cm.binary) # plt.cm.Blues_r cmap=plt.cm.Blues_r)\n",
    "    a_ = plt.contour(xx, yy, Z, levels=[threshold], linewidths=1, colors='yellow')\n",
    "    b_ = plt.scatter(X[y>0, 0], X[y>0, 1], c='white')\n",
    "    c_ = plt.scatter(X[y<0, 0], X[y<0, 1], c='red')\n",
    "    plt.axis('tight')\n",
    "    if draw_legend:\n",
    "        plt.legend(\n",
    "            [a_.collections[0], b_, c_],\n",
    "            [u'разделяющая поверхность', u'нормальные объекты', u'выбросы'],\n",
    "            prop=matplotlib.font_manager.FontProperties(size=11), loc='upper right')\n",
    "    plt.title(title)"
   ]
  },
  {
   "cell_type": "markdown",
   "metadata": {},
   "source": [
    "### 5.1. OneClassSVM"
   ]
  },
  {
   "cell_type": "code",
   "execution_count": null,
   "metadata": {},
   "outputs": [],
   "source": [
    "clf = svm.OneClassSVM(nu=0.95 * outliers_fraction + 0.05, kernel=\"rbf\", gamma=0.1)\n",
    "\n",
    "run_and_plot(clf, X, outliers_fraction=outliers_fraction, draw_legend=True, title='OneClassSVM, kernel=\"rbf\", gamma=0.1')"
   ]
  },
  {
   "cell_type": "code",
   "execution_count": null,
   "metadata": {},
   "outputs": [],
   "source": [
    "clf = svm.OneClassSVM(nu=0.95 * outliers_fraction + 0.05, kernel=\"poly\", degree=3)\n",
    "run_and_plot(clf, X, outliers_fraction=outliers_fraction, draw_legend=False, title='OneClassSVM, kernel=\"poly\", degree=3')"
   ]
  },
  {
   "cell_type": "markdown",
   "metadata": {},
   "source": [
    "### 5.2. IsolationForest"
   ]
  },
  {
   "cell_type": "code",
   "execution_count": null,
   "metadata": {},
   "outputs": [],
   "source": [
    "clf  = IsolationForest(n_estimators=n, max_samples='auto', contamination=0.1, max_features=1.0,\n",
    "                       bootstrap=False, n_jobs=1, random_state=None, verbose=0)\n",
    "\n",
    "run_and_plot(clf, X, outliers_fraction=outliers_fraction, draw_legend=True, title='IForest, contamination=0.1, max_features=1.0')"
   ]
  },
  {
   "cell_type": "markdown",
   "metadata": {},
   "source": [
    "### 5.3. EllipticEnvelope"
   ]
  },
  {
   "cell_type": "code",
   "execution_count": null,
   "metadata": {},
   "outputs": [],
   "source": [
    "clf = EllipticEnvelope(store_precision=True, assume_centered=False, support_fraction=None, contamination=0.2, random_state=None)\n",
    "\n",
    "run_and_plot(clf, X, outliers_fraction=outliers_fraction, draw_legend=True, title='EllipticEnvelope')"
   ]
  },
  {
   "cell_type": "markdown",
   "metadata": {},
   "source": [
    "## Часть 6. Библиотека PyOD"
   ]
  },
  {
   "cell_type": "markdown",
   "metadata": {},
   "source": [
    "Воспользуемся библиотекой [PyOD](https://pyod.readthedocs.io/en/latest/), в которой реализовано большое количество алгоритмов детектирования аномалий."
   ]
  },
  {
   "cell_type": "code",
   "execution_count": null,
   "metadata": {},
   "outputs": [],
   "source": [
    "# !pip install pyod"
   ]
  },
  {
   "cell_type": "markdown",
   "metadata": {},
   "source": [
    "### 6.1. kNN"
   ]
  },
  {
   "cell_type": "markdown",
   "metadata": {},
   "source": [
    "Используем метод ближайших соседий (kNN) для детектирования аномалий"
   ]
  },
  {
   "cell_type": "code",
   "execution_count": null,
   "metadata": {},
   "outputs": [],
   "source": [
    "from pyod.utils.data import generate_data\n",
    "\n",
    "contamination = 0.1  # процент аномалий\n",
    "n_train = 200  # количество тренировочных данных\n",
    "n_test = 100  # количество тестовых данных\n",
    "\n",
    "# Сгенерируем данные\n",
    "X_train, y_train, X_test, y_test = \\\n",
    "    generate_data(n_train=n_train,\n",
    "                  n_test=n_test,\n",
    "                  n_features=2,\n",
    "                  contamination=contamination,\n",
    "                  random_state=42)\n",
    "\n",
    "plt.scatter(X_train[:,0], X_train[:,1], c=y_train)\n",
    "plt.show()"
   ]
  },
  {
   "cell_type": "markdown",
   "metadata": {},
   "source": [
    "Выброс - это точка, удаленная от соседних точек (т.е. чем дальше точка от своих соседей, тем больше вероятность того, что это выброс). "
   ]
  },
  {
   "cell_type": "markdown",
   "metadata": {},
   "source": [
    "<img src=\"https://miro.medium.com/max/848/1*W3anCSUzDwHzTM1BOAd5cA.png\" width=\"400\">"
   ]
  },
  {
   "cell_type": "code",
   "execution_count": null,
   "metadata": {},
   "outputs": [],
   "source": [
    "from pyod.models.knn import KNN   # kNN detector\n",
    "\n",
    "# обучим kNN\n",
    "clf_name = 'KNN'\n",
    "clf = KNN()\n",
    "clf.fit(X_train)\n",
    "\n",
    "y_train_pred = clf.labels_  # бинарные метки (0: норма, 1: выбросы)\n",
    "y_train_scores = clf.decision_scores_\n",
    "\n",
    "# предсказание на тесте\n",
    "y_test_pred = clf.predict(X_test)\n",
    "y_test_scores = clf.decision_function(X_test)"
   ]
  },
  {
   "cell_type": "markdown",
   "metadata": {},
   "source": [
    "#### Посмотрим на качество алгоритма"
   ]
  },
  {
   "cell_type": "code",
   "execution_count": null,
   "metadata": {},
   "outputs": [],
   "source": [
    "from pyod.utils.data import evaluate_print\n",
    "\n",
    "print(\"\\nOn Training Data:\")\n",
    "evaluate_print(clf_name, y_train, y_train_scores)\n",
    "\n",
    "print(\"\\nOn Test Data:\")\n",
    "evaluate_print(clf_name, y_test, y_test_scores)"
   ]
  },
  {
   "cell_type": "markdown",
   "metadata": {},
   "source": [
    "#### Визуализируем результат"
   ]
  },
  {
   "cell_type": "code",
   "execution_count": null,
   "metadata": {},
   "outputs": [],
   "source": [
    "from pyod.utils.example import visualize\n",
    "    \n",
    "visualize(clf_name, X_train, y_train, X_test, y_test, y_train_pred,\n",
    "    y_test_pred, show_figure=True, save_figure=False)"
   ]
  },
  {
   "cell_type": "code",
   "execution_count": null,
   "metadata": {},
   "outputs": [],
   "source": []
  }
 ],
 "metadata": {
  "kernelspec": {
   "display_name": "Python 3",
   "language": "python",
   "name": "python3"
  },
  "language_info": {
   "codemirror_mode": {
    "name": "ipython",
    "version": 3
   },
   "file_extension": ".py",
   "mimetype": "text/x-python",
   "name": "python",
   "nbconvert_exporter": "python",
   "pygments_lexer": "ipython3",
   "version": "3.7.1"
  }
 },
 "nbformat": 4,
 "nbformat_minor": 2
}
